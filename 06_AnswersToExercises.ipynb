{
 "cells": [
  {
   "cell_type": "markdown",
   "id": "bca28434-0929-4b4b-9313-fae76704844d",
   "metadata": {},
   "source": [
    "# Answers to Exercises"
   ]
  },
  {
   "cell_type": "code",
   "execution_count": 15,
   "id": "f7160596-6ad2-42af-833c-4e4c4564d734",
   "metadata": {},
   "outputs": [],
   "source": [
    "%reload_ext autoreload\n",
    "%autoreload 2\n",
    "%matplotlib inline\n",
    "%reload_ext lab_black\n",
    "import json\n",
    "\n",
    "from fastai.tabular.all import *\n",
    "\n",
    "import pandas as pd\n",
    "\n",
    "import kglab\n",
    "import rdflib\n",
    "import requests\n",
    "import helpers\n",
    "import widgets"
   ]
  },
  {
   "cell_type": "markdown",
   "id": "1209713f-84f0-4418-ab3a-062c414002ea",
   "metadata": {},
   "source": [
    "# Introduction and Setup for Sinopia's Knowledge Graph\n",
    "## Exercise 1\n",
    "Compare the total number of triples for National Library of Medicine in each Sinopia environment; development, stage, and production."
   ]
  },
  {
   "cell_type": "code",
   "execution_count": 4,
   "id": "88f9d7cb-bd9b-444b-9480-ef5e8087b188",
   "metadata": {},
   "outputs": [
    {
     "name": "stdout",
     "output_type": "stream",
     "text": [
      "0....100....2000....100....200....300....400.."
     ]
    }
   ],
   "source": [
    "dev_nlm = helpers.create_kg(\n",
    "    \"https://api.development.sinopia.io/resource?group=nlm\",\n",
    "    name=\"NLM Sinopia Development\",\n",
    ")\n",
    "stage_nlm = helpers.create_kg(\n",
    "    \"https://api.stage.sinopia.io/resource?group=nlm\", name=\"NLM Sinopia Stage\"\n",
    ")\n",
    "prod_nlm = helpers.create_kg(\n",
    "    \"https://api.sinopia.io/resource?group=nlm\", name=\"NLM Sinopia Production\"\n",
    ")"
   ]
  },
  {
   "cell_type": "code",
   "execution_count": 9,
   "id": "ffd30fc6-33e5-4430-8eab-5a5f69f71676",
   "metadata": {},
   "outputs": [
    {
     "name": "stdout",
     "output_type": "stream",
     "text": [
      "Number of Triples for NLM per Environment:\n",
      "Development: 0\n",
      "      Stage: 7,969\n",
      " Production: 12,046\n"
     ]
    }
   ],
   "source": [
    "print(\n",
    "    f\"\"\"Number of Triples for NLM per Environment:\n",
    "Development: {len(dev_nlm.rdf_graph()):,}\n",
    "      Stage: {len(stage_nlm.rdf_graph()):,}\n",
    " Production: {len(prod_nlm.rdf_graph()):,}\"\"\"\n",
    ")"
   ]
  },
  {
   "cell_type": "markdown",
   "id": "a4d034b9-6f08-4a3d-88f1-39041a4409e5",
   "metadata": {},
   "source": [
    "# Analysis and Visualization of Sinopia Graphs\n",
    "## Exercise 1\n",
    "Using any of the three Sinopia environments (development, stage, or production), find a BIBFRAME Work with a corresponding BIBFRAME Instance and then replicate the steps above to create a Sinopia BIBFRAME Knowledge Graph."
   ]
  },
  {
   "cell_type": "markdown",
   "id": "b92bc742-642b-40b2-a844-3f01a13fc57c",
   "metadata": {},
   "source": [
    "For this exercise, I am using this BIBFRAME work from production, https://api.sinopia.io/resource/07d0f7e4-244d-40ed-8c83-537b495eee0b, that has an embedded BIBFRAME Instance as a blank node."
   ]
  },
  {
   "cell_type": "code",
   "execution_count": 16,
   "id": "3715c973-23a9-4f48-96b0-6cde72797bac",
   "metadata": {},
   "outputs": [
    {
     "data": {
      "text/plain": [
       "<Graph identifier=N782f29d9e8744ac683d28d6325d72a5a (<class 'rdflib.graph.Graph'>)>"
      ]
     },
     "execution_count": 16,
     "metadata": {},
     "output_type": "execute_result"
    }
   ],
   "source": [
    "work_instance_result = requests.get(\n",
    "    \"https://api.sinopia.io/resource/07d0f7e4-244d-40ed-8c83-537b495eee0b\"\n",
    ")\n",
    "bf_graph = rdflib.Graph()\n",
    "for ns, url in helpers.NAMESPACES.items():\n",
    "    bf_graph.namespace_manager.bind(ns, url)\n",
    "bf_graph.parse(\n",
    "    data=json.dumps(work_instance_result.json().get(\"data\")), format=\"json-ld\"\n",
    ")"
   ]
  },
  {
   "cell_type": "code",
   "execution_count": 19,
   "id": "653b80ab-b100-4758-8970-b54c3fd8367e",
   "metadata": {},
   "outputs": [
    {
     "name": "stdout",
     "output_type": "stream",
     "text": [
      "@prefix bf: <http://id.loc.gov/ontologies/bibframe/> .\n",
      "@prefix bflc: <http://id.loc.gov/ontologies/bflc/> .\n",
      "@prefix rdf: <http://www.w3.org/1999/02/22-rdf-syntax-ns#> .\n",
      "@prefix rdfs: <http://www.w3.org/2000/01/rdf-schema#> .\n",
      "@prefix sinopia: <http://sinopia.io/vocabulary/> .\n",
      "\n",
      "<https://api.sinopia.io/resource/07d0f7e4-244d-40ed-8c83-537b495eee0b> a bf:Work ;\n",
      "    bf:Work <http://share-vde.org/sharevde/rdfBibframe/Work/13390539-1> ;\n",
      "    bf:classification [ a bf:ClassificationLcc ;\n",
      "            bf:classificationPortion \"B2430.R272\"@eng,\n",
      "                \"HD4851\"@eng ] ;\n",
      "    bf:content <http://id.loc.gov/vocabulary/contentTypes/txt> ;\n",
      "    bf:contribution [ a bf:Contribution ;\n",
      "            bf:agent [ a bf:Person ;\n",
      "                    rdf:value \"http://id.loc.gov/authorities/names/n81053868\" ] ;\n",
      "            bf:role <http://id.loc.gov/vocabulary/relators/aut> ] ;\n",
      "    bf:expressionOf [ a bf:Work ;\n",
      "            bf:Work <http://share-vde.org/sharevde/rdfBibframe/Work/13390539> ] ;\n",
      "    bf:hasInstance [ a bf:Instance ;\n",
      "            bf:adminMetadata [ a bf:AdminMetadata ;\n",
      "                    bflc:catalogerId \"fculpepper\"@eng ;\n",
      "                    bflc:encodingLevel <http://id.loc.gov/vocabulary/menclvl/f> ;\n",
      "                    bf:changeDate \"2020-01-22\"@eng ;\n",
      "                    bf:creationDate \"2020-01-20\"@eng ;\n",
      "                    bf:descriptionConventions <http://id.loc.gov/vocabulary/descriptionConventions/rda> ;\n",
      "                    bf:descriptionLanguage <http://id.loc.gov/vocabulary/languages/eng> ] ;\n",
      "            bf:carrier <http://id.loc.gov/vocabulary/carriers/nc> ;\n",
      "            bf:copyrightDate \"2011\"@eng ;\n",
      "            bf:dimensions \"20 cm\"@eng ;\n",
      "            bf:extent [ a bf:Extent ;\n",
      "                    rdfs:label \"239 pages\"@eng ] ;\n",
      "            bf:hasItem [ a bf:Item ;\n",
      "                    bf:heldBy \"UAB\"@eng ;\n",
      "                    bf:identifiedBy [ a bf:Barcode ;\n",
      "                            rdf:value \"0162030453292\"@eng ] ;\n",
      "                    bf:shelfMark [ a bf:ShelfMarkLcc ;\n",
      "                            rdfs:label \"B 2430 R272 E5 2011\"@eng ] ;\n",
      "                    bf:sublocation \"UAHSS\"@eng ] ;\n",
      "            bf:hasSeries [ a bf:Instance ;\n",
      "                    bf:seriesEnumeration \"1\"@eng ;\n",
      "                    bf:seriesStatement \"Staging the people\"@eng ] ;\n",
      "            bf:identifiedBy [ a bf:Isbn ;\n",
      "                    rdf:value \"9781844676972\"@eng ] ;\n",
      "            bf:issuance <http://id.loc.gov/vocabulary/issuance/mono> ;\n",
      "            bf:media <http://id.loc.gov/vocabulary/mediaTypes/n> ;\n",
      "            bf:provisionActivity [ a bf:Publication ;\n",
      "                    bf:agent [ a bf:Agent ;\n",
      "                            rdfs:label \"Verso Books\"@eng ] ;\n",
      "                    bf:date \"2011\"@eng ;\n",
      "                    bf:place \"http://id.loc.gov/authorities/names/n79005665\",\n",
      "                        \"http://id.loc.gov/authorities/names/n79007751\" ] ;\n",
      "            bf:provisionActivityStatement \"London ; New York : Verso Books, 2011\"@eng ;\n",
      "            bf:responsibilityStatement \"Jacques Rancière ; translated by David Fernbach.\"@eng ;\n",
      "            bf:title [ a bf:Title ;\n",
      "                    bf:mainTitle \"Staging the people\"@eng ;\n",
      "                    bf:subtitle \"the proletarian and his double\"@eng ] ] ;\n",
      "    bf:language <http://id.loc.gov/vocabulary/languages/eng> ;\n",
      "    bf:note [ a bf:Note ;\n",
      "            rdfs:label \"Translated from the French.\"@eng ],\n",
      "        [ a bf:Note ;\n",
      "            rdfs:label \"\\\"Compiled from articles originally appearing in Les révoltes logiques, 1975-1981\\\"--Title page verso.\"@eng ] ;\n",
      "    bf:subject <http://id.loc.gov/authorities/subjects/sh2002006216>,\n",
      "        <http://id.loc.gov/authorities/subjects/sh2008113767>,\n",
      "        <http://id.loc.gov/authorities/subjects/sh85100842>,\n",
      "        <http://id.loc.gov/authorities/subjects/sh85100916>,\n",
      "        <http://id.loc.gov/authorities/subjects/sh85123927>,\n",
      "        \"http://id.loc.gov/authorities/subjects/sh85100964\" ;\n",
      "    bf:tableOfContents [ a bf:TableOfContents ;\n",
      "            rdfs:label \"The proletarian and his double, or, The unknown philosopher -- Heretical knowledge and the emancipation of the poor -- The gold of Sacramento : capital and labour's Californian adventures -- Off to the exhibition : the worker, his wife and the machines -- A troublesome woman -- The links of the chain : proletarians and dictatorships -- From Pelloutier to Hitler : trade unionism and collaboration -- Good times, or, Pleasure at the Barrière.\"@eng ] ;\n",
      "    bf:title [ a bf:Title ;\n",
      "            bf:mainTitle \"Staging the people\"@eng ] ;\n",
      "    sinopia:hasResourceTemplate \"UAL:resourceTemplate:bf2:Monograph:Work\" .\n",
      "\n",
      "<http://id.loc.gov/authorities/subjects/sh2002006216> rdfs:label \"Attitudes\" .\n",
      "\n",
      "<http://id.loc.gov/authorities/subjects/sh2008113767> rdfs:label \"Working class--History\" .\n",
      "\n",
      "<http://id.loc.gov/authorities/subjects/sh85100842> rdfs:label \"Philosophers, Modern\" .\n",
      "\n",
      "<http://id.loc.gov/authorities/subjects/sh85100916> rdfs:label \"Philosophy, French--20th century\" .\n",
      "\n",
      "<http://id.loc.gov/authorities/subjects/sh85123927> rdfs:label \"Social conflict\" .\n",
      "\n",
      "<http://id.loc.gov/vocabulary/carriers/nc> rdfs:label \"volume\" .\n",
      "\n",
      "<http://id.loc.gov/vocabulary/contentTypes/txt> rdfs:label \"text\" .\n",
      "\n",
      "<http://id.loc.gov/vocabulary/descriptionConventions/rda> rdfs:label \"Resource Description and Access\" .\n",
      "\n",
      "<http://id.loc.gov/vocabulary/issuance/mono> rdfs:label \"single unit\" .\n",
      "\n",
      "<http://id.loc.gov/vocabulary/mediaTypes/n> rdfs:label \"unmediated\" .\n",
      "\n",
      "<http://id.loc.gov/vocabulary/menclvl/f> rdfs:label \"full\" .\n",
      "\n",
      "<http://id.loc.gov/vocabulary/relators/aut> rdfs:label \"Author\" .\n",
      "\n",
      "<http://share-vde.org/sharevde/rdfBibframe/Work/13390539> rdfs:label \"Staging the people\" .\n",
      "\n",
      "<http://share-vde.org/sharevde/rdfBibframe/Work/13390539-1> rdfs:label \"Staging the people\" .\n",
      "\n",
      "<http://id.loc.gov/vocabulary/languages/eng> rdfs:label \"English\",\n",
      "        \"http://id.loc.gov/vocabulary/languages/eng\" .\n",
      "\n",
      "\n"
     ]
    }
   ],
   "source": [
    "print(bf_graph.serialize(format=\"turtle\").decode())"
   ]
  },
  {
   "cell_type": "code",
   "execution_count": 18,
   "id": "488ac629-0648-493c-b5c5-800f108d0257",
   "metadata": {},
   "outputs": [
    {
     "name": "stdout",
     "output_type": "stream",
     "text": [
      "Edges: 101\n",
      "\n",
      "Nodes: 51\n",
      "\n"
     ]
    }
   ],
   "source": [
    "bf_kg = kglab.KnowledgeGraph(\n",
    "    import_graph=bf_graph, name=\"BIBFRAME Work and Instance graph\"\n",
    ")\n",
    "measure = kglab.Measure()\n",
    "measure.measure_graph(bf_kg)\n",
    "\n",
    "print(\"Edges: {:,}\\n\".format(measure.get_edge_count()))\n",
    "print(\"Nodes: {:,}\\n\".format(measure.get_node_count()))"
   ]
  },
  {
   "cell_type": "markdown",
   "id": "10a63a5c-387d-46f4-8dac-8723b6a2da52",
   "metadata": {},
   "source": [
    "# Natural Language Processing (NLP) with spaCy\n",
    "## Exercise 1"
   ]
  },
  {
   "cell_type": "markdown",
   "id": "cf157e16-bc3b-412f-97c3-6c81c6fdd783",
   "metadata": {},
   "source": [
    "# HuggingFace Transformers\n",
    "## Exercise 1"
   ]
  },
  {
   "cell_type": "markdown",
   "id": "24d1d893-113c-44b8-8263-03d6180036ad",
   "metadata": {},
   "source": [
    "# FastAI with PyTorch\n",
    "## Exercise 1"
   ]
  },
  {
   "cell_type": "code",
   "execution_count": null,
   "id": "fca47891-2c07-4cfe-96fa-0539eb508988",
   "metadata": {},
   "outputs": [],
   "source": []
  }
 ],
 "metadata": {
  "kernelspec": {
   "display_name": "Python 3 (ipykernel)",
   "language": "python",
   "name": "python3"
  },
  "language_info": {
   "codemirror_mode": {
    "name": "ipython",
    "version": 3
   },
   "file_extension": ".py",
   "mimetype": "text/x-python",
   "name": "python",
   "nbconvert_exporter": "python",
   "pygments_lexer": "ipython3",
   "version": "3.9.1"
  }
 },
 "nbformat": 4,
 "nbformat_minor": 5
}
