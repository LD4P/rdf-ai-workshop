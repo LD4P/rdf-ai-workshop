{
 "cells": [
  {
   "cell_type": "markdown",
   "id": "f4836127-0914-46ff-9574-c09e4f41f517",
   "metadata": {},
   "source": [
    "# Increasing Transparency of AI with Model Cards and Data Statements"
   ]
  },
  {
   "cell_type": "code",
   "execution_count": null,
   "id": "689049b7-9c00-45d2-aaa6-8aaaf7e90275",
   "metadata": {},
   "outputs": [],
   "source": []
  }
 ],
 "metadata": {
  "kernelspec": {
   "display_name": "Python 3 (ipykernel)",
   "language": "python",
   "name": "python3"
  },
  "language_info": {
   "codemirror_mode": {
    "name": "ipython",
    "version": 3
   },
   "file_extension": ".py",
   "mimetype": "text/x-python",
   "name": "python",
   "nbconvert_exporter": "python",
   "pygments_lexer": "ipython3",
   "version": "3.10.4"
  }
 },
 "nbformat": 4,
 "nbformat_minor": 5
}
