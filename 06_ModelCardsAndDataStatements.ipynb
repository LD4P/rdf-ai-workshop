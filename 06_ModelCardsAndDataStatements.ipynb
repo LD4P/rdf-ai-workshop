{
 "cells": [
  {
   "cell_type": "markdown",
   "id": "f4836127-0914-46ff-9574-c09e4f41f517",
   "metadata": {},
   "source": [
    "# Increasing Transparency of AI with Model Cards and Data Statements"
   ]
  },
  {
   "cell_type": "markdown",
   "id": "feac64b7-713e-4110-91e7-79aabbad9cf8",
   "metadata": {},
   "source": [
    "## Model Cards"
   ]
  },
  {
   "cell_type": "markdown",
   "id": "9e2c5399-237f-41c7-8f93-e8cdc758dba6",
   "metadata": {},
   "source": [
    "## Data Statements"
   ]
  },
  {
   "cell_type": "code",
   "execution_count": null,
   "id": "7b6881c4-5282-40bc-9180-22c61ae4fbe5",
   "metadata": {},
   "outputs": [],
   "source": []
  }
 ],
 "metadata": {
  "kernelspec": {
   "display_name": "Python 3 (ipykernel)",
   "language": "python",
   "name": "python3"
  },
  "language_info": {
   "codemirror_mode": {
    "name": "ipython",
    "version": 3
   },
   "file_extension": ".py",
   "mimetype": "text/x-python",
   "name": "python",
   "nbconvert_exporter": "python",
   "pygments_lexer": "ipython3",
   "version": "3.10.4"
  }
 },
 "nbformat": 4,
 "nbformat_minor": 5
}
