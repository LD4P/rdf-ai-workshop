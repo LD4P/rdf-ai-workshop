{
 "cells": [
  {
   "cell_type": "markdown",
   "id": "f4836127-0914-46ff-9574-c09e4f41f517",
   "metadata": {},
   "source": [
    "# Increasing Transparency of AI with Model Cards and Data Statements\n",
    "Hopefully most of you will attend [Linking Ethics & Data: The Creation and Use of the Ethics In Linked Data Checklist](https://sched.co/13scO) conference workshop later today. \n"
   ]
  },
  {
   "cell_type": "markdown",
   "id": "feac64b7-713e-4110-91e7-79aabbad9cf8",
   "metadata": {},
   "source": [
    "## Model Cards\n",
    "\n",
    "Originally proposed in by team at Google in a paper titled, *[Model Cards for Model Reporting](https://arxiv.org/abs/1810.03993) by Margaret Mitchell et al.*, model cards \n",
    "\n",
    "The paper's abstract:\n",
    "\n",
    "> Trained machine learning models are increasingly used to perform high-impact tasks in areas such as law enforcement,\n",
    "> medicine, education, and employment. In order to clarify the intended use cases of machine learning models and minimize their \n",
    "> usage in contexts for which they are not well suited, we recommend that released models be accompanied by documentation \n",
    "> detailing their performance characteristics. In > this paper, we propose a framework that we call model cards, to encourage \n",
    "> such transparent model reporting. Model cards are short documents accompanying trained machine learning models that provide\n",
    "> benchmarked evaluation in a variety of conditions, such as across different cultural, demographic, or phenotypic groups \n",
    "> (e.g., race, geographic location, sex, Fitzpatrick skin type) and intersectional groups (e.g., age and race, or sex and Fitzpatrick skin type) \n",
    "> that are relevant to the intended application domains. Model cards also disclose the context in which models are intended \n",
    "> to be used, details of the performance evaluation procedures, and other relevant information. While we focus primarily on human-centered \n",
    "> machine learning models in the application fields of computer vision and natural language processing, this framework can be used to \n",
    "> document any trained machine learning model. To solidify the concept, we provide cards for two supervised models: One trained \n",
    "> to detect smiling faces in images, and one trained to detect toxic comments in text. We propose model cards as a step \n",
    "> towards the responsible democratization of machine learning and related AI technology, increasing transparency into how \n",
    "> well AI technology works. We hope this work encourages those releasing trained machine learning models to accompany \n",
    "> model releases with similar detailed evaluation numbers and other relevant documentation."
   ]
  },
  {
   "cell_type": "markdown",
   "id": "bb93db36-cb0e-472c-999c-7d157e21ebde",
   "metadata": {},
   "source": [
    "### spaCy Models\n",
    "\n",
    "While spaCy does provide document some of the requirements in a Model Card at [en_core_web_sm](https://spacy.io/models/en#en_core_web_sm), it doesn't provide it the same format or structure. "
   ]
  },
  {
   "cell_type": "markdown",
   "id": "9b701fd1-852e-4309-b9bd-f399d5575c28",
   "metadata": {},
   "source": [
    "### Hugging Face\n",
    "\n",
    "The corporation behind the open-source [HuggingFace]() transformers we used in the forth notebook provides a course topic on using Model Cards at\n",
    "[Building a model card](https://huggingface.co/course/chapter4/4?fw=pt). The model we used does have a [model card](https://huggingface.co/bert-large-uncased)"
   ]
  },
  {
   "cell_type": "markdown",
   "id": "bf8bfe58-e1a9-4be5-8da8-96ae7dc475f1",
   "metadata": {},
   "source": [
    "### FastAI and PyTorch Example\n",
    "In the previous notebook, we trained a simple FastAI 3-layer neural net. Let us go through the Model Card sections together.\n",
    "\n",
    "\n",
    "#### Model description\n",
    "\n",
    "#### Intended uses & limitations\n",
    "\n",
    "#### How to use\n",
    "\n",
    "#### Training data\n",
    "\n",
    "#### Training procedure\n",
    "\n",
    "#### Evaluation results"
   ]
  },
  {
   "cell_type": "markdown",
   "id": "c6d0a95e-ec83-445a-b328-fdf2e56af58c",
   "metadata": {},
   "source": [
    "## Data Statements\n",
    "Created by the University of Washington's Tech Policy Labs, [Data Statements](https://techpolicylab.uw.edu/data-statements/)\n",
    "offer a more narrative form focusing on the data used in machine learning and artificial intelligence with a particular focus on\n",
    "natural language processing (NLP) like we used in the spaCy and HuggingFace notebooks. \n",
    "\n",
    "From the Data Statements website:\n",
    "> Data statements provide essential information about the characteristics of datasets, including but not limited to the \n",
    "> curation rationale and data sources. The information contained in data statements can be used to help \n",
    "> (1) mitigate the harms caused by bias in the dataset (such as a mismatch between training datasets and contexts where systems are deployed) and \n",
    ">(2) create a more inclusive data catalog, by identifying gaps\n"
   ]
  },
  {
   "cell_type": "markdown",
   "id": "e0727a98-b140-41e7-ad27-8241fea53a31",
   "metadata": {
    "tags": []
   },
   "source": [
    "## AI4LAM Metadata Working Group - An Open Invitation\n",
    "\n",
    "From the [AI4LAM](https://sites.google.com/view/ai4lam) website: \n",
    "\n",
    "> AI4LAM is an international, participatory community focused on advancing the use of artificial intelligence in, for and by \n",
    "> libraries, archives and museums.\n",
    "\n",
    "Myself, along with Erik Radio, co-chair the [Metadata Working Group](https://ai4lam.github.io/metadata-working-group/) and we encourage all of you to join as we go explore the intersection of the AI/ML and the metadata of collections (like Sinopia Linked-Data) and model documentation. The Metadata Working Group meets the second Tuesday of every month at 9 AM California | 11 AM Chicago | 12 PM Washington DC | 5 PM UK | 6 PM Oslo & Paris.\n",
    "\n",
    "Our next meeting is tomorrow, July 12 at 9 AM California | 11 AM Chicago | 12 PM Washington DC | 5 PM UK | 6 PM Oslo & Paris. The Zoom link for this meeting is https://stanford.zoom.us/j/91421044393?pwd=L0VLbnQ0WlE4SDV0MDY5SUhTQnVydz09.\n",
    "\n",
    "Hope to see you there!"
   ]
  },
  {
   "cell_type": "code",
   "execution_count": null,
   "id": "bafbd16d-4516-4634-b71f-ff17a6a29368",
   "metadata": {},
   "outputs": [],
   "source": []
  }
 ],
 "metadata": {
  "kernelspec": {
   "display_name": "Python 3 (ipykernel)",
   "language": "python",
   "name": "python3"
  },
  "language_info": {
   "codemirror_mode": {
    "name": "ipython",
    "version": 3
   },
   "file_extension": ".py",
   "mimetype": "text/x-python",
   "name": "python",
   "nbconvert_exporter": "python",
   "pygments_lexer": "ipython3",
   "version": "3.10.4"
  }
 },
 "nbformat": 4,
 "nbformat_minor": 5
}
