{
 "cells": [
  {
   "cell_type": "markdown",
   "id": "f4836127-0914-46ff-9574-c09e4f41f517",
   "metadata": {},
   "source": [
    "# Increasing Transparency of AI with Model Cards and Data Statements\n",
    "Hopefully most of you will attend [Linking Ethics & Data: The Creation and Use of the Ethics In Linked Data Checklist](https://sched.co/13scO) conference workshop later today. \n"
   ]
  },
  {
   "cell_type": "markdown",
   "id": "feac64b7-713e-4110-91e7-79aabbad9cf8",
   "metadata": {},
   "source": [
    "## Model Cards"
   ]
  },
  {
   "cell_type": "markdown",
   "id": "bb93db36-cb0e-472c-999c-7d157e21ebde",
   "metadata": {},
   "source": [
    "### spaCy Models\n",
    "\n",
    "[en_core_web_sm](https://spacy.io/models/en#en_core_web_sm)"
   ]
  },
  {
   "cell_type": "markdown",
   "id": "9b701fd1-852e-4309-b9bd-f399d5575c28",
   "metadata": {},
   "source": [
    "### Hugging Face\n"
   ]
  },
  {
   "cell_type": "markdown",
   "id": "bf8bfe58-e1a9-4be5-8da8-96ae7dc475f1",
   "metadata": {},
   "source": [
    "### PyTorch"
   ]
  },
  {
   "cell_type": "code",
   "execution_count": null,
   "id": "f8a98b55-aead-42eb-ae69-7ec0e8f5a7bb",
   "metadata": {},
   "outputs": [],
   "source": []
  },
  {
   "cell_type": "markdown",
   "id": "9e2c5399-237f-41c7-8f93-e8cdc758dba6",
   "metadata": {},
   "source": [
    "## Data Statements"
   ]
  },
  {
   "cell_type": "markdown",
   "id": "e0727a98-b140-41e7-ad27-8241fea53a31",
   "metadata": {},
   "source": [
    "## AI4LAM Metadata Working Group - An Open Invitation\n",
    "\n",
    "Please consider attending and parti\n"
   ]
  },
  {
   "cell_type": "code",
   "execution_count": null,
   "id": "58785bbb-4652-4a84-94af-7a3b748c42ac",
   "metadata": {},
   "outputs": [],
   "source": []
  }
 ],
 "metadata": {
  "kernelspec": {
   "display_name": "Python 3 (ipykernel)",
   "language": "python",
   "name": "python3"
  },
  "language_info": {
   "codemirror_mode": {
    "name": "ipython",
    "version": 3
   },
   "file_extension": ".py",
   "mimetype": "text/x-python",
   "name": "python",
   "nbconvert_exporter": "python",
   "pygments_lexer": "ipython3",
   "version": "3.10.4"
  }
 },
 "nbformat": 4,
 "nbformat_minor": 5
}
