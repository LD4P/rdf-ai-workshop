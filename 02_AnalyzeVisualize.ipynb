{
 "cells": [
  {
   "cell_type": "markdown",
   "metadata": {},
   "source": [
    "# Analysis and Visualization of Sinopia Graphs"
   ]
  },
  {
   "cell_type": "code",
   "execution_count": 2,
   "metadata": {},
   "outputs": [],
   "source": [
    "%reload_ext autoreload\n",
    "%autoreload 2\n",
    "%matplotlib inline\n",
    "%reload_ext lab_black\n",
    "\n",
    "import json\n",
    "\n",
    "import rdflib\n",
    "import requests\n",
    "import kglab\n",
    "import helpers\n",
    "import widgets"
   ]
  },
  {
   "cell_type": "markdown",
   "metadata": {},
   "source": [
    "## PCC BIBFRAME Work-Instance-Item Graph\n",
    "We can use [Sinopia API](https://github.com/ld4p/sinopia_api) to construct a small RDF graph made up of a [BIBFRAME](https://bibframe.org/) Work, Instance, and Item and then create a knowledge graph for analysis and visualization of the entities along with their properties.\n",
    "\n",
    "### Step One: Collect Sinopia URLs\n",
    "First we will download the following resources from Sinopia's stage environment and then parse the RDF\n",
    "contained in the resulting JSON.\n",
    "\n",
    "- **BIBFRAME Work**: https://api.stage.sinopia.io/resource/489c7fef-b725-4765-a60e-e7fbfade7918\n",
    "- **BIBFRAME Work AdminMetadata**: https://api.stage.sinopia.io/resource/18da6c93-b005-479d-a86d-ea8c23746828\n",
    "- **BIBFRAME Instance**: https://api.stage.sinopia.io/resource/6eea39a3-aa07-43fa-8cc0-9c9192b484b9\n",
    "- **BIBFRAME Instance AdminMetadata**: https://api.stage.sinopia.io/resource/7b17c000-56e9-43a0-b884-6b377ff4755c\n",
    "- **BIBFRAME Item**: https://api.stage.sinopia.io/resource/ab56952c-db3c-4179-b913-d2014676d190"
   ]
  },
  {
   "cell_type": "code",
   "execution_count": 5,
   "metadata": {},
   "outputs": [],
   "source": [
    "sinopia_stage_urls = [\n",
    "    \"https://api.stage.sinopia.io/resource/489c7fef-b725-4765-a60e-e7fbfade7918\",\n",
    "    \"https://api.stage.sinopia.io/resource/18da6c93-b005-479d-a86d-ea8c23746828\",\n",
    "    \"https://api.stage.sinopia.io/resource/6eea39a3-aa07-43fa-8cc0-9c9192b484b9\",\n",
    "    \"https://api.stage.sinopia.io/resource/7b17c000-56e9-43a0-b884-6b377ff4755c\",\n",
    "    \"https://api.stage.sinopia.io/resource/ab56952c-db3c-4179-b913-d2014676d190\",\n",
    "]"
   ]
  },
  {
   "cell_type": "markdown",
   "metadata": {},
   "source": [
    "### Step Two: Create RDF Namespaces and Graph\n",
    "\n",
    "Here we create two namespaces for the BIBFRAME and Sinopia vocabularies and bind them to the new Sinopia graph."
   ]
  },
  {
   "cell_type": "code",
   "execution_count": 9,
   "metadata": {},
   "outputs": [],
   "source": [
    "BIBFRAME = rdflib.Namespace(\"http://id.loc.gov/ontologies/bibframe/\")\n",
    "SINOPIA = rdflib.Namespace(\"http://sinopia.io/vocabulary/\")\n",
    "\n",
    "sinopia_pcc_graph = rdflib.Graph()\n",
    "sinopia_pcc_graph.namespace_manager.bind(\"bf\", BIBFRAME)\n",
    "sinopia_pcc_graph.namespace_manager.bind(\"sinopia\", SINOPIA)"
   ]
  },
  {
   "cell_type": "markdown",
   "metadata": {},
   "source": [
    "### Step Three: Download and Parse RDF into the Graph\n",
    "\n",
    "We now loop through all of the URLs in the list of Sinopia URLs, query the Sinopoia Stage API endpoint for these resources, and add the JSON-LD to the graph."
   ]
  },
  {
   "cell_type": "code",
   "execution_count": 10,
   "metadata": {},
   "outputs": [
    {
     "name": "stdout",
     "output_type": "stream",
     "text": [
      "Starting triples in our RDF graph 0\n",
      "Finished ingesting resources, size of graph 136\n"
     ]
    }
   ],
   "source": [
    "print(f\"Starting triples in our RDF graph {len(sinopia_pcc_graph)}\")\n",
    "for sinopia_url in sinopia_stage_urls:\n",
    "    api_result = requests.get(sinopia_url)\n",
    "    if api_result.status_code < 300:\n",
    "        resource_json = api_result.json()\n",
    "        # Need to serialize the JSON to a string for parsing\n",
    "        sinopia_pcc_graph.parse(\n",
    "            data=json.dumps(resource_json[\"data\"]), format=\"json-ld\"\n",
    "        )\n",
    "    else:\n",
    "        print(\n",
    "            f\"ERROR {api_result.status_code} for {sinopia_url}\\nDetail {api_result.text}\"\n",
    "        )\n",
    "print(f\"Finished ingesting resources, size of graph {len(sinopia_pcc_graph)}\")"
   ]
  },
  {
   "cell_type": "markdown",
   "metadata": {},
   "source": [
    "### Step Four: Create a Knowledge Graph\n",
    "\n",
    "Now that we have our BIBFRAME Work, Instance, and Items parsed into our RDF graph, we will then create a knowledge graph."
   ]
  },
  {
   "cell_type": "code",
   "execution_count": 11,
   "metadata": {},
   "outputs": [],
   "source": [
    "sinopia_bf_kg = kglab.KnowledgeGraph(\n",
    "    name=\"Sinopia Stage PCC Knowledge Graph\", import_graph=sinopia_pcc_graph\n",
    ")"
   ]
  },
  {
   "cell_type": "markdown",
   "metadata": {},
   "source": [
    "### Step Five: Basic Graph Analysis\n",
    "\n",
    "Our simple PCC BIBFRAME Knowledge Graph provides a number of methods that allow use to analyze the shape and structure RDF through a \"graph\" lens. \n",
    "\n",
    "In graph terminology, a **Node** is the fundemental unit and is represented in RDF by a URI or blank-node in the *subject* role or a URI, blankd-node, or Literal in the *object* role. An **Edge** is a linkage between two nodes, in RDF terms, the *predicate* connecting the *subject* with the *object*. Because the order in triple matters, RDF is know as a directed graph. \n",
    "\n"
   ]
  },
  {
   "cell_type": "code",
   "execution_count": 14,
   "metadata": {},
   "outputs": [
    {
     "name": "stdout",
     "output_type": "stream",
     "text": [
      "Edges: 136\n",
      "\n",
      "Nodes: 72\n",
      "\n"
     ]
    }
   ],
   "source": [
    "measure = kglab.Measure()\n",
    "measure.measure_graph(sinopia_bf_kg)\n",
    "print(\"Edges: {:,}\\n\".format(measure.get_edge_count()))\n",
    "print(\"Nodes: {:,}\\n\".format(measure.get_node_count()))"
   ]
  },
  {
   "cell_type": "markdown",
   "metadata": {},
   "source": [
    "We can confirm that the number of edges in our PCC BIBFRAME graph is equal to the number of predicates by creating a list of all of the predicates and then calculate the number of members in that list using the builtin Python `len` function."
   ]
  },
  {
   "cell_type": "code",
   "execution_count": 25,
   "metadata": {},
   "outputs": [
    {
     "name": "stdout",
     "output_type": "stream",
     "text": [
      "Total number of predicates: 136, \n",
      "         Test for equality: True\n"
     ]
    }
   ],
   "source": [
    "predicates = [p for p in sinopia_pcc_graph.predicates()]\n",
    "print(\n",
    "    f\"\"\"Total number of predicates: {len(predicates)}, \n",
    "         Test for equality: {len(predicates) == measure.get_edge_count()}\"\"\"\n",
    ")"
   ]
  },
  {
   "cell_type": "markdown",
   "metadata": {},
   "source": [
    "## Exercise One: Create a Sinopia BIBFRAME Knowledge Graph\n",
    "Using any of the three Sinopia environments (development, stage, or production), find a BIBFRAME Work with a corresponding BIBFRAME Instance and then replicate the steps above to create a Sinopia BIBFRAME Knowledge Graph."
   ]
  },
  {
   "cell_type": "markdown",
   "metadata": {},
   "source": [
    "# Visualization of the PCC BIBFRAME Graph"
   ]
  },
  {
   "cell_type": "code",
   "execution_count": 27,
   "metadata": {},
   "outputs": [
    {
     "data": {
      "text/html": [
       "\n",
       "        <iframe\n",
       "            width=\"500px\"\n",
       "            height=\"500px\"\n",
       "            src=\"pcc_bf.fig01.html\"\n",
       "            frameborder=\"0\"\n",
       "            allowfullscreen\n",
       "        ></iframe>\n",
       "        "
      ],
      "text/plain": [
       "<IPython.lib.display.IFrame at 0x7faa2d67c460>"
      ]
     },
     "execution_count": 27,
     "metadata": {},
     "output_type": "execute_result"
    }
   ],
   "source": [
    "sinopia_pcc_subgraph = kglab.SubgraphTensor(sinopia_bf_kg)\n",
    "pyvis_graph = sinopia_pcc_subgraph.build_pyvis_graph(notebook=True)\n",
    "pyvis_graph.force_atlas_2based()\n",
    "pyvis_graph.show(\"pcc_bf.fig01.html\")"
   ]
  },
  {
   "cell_type": "markdown",
   "metadata": {},
   "source": [
    "<hr>\n",
    "\n",
    "# Sinopia Stage Graph Analysis and Visualizations\n",
    "First we will load the saved knowledge graph and then will do similar analysis to the "
   ]
  },
  {
   "cell_type": "code",
   "execution_count": 3,
   "metadata": {},
   "outputs": [
    {
     "name": "stderr",
     "output_type": "stream",
     "text": [
      "http://desktop.loc.gov/search?view=document&id=Infobasedcrmg0Dash0Dash0Dash247&hl=true&fq=allresources|true# does not look like a valid URI, trying to serialize this will break.\n",
      "ld4p:RT:bf2:2D graphic material:Item does not look like a valid URI, trying to serialize this will break.\n",
      "urn:ld4p:qa:gettyaat:Objects__Object_Groupings and Systems does not look like a valid URI, trying to serialize this will break.\n",
      "https://api.stage.sinopia.io/resource/this is a test does not look like a valid URI, trying to serialize this will break.\n"
     ]
    },
    {
     "data": {
      "text/plain": [
       "<kglab.kglab.KnowledgeGraph at 0x7f8a9ffbed90>"
      ]
     },
     "execution_count": 3,
     "metadata": {},
     "output_type": "execute_result"
    }
   ],
   "source": [
    "stage_kg = kglab.KnowledgeGraph()\n",
    "stage_kg.load_jsonld(\"data/stage.json\")\n",
    "print(f\"Total triples {len(stage_kg.rdf_graph()):,}\")"
   ]
  },
  {
   "cell_type": "markdown",
   "metadata": {},
   "source": [
    "First let see how many edges and nodes are in all of the resources in Sinopia stage:"
   ]
  },
  {
   "cell_type": "code",
   "execution_count": 6,
   "metadata": {},
   "outputs": [],
   "source": [
    "stage_measure = kglab.Measure()\n",
    "stage_measure.measure_graph(stage_kg)"
   ]
  },
  {
   "cell_type": "code",
   "execution_count": 8,
   "metadata": {},
   "outputs": [
    {
     "name": "stdout",
     "output_type": "stream",
     "text": [
      "Edges: 506,033\n",
      "\n",
      "Nodes: 130,486\n",
      "\n"
     ]
    }
   ],
   "source": [
    "print(\"Edges: {:,}\\n\".format(stage_measure.get_edge_count()))\n",
    "print(\"Nodes: {:,}\\n\".format(stage_measure.get_node_count()))"
   ]
  },
  {
   "cell_type": "markdown",
   "metadata": {},
   "source": [
    "## How Sparse is the Sinopia Stage Graph?\n",
    "In graph theory, sparseness is defined as how much many edges are connected to the nodes. We would expect from the **edge** and **node** counts above that the number connections per node would be around 5:1. Let us see if we can answer this question using some of the other features. "
   ]
  },
  {
   "cell_type": "markdown",
   "metadata": {},
   "source": [
    "## Visualizion using Pandas DataFrames\n",
    "\n",
    "With our stage knowledge graph, we can query our graph with SPARQL and return the results as a Panda's DataFrame. DataFrames offer a number of built-in graphs that can be useful to \n"
   ]
  }
 ],
 "metadata": {
  "kernelspec": {
   "display_name": "Python 3 (ipykernel)",
   "language": "python",
   "name": "python3"
  },
  "language_info": {
   "codemirror_mode": {
    "name": "ipython",
    "version": 3
   },
   "file_extension": ".py",
   "mimetype": "text/x-python",
   "name": "python",
   "nbconvert_exporter": "python",
   "pygments_lexer": "ipython3",
   "version": "3.9.1"
  }
 },
 "nbformat": 4,
 "nbformat_minor": 4
}
