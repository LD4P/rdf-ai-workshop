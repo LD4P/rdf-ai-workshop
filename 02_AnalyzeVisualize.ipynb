{
 "cells": [
  {
   "cell_type": "markdown",
   "metadata": {},
   "source": [
    "# Analysis and Visualization of Sinopia Graphs"
   ]
  },
  {
   "cell_type": "code",
   "execution_count": 1,
   "metadata": {},
   "outputs": [],
   "source": [
    "%reload_ext autoreload\n",
    "%autoreload 2\n",
    "%matplotlib inline\n",
    "%reload_ext lab_black\n",
    "\n",
    "import json\n",
    "\n",
    "import rdflib\n",
    "import requests\n",
    "import kglab\n",
    "import helpers\n",
    "import widgets"
   ]
  },
  {
   "cell_type": "markdown",
   "metadata": {},
   "source": [
    "## PCC BIBFRAME Work-Instance-Item Graph\n",
    "We can use [Sinopia API](https://github.com/ld4p/sinopia_api) to construct a small RDF graph made up of a [BIBFRAME](https://bibframe.org/) Work, Instance, and Item and then create a knowledge graph for analysis and visualization of the entities along with their properties.\n",
    "\n",
    "### Step One: Collect Sinopia URLs\n",
    "First we will download the following resources from Sinopia's stage environment and then parse the RDF\n",
    "contained in the resulting JSON.\n",
    "\n",
    "- **BIBFRAME Work**: https://api.stage.sinopia.io/resource/bd3dad0c-484c-4426-a521-886bbc931fe1\n",
    "- **BIBFRAME Instance**: https://api.stage.sinopia.io/resource/49f0c640-783a-4c14-9371-c39a2a2c8471\n",
    "- **BIBFRAME Item**: https://api.stage.sinopia.io/resource/9e264bea-bf51-47a9-8c66-34a7488bf18a"
   ]
  },
  {
   "cell_type": "code",
   "execution_count": 2,
   "metadata": {},
   "outputs": [],
   "source": [
    "sinopia_stage_urls = [\n",
    "    \"https://api.stage.sinopia.io/resource/bd3dad0c-484c-4426-a521-886bbc931fe1\",\n",
    "    \"https://api.stage.sinopia.io/resource/49f0c640-783a-4c14-9371-c39a2a2c8471\",\n",
    "    \"https://api.stage.sinopia.io/resource/9e264bea-bf51-47a9-8c66-34a7488bf18a\",\n",
    "]"
   ]
  },
  {
   "cell_type": "markdown",
   "metadata": {},
   "source": [
    "### Step Two: Create RDF Namespaces and Graph\n",
    "\n",
    "Here we create two namespaces for the BIBFRAME and Sinopia vocabularies and bind them to the new Sinopia graph."
   ]
  },
  {
   "cell_type": "code",
   "execution_count": 3,
   "metadata": {},
   "outputs": [],
   "source": [
    "BIBFRAME = rdflib.Namespace(\"http://id.loc.gov/ontologies/bibframe/\")\n",
    "SINOPIA = rdflib.Namespace(\"http://sinopia.io/vocabulary/\")\n",
    "\n",
    "sinopia_pcc_graph = rdflib.Graph()\n",
    "sinopia_pcc_graph.namespace_manager.bind(\"bf\", BIBFRAME)\n",
    "sinopia_pcc_graph.namespace_manager.bind(\"sinopia\", SINOPIA)"
   ]
  },
  {
   "cell_type": "markdown",
   "metadata": {},
   "source": [
    "### Step Three: Download and Parse RDF into the Graph\n",
    "\n",
    "We now loop through all of the URLs in the list of Sinopia URLs, query the Sinopoia Stage API endpoint for these resources, and add the JSON-LD to the graph."
   ]
  },
  {
   "cell_type": "code",
   "execution_count": 4,
   "metadata": {},
   "outputs": [
    {
     "name": "stdout",
     "output_type": "stream",
     "text": [
      "Starting triples in our RDF graph 0\n",
      "Finished ingesting resources, size of graph 156\n"
     ]
    }
   ],
   "source": [
    "print(f\"Starting triples in our RDF graph {len(sinopia_pcc_graph)}\")\n",
    "for sinopia_url in sinopia_stage_urls:\n",
    "    api_result = requests.get(sinopia_url)\n",
    "    if api_result.status_code < 300:\n",
    "        resource_json = api_result.json()\n",
    "        # Need to serialize the JSON to a string for parsing\n",
    "        sinopia_pcc_graph.parse(\n",
    "            data=json.dumps(resource_json[\"data\"]), format=\"json-ld\"\n",
    "        )\n",
    "    else:\n",
    "        print(\n",
    "            f\"ERROR {api_result.status_code} for {sinopia_url}\\nDetail {api_result.text}\"\n",
    "        )\n",
    "print(f\"Finished ingesting resources, size of graph {len(sinopia_pcc_graph)}\")"
   ]
  },
  {
   "cell_type": "markdown",
   "metadata": {},
   "source": [
    "### Step Four: Create a Knowledge Graph\n",
    "\n",
    "Now that we have our BIBFRAME Work, Instance, and Items parsed into our RDF graph, we will then create a knowledge graph."
   ]
  },
  {
   "cell_type": "code",
   "execution_count": 5,
   "metadata": {},
   "outputs": [],
   "source": [
    "sinopia_bf_kg = kglab.KnowledgeGraph(\n",
    "    name=\"Sinopia Stage PCC Knowledge Graph\", import_graph=sinopia_pcc_graph\n",
    ")"
   ]
  },
  {
   "cell_type": "markdown",
   "metadata": {},
   "source": [
    "### Step Five: Basic Graph Analysis\n",
    "\n",
    "Our simple PCC BIBFRAME Knowledge Graph provides a number of methods that allow use to analyze the shape and structure RDF through a \"graph\" lens. \n",
    "\n",
    "In graph terminology, a **Node** is the fundemental unit and is represented in RDF by a URI or blank-node in the *subject* role or a URI, blank-node, or Literal in the *object* role. An **Edge** is a linkage between two nodes, in RDF terms, the *predicate* connecting the *subject* with the *object*. Because the order in triple matters, RDF is know as a directed graph. \n",
    "\n"
   ]
  },
  {
   "cell_type": "code",
   "execution_count": 6,
   "metadata": {},
   "outputs": [
    {
     "name": "stdout",
     "output_type": "stream",
     "text": [
      "Edges: 156\n",
      "\n",
      "Nodes: 78\n",
      "\n"
     ]
    }
   ],
   "source": [
    "measure = kglab.Measure()\n",
    "measure.measure_graph(sinopia_bf_kg)\n",
    "print(\"Edges: {:,}\\n\".format(measure.get_edge_count()))\n",
    "print(\"Nodes: {:,}\\n\".format(measure.get_node_count()))"
   ]
  },
  {
   "cell_type": "markdown",
   "metadata": {},
   "source": [
    "We can confirm that the number of edges in our PCC BIBFRAME graph is equal to the number of predicates by creating a list of all of the predicates and then calculate the number of members in that list using the builtin Python `len` function."
   ]
  },
  {
   "cell_type": "code",
   "execution_count": 7,
   "metadata": {},
   "outputs": [
    {
     "name": "stdout",
     "output_type": "stream",
     "text": [
      "Total number of predicates: 156, \n",
      "         Test for equality: True\n"
     ]
    }
   ],
   "source": [
    "predicates = [p for p in sinopia_pcc_graph.predicates()]\n",
    "print(\n",
    "    f\"\"\"Total number of predicates: {len(predicates)}, \n",
    "         Test for equality: {len(predicates) == measure.get_edge_count()}\"\"\"\n",
    ")"
   ]
  },
  {
   "cell_type": "markdown",
   "metadata": {},
   "source": [
    "## Exercise 1: Create a Sinopia BIBFRAME Knowledge Graph\n",
    "Using any of the three Sinopia environments (development, stage, or production), find a BIBFRAME Work with a corresponding BIBFRAME Instance and then replicate the steps above to create a Sinopia BIBFRAME Knowledge Graph."
   ]
  },
  {
   "cell_type": "markdown",
   "metadata": {},
   "source": [
    "# Visualization of the PCC BIBFRAME Graph"
   ]
  },
  {
   "cell_type": "code",
   "execution_count": 8,
   "metadata": {},
   "outputs": [
    {
     "data": {
      "text/html": [
       "\n",
       "        <iframe\n",
       "            width=\"500px\"\n",
       "            height=\"500px\"\n",
       "            src=\"pcc_bf.fig01.html\"\n",
       "            frameborder=\"0\"\n",
       "            allowfullscreen\n",
       "            \n",
       "        ></iframe>\n",
       "        "
      ],
      "text/plain": [
       "<IPython.lib.display.IFrame at 0x12872ad70>"
      ]
     },
     "execution_count": 8,
     "metadata": {},
     "output_type": "execute_result"
    }
   ],
   "source": [
    "sinopia_pcc_subgraph = kglab.SubgraphTensor(sinopia_bf_kg)\n",
    "pyvis_graph = sinopia_pcc_subgraph.build_pyvis_graph(notebook=True)\n",
    "pyvis_graph.force_atlas_2based()\n",
    "pyvis_graph.show(\"pcc_bf.fig01.html\")"
   ]
  },
  {
   "cell_type": "markdown",
   "metadata": {},
   "source": [
    "<hr>\n",
    "\n",
    "# Sinopia Stage Graph Analysis and Visualizations\n",
    "First we will load the saved knowledge graph and then will do similar analysis to the "
   ]
  },
  {
   "cell_type": "code",
   "execution_count": 9,
   "metadata": {},
   "outputs": [
    {
     "name": "stdout",
     "output_type": "stream",
     "text": [
      "Total triples 131,414\n"
     ]
    }
   ],
   "source": [
    "stage_kg = kglab.KnowledgeGraph()\n",
    "stage_kg.load_jsonld(\"data/stage.json\")\n",
    "print(f\"Total triples {len(stage_kg.rdf_graph()):,}\")"
   ]
  },
  {
   "cell_type": "markdown",
   "metadata": {},
   "source": [
    "First let see how many edges and nodes are in all of the resources in Sinopia stage:"
   ]
  },
  {
   "cell_type": "code",
   "execution_count": 10,
   "metadata": {},
   "outputs": [],
   "source": [
    "stage_measure = kglab.Measure()\n",
    "stage_measure.measure_graph(stage_kg)"
   ]
  },
  {
   "cell_type": "code",
   "execution_count": 11,
   "metadata": {},
   "outputs": [
    {
     "name": "stdout",
     "output_type": "stream",
     "text": [
      "Edges: 131,414\n",
      "\n",
      "Nodes: 38,961\n",
      "\n"
     ]
    }
   ],
   "source": [
    "print(\"Edges: {:,}\\n\".format(stage_measure.get_edge_count()))\n",
    "print(\"Nodes: {:,}\\n\".format(stage_measure.get_node_count()))"
   ]
  },
  {
   "cell_type": "markdown",
   "metadata": {},
   "source": [
    "## Visualization using Pandas DataFrames\n",
    "\n",
    "With our stage knowledge graph, we can query our graph with SPARQL and return the results as a Panda's DataFrame. DataFrames offer a number of built-in graphs that can be useful for summarizing or visualizing information about the RDF.\n"
   ]
  },
  {
   "cell_type": "code",
   "execution_count": 12,
   "metadata": {},
   "outputs": [],
   "source": [
    "classes_df = stage_kg.query_as_df(\n",
    "    \"\"\"\n",
    "SELECT ?class\n",
    "WHERE {\n",
    "  ?url rdf:type ?class .\n",
    "}\n",
    "\"\"\"\n",
    ")"
   ]
  },
  {
   "cell_type": "code",
   "execution_count": 13,
   "metadata": {},
   "outputs": [
    {
     "data": {
      "text/plain": [
       "sinopia:PropertyTemplate                                           3969\n",
       "bf:AdminMetadata                                                   1529\n",
       "sinopia:ResourcePropertyTemplate                                   1401\n",
       "bf:Title                                                           1353\n",
       "bf:Note                                                            1140\n",
       "sinopia:LookupPropertyTemplate                                     1100\n",
       "bf:Agent                                                           1021\n",
       "bf:Work                                                             919\n",
       "bf:Person                                                           792\n",
       "bf:Contribution                                                     775\n",
       "<https://w3id.org/arm/core/ontology/0.1/Citation>                   738\n",
       "sinopia:ResourceTemplate                                            671\n",
       "bf:Instance                                                         608\n",
       "bf:Status                                                           567\n",
       "bf:Publication                                                      566\n",
       "bf:Extent                                                           553\n",
       "bf:GenerationProcess                                                508\n",
       "bf:Local                                                            498\n",
       "bf:Source                                                           495\n",
       "bf:VariantTitle                                                     446\n",
       "bf:Isbn                                                             367\n",
       "bflc:PrimaryContribution                                            343\n",
       "bf:Text                                                             334\n",
       "bf:ClassificationLcc                                                310\n",
       "bf:Item                                                             286\n",
       "<http://performedmusicontology.org/ontology/MediumComponent>        220\n",
       "sinopia:Uri                                                         211\n",
       "mads:Authority                                                      203\n",
       "bf:Place                                                            198\n",
       "bf:Print                                                            185\n",
       "bf:Script                                                           172\n",
       "bf:Identifier                                                       144\n",
       "bf:Summary                                                          141\n",
       "<https://w3id.org/arm/custodial_history/ontology/0.1/Ownership>     136\n",
       "bflc:Relationship                                                   134\n",
       "Name: class, dtype: int64"
      ]
     },
     "execution_count": 13,
     "metadata": {},
     "output_type": "execute_result"
    }
   ],
   "source": [
    "classes_df[\"class\"].value_counts()[0:35]"
   ]
  },
  {
   "cell_type": "code",
   "execution_count": 14,
   "metadata": {},
   "outputs": [
    {
     "data": {
      "text/plain": [
       "<AxesSubplot:>"
      ]
     },
     "execution_count": 14,
     "metadata": {},
     "output_type": "execute_result"
    },
    {
     "data": {
      "image/png": "[encoded data removed]",
      "text/plain": [
       "<Figure size 432x288 with 1 Axes>"
      ]
     },
     "metadata": {
      "needs_background": "light"
     },
     "output_type": "display_data"
    }
   ],
   "source": [
    "classes_df[\"class\"].value_counts()[0:35].plot(kind=\"bar\")"
   ]
  },
  {
   "cell_type": "code",
   "execution_count": null,
   "metadata": {},
   "outputs": [],
   "source": []
  }
 ],
 "metadata": {
  "kernelspec": {
   "display_name": "Python 3 (ipykernel)",
   "language": "python",
   "name": "python3"
  },
  "language_info": {
   "codemirror_mode": {
    "name": "ipython",
    "version": 3
   },
   "file_extension": ".py",
   "mimetype": "text/x-python",
   "name": "python",
   "nbconvert_exporter": "python",
   "pygments_lexer": "ipython3",
   "version": "3.10.4"
  }
 },
 "nbformat": 4,
 "nbformat_minor": 4
}
