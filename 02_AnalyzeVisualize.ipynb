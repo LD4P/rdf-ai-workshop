{
 "cells": [
  {
   "cell_type": "markdown",
   "metadata": {},
   "source": [
    "# Analysis and Visualization of Sinopia Graphs"
   ]
  },
  {
   "cell_type": "code",
   "execution_count": 1,
   "metadata": {},
   "outputs": [],
   "source": [
    "%reload_ext autoreload\n",
    "%autoreload 2\n",
    "%matplotlib inline\n",
    "%reload_ext lab_black\n",
    "\n",
    "import json\n",
    "\n",
    "import rdflib\n",
    "import requests\n",
    "import kglab\n",
    "import helpers\n",
    "import widgets"
   ]
  },
  {
   "cell_type": "markdown",
   "metadata": {},
   "source": [
    "## PCC BIBFRAME Work-Instance-Item Graph\n",
    "We can use [Sinopia API](https://github.com/ld4p/sinopia_api) to construct a small RDF graph made up of a [BIBFRAME](https://bibframe.org/) Work, Instance, and Item resources and then create a knowledge graph for analysis and visualization of the entities along with their properties.\n",
    "\n",
    "### Step One: Identify Sinopia URLs\n",
    "First we will download the following resources from Sinopia's stage environment and then parse the RDF\n",
    "contained in the resulting JSON.\n",
    "\n",
    "- **BIBFRAME Work**: https://api.stage.sinopia.io/resource/6861fc10-0213-4dfc-b1a0-7df975d235dd\n",
    "- **BIBFRAME Instance**: https://api.stage.sinopia.io/resource/986d673d-f006-44ab-8bf7-b92b279fddfa\n",
    "- **BIBFRAME Item**: https://api.stage.sinopia.io/resource/6767bae3-ee42-4179-8b58-2f3791cb1a6b"
   ]
  },
  {
   "cell_type": "code",
   "execution_count": 2,
   "metadata": {},
   "outputs": [],
   "source": [
    "sinopia_stage_urls = [\n",
    "    \"https://api.stage.sinopia.io/resource/6861fc10-0213-4dfc-b1a0-7df975d235dd\",\n",
    "    \"https://api.stage.sinopia.io/resource/986d673d-f006-44ab-8bf7-b92b279fddfa\",\n",
    "    \"https://api.stage.sinopia.io/resource/6767bae3-ee42-4179-8b58-2f3791cb1a6b\",\n",
    "]"
   ]
  },
  {
   "cell_type": "markdown",
   "metadata": {},
   "source": [
    "### Step Two: Create RDF Namespaces and Graph\n",
    "\n",
    "Here we create two namespaces for the BIBFRAME and Sinopia vocabularies and bind them to the new Sinopia graph."
   ]
  },
  {
   "cell_type": "code",
   "execution_count": 3,
   "metadata": {},
   "outputs": [],
   "source": [
    "BIBFRAME = rdflib.Namespace(\"http://id.loc.gov/ontologies/bibframe/\")\n",
    "SINOPIA = rdflib.Namespace(\"http://sinopia.io/vocabulary/\")\n",
    "\n",
    "sinopia_pcc_graph = rdflib.Graph()\n",
    "sinopia_pcc_graph.namespace_manager.bind(\"bf\", BIBFRAME)\n",
    "sinopia_pcc_graph.namespace_manager.bind(\"sinopia\", SINOPIA)"
   ]
  },
  {
   "cell_type": "code",
   "execution_count": 4,
   "metadata": {},
   "outputs": [
    {
     "data": {
      "text/plain": [
       "0"
      ]
     },
     "execution_count": 4,
     "metadata": {},
     "output_type": "execute_result"
    }
   ],
   "source": [
    "len(sinopia_pcc_graph)"
   ]
  },
  {
   "cell_type": "markdown",
   "metadata": {},
   "source": [
    "### Step Three: Download and Parse RDF into the Graph\n",
    "\n",
    "We now loop through all of the URLs in the list of Sinopia URLs, query the Sinopoia Stage API endpoint for these resources, and add the JSON-LD to the graph."
   ]
  },
  {
   "cell_type": "code",
   "execution_count": 5,
   "metadata": {},
   "outputs": [
    {
     "name": "stdout",
     "output_type": "stream",
     "text": [
      "Starting triples in our RDF graph 0\n",
      "Finished ingesting resources, size of graph 127\n"
     ]
    }
   ],
   "source": [
    "print(f\"Starting triples in our RDF graph {len(sinopia_pcc_graph)}\")\n",
    "for sinopia_url in sinopia_stage_urls:\n",
    "    api_result = requests.get(sinopia_url)\n",
    "    if api_result.status_code < 300:\n",
    "        resource_json = api_result.json()\n",
    "        # Need to serialize the JSON to a string for parsing\n",
    "        sinopia_pcc_graph.parse(\n",
    "            data=json.dumps(resource_json[\"data\"]), format=\"json-ld\"\n",
    "        )\n",
    "    else:\n",
    "        print(\n",
    "            f\"ERROR {api_result.status_code} for {sinopia_url}\\nDetail {api_result.text}\"\n",
    "        )\n",
    "print(f\"Finished ingesting resources, size of graph {len(sinopia_pcc_graph)}\")"
   ]
  },
  {
   "cell_type": "code",
   "execution_count": 6,
   "metadata": {},
   "outputs": [
    {
     "name": "stdout",
     "output_type": "stream",
     "text": [
      "@prefix bf: <http://id.loc.gov/ontologies/bibframe/> .\n",
      "@prefix ns1: <http://id.loc.gov/ontologies/bflc/> .\n",
      "@prefix rdf: <http://www.w3.org/1999/02/22-rdf-syntax-ns#> .\n",
      "@prefix rdfs: <http://www.w3.org/2000/01/rdf-schema#> .\n",
      "@prefix sinopia: <http://sinopia.io/vocabulary/> .\n",
      "\n",
      "<https://api.stage.sinopia.io/resource/6767bae3-ee42-4179-8b58-2f3791cb1a6b> a bf:Item ;\n",
      "    bf:enumerationAndChronology [ a bf:Chronology ;\n",
      "            rdfs:label \"2020\"@en ],\n",
      "        [ a bf:Enumeration ;\n",
      "            rdfs:label \"v. 2\"@en ] ;\n",
      "    bf:heldBy <http://id.loc.gov/vocabulary/organizations/dnlm> ;\n",
      "    bf:identifiedBy [ a bf:Barcode ;\n",
      "            rdf:value \"NLM057315341\"@en ] ;\n",
      "    bf:itemOf <https://api.stage.sinopia.io/resource/986d673d-f006-44ab-8bf7-b92b279fddfa> ;\n",
      "    bf:shelfMark [ a bf:ShelfMarkNlm ;\n",
      "            rdf:value \"2022 A-614  v.2\"@en ] ;\n",
      "    bf:sublocation \"GENCOLL\"@en ;\n",
      "    sinopia:hasResourceTemplate \"pcc:bf2:Monograph:Item\" .\n",
      "\n",
      "<https://api.stage.sinopia.io/resource/6861fc10-0213-4dfc-b1a0-7df975d235dd> a bf:Work ;\n",
      "    ns1:relationship [ a ns1:Relationship ;\n",
      "            ns1:relation [ a ns1:Relation ;\n",
      "                    rdfs:label \"translation\"@en ] ] ;\n",
      "    bf:adminMetadata [ a bf:AdminMetadata ;\n",
      "            ns1:catalogerId \"gtruth\" ;\n",
      "            ns1:encodingLevel <http://id.loc.gov/vocabulary/menclvl/f> ;\n",
      "            bf:creationDate \"2022-06-09\" ;\n",
      "            bf:descriptionAuthentication <https://id.loc.gov/vocabulary/marcauthen/pcc> ;\n",
      "            bf:descriptionConventions <https://id.loc.gov/vocabulary/descriptionConventions/rda> ;\n",
      "            bf:descriptionLanguage <https://id.loc.gov/vocabulary/languages/eng> ;\n",
      "            bf:source <http://id.loc.gov/vocabulary/organizations/dnlm> ] ;\n",
      "    bf:classification [ a bf:ClassificationNlm ;\n",
      "            bf:classification \"WB 365\"@en ] ;\n",
      "    bf:content <https://id.loc.gov/vocabulary/contentTypes/txt> ;\n",
      "    bf:contribution [ a ns1:PrimaryContribution ;\n",
      "            bf:role <http://id.loc.gov/vocabulary/relators/edt> ],\n",
      "        [ a bf:Contribution ;\n",
      "            bf:role <http://id.loc.gov/vocabulary/relators/edt> ] ;\n",
      "    bf:hasInstance <https://api.stage.sinopia.io/resource/986d673d-f006-44ab-8bf7-b92b279fddfa> ;\n",
      "    bf:originDate \"2020\"@en ;\n",
      "    bf:subject <http://id.nlm.nih.gov/mesh/D006722>,\n",
      "        <http://id.nlm.nih.gov/mesh/D056705> ;\n",
      "    bf:summary [ a bf:Summary ;\n",
      "            rdfs:label \"Honey typically has a complex chemical and biochemical composition that invariably includes complex sugars, specific proteins, amino acids, phenols, vitamins, and rare minerals. It is reported to be beneficial in the treatment of various diseases, such as those affecting the respiratory, cardiovascular, gastrointestinal, and nervous systems, as well as diabetes mellitus and certain types of cancers; however, there is limited literature describing the use of honey in modern medicine. This book provides evidence-based information on the pharmaceutical potential of honey along with its therapeutic applications and precise mechanisms of action. It discusses in detail the phytochemistry and pharmacological properties of honey, highlighting the economic and culturally significant medicinal uses of honey and comprehensively reviewing the scientific research on the traditional uses, chemical composition, scientific validation, and general pharmacognostical characteristics. Given its scope, it is a valuable tool for researchers and scientists interested in drug discovery and the chemistry and pharmacology of honey.\"@en ] ;\n",
      "    bf:supplementaryContent [ a bf:SupplementaryContent ;\n",
      "            rdfs:label <http://id.loc.gov/vocabulary/msupplcont/bibliography>,\n",
      "                <http://id.loc.gov/vocabulary/msupplcont/index> ] ;\n",
      "    bf:title [ a bf:Title ;\n",
      "            bf:mainTitle \"Therapeutic applications of honey and its phytochemicals\"@en ] ;\n",
      "    sinopia:hasResourceTemplate \"pcc:bf2:Monograph:Work\" .\n",
      "\n",
      "<http://id.loc.gov/authorities/names/n79059023> rdfs:label \"Singapore\"@en .\n",
      "\n",
      "<http://id.loc.gov/authorities/names/nr2005022094> a bf:Agent ;\n",
      "    rdfs:label \"Springer (Firm)\"@en .\n",
      "\n",
      "<http://id.loc.gov/vocabulary/carriers/nc> rdfs:label \"volume\"@en .\n",
      "\n",
      "<http://id.loc.gov/vocabulary/msupplcont/bibliography> rdfs:label \"bibliography\"@en .\n",
      "\n",
      "<http://id.loc.gov/vocabulary/msupplcont/index> rdfs:label \"index\"@en .\n",
      "\n",
      "<http://id.nlm.nih.gov/mesh/D006722> rdfs:label \"Honey\"@en .\n",
      "\n",
      "<http://id.nlm.nih.gov/mesh/D056705> rdfs:label \"Apitherapy\"@en .\n",
      "\n",
      "<https://api.stage.sinopia.io/resource/16061ffa-147a-4b67-9a12-0990964f32d4> rdfs:label \"https://api.stage.sinopia.io/resource/16061ffa-147a-4b67-9a12-0990964f32d4\"@en .\n",
      "\n",
      "<https://id.loc.gov/vocabulary/contentTypes/txt> rdfs:label \"text\"@en .\n",
      "\n",
      "<https://id.loc.gov/vocabulary/issuance/mono> rdfs:label \"multipart monograph\"@en .\n",
      "\n",
      "<https://id.loc.gov/vocabulary/mediaTypes/n> rdfs:label \"unmediated\"@en .\n",
      "\n",
      "<http://id.loc.gov/vocabulary/menclvl/f> rdfs:label \"full\" .\n",
      "\n",
      "<http://id.loc.gov/vocabulary/relators/edt> a bf:Role ;\n",
      "    rdfs:label \"Editor\" .\n",
      "\n",
      "<https://api.stage.sinopia.io/resource/986d673d-f006-44ab-8bf7-b92b279fddfa> a bf:Instance,\n",
      "        bf:Print ;\n",
      "    rdfs:label \"Therapeutic applications of honey and its phytochemicals\"@en ;\n",
      "    bf:adminMetadata [ a bf:AdminMetadata ;\n",
      "            ns1:catalogerId \"gtruth\" ;\n",
      "            ns1:encodingLevel <http://id.loc.gov/vocabulary/menclvl/f> ;\n",
      "            bf:creationDate \"2022-06-09\" ;\n",
      "            bf:descriptionAuthentication <https://id.loc.gov/vocabulary/marcauthen/pcc> ;\n",
      "            bf:descriptionConventions <https://id.loc.gov/vocabulary/descriptionConventions/rda> ;\n",
      "            bf:descriptionLanguage <https://id.loc.gov/vocabulary/languages/eng> ;\n",
      "            bf:source <http://id.loc.gov/vocabulary/organizations/dnlm> ] ;\n",
      "    bf:carrier <http://id.loc.gov/vocabulary/carriers/nc> ;\n",
      "    bf:copyrightDate \"©2020\"@en ;\n",
      "    bf:extent [ a bf:Extent ;\n",
      "            rdfs:label \"2 volumes \"@en ] ;\n",
      "    bf:hasItem <https://api.stage.sinopia.io/resource/16061ffa-147a-4b67-9a12-0990964f32d4> ;\n",
      "    bf:identifiedBy [ a bf:Isbn ;\n",
      "            bf:qualifier \"v.1:  hardbound\"@en ;\n",
      "            rdf:value \"9789811567988  \"@en ],\n",
      "        [ a bf:Isbn ;\n",
      "            bf:qualifier \"v. 2 : hardbound\"@en ;\n",
      "            rdf:value \"9789811573040\"@en ],\n",
      "        [ a bf:Local ;\n",
      "            bf:source [ a bf:Source ;\n",
      "                    rdfs:label \"DNLM\"@en ] ;\n",
      "            rdf:value \"9918334965606676\"@en ],\n",
      "        [ a bf:Local ;\n",
      "            bf:source [ a bf:Source ;\n",
      "                    rdfs:label \"OCLC\"@en ] ;\n",
      "            rdf:value \"1156990712\"@en ] ;\n",
      "    bf:issuance <https://id.loc.gov/vocabulary/issuance/mono> ;\n",
      "    bf:media <https://id.loc.gov/vocabulary/mediaTypes/n> ;\n",
      "    bf:provisionActivity [ a bf:Publication ;\n",
      "            bf:agent <http://id.loc.gov/authorities/names/nr2005022094> ;\n",
      "            bf:date \"[2020]\"@en ;\n",
      "            bf:place <http://id.loc.gov/authorities/names/n79059023> ] ;\n",
      "    bf:provisionActivityStatement \"Singapore : Springer, [2020]\"@en ;\n",
      "    bf:responsibilityStatement \"Muneeb U. Rehman, Sabhiya Majid, editors.\"@en ;\n",
      "    bf:title [ a bf:Title ;\n",
      "            bf:mainTitle \"Therapeutic applications of honey and its phytochemicals\"@en ] ;\n",
      "    sinopia:hasResourceTemplate \"pcc:bf2:Monograph:Instance\" .\n",
      "\n",
      "<https://id.loc.gov/vocabulary/descriptionConventions/rda> rdfs:label \"Resource Description and Access\"@en .\n",
      "\n",
      "<https://id.loc.gov/vocabulary/languages/eng> rdfs:label \"English\"@en .\n",
      "\n",
      "<https://id.loc.gov/vocabulary/marcauthen/pcc> rdfs:label \"Program for Cooperative Cataloging\"@en .\n",
      "\n",
      "<http://id.loc.gov/vocabulary/organizations/dnlm> rdfs:label \"United States, National Library of Medicine (Armed Forces Medical Library)\"@en .\n",
      "\n",
      "\n"
     ]
    }
   ],
   "source": [
    "print(sinopia_pcc_graph.serialize(format=\"turtle\"))"
   ]
  },
  {
   "cell_type": "markdown",
   "metadata": {},
   "source": [
    "### Step Four: Create a Knowledge Graph\n",
    "\n",
    "Now that we have our BIBFRAME Work, Instance, and Items parsed into our RDF graph, we will then create a knowledge graph."
   ]
  },
  {
   "cell_type": "code",
   "execution_count": 7,
   "metadata": {},
   "outputs": [],
   "source": [
    "sinopia_bf_kg = kglab.KnowledgeGraph(\n",
    "    name=\"Sinopia Stage PCC Knowledge Graph\", import_graph=sinopia_pcc_graph\n",
    ")"
   ]
  },
  {
   "cell_type": "markdown",
   "metadata": {},
   "source": [
    "### Step Five: Basic Graph Analysis\n",
    "\n",
    "Our simple PCC BIBFRAME Knowledge Graph provides a number of methods that allow us to analyze the shape and structure RDF through a \"graph\" lens. \n",
    "\n",
    "In graph terminology, a **Node** is the fundamental unit and is represented in RDF:\n",
    "- By a URI or blank-node in the *subject* role \n",
    "- By a URI or blank-node in the *object* role. \n",
    "\n",
    "An **Edge** is a linkage between two nodes. In RDF, the *predicate* is edge connecting the *subject* with the *object*. \n",
    "Because the order in triple matters, RDF is know as a directed graph."
   ]
  },
  {
   "cell_type": "code",
   "execution_count": 8,
   "metadata": {},
   "outputs": [
    {
     "name": "stdout",
     "output_type": "stream",
     "text": [
      "Edges: 127\n",
      "\n",
      "Nodes: 67\n",
      "\n"
     ]
    }
   ],
   "source": [
    "measure = kglab.Measure()\n",
    "measure.measure_graph(sinopia_bf_kg)\n",
    "print(\"Edges: {:,}\\n\".format(measure.get_edge_count()))\n",
    "print(\"Nodes: {:,}\\n\".format(measure.get_node_count()))"
   ]
  },
  {
   "cell_type": "markdown",
   "metadata": {},
   "source": [
    "We can confirm that the number of edges in our PCC BIBFRAME graph is equal to the number of predicates by creating a list of all of the predicates and then calculate the number of members in that list using the builtin Python `len` function."
   ]
  },
  {
   "cell_type": "code",
   "execution_count": 9,
   "metadata": {},
   "outputs": [
    {
     "name": "stdout",
     "output_type": "stream",
     "text": [
      "Total number of predicates: 127, \n",
      "         Test for equality: True\n"
     ]
    }
   ],
   "source": [
    "predicates = [p for p in sinopia_pcc_graph.predicates()]\n",
    "print(\n",
    "    f\"\"\"Total number of predicates: {len(predicates)}, \n",
    "         Test for equality: {len(predicates) == measure.get_edge_count()}\"\"\"\n",
    ")"
   ]
  },
  {
   "cell_type": "code",
   "execution_count": 10,
   "metadata": {},
   "outputs": [],
   "source": [
    "subjects = set([s for s in sinopia_pcc_graph.subjects()])\n",
    "objects = set([o for o in sinopia_pcc_graph.objects() if type(o) != rdflib.Literal])"
   ]
  },
  {
   "cell_type": "code",
   "execution_count": 11,
   "metadata": {},
   "outputs": [
    {
     "data": {
      "text/plain": [
       "67"
      ]
     },
     "execution_count": 11,
     "metadata": {},
     "output_type": "execute_result"
    }
   ],
   "source": [
    "len(subjects.union(objects))"
   ]
  },
  {
   "cell_type": "code",
   "execution_count": 12,
   "metadata": {},
   "outputs": [
    {
     "name": "stdout",
     "output_type": "stream",
     "text": [
      "Total number of subjects and objects: 67\n",
      "        Test for equality: True\n"
     ]
    }
   ],
   "source": [
    "print(\n",
    "    f\"\"\"Total number of subjects and objects: {len(subjects.union(objects))}\n",
    "        Test for equality: {len(subjects.union(objects)) == measure.get_node_count()}\"\"\"\n",
    ")"
   ]
  },
  {
   "cell_type": "markdown",
   "metadata": {},
   "source": [
    "## Exercise 1: Create a Sinopia BIBFRAME Knowledge Graph\n",
    "Using any of the three Sinopia environments (development, stage, or production), find a BIBFRAME Work with a corresponding BIBFRAME Instance and then replicate the steps above to create a Sinopia BIBFRAME Knowledge Graph."
   ]
  },
  {
   "cell_type": "markdown",
   "metadata": {},
   "source": [
    "# Visualization of the PCC BIBFRAME Graph"
   ]
  },
  {
   "cell_type": "code",
   "execution_count": 13,
   "metadata": {},
   "outputs": [
    {
     "data": {
      "text/html": [
       "\n",
       "        <iframe\n",
       "            width=\"500px\"\n",
       "            height=\"500px\"\n",
       "            src=\"pcc_bf.fig01.html\"\n",
       "            frameborder=\"0\"\n",
       "            allowfullscreen\n",
       "            \n",
       "        ></iframe>\n",
       "        "
      ],
      "text/plain": [
       "<IPython.lib.display.IFrame at 0x1273d54e0>"
      ]
     },
     "execution_count": 13,
     "metadata": {},
     "output_type": "execute_result"
    }
   ],
   "source": [
    "sinopia_pcc_subgraph = kglab.SubgraphTensor(sinopia_bf_kg)\n",
    "pyvis_graph = sinopia_pcc_subgraph.build_pyvis_graph(notebook=True)\n",
    "pyvis_graph.force_atlas_2based()\n",
    "pyvis_graph.show(\"pcc_bf.fig01.html\")"
   ]
  },
  {
   "cell_type": "markdown",
   "metadata": {},
   "source": [
    "<hr>\n",
    "\n",
    "# Sinopia Stage Graph Analysis and Visualizations\n",
    "First we will load the saved knowledge graph and then will do similar analysis on the entire Sinopia stage graph."
   ]
  },
  {
   "cell_type": "code",
   "execution_count": 14,
   "metadata": {},
   "outputs": [
    {
     "name": "stdout",
     "output_type": "stream",
     "text": [
      "Total triples 138,113\n"
     ]
    }
   ],
   "source": [
    "stage_kg = kglab.KnowledgeGraph()\n",
    "stage_kg.load_jsonld(\"data/stage.json\")\n",
    "print(f\"Total triples {len(stage_kg.rdf_graph()):,}\")"
   ]
  },
  {
   "cell_type": "markdown",
   "metadata": {},
   "source": [
    "First let see how many edges and nodes are in all of the resources in Sinopia stage:"
   ]
  },
  {
   "cell_type": "code",
   "execution_count": 15,
   "metadata": {},
   "outputs": [],
   "source": [
    "stage_measure = kglab.Measure()\n",
    "stage_measure.measure_graph(stage_kg)"
   ]
  },
  {
   "cell_type": "code",
   "execution_count": 16,
   "metadata": {},
   "outputs": [
    {
     "name": "stdout",
     "output_type": "stream",
     "text": [
      "Edges: 138,113\n",
      "\n",
      "Nodes: 40,481\n",
      "\n"
     ]
    }
   ],
   "source": [
    "print(\"Edges: {:,}\\n\".format(stage_measure.get_edge_count()))\n",
    "print(\"Nodes: {:,}\\n\".format(stage_measure.get_node_count()))"
   ]
  },
  {
   "cell_type": "markdown",
   "metadata": {},
   "source": [
    "## Visualization using Pandas DataFrames\n",
    "\n",
    "With our stage knowledge graph, we can query our graph with SPARQL and return the results as a Panda's DataFrame. DataFrames offer a number of built-in graphs that can be useful for summarizing or visualizing information about the RDF.\n",
    "\n",
    "To start, we'll query the graph to get all of the RDF classes of entities."
   ]
  },
  {
   "cell_type": "code",
   "execution_count": 17,
   "metadata": {},
   "outputs": [],
   "source": [
    "classes_df = stage_kg.query_as_df(\n",
    "    \"\"\"\n",
    "SELECT ?class\n",
    "WHERE {\n",
    "  ?url rdf:type ?class .\n",
    "}\n",
    "\"\"\"\n",
    ")"
   ]
  },
  {
   "cell_type": "markdown",
   "metadata": {},
   "source": [
    "With the Pandas `classes_df` dataframe, we can see how many classes are in Sinopia stage environment by using the `.info()` method:"
   ]
  },
  {
   "cell_type": "code",
   "execution_count": 18,
   "metadata": {},
   "outputs": [
    {
     "name": "stdout",
     "output_type": "stream",
     "text": [
      "<class 'pandas.core.frame.DataFrame'>\n",
      "RangeIndex: 27592 entries, 0 to 27591\n",
      "Data columns (total 1 columns):\n",
      " #   Column  Non-Null Count  Dtype \n",
      "---  ------  --------------  ----- \n",
      " 0   class   27592 non-null  object\n",
      "dtypes: object(1)\n",
      "memory usage: 215.7+ KB\n"
     ]
    }
   ],
   "source": [
    "classes_df.info()"
   ]
  },
  {
   "cell_type": "markdown",
   "metadata": {},
   "source": [
    "Using the `.head()` method, display the first five rows in the dataframe:"
   ]
  },
  {
   "cell_type": "code",
   "execution_count": 19,
   "metadata": {},
   "outputs": [
    {
     "data": {
      "text/html": [
       "<div>\n",
       "<style scoped>\n",
       "    .dataframe tbody tr th:only-of-type {\n",
       "        vertical-align: middle;\n",
       "    }\n",
       "\n",
       "    .dataframe tbody tr th {\n",
       "        vertical-align: top;\n",
       "    }\n",
       "\n",
       "    .dataframe thead th {\n",
       "        text-align: right;\n",
       "    }\n",
       "</style>\n",
       "<table border=\"1\" class=\"dataframe\">\n",
       "  <thead>\n",
       "    <tr style=\"text-align: right;\">\n",
       "      <th></th>\n",
       "      <th>class</th>\n",
       "    </tr>\n",
       "  </thead>\n",
       "  <tbody>\n",
       "    <tr>\n",
       "      <th>0</th>\n",
       "      <td>sinopia:PropertyTemplate</td>\n",
       "    </tr>\n",
       "    <tr>\n",
       "      <th>1</th>\n",
       "      <td>sinopia:PropertyTemplate</td>\n",
       "    </tr>\n",
       "    <tr>\n",
       "      <th>2</th>\n",
       "      <td>sinopia:PropertyTemplate</td>\n",
       "    </tr>\n",
       "    <tr>\n",
       "      <th>3</th>\n",
       "      <td>sinopia:PropertyTemplate</td>\n",
       "    </tr>\n",
       "    <tr>\n",
       "      <th>4</th>\n",
       "      <td>sinopia:PropertyTemplate</td>\n",
       "    </tr>\n",
       "  </tbody>\n",
       "</table>\n",
       "</div>"
      ],
      "text/plain": [
       "                      class\n",
       "0  sinopia:PropertyTemplate\n",
       "1  sinopia:PropertyTemplate\n",
       "2  sinopia:PropertyTemplate\n",
       "3  sinopia:PropertyTemplate\n",
       "4  sinopia:PropertyTemplate"
      ]
     },
     "execution_count": 19,
     "metadata": {},
     "output_type": "execute_result"
    }
   ],
   "source": [
    "classes_df.head()"
   ]
  },
  {
   "cell_type": "markdown",
   "metadata": {},
   "source": [
    "Finally, we can display a random sample of RDF classes in `classes_df` with the `sample()` method:"
   ]
  },
  {
   "cell_type": "code",
   "execution_count": 20,
   "metadata": {},
   "outputs": [
    {
     "data": {
      "text/html": [
       "<div>\n",
       "<style scoped>\n",
       "    .dataframe tbody tr th:only-of-type {\n",
       "        vertical-align: middle;\n",
       "    }\n",
       "\n",
       "    .dataframe tbody tr th {\n",
       "        vertical-align: top;\n",
       "    }\n",
       "\n",
       "    .dataframe thead th {\n",
       "        text-align: right;\n",
       "    }\n",
       "</style>\n",
       "<table border=\"1\" class=\"dataframe\">\n",
       "  <thead>\n",
       "    <tr style=\"text-align: right;\">\n",
       "      <th></th>\n",
       "      <th>class</th>\n",
       "    </tr>\n",
       "  </thead>\n",
       "  <tbody>\n",
       "    <tr>\n",
       "      <th>21012</th>\n",
       "      <td>sinopia:ResourcePropertyTemplate</td>\n",
       "    </tr>\n",
       "    <tr>\n",
       "      <th>13559</th>\n",
       "      <td>bf:Instance</td>\n",
       "    </tr>\n",
       "    <tr>\n",
       "      <th>14352</th>\n",
       "      <td>bf:Title</td>\n",
       "    </tr>\n",
       "    <tr>\n",
       "      <th>3514</th>\n",
       "      <td>sinopia:PropertyTemplate</td>\n",
       "    </tr>\n",
       "    <tr>\n",
       "      <th>20964</th>\n",
       "      <td>sinopia:ResourcePropertyTemplate</td>\n",
       "    </tr>\n",
       "    <tr>\n",
       "      <th>20361</th>\n",
       "      <td>sinopia:ResourcePropertyTemplate</td>\n",
       "    </tr>\n",
       "    <tr>\n",
       "      <th>5893</th>\n",
       "      <td>sinopia:ResourceTemplate</td>\n",
       "    </tr>\n",
       "    <tr>\n",
       "      <th>7548</th>\n",
       "      <td>bf:Local</td>\n",
       "    </tr>\n",
       "    <tr>\n",
       "      <th>21267</th>\n",
       "      <td>sinopia:ResourcePropertyTemplate</td>\n",
       "    </tr>\n",
       "    <tr>\n",
       "      <th>4641</th>\n",
       "      <td>bf:Work</td>\n",
       "    </tr>\n",
       "  </tbody>\n",
       "</table>\n",
       "</div>"
      ],
      "text/plain": [
       "                                  class\n",
       "21012  sinopia:ResourcePropertyTemplate\n",
       "13559                       bf:Instance\n",
       "14352                          bf:Title\n",
       "3514           sinopia:PropertyTemplate\n",
       "20964  sinopia:ResourcePropertyTemplate\n",
       "20361  sinopia:ResourcePropertyTemplate\n",
       "5893           sinopia:ResourceTemplate\n",
       "7548                           bf:Local\n",
       "21267  sinopia:ResourcePropertyTemplate\n",
       "4641                            bf:Work"
      ]
     },
     "execution_count": 20,
     "metadata": {},
     "output_type": "execute_result"
    }
   ],
   "source": [
    "classes_df.sample(10)"
   ]
  },
  {
   "cell_type": "markdown",
   "metadata": {},
   "source": [
    "To generate a count of each RDF classes use the `.value_counts()` method and display the top 36 RDF classes with the slice notation `[0:35]`:"
   ]
  },
  {
   "cell_type": "code",
   "execution_count": 21,
   "metadata": {},
   "outputs": [
    {
     "data": {
      "text/plain": [
       "sinopia:PropertyTemplate                                           4071\n",
       "bf:AdminMetadata                                                   1679\n",
       "bf:Title                                                           1473\n",
       "sinopia:ResourcePropertyTemplate                                   1439\n",
       "bf:Note                                                            1188\n",
       "sinopia:LookupPropertyTemplate                                     1129\n",
       "bf:Agent                                                           1077\n",
       "bf:Work                                                             978\n",
       "bf:Person                                                           821\n",
       "bf:Contribution                                                     804\n",
       "<https://w3id.org/arm/core/ontology/0.1/Citation>                   738\n",
       "sinopia:ResourceTemplate                                            691\n",
       "bf:Instance                                                         660\n",
       "bf:Publication                                                      621\n",
       "bf:Status                                                           618\n",
       "bf:Extent                                                           602\n",
       "bf:Local                                                            531\n",
       "bf:Source                                                           529\n",
       "bf:GenerationProcess                                                508\n",
       "bf:VariantTitle                                                     466\n",
       "bf:Isbn                                                             409\n",
       "bflc:PrimaryContribution                                            392\n",
       "bf:Text                                                             380\n",
       "bf:ClassificationLcc                                                335\n",
       "bf:Item                                                             296\n",
       "bf:Print                                                            228\n",
       "sinopia:Uri                                                         211\n",
       "mads:Authority                                                      203\n",
       "<http://performedmusicontology.org/ontology/MediumComponent>        202\n",
       "bf:Place                                                            193\n",
       "bf:Script                                                           173\n",
       "bflc:Relationship                                                   160\n",
       "bf:Summary                                                          151\n",
       "bf:Identifier                                                       145\n",
       "<https://w3id.org/arm/custodial_history/ontology/0.1/Ownership>     136\n",
       "Name: class, dtype: int64"
      ]
     },
     "execution_count": 21,
     "metadata": {},
     "output_type": "execute_result"
    }
   ],
   "source": [
    "classes_df[\"class\"].value_counts()[0:35]"
   ]
  },
  {
   "cell_type": "markdown",
   "metadata": {},
   "source": [
    "To generate a bar chart of these values, we call the `.plot` method on the previous `value_counts`  and \n",
    "display the results:"
   ]
  },
  {
   "cell_type": "code",
   "execution_count": 23,
   "metadata": {},
   "outputs": [
    {
     "data": {
      "text/plain": [
       "<AxesSubplot:>"
      ]
     },
     "execution_count": 23,
     "metadata": {},
     "output_type": "execute_result"
    },
    {
     "data": {
      "image/png": "[encoded data removed]",
      "text/plain": [
       "<Figure size 432x288 with 1 Axes>"
      ]
     },
     "metadata": {
      "needs_background": "light"
     },
     "output_type": "display_data"
    }
   ],
   "source": [
    "classes_df[\"class\"].value_counts()[0:100].plot(kind=\"bar\")"
   ]
  },
  {
   "cell_type": "code",
   "execution_count": null,
   "metadata": {},
   "outputs": [],
   "source": []
  }
 ],
 "metadata": {
  "kernelspec": {
   "display_name": "Python 3 (ipykernel)",
   "language": "python",
   "name": "python3"
  },
  "language_info": {
   "codemirror_mode": {
    "name": "ipython",
    "version": 3
   },
   "file_extension": ".py",
   "mimetype": "text/x-python",
   "name": "python",
   "nbconvert_exporter": "python",
   "pygments_lexer": "ipython3",
   "version": "3.10.4"
  }
 },
 "nbformat": 4,
 "nbformat_minor": 4
}
