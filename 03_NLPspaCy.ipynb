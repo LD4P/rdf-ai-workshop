{
 "cells": [
  {
   "cell_type": "markdown",
   "metadata": {},
   "source": [
    "# Natural Language Processing (NLP) with spaCy\n",
    "In this notebook, we will use the Natural Language Processing library for Python called [spaCy][SPACY]. \n",
    "The functionality provided by [spaCy][SPACY] allows us to quickly extract parts-of-speech (POS) from text descriptions and to identify entities using [spaCy's][SPACY] named entity recognition (NER). We will initially  use [spaCy][SPACY]'s rule-based matching functionality to create a subject matcher that we can then apply to both Sinopia's RDF metadata as well as the associated full-text for a select sample of these resources.\n",
    "\n",
    "\n",
    "[SPACY]: https://spacy.io/"
   ]
  },
  {
   "cell_type": "code",
   "execution_count": 1,
   "metadata": {},
   "outputs": [],
   "source": [
    "%reload_ext autoreload\n",
    "%autoreload 2\n",
    "%matplotlib inline\n",
    "%reload_ext lab_black\n",
    "\n",
    "import datetime\n",
    "import json\n",
    "import string\n",
    "\n",
    "import pathlib\n",
    "import pandas as pd\n",
    "\n",
    "import kglab\n",
    "import rdflib\n",
    "import helpers\n",
    "import requests\n",
    "import spacy"
   ]
  },
  {
   "cell_type": "markdown",
   "metadata": {},
   "source": [
    "## Creating a FAST Panda DataFrame\n",
    "Using a csv file derived from OCLC's [FAST](https://www.oclc.org/research/areas/data-science/fast.html)(Faceted Application of Subject Terminology) topic list, read into a Panda's DataFrame."
   ]
  },
  {
   "cell_type": "code",
   "execution_count": 2,
   "metadata": {},
   "outputs": [],
   "source": [
    "fast_topics = pd.read_csv(\"data/topic_uri_label_utf8.csv\", names=[\"URL\", \"name\"])"
   ]
  },
  {
   "cell_type": "markdown",
   "metadata": {},
   "source": [
    "To get a sense of what data is in the `fast_topics` DataFrame we can look at the *shape*, *info*, and look at a random sample"
   ]
  },
  {
   "cell_type": "code",
   "execution_count": 3,
   "metadata": {},
   "outputs": [
    {
     "name": "stdout",
     "output_type": "stream",
     "text": [
      "Shape of fast_topics (460110, 2)\n",
      "<class 'pandas.core.frame.DataFrame'>\n",
      "RangeIndex: 460110 entries, 0 to 460109\n",
      "Data columns (total 2 columns):\n",
      " #   Column  Non-Null Count   Dtype \n",
      "---  ------  --------------   ----- \n",
      " 0   URL     460110 non-null  object\n",
      " 1   name    460110 non-null  object\n",
      "dtypes: object(2)\n",
      "memory usage: 7.0+ MB\n"
     ]
    }
   ],
   "source": [
    "print(f\"Shape of fast_topics {fast_topics.shape}\")\n",
    "fast_topics.info()"
   ]
  },
  {
   "cell_type": "code",
   "execution_count": 4,
   "metadata": {},
   "outputs": [
    {
     "data": {
      "text/html": [
       "<div>\n",
       "<style scoped>\n",
       "    .dataframe tbody tr th:only-of-type {\n",
       "        vertical-align: middle;\n",
       "    }\n",
       "\n",
       "    .dataframe tbody tr th {\n",
       "        vertical-align: top;\n",
       "    }\n",
       "\n",
       "    .dataframe thead th {\n",
       "        text-align: right;\n",
       "    }\n",
       "</style>\n",
       "<table border=\"1\" class=\"dataframe\">\n",
       "  <thead>\n",
       "    <tr style=\"text-align: right;\">\n",
       "      <th></th>\n",
       "      <th>URL</th>\n",
       "      <th>name</th>\n",
       "    </tr>\n",
       "  </thead>\n",
       "  <tbody>\n",
       "    <tr>\n",
       "      <th>418315</th>\n",
       "      <td>http://id.worldcat.org/fast/1058658</td>\n",
       "      <td>Personal trainers--Vocational guidance</td>\n",
       "    </tr>\n",
       "    <tr>\n",
       "      <th>264449</th>\n",
       "      <td>http://id.worldcat.org/fast/1117830</td>\n",
       "      <td>Shrimps--Marketing</td>\n",
       "    </tr>\n",
       "    <tr>\n",
       "      <th>252943</th>\n",
       "      <td>http://id.worldcat.org/fast/1027823</td>\n",
       "      <td>Motor vehicles--Lubrication</td>\n",
       "    </tr>\n",
       "    <tr>\n",
       "      <th>323616</th>\n",
       "      <td>http://id.worldcat.org/fast/1190577</td>\n",
       "      <td>Quartets (Percussion, violoncellos (2))</td>\n",
       "    </tr>\n",
       "    <tr>\n",
       "      <th>333090</th>\n",
       "      <td>http://id.worldcat.org/fast/2002782</td>\n",
       "      <td>Victims of violent crimes--Monuments</td>\n",
       "    </tr>\n",
       "    <tr>\n",
       "      <th>82852</th>\n",
       "      <td>http://id.worldcat.org/fast/941570</td>\n",
       "      <td>German language--Idioms</td>\n",
       "    </tr>\n",
       "    <tr>\n",
       "      <th>22816</th>\n",
       "      <td>http://id.worldcat.org/fast/969325</td>\n",
       "      <td>Indians--Commerce</td>\n",
       "    </tr>\n",
       "    <tr>\n",
       "      <th>7860</th>\n",
       "      <td>http://id.worldcat.org/fast/809780</td>\n",
       "      <td>Annuities--Government policy</td>\n",
       "    </tr>\n",
       "    <tr>\n",
       "      <th>224511</th>\n",
       "      <td>http://id.worldcat.org/fast/1106661</td>\n",
       "      <td>Scheherazade (Legendary character) in literature</td>\n",
       "    </tr>\n",
       "    <tr>\n",
       "      <th>19482</th>\n",
       "      <td>http://id.worldcat.org/fast/991255</td>\n",
       "      <td>Land degradation--Environmental aspects</td>\n",
       "    </tr>\n",
       "  </tbody>\n",
       "</table>\n",
       "</div>"
      ],
      "text/plain": [
       "                                        URL  \\\n",
       "418315  http://id.worldcat.org/fast/1058658   \n",
       "264449  http://id.worldcat.org/fast/1117830   \n",
       "252943  http://id.worldcat.org/fast/1027823   \n",
       "323616  http://id.worldcat.org/fast/1190577   \n",
       "333090  http://id.worldcat.org/fast/2002782   \n",
       "82852    http://id.worldcat.org/fast/941570   \n",
       "22816    http://id.worldcat.org/fast/969325   \n",
       "7860     http://id.worldcat.org/fast/809780   \n",
       "224511  http://id.worldcat.org/fast/1106661   \n",
       "19482    http://id.worldcat.org/fast/991255   \n",
       "\n",
       "                                                    name  \n",
       "418315            Personal trainers--Vocational guidance  \n",
       "264449                                Shrimps--Marketing  \n",
       "252943                       Motor vehicles--Lubrication  \n",
       "323616           Quartets (Percussion, violoncellos (2))  \n",
       "333090              Victims of violent crimes--Monuments  \n",
       "82852                            German language--Idioms  \n",
       "22816                                  Indians--Commerce  \n",
       "7860                        Annuities--Government policy  \n",
       "224511  Scheherazade (Legendary character) in literature  \n",
       "19482            Land degradation--Environmental aspects  "
      ]
     },
     "execution_count": 4,
     "metadata": {},
     "output_type": "execute_result"
    }
   ],
   "source": [
    "fast_topics.sample(10)"
   ]
  },
  {
   "cell_type": "markdown",
   "metadata": {},
   "source": [
    "From our sample, we see that the `name` has punctuation like **(),--** that will need to be removed later in our workflow."
   ]
  },
  {
   "cell_type": "markdown",
   "metadata": {},
   "source": [
    "## spaCy Phrase Matcher\n",
    "With the [FAST][FAST] dataframe as our source, we now will create a [spaCy][SPACY] [PhraseMatcher](https://spacy.io/usage/rule-based-matching#phrasematcher) made up of phrases extracted from the dataframe using the [FAST][FAST] urls as identifiers.\n",
    "\n",
    "We start by importing [spaCy][SPACY] base English vocabulary and create an empty natural language processing (nlp) pipeline that we pass into a new matcher object that will lower-case all of the [FAST][FAST] patterns.\n",
    "\n",
    "[FAST]: https://www.oclc.org/research/areas/data-science/fast.html\n",
    "[SPACY]: https://spacy.io/"
   ]
  },
  {
   "cell_type": "code",
   "execution_count": 5,
   "metadata": {},
   "outputs": [],
   "source": [
    "from spacy.lang.en import English\n",
    "from spacy.matcher import PhraseMatcher\n",
    "\n",
    "nlp = English()\n",
    "fast_topic_matcher = PhraseMatcher(nlp.vocab, attr=\"LOWER\")"
   ]
  },
  {
   "cell_type": "code",
   "execution_count": 6,
   "metadata": {},
   "outputs": [
    {
     "data": {
      "text/plain": [
       "['Rural', 'population', 'Economic', 'aspects', 'U.S.', 'states']"
      ]
     },
     "execution_count": 6,
     "metadata": {},
     "output_type": "execute_result"
    }
   ],
   "source": [
    "\"Rural population--Economic aspects--U.S. states\".strip(string.punctuation).replace(\n",
    "    \"--\", \" \"\n",
    ").split()"
   ]
  },
  {
   "cell_type": "markdown",
   "metadata": {},
   "source": [
    "### Creatings Patterns\n",
    "We will iterate through the dataframe and for each [FAST](https://www.oclc.org/research/areas/data-science/fast.html) series, using the **URL** as the identififer and for the name, remove punctuation, split each name into a list of words, and tokenize each term, and then add to the `fast_topic_matcher`. "
   ]
  },
  {
   "cell_type": "code",
   "execution_count": 7,
   "metadata": {
    "tags": []
   },
   "outputs": [
    {
     "name": "stdout",
     "output_type": "stream",
     "text": [
      "Started at 2022-07-10 23:07:21.435007 of FAST Matching\n",
      "Finished adding FAST Topic patterns at 2022-07-10 23:08:20.368977, total time 0.9666666666666667\n"
     ]
    }
   ],
   "source": [
    "start = datetime.datetime.utcnow()\n",
    "print(f\"Started at {start} of FAST Matching\")\n",
    "# Iterate through the FAST Topic DataFrame\n",
    "for row in fast_topics.iterrows():\n",
    "    ident = row[1][\"URL\"]\n",
    "    name_list = row[1][\"name\"].strip(string.punctuation).replace(\"--\", \" \").split()\n",
    "    name_list = [nlp.make_doc(row) for row in name_list]\n",
    "    fast_topic_matcher.add(ident, name_list)\n",
    "end = datetime.datetime.utcnow()\n",
    "print(\n",
    "    f\"Finished adding FAST Topic patterns at {end}, total time {(end-start).seconds / 60.}\"\n",
    ")"
   ]
  },
  {
   "cell_type": "markdown",
   "metadata": {},
   "source": [
    "Applying the spaCy Phrase matcher to titles and summaries from the Sinopia "
   ]
  },
  {
   "cell_type": "markdown",
   "metadata": {},
   "source": [
    "## Loading Sinopia Stage Knowledge Graph\n",
    "Just like in the previous Jupyter notebook, we will load the saved knowledge graph that we created at the beginning and then we will query the graph using SPARQL."
   ]
  },
  {
   "cell_type": "code",
   "execution_count": 8,
   "metadata": {},
   "outputs": [
    {
     "data": {
      "text/plain": [
       "<kglab.kglab.KnowledgeGraph at 0x13155bd90>"
      ]
     },
     "execution_count": 8,
     "metadata": {},
     "output_type": "execute_result"
    }
   ],
   "source": [
    "stage_kg = kglab.KnowledgeGraph()\n",
    "stage_kg.load_jsonld(\"data/stage.json\")"
   ]
  },
  {
   "cell_type": "markdown",
   "metadata": {},
   "source": [
    "### RDF Literals Pandas DataFrame\n",
    "With the Sinopia Stage knowledge graph loaded, we will query our Graph for *titles*, *labels*, and any *summary* triples and apply our `fast_topic_matcher` to the results.\n",
    "\n",
    "> **NOTE** The `stage_text_nodes` dataframe has been saved in the **data** directory \n",
    "> and can be loaded for use instead of running this SPARQL query."
   ]
  },
  {
   "cell_type": "code",
   "execution_count": 9,
   "metadata": {},
   "outputs": [],
   "source": [
    "stage_text_nodes = stage_kg.query_as_df(\n",
    "    \"\"\"PREFIX bf: <http://id.loc.gov/ontologies/bibframe/>\n",
    "\n",
    "SELECT ?title ?label ?summary ?url\n",
    "\n",
    "WHERE {\n",
    "  OPTIONAL {\n",
    "      ?title_bnode  bf:mainTitle ?title .\n",
    "      ?url bf:title ?title_bnode .\n",
    "  }\n",
    "  OPTIONAL {\n",
    "      ?label_bnode rdfs:label ?label .\n",
    "      ?url bf:title ?label_bnode .\n",
    "  }\n",
    "  OPTIONAl {\n",
    "      ?url bf:summary ?summary_bnode .\n",
    "      ?summary_bnode rdfs:label ?summary  .\n",
    "  }\n",
    "}\n",
    "\"\"\"\n",
    ")"
   ]
  },
  {
   "cell_type": "code",
   "execution_count": 10,
   "metadata": {},
   "outputs": [],
   "source": [
    "stage_text_nodes.to_json(\"data/stage-text-nodes.json\")"
   ]
  },
  {
   "cell_type": "code",
   "execution_count": 11,
   "metadata": {},
   "outputs": [
    {
     "data": {
      "text/plain": [
       "(2108, 4)"
      ]
     },
     "execution_count": 11,
     "metadata": {},
     "output_type": "execute_result"
    }
   ],
   "source": [
    "stage_text_nodes.shape"
   ]
  },
  {
   "cell_type": "code",
   "execution_count": 12,
   "metadata": {},
   "outputs": [
    {
     "data": {
      "text/html": [
       "<div>\n",
       "<style scoped>\n",
       "    .dataframe tbody tr th:only-of-type {\n",
       "        vertical-align: middle;\n",
       "    }\n",
       "\n",
       "    .dataframe tbody tr th {\n",
       "        vertical-align: top;\n",
       "    }\n",
       "\n",
       "    .dataframe thead th {\n",
       "        text-align: right;\n",
       "    }\n",
       "</style>\n",
       "<table border=\"1\" class=\"dataframe\">\n",
       "  <thead>\n",
       "    <tr style=\"text-align: right;\">\n",
       "      <th></th>\n",
       "      <th>title</th>\n",
       "      <th>url</th>\n",
       "      <th>label</th>\n",
       "      <th>summary</th>\n",
       "    </tr>\n",
       "  </thead>\n",
       "  <tbody>\n",
       "    <tr>\n",
       "      <th>896</th>\n",
       "      <td>Wird die katholische Kirche Jan Hus rehabiliti...</td>\n",
       "      <td>&lt;https://api.stage.sinopia.io/resource/084201e...</td>\n",
       "      <td>NaN</td>\n",
       "      <td>NaN</td>\n",
       "    </tr>\n",
       "    <tr>\n",
       "      <th>444</th>\n",
       "      <td>Same line twice</td>\n",
       "      <td>&lt;https://api.stage.sinopia.io/resource/2f4f3f3...</td>\n",
       "      <td>NaN</td>\n",
       "      <td>NaN</td>\n",
       "    </tr>\n",
       "    <tr>\n",
       "      <th>749</th>\n",
       "      <td>An Icelandic Primer with grammar, notes, and g...</td>\n",
       "      <td>&lt;https://api.stage.sinopia.io/resource/47adca9...</td>\n",
       "      <td>NaN</td>\n",
       "      <td>NaN</td>\n",
       "    </tr>\n",
       "    <tr>\n",
       "      <th>508</th>\n",
       "      <td>Funeral song</td>\n",
       "      <td>&lt;https://api.stage.sinopia.io/resource/5484503...</td>\n",
       "      <td>NaN</td>\n",
       "      <td>NaN</td>\n",
       "    </tr>\n",
       "    <tr>\n",
       "      <th>1121</th>\n",
       "      <td>Ṣūrat Miṣr fī kitābāt al-raḥḥālah al-Maghāriba...</td>\n",
       "      <td>&lt;https://api.stage.sinopia.io/resource/66f6221...</td>\n",
       "      <td>NaN</td>\n",
       "      <td>NaN</td>\n",
       "    </tr>\n",
       "    <tr>\n",
       "      <th>348</th>\n",
       "      <td>Picietl-tobacco</td>\n",
       "      <td>&lt;https://api.stage.sinopia.io/resource/1075de0...</td>\n",
       "      <td>NaN</td>\n",
       "      <td>NaN</td>\n",
       "    </tr>\n",
       "    <tr>\n",
       "      <th>477</th>\n",
       "      <td>Seitsemän koiraveljestä</td>\n",
       "      <td>&lt;https://api.stage.sinopia.io/resource/e714170...</td>\n",
       "      <td>NaN</td>\n",
       "      <td>NaN</td>\n",
       "    </tr>\n",
       "    <tr>\n",
       "      <th>1392</th>\n",
       "      <td>En sjøens helt</td>\n",
       "      <td>&lt;https://api.stage.sinopia.io/resource/0a4223a...</td>\n",
       "      <td>NaN</td>\n",
       "      <td>NaN</td>\n",
       "    </tr>\n",
       "    <tr>\n",
       "      <th>1466</th>\n",
       "      <td>Swearing in special 2021</td>\n",
       "      <td>&lt;https://api.stage.sinopia.io/resource/6a4ca86...</td>\n",
       "      <td>NaN</td>\n",
       "      <td>NaN</td>\n",
       "    </tr>\n",
       "    <tr>\n",
       "      <th>958</th>\n",
       "      <td>Little women, or, Meg, Jo, Beth, and Amy</td>\n",
       "      <td>&lt;https://api.stage.sinopia.io/resource/54a7dec...</td>\n",
       "      <td>Little women</td>\n",
       "      <td>NaN</td>\n",
       "    </tr>\n",
       "  </tbody>\n",
       "</table>\n",
       "</div>"
      ],
      "text/plain": [
       "                                                  title  \\\n",
       "896   Wird die katholische Kirche Jan Hus rehabiliti...   \n",
       "444                                     Same line twice   \n",
       "749   An Icelandic Primer with grammar, notes, and g...   \n",
       "508                                        Funeral song   \n",
       "1121  Ṣūrat Miṣr fī kitābāt al-raḥḥālah al-Maghāriba...   \n",
       "348                                     Picietl-tobacco   \n",
       "477                             Seitsemän koiraveljestä   \n",
       "1392                                     En sjøens helt   \n",
       "1466                           Swearing in special 2021   \n",
       "958            Little women, or, Meg, Jo, Beth, and Amy   \n",
       "\n",
       "                                                    url         label summary  \n",
       "896   <https://api.stage.sinopia.io/resource/084201e...           NaN     NaN  \n",
       "444   <https://api.stage.sinopia.io/resource/2f4f3f3...           NaN     NaN  \n",
       "749   <https://api.stage.sinopia.io/resource/47adca9...           NaN     NaN  \n",
       "508   <https://api.stage.sinopia.io/resource/5484503...           NaN     NaN  \n",
       "1121  <https://api.stage.sinopia.io/resource/66f6221...           NaN     NaN  \n",
       "348   <https://api.stage.sinopia.io/resource/1075de0...           NaN     NaN  \n",
       "477   <https://api.stage.sinopia.io/resource/e714170...           NaN     NaN  \n",
       "1392  <https://api.stage.sinopia.io/resource/0a4223a...           NaN     NaN  \n",
       "1466  <https://api.stage.sinopia.io/resource/6a4ca86...           NaN     NaN  \n",
       "958   <https://api.stage.sinopia.io/resource/54a7dec...  Little women     NaN  "
      ]
     },
     "execution_count": 12,
     "metadata": {},
     "output_type": "execute_result"
    }
   ],
   "source": [
    "stage_text_nodes.sample(10)"
   ]
  },
  {
   "cell_type": "code",
   "execution_count": 13,
   "metadata": {},
   "outputs": [
    {
     "data": {
      "text/html": [
       "<div>\n",
       "<style scoped>\n",
       "    .dataframe tbody tr th:only-of-type {\n",
       "        vertical-align: middle;\n",
       "    }\n",
       "\n",
       "    .dataframe tbody tr th {\n",
       "        vertical-align: top;\n",
       "    }\n",
       "\n",
       "    .dataframe thead th {\n",
       "        text-align: right;\n",
       "    }\n",
       "</style>\n",
       "<table border=\"1\" class=\"dataframe\">\n",
       "  <thead>\n",
       "    <tr style=\"text-align: right;\">\n",
       "      <th></th>\n",
       "      <th>title</th>\n",
       "      <th>url</th>\n",
       "      <th>label</th>\n",
       "      <th>summary</th>\n",
       "    </tr>\n",
       "  </thead>\n",
       "  <tbody>\n",
       "    <tr>\n",
       "      <th>2103</th>\n",
       "      <td>Librerías</td>\n",
       "      <td>&lt;https://api.stage.sinopia.io/resource/214490d...</td>\n",
       "      <td>NaN</td>\n",
       "      <td>NaN</td>\n",
       "    </tr>\n",
       "    <tr>\n",
       "      <th>2104</th>\n",
       "      <td>Violence in South Asia</td>\n",
       "      <td>&lt;https://api.stage.sinopia.io/resource/b866f9f...</td>\n",
       "      <td>contemporary perspectives</td>\n",
       "      <td>NaN</td>\n",
       "    </tr>\n",
       "    <tr>\n",
       "      <th>2105</th>\n",
       "      <td>Stainless steel rat for president</td>\n",
       "      <td>&lt;https://api.stage.sinopia.io/resource/2181701...</td>\n",
       "      <td>NaN</td>\n",
       "      <td>The Stainless Steel rat is back! Slippery Jim ...</td>\n",
       "    </tr>\n",
       "    <tr>\n",
       "      <th>2106</th>\n",
       "      <td>Birnie, Boyle and Redgwell’s international law...</td>\n",
       "      <td>&lt;https://api.stage.sinopia.io/resource/438076c...</td>\n",
       "      <td>NaN</td>\n",
       "      <td>NaN</td>\n",
       "    </tr>\n",
       "    <tr>\n",
       "      <th>2107</th>\n",
       "      <td>Książki z Mysiej</td>\n",
       "      <td>&lt;https://api.stage.sinopia.io/resource/efa4430...</td>\n",
       "      <td>NaN</td>\n",
       "      <td>NaN</td>\n",
       "    </tr>\n",
       "  </tbody>\n",
       "</table>\n",
       "</div>"
      ],
      "text/plain": [
       "                                                  title  \\\n",
       "2103                                         Librerías   \n",
       "2104                             Violence in South Asia   \n",
       "2105                  Stainless steel rat for president   \n",
       "2106  Birnie, Boyle and Redgwell’s international law...   \n",
       "2107                                  Książki z Mysiej    \n",
       "\n",
       "                                                    url  \\\n",
       "2103  <https://api.stage.sinopia.io/resource/214490d...   \n",
       "2104  <https://api.stage.sinopia.io/resource/b866f9f...   \n",
       "2105  <https://api.stage.sinopia.io/resource/2181701...   \n",
       "2106  <https://api.stage.sinopia.io/resource/438076c...   \n",
       "2107  <https://api.stage.sinopia.io/resource/efa4430...   \n",
       "\n",
       "                          label  \\\n",
       "2103                        NaN   \n",
       "2104  contemporary perspectives   \n",
       "2105                        NaN   \n",
       "2106                        NaN   \n",
       "2107                        NaN   \n",
       "\n",
       "                                                summary  \n",
       "2103                                                NaN  \n",
       "2104                                                NaN  \n",
       "2105  The Stainless Steel rat is back! Slippery Jim ...  \n",
       "2106                                                NaN  \n",
       "2107                                                NaN  "
      ]
     },
     "execution_count": 13,
     "metadata": {},
     "output_type": "execute_result"
    }
   ],
   "source": [
    "stage_text_nodes.tail()"
   ]
  },
  {
   "cell_type": "code",
   "execution_count": 14,
   "metadata": {},
   "outputs": [],
   "source": [
    "doc = nlp(stage_text_nodes.iloc[2105].summary)"
   ]
  },
  {
   "cell_type": "code",
   "execution_count": 15,
   "metadata": {
    "tags": []
   },
   "outputs": [
    {
     "data": {
      "text/plain": [
       "323844"
      ]
     },
     "execution_count": 15,
     "metadata": {},
     "output_type": "execute_result"
    }
   ],
   "source": [
    "len(fast_topic_matcher(doc))"
   ]
  },
  {
   "cell_type": "code",
   "execution_count": 16,
   "metadata": {},
   "outputs": [],
   "source": [
    "first_match = fast_topic_matcher(doc)[0]"
   ]
  },
  {
   "cell_type": "code",
   "execution_count": 17,
   "metadata": {},
   "outputs": [
    {
     "data": {
      "text/plain": [
       "(11474646060884680703, 0, 1)"
      ]
     },
     "execution_count": 17,
     "metadata": {},
     "output_type": "execute_result"
    }
   ],
   "source": [
    "first_match"
   ]
  },
  {
   "cell_type": "code",
   "execution_count": 18,
   "metadata": {},
   "outputs": [
    {
     "data": {
      "text/plain": [
       "'http://id.worldcat.org/fast/1354598'"
      ]
     },
     "execution_count": 18,
     "metadata": {},
     "output_type": "execute_result"
    }
   ],
   "source": [
    "nlp.vocab.strings[first_match[0]]"
   ]
  },
  {
   "cell_type": "code",
   "execution_count": 19,
   "metadata": {},
   "outputs": [
    {
     "data": {
      "text/plain": [
       "'Come and Take It Cannon'"
      ]
     },
     "execution_count": 19,
     "metadata": {},
     "output_type": "execute_result"
    }
   ],
   "source": [
    "fast_topics[fast_topics[\"URL\"] == \"http://id.worldcat.org/fast/869075\"].iloc[0][\"name\"]"
   ]
  },
  {
   "cell_type": "code",
   "execution_count": 20,
   "metadata": {},
   "outputs": [
    {
     "data": {
      "text/plain": [
       "'Ground water development - issues and sustainable solutions'"
      ]
     },
     "execution_count": 20,
     "metadata": {},
     "output_type": "execute_result"
    }
   ],
   "source": [
    "stage_text_nodes.iloc[1578].title"
   ]
  },
  {
   "cell_type": "code",
   "execution_count": 21,
   "metadata": {},
   "outputs": [],
   "source": [
    "matches_1578 = helpers.get_matches(\n",
    "    stage_text_nodes.iloc[1578].title, nlp, fast_topic_matcher, fast_topics, 25\n",
    ")"
   ]
  },
  {
   "cell_type": "code",
   "execution_count": 22,
   "metadata": {
    "tags": []
   },
   "outputs": [
    {
     "data": {
      "text/plain": [
       "[('http://id.worldcat.org/fast/1431947', 'Long-tailed ground squirrel'),\n",
       " ('http://id.worldcat.org/fast/1087897',\n",
       "  'Radioactive waste disposal in the ground--Government policy--U.S. states'),\n",
       " ('http://id.worldcat.org/fast/1087903',\n",
       "  'Radioactive waste disposal in the ground--Planning'),\n",
       " ('http://id.worldcat.org/fast/948181', 'Ground wetas'),\n",
       " ('http://id.worldcat.org/fast/1113920',\n",
       "  'Sewage disposal in the ground--Research'),\n",
       " ('http://id.worldcat.org/fast/948170', 'Ground squirrels--Behavior'),\n",
       " ('http://id.worldcat.org/fast/956353',\n",
       "  'High speed ground transportation--Environmental aspects'),\n",
       " ('http://id.worldcat.org/fast/1087915',\n",
       "  'Radioactive waste disposal in the ground--Technological innovations'),\n",
       " ('http://id.worldcat.org/fast/1097545', 'Richardson ground squirrel'),\n",
       " ('http://id.worldcat.org/fast/1429795', 'Arctic ground squirrel'),\n",
       " ('http://id.worldcat.org/fast/1113915',\n",
       "  'Sewage disposal in the ground--Evaluation'),\n",
       " ('http://id.worldcat.org/fast/948138', 'Ground beetles--Classification'),\n",
       " ('http://id.worldcat.org/fast/948175', 'Ground squirrels--Physiology'),\n",
       " ('http://id.worldcat.org/fast/948160', 'Ground cover plants'),\n",
       " ('http://id.worldcat.org/fast/824352', 'Aviation ground crews'),\n",
       " ('http://id.worldcat.org/fast/1087887',\n",
       "  'Radioactive waste disposal in the ground--Environmental aspects--Computer simulation'),\n",
       " ('http://id.worldcat.org/fast/948144', 'Ground control (Mining)'),\n",
       " ('http://id.worldcat.org/fast/1751263', 'Ground beetles--Behavior'),\n",
       " ('http://id.worldcat.org/fast/1170977',\n",
       "  'Waste disposal in the ground--Remote sensing'),\n",
       " ('http://id.worldcat.org/fast/1895931', 'Wyoming ground squirrel'),\n",
       " ('http://id.worldcat.org/fast/948172', 'Ground squirrels--Ecology'),\n",
       " ('http://id.worldcat.org/fast/948168', 'Ground source heat pump systems'),\n",
       " ('http://id.worldcat.org/fast/1087894',\n",
       "  'Radioactive waste disposal in the ground--Evaluation--Planning'),\n",
       " ('http://id.worldcat.org/fast/1087878',\n",
       "  'Radioactive waste disposal in the ground--Analysis'),\n",
       " ('http://id.worldcat.org/fast/1113913',\n",
       "  'Sewage disposal in the ground--Environmental aspects')]"
      ]
     },
     "execution_count": 22,
     "metadata": {},
     "output_type": "execute_result"
    }
   ],
   "source": [
    "matches_1578"
   ]
  },
  {
   "cell_type": "markdown",
   "metadata": {},
   "source": [
    "The [spaCy][SPACY] `fast_topic_matcher` is greedy, meaning that it matches on any terms contained in the document. Changing the pattern matching strategy, and instead of parsing out each term in the FAST label, just create a single phrase with the `--` removed, adjusts what is matched.\n",
    "\n",
    "[SPACY]: https://spacy.io/"
   ]
  },
  {
   "cell_type": "code",
   "execution_count": 23,
   "metadata": {},
   "outputs": [],
   "source": [
    "strict_fast_topic_matcher = PhraseMatcher(nlp.vocab, attr=\"LOWER\")"
   ]
  },
  {
   "cell_type": "code",
   "execution_count": 24,
   "metadata": {},
   "outputs": [
    {
     "name": "stdout",
     "output_type": "stream",
     "text": [
      "Started at 2022-07-10 23:08:27.874389 for Strict FAST Matching\n",
      "Finished adding strict FAST Topic patterns at 2022-07-10 23:09:01.180846, total time 0.55\n"
     ]
    }
   ],
   "source": [
    "start = datetime.datetime.utcnow()\n",
    "print(f\"Started at {start} for Strict FAST Matching\")\n",
    "# Iterate through the FAST Topic DataFrame\n",
    "for row in fast_topics.iterrows():\n",
    "    ident = row[1][\"URL\"]\n",
    "    name_str = row[1][\"name\"].strip(string.punctuation).replace(\"--\", \" \")\n",
    "    name_str = [\n",
    "        nlp.make_doc(name_str),\n",
    "    ]\n",
    "    strict_fast_topic_matcher.add(ident, name_list)\n",
    "end = datetime.datetime.utcnow()\n",
    "print(\n",
    "    f\"Finished adding strict FAST Topic patterns at {end}, total time {(end-start).seconds / 60.}\"\n",
    ")"
   ]
  },
  {
   "cell_type": "code",
   "execution_count": 25,
   "metadata": {},
   "outputs": [],
   "source": [
    "strict_matches_1578 = helpers.get_matches(\n",
    "    stage_text_nodes.iloc[1578].title, nlp, strict_fast_topic_matcher, fast_topics, 25\n",
    ")"
   ]
  },
  {
   "cell_type": "code",
   "execution_count": 26,
   "metadata": {},
   "outputs": [
    {
     "data": {
      "text/plain": [
       "[]"
      ]
     },
     "execution_count": 26,
     "metadata": {},
     "output_type": "execute_result"
    }
   ],
   "source": [
    "strict_matches_1578"
   ]
  },
  {
   "cell_type": "markdown",
   "metadata": {},
   "source": [
    "## So the matcher may be too strict!"
   ]
  },
  {
   "cell_type": "markdown",
   "metadata": {},
   "source": [
    "## spaCy Named Entity Recognition (NER)\n",
    "One of the strengths of [spaCy][SPACY] is it's pre-existing models for named entity recognition (NER). In NER tasks, existing entities like people, locations, time periods are identified and tagged for later analysis. \n",
    "\n",
    "[SPACY]: https://spacy.io/"
   ]
  },
  {
   "cell_type": "markdown",
   "metadata": {},
   "source": [
    "### Download model and Create NLP pipeline\n",
    "\n",
    "To demonstrate, we will load a small English language model and perform NER on some of the *titles*, *labels*, and any *summary* triples contained in the `stage_text_nodes` dataframe."
   ]
  },
  {
   "cell_type": "code",
   "execution_count": 27,
   "metadata": {
    "tags": []
   },
   "outputs": [
    {
     "name": "stdout",
     "output_type": "stream",
     "text": [
      "Collecting en-core-web-sm==3.3.0\n",
      "  Downloading https://github.com/explosion/spacy-models/releases/download/en_core_web_sm-3.3.0/en_core_web_sm-3.3.0-py3-none-any.whl (12.8 MB)\n",
      "\u001b[2K     \u001b[90m━━━━━━━━━━━━━━━━━━━━━━━━━━━━━━━━━━━━━━━━\u001b[0m \u001b[32m12.8/12.8 MB\u001b[0m \u001b[31m2.0 MB/s\u001b[0m eta \u001b[36m0:00:00\u001b[0m00:01\u001b[0m00:01\u001b[0mm\n",
      "\u001b[?25hRequirement already satisfied: spacy<3.4.0,>=3.3.0.dev0 in ./ld4-env/lib/python3.10/site-packages (from en-core-web-sm==3.3.0) (3.3.1)\n",
      "Requirement already satisfied: spacy-loggers<2.0.0,>=1.0.0 in ./ld4-env/lib/python3.10/site-packages (from spacy<3.4.0,>=3.3.0.dev0->en-core-web-sm==3.3.0) (1.0.2)\n",
      "Requirement already satisfied: catalogue<2.1.0,>=2.0.6 in ./ld4-env/lib/python3.10/site-packages (from spacy<3.4.0,>=3.3.0.dev0->en-core-web-sm==3.3.0) (2.0.7)\n",
      "Requirement already satisfied: numpy>=1.15.0 in ./ld4-env/lib/python3.10/site-packages (from spacy<3.4.0,>=3.3.0.dev0->en-core-web-sm==3.3.0) (1.23.1)\n",
      "Requirement already satisfied: cymem<2.1.0,>=2.0.2 in ./ld4-env/lib/python3.10/site-packages (from spacy<3.4.0,>=3.3.0.dev0->en-core-web-sm==3.3.0) (2.0.6)\n",
      "Requirement already satisfied: spacy-legacy<3.1.0,>=3.0.9 in ./ld4-env/lib/python3.10/site-packages (from spacy<3.4.0,>=3.3.0.dev0->en-core-web-sm==3.3.0) (3.0.9)\n",
      "Requirement already satisfied: langcodes<4.0.0,>=3.2.0 in ./ld4-env/lib/python3.10/site-packages (from spacy<3.4.0,>=3.3.0.dev0->en-core-web-sm==3.3.0) (3.3.0)\n",
      "Requirement already satisfied: requests<3.0.0,>=2.13.0 in ./ld4-env/lib/python3.10/site-packages (from spacy<3.4.0,>=3.3.0.dev0->en-core-web-sm==3.3.0) (2.28.1)\n",
      "Requirement already satisfied: murmurhash<1.1.0,>=0.28.0 in ./ld4-env/lib/python3.10/site-packages (from spacy<3.4.0,>=3.3.0.dev0->en-core-web-sm==3.3.0) (1.0.7)\n",
      "Requirement already satisfied: thinc<8.1.0,>=8.0.14 in ./ld4-env/lib/python3.10/site-packages (from spacy<3.4.0,>=3.3.0.dev0->en-core-web-sm==3.3.0) (8.0.17)\n",
      "Requirement already satisfied: pydantic!=1.8,!=1.8.1,<1.9.0,>=1.7.4 in ./ld4-env/lib/python3.10/site-packages (from spacy<3.4.0,>=3.3.0.dev0->en-core-web-sm==3.3.0) (1.8.2)\n",
      "Requirement already satisfied: packaging>=20.0 in ./ld4-env/lib/python3.10/site-packages (from spacy<3.4.0,>=3.3.0.dev0->en-core-web-sm==3.3.0) (21.3)\n",
      "Requirement already satisfied: tqdm<5.0.0,>=4.38.0 in ./ld4-env/lib/python3.10/site-packages (from spacy<3.4.0,>=3.3.0.dev0->en-core-web-sm==3.3.0) (4.64.0)\n",
      "Requirement already satisfied: preshed<3.1.0,>=3.0.2 in ./ld4-env/lib/python3.10/site-packages (from spacy<3.4.0,>=3.3.0.dev0->en-core-web-sm==3.3.0) (3.0.6)\n",
      "Requirement already satisfied: setuptools in ./ld4-env/lib/python3.10/site-packages (from spacy<3.4.0,>=3.3.0.dev0->en-core-web-sm==3.3.0) (58.1.0)\n",
      "Requirement already satisfied: typer<0.5.0,>=0.3.0 in ./ld4-env/lib/python3.10/site-packages (from spacy<3.4.0,>=3.3.0.dev0->en-core-web-sm==3.3.0) (0.4.2)\n",
      "Requirement already satisfied: jinja2 in ./ld4-env/lib/python3.10/site-packages (from spacy<3.4.0,>=3.3.0.dev0->en-core-web-sm==3.3.0) (3.1.2)\n",
      "Requirement already satisfied: srsly<3.0.0,>=2.4.3 in ./ld4-env/lib/python3.10/site-packages (from spacy<3.4.0,>=3.3.0.dev0->en-core-web-sm==3.3.0) (2.4.3)\n",
      "Requirement already satisfied: wasabi<1.1.0,>=0.9.1 in ./ld4-env/lib/python3.10/site-packages (from spacy<3.4.0,>=3.3.0.dev0->en-core-web-sm==3.3.0) (0.9.1)\n",
      "Requirement already satisfied: blis<0.8.0,>=0.4.0 in ./ld4-env/lib/python3.10/site-packages (from spacy<3.4.0,>=3.3.0.dev0->en-core-web-sm==3.3.0) (0.7.8)\n",
      "Requirement already satisfied: pathy>=0.3.5 in ./ld4-env/lib/python3.10/site-packages (from spacy<3.4.0,>=3.3.0.dev0->en-core-web-sm==3.3.0) (0.6.2)\n",
      "Requirement already satisfied: pyparsing!=3.0.5,>=2.0.2 in ./ld4-env/lib/python3.10/site-packages (from packaging>=20.0->spacy<3.4.0,>=3.3.0.dev0->en-core-web-sm==3.3.0) (3.0.9)\n",
      "Requirement already satisfied: smart-open<6.0.0,>=5.2.1 in ./ld4-env/lib/python3.10/site-packages (from pathy>=0.3.5->spacy<3.4.0,>=3.3.0.dev0->en-core-web-sm==3.3.0) (5.2.1)\n",
      "Requirement already satisfied: typing-extensions>=3.7.4.3 in ./ld4-env/lib/python3.10/site-packages (from pydantic!=1.8,!=1.8.1,<1.9.0,>=1.7.4->spacy<3.4.0,>=3.3.0.dev0->en-core-web-sm==3.3.0) (4.3.0)\n",
      "Requirement already satisfied: charset-normalizer<3,>=2 in ./ld4-env/lib/python3.10/site-packages (from requests<3.0.0,>=2.13.0->spacy<3.4.0,>=3.3.0.dev0->en-core-web-sm==3.3.0) (2.1.0)\n",
      "Requirement already satisfied: certifi>=2017.4.17 in ./ld4-env/lib/python3.10/site-packages (from requests<3.0.0,>=2.13.0->spacy<3.4.0,>=3.3.0.dev0->en-core-web-sm==3.3.0) (2022.6.15)\n",
      "Requirement already satisfied: urllib3<1.27,>=1.21.1 in ./ld4-env/lib/python3.10/site-packages (from requests<3.0.0,>=2.13.0->spacy<3.4.0,>=3.3.0.dev0->en-core-web-sm==3.3.0) (1.26.10)\n",
      "Requirement already satisfied: idna<4,>=2.5 in ./ld4-env/lib/python3.10/site-packages (from requests<3.0.0,>=2.13.0->spacy<3.4.0,>=3.3.0.dev0->en-core-web-sm==3.3.0) (3.3)\n",
      "Requirement already satisfied: click<9.0.0,>=7.1.1 in ./ld4-env/lib/python3.10/site-packages (from typer<0.5.0,>=0.3.0->spacy<3.4.0,>=3.3.0.dev0->en-core-web-sm==3.3.0) (8.1.3)\n",
      "Requirement already satisfied: MarkupSafe>=2.0 in ./ld4-env/lib/python3.10/site-packages (from jinja2->spacy<3.4.0,>=3.3.0.dev0->en-core-web-sm==3.3.0) (2.1.1)\n",
      "\u001b[33mWARNING: You are using pip version 22.0.4; however, version 22.1.2 is available.\n",
      "You should consider upgrading via the '/Users/jpnelson/70-79 Presentations/70.02 RDF-AI Workshop - 02022 LD4 Conference/ld4-env/bin/python -m pip install --upgrade pip' command.\u001b[0m\u001b[33m\n",
      "\u001b[0m\u001b[38;5;2m✔ Download and installation successful\u001b[0m\n",
      "You can now load the package via spacy.load('en_core_web_sm')\n"
     ]
    }
   ],
   "source": [
    "! python -m spacy download en_core_web_sm"
   ]
  },
  {
   "cell_type": "code",
   "execution_count": 28,
   "metadata": {},
   "outputs": [],
   "source": [
    "en_nlp = spacy.load(\"en_core_web_sm\")"
   ]
  },
  {
   "cell_type": "markdown",
   "metadata": {},
   "source": [
    "### Generate Documents and Display Entities\n",
    "Using a different sample from the `stage_text_nodes` dataframe, we apply the `en_nlp` pipeline to some of these values to see if we can extract meaningful entities."
   ]
  },
  {
   "cell_type": "code",
   "execution_count": 29,
   "metadata": {},
   "outputs": [],
   "source": [
    "sample2 = stage_text_nodes.sample(10)"
   ]
  },
  {
   "cell_type": "code",
   "execution_count": 30,
   "metadata": {},
   "outputs": [
    {
     "data": {
      "text/html": [
       "<div>\n",
       "<style scoped>\n",
       "    .dataframe tbody tr th:only-of-type {\n",
       "        vertical-align: middle;\n",
       "    }\n",
       "\n",
       "    .dataframe tbody tr th {\n",
       "        vertical-align: top;\n",
       "    }\n",
       "\n",
       "    .dataframe thead th {\n",
       "        text-align: right;\n",
       "    }\n",
       "</style>\n",
       "<table border=\"1\" class=\"dataframe\">\n",
       "  <thead>\n",
       "    <tr style=\"text-align: right;\">\n",
       "      <th></th>\n",
       "      <th>title</th>\n",
       "      <th>url</th>\n",
       "      <th>label</th>\n",
       "      <th>summary</th>\n",
       "    </tr>\n",
       "  </thead>\n",
       "  <tbody>\n",
       "    <tr>\n",
       "      <th>1561</th>\n",
       "      <td>Mosaico do tempo, 70 anos de fotografia</td>\n",
       "      <td>&lt;https://api.stage.sinopia.io/resource/edb2295...</td>\n",
       "      <td>NaN</td>\n",
       "      <td>NaN</td>\n",
       "    </tr>\n",
       "    <tr>\n",
       "      <th>1322</th>\n",
       "      <td>The ball</td>\n",
       "      <td>&lt;https://api.stage.sinopia.io/resource/224547f...</td>\n",
       "      <td>NaN</td>\n",
       "      <td>NaN</td>\n",
       "    </tr>\n",
       "    <tr>\n",
       "      <th>1532</th>\n",
       "      <td>The politics of birth.</td>\n",
       "      <td>&lt;https://api.stage.sinopia.io/resource/638fc75...</td>\n",
       "      <td>NaN</td>\n",
       "      <td>Several manuscript and typescript drafts of an...</td>\n",
       "    </tr>\n",
       "    <tr>\n",
       "      <th>990</th>\n",
       "      <td>Statistical inference in admixed populations</td>\n",
       "      <td>&lt;https://api.stage.sinopia.io/resource/79ef178...</td>\n",
       "      <td>NaN</td>\n",
       "      <td>NaN</td>\n",
       "    </tr>\n",
       "    <tr>\n",
       "      <th>1370</th>\n",
       "      <td>Mother of the Forest big tree exhibit of 1875-...</td>\n",
       "      <td>&lt;https://api.stage.sinopia.io/resource/879212b...</td>\n",
       "      <td>NaN</td>\n",
       "      <td>NaN</td>\n",
       "    </tr>\n",
       "    <tr>\n",
       "      <th>756</th>\n",
       "      <td>Al fooles</td>\n",
       "      <td>&lt;https://api.stage.sinopia.io/resource/0f16f9b...</td>\n",
       "      <td>NaN</td>\n",
       "      <td>NaN</td>\n",
       "    </tr>\n",
       "    <tr>\n",
       "      <th>215</th>\n",
       "      <td>國立臺灣大學理學院植物學系研究報告</td>\n",
       "      <td>&lt;https://api.stage.sinopia.io/resource/809b600...</td>\n",
       "      <td>Zhi wu ke xue qi kan</td>\n",
       "      <td>NaN</td>\n",
       "    </tr>\n",
       "    <tr>\n",
       "      <th>703</th>\n",
       "      <td>Neuland</td>\n",
       "      <td>&lt;https://api.stage.sinopia.io/resource/e065846...</td>\n",
       "      <td>NaN</td>\n",
       "      <td>NaN</td>\n",
       "    </tr>\n",
       "    <tr>\n",
       "      <th>865</th>\n",
       "      <td>Analysis and evaluation in the production proc...</td>\n",
       "      <td>&lt;https://api.stage.sinopia.io/resource/577728e...</td>\n",
       "      <td>NaN</td>\n",
       "      <td>NaN</td>\n",
       "    </tr>\n",
       "    <tr>\n",
       "      <th>666</th>\n",
       "      <td>Sherlock Holmes</td>\n",
       "      <td>&lt;https://api.stage.sinopia.io/resource/2e27d57...</td>\n",
       "      <td>NaN</td>\n",
       "      <td>NaN</td>\n",
       "    </tr>\n",
       "  </tbody>\n",
       "</table>\n",
       "</div>"
      ],
      "text/plain": [
       "                                                  title  \\\n",
       "1561            Mosaico do tempo, 70 anos de fotografia   \n",
       "1322                                           The ball   \n",
       "1532                             The politics of birth.   \n",
       "990        Statistical inference in admixed populations   \n",
       "1370  Mother of the Forest big tree exhibit of 1875-...   \n",
       "756                                           Al fooles   \n",
       "215                                   國立臺灣大學理學院植物學系研究報告   \n",
       "703                                             Neuland   \n",
       "865   Analysis and evaluation in the production proc...   \n",
       "666                                     Sherlock Holmes   \n",
       "\n",
       "                                                    url                 label  \\\n",
       "1561  <https://api.stage.sinopia.io/resource/edb2295...                   NaN   \n",
       "1322  <https://api.stage.sinopia.io/resource/224547f...                   NaN   \n",
       "1532  <https://api.stage.sinopia.io/resource/638fc75...                   NaN   \n",
       "990   <https://api.stage.sinopia.io/resource/79ef178...                   NaN   \n",
       "1370  <https://api.stage.sinopia.io/resource/879212b...                   NaN   \n",
       "756   <https://api.stage.sinopia.io/resource/0f16f9b...                   NaN   \n",
       "215   <https://api.stage.sinopia.io/resource/809b600...  Zhi wu ke xue qi kan   \n",
       "703   <https://api.stage.sinopia.io/resource/e065846...                   NaN   \n",
       "865   <https://api.stage.sinopia.io/resource/577728e...                   NaN   \n",
       "666   <https://api.stage.sinopia.io/resource/2e27d57...                   NaN   \n",
       "\n",
       "                                                summary  \n",
       "1561                                                NaN  \n",
       "1322                                                NaN  \n",
       "1532  Several manuscript and typescript drafts of an...  \n",
       "990                                                 NaN  \n",
       "1370                                                NaN  \n",
       "756                                                 NaN  \n",
       "215                                                 NaN  \n",
       "703                                                 NaN  \n",
       "865                                                 NaN  \n",
       "666                                                 NaN  "
      ]
     },
     "execution_count": 30,
     "metadata": {},
     "output_type": "execute_result"
    }
   ],
   "source": [
    "sample2"
   ]
  },
  {
   "cell_type": "code",
   "execution_count": 31,
   "metadata": {},
   "outputs": [],
   "source": [
    "def show_entities(index_number, column):\n",
    "    print(f\"Entities for {index_number}\")\n",
    "    doc = en_nlp(stage_text_nodes.iloc[index_number][column])\n",
    "    for ent in doc.ents:\n",
    "        print(f\"\\t{ent}, {ent.label_}\")\n",
    "    return doc"
   ]
  },
  {
   "cell_type": "code",
   "execution_count": 32,
   "metadata": {},
   "outputs": [
    {
     "name": "stdout",
     "output_type": "stream",
     "text": [
      "Entities for 624\n",
      "\tHans, PERSON\n",
      "\tGretel, PERSON\n",
      "\tone, CARDINAL\n",
      "\tHans, NORP\n",
      "\tGretel, PERSON\n"
     ]
    }
   ],
   "source": [
    "doc_624_summary = show_entities(624, \"summary\")"
   ]
  },
  {
   "cell_type": "code",
   "execution_count": 33,
   "metadata": {},
   "outputs": [
    {
     "name": "stdout",
     "output_type": "stream",
     "text": [
      "Entities for 1222\n",
      "\tFirst, ORDINAL\n",
      "\tAmericans, NORP\n"
     ]
    }
   ],
   "source": [
    "doc_1222_title = show_entities(1222, \"title\")"
   ]
  },
  {
   "cell_type": "markdown",
   "metadata": {},
   "source": [
    "### spaCy NER and POS Visualizations\n",
    "The [spaCy][SPACY] project provides the `displacy` class that has two helpful visualizers. The first **ner** displays the identified entities in context of the text and the second identifies the parts-of-speech and how they are related to each other in the **dep** option. \n",
    "\n",
    "[SPACY]: https://spacy.io/"
   ]
  },
  {
   "cell_type": "code",
   "execution_count": 34,
   "metadata": {},
   "outputs": [
    {
     "data": {
      "text/html": [
       "<span class=\"tex2jax_ignore\"><div class=\"entities\" style=\"line-height: 2.5; direction: ltr\">When a new friend gives \n",
       "<mark class=\"entity\" style=\"background: #aa9cfc; padding: 0.45em 0.6em; margin: 0 0.25em; line-height: 1; border-radius: 0.35em;\">\n",
       "    Hans\n",
       "    <span style=\"font-size: 0.8em; font-weight: bold; line-height: 1; border-radius: 0.35em; vertical-align: middle; margin-left: 0.5rem\">PERSON</span>\n",
       "</mark>\n",
       " and his sister \n",
       "<mark class=\"entity\" style=\"background: #aa9cfc; padding: 0.45em 0.6em; margin: 0 0.25em; line-height: 1; border-radius: 0.35em;\">\n",
       "    Gretel\n",
       "    <span style=\"font-size: 0.8em; font-weight: bold; line-height: 1; border-radius: 0.35em; vertical-align: middle; margin-left: 0.5rem\">PERSON</span>\n",
       "</mark>\n",
       " enough money for \n",
       "<mark class=\"entity\" style=\"background: #e4e7d2; padding: 0.45em 0.6em; margin: 0 0.25em; line-height: 1; border-radius: 0.35em;\">\n",
       "    one\n",
       "    <span style=\"font-size: 0.8em; font-weight: bold; line-height: 1; border-radius: 0.35em; vertical-align: middle; margin-left: 0.5rem\">CARDINAL</span>\n",
       "</mark>\n",
       " pair of ice skates, \n",
       "<mark class=\"entity\" style=\"background: #c887fb; padding: 0.45em 0.6em; margin: 0 0.25em; line-height: 1; border-radius: 0.35em;\">\n",
       "    Hans\n",
       "    <span style=\"font-size: 0.8em; font-weight: bold; line-height: 1; border-radius: 0.35em; vertical-align: middle; margin-left: 0.5rem\">NORP</span>\n",
       "</mark>\n",
       " insists that \n",
       "<mark class=\"entity\" style=\"background: #aa9cfc; padding: 0.45em 0.6em; margin: 0 0.25em; line-height: 1; border-radius: 0.35em;\">\n",
       "    Gretel\n",
       "    <span style=\"font-size: 0.8em; font-weight: bold; line-height: 1; border-radius: 0.35em; vertical-align: middle; margin-left: 0.5rem\">PERSON</span>\n",
       "</mark>\n",
       " enter the grand skating competition, while he approaches the great Doctor who consents to try to restore their father's health and memory.</div></span>"
      ],
      "text/plain": [
       "<IPython.core.display.HTML object>"
      ]
     },
     "metadata": {},
     "output_type": "display_data"
    }
   ],
   "source": [
    "from spacy import displacy\n",
    "\n",
    "displacy.render(doc_624_summary, jupyter=True, style=\"ent\")"
   ]
  },
  {
   "cell_type": "code",
   "execution_count": 35,
   "metadata": {},
   "outputs": [
    {
     "data": {
      "text/plain": [
       "'Nationalities or religious or political groups'"
      ]
     },
     "execution_count": 35,
     "metadata": {},
     "output_type": "execute_result"
    }
   ],
   "source": [
    "spacy.explain(\"NORP\")"
   ]
  },
  {
   "cell_type": "code",
   "execution_count": 36,
   "metadata": {},
   "outputs": [
    {
     "data": {
      "text/html": [
       "<span class=\"tex2jax_ignore\"><div class=\"entities\" style=\"line-height: 2.5; direction: ltr\">\n",
       "<mark class=\"entity\" style=\"background: #e4e7d2; padding: 0.45em 0.6em; margin: 0 0.25em; line-height: 1; border-radius: 0.35em;\">\n",
       "    First\n",
       "    <span style=\"font-size: 0.8em; font-weight: bold; line-height: 1; border-radius: 0.35em; vertical-align: middle; margin-left: 0.5rem\">ORDINAL</span>\n",
       "</mark>\n",
       " \n",
       "<mark class=\"entity\" style=\"background: #c887fb; padding: 0.45em 0.6em; margin: 0 0.25em; line-height: 1; border-radius: 0.35em;\">\n",
       "    Americans\n",
       "    <span style=\"font-size: 0.8em; font-weight: bold; line-height: 1; border-radius: 0.35em; vertical-align: middle; margin-left: 0.5rem\">NORP</span>\n",
       "</mark>\n",
       " </div></span>"
      ],
      "text/plain": [
       "<IPython.core.display.HTML object>"
      ]
     },
     "metadata": {},
     "output_type": "display_data"
    }
   ],
   "source": [
    "displacy.render(doc_1222_title, jupyter=True, style=\"ent\")"
   ]
  },
  {
   "cell_type": "markdown",
   "metadata": {},
   "source": [
    "## Exercise 1\n",
    "Download and create a `nlp` pipeline using the *en_core_web_sm* model and see what entities are identified using your sample from the `stage_text_nodes` dataframe.\n",
    "\n",
    "> **Extra credit** Find a non-english resource in `stage_text_nodes`, find a corresponding \n",
    "> [spaCy][SPACY] trained pipeline at https://spacy.io/models and follow the above steps to \n",
    "> identify any entities in the *title*, *label*, or *summary* values.\n",
    "\n",
    "[SPACY]: https://spacy.io/"
   ]
  },
  {
   "cell_type": "markdown",
   "metadata": {},
   "source": [
    "## Full-Text and Sinopia RDF Metadata\n",
    "Exciting possibilities of applying machine learning to library workflows comes when we combine linked-data cataloging with the availability of the full-text. For example, we can run NER on the entirety of the full-text, and add any identified entities to our RDF. \n",
    "\n",
    "> Special thanks to Tim Thompson and Greta de Groat for providing examples of cataloged\n",
    "> resources in Sinopia that have available full-text!\n"
   ]
  },
  {
   "cell_type": "markdown",
   "metadata": {},
   "source": [
    "### Example One: *Alarmingly suspicious*\n",
    "First we will download the Sinopia record for this Work, https://api.sinopia.io/resource/65a2b059-5ac1-48a6-adbb-870712c3060c, and extract the `data` property to create a RDF graph."
   ]
  },
  {
   "cell_type": "code",
   "execution_count": 37,
   "metadata": {},
   "outputs": [
    {
     "data": {
      "text/plain": [
       "<Graph identifier=Ne7a37ca72d4141e68db85167006d05b6 (<class 'rdflib.graph.Graph'>)>"
      ]
     },
     "execution_count": 37,
     "metadata": {},
     "output_type": "execute_result"
    }
   ],
   "source": [
    "example1_result = requests.get(\n",
    "    \"https://api.sinopia.io/resource/65a2b059-5ac1-48a6-adbb-870712c3060c\"\n",
    ")\n",
    "example1_graph = rdflib.Graph()\n",
    "for ns, url in helpers.NAMESPACES.items():\n",
    "    example1_graph.namespace_manager.bind(ns, url)\n",
    "example1_graph.parse(\n",
    "    data=json.dumps(example1_result.json().get(\"data\")), format=\"json-ld\"\n",
    ")"
   ]
  },
  {
   "cell_type": "markdown",
   "metadata": {},
   "source": [
    "Second, we open the full-text that was retrieved from the [Haithtrust](https://babel.hathitrust.org/cgi/pt?id=uiuo.ark:/13960/t14n5kz7q&view=1up&seq=3) and load all of the text and save to the `example1_text` variable. "
   ]
  },
  {
   "cell_type": "code",
   "execution_count": 38,
   "metadata": {},
   "outputs": [
    {
     "name": "stdout",
     "output_type": "stream",
     "text": [
      "Number of characters in the text is 61,249\n"
     ]
    }
   ],
   "source": [
    "with open(\"data/65a2b059-5ac1-48a6-adbb-870712c3060c.txt\") as fo:\n",
    "    example1_text = fo.read()\n",
    "\n",
    "print(f\"Number of characters in the text is {len(example1_text):,}\")"
   ]
  },
  {
   "cell_type": "markdown",
   "metadata": {},
   "source": [
    "Third, we will run the full-text through our [spaCy][SPACY] en_nlp pipeline and then examine the identified entities.\n",
    "\n",
    "[SPACY]: https://spacy.io/"
   ]
  },
  {
   "cell_type": "code",
   "execution_count": 39,
   "metadata": {},
   "outputs": [
    {
     "name": "stdout",
     "output_type": "stream",
     "text": [
      "Number of entities: 587\n"
     ]
    }
   ],
   "source": [
    "example1_doc = en_nlp(example1_text)\n",
    "print(f\"Number of entities: {len(example1_doc.ents):,}\")"
   ]
  },
  {
   "cell_type": "markdown",
   "metadata": {},
   "source": [
    "Of the 576 entities, we will extract the **PERSON** and **GPE** (location) entities for further analysis. "
   ]
  },
  {
   "cell_type": "code",
   "execution_count": 40,
   "metadata": {},
   "outputs": [
    {
     "name": "stdout",
     "output_type": "stream",
     "text": [
      "NER found 281 people and 34 locations\n"
     ]
    }
   ],
   "source": [
    "people, locations = [], []\n",
    "\n",
    "for ent in example1_doc.ents:\n",
    "    if ent.label_.startswith(\"PERSON\"):\n",
    "        people.append(ent)\n",
    "    if ent.label_.startswith(\"GPE\"):\n",
    "        locations.append(ent)\n",
    "print(f\"NER found {len(people):,} people and {len(locations):,} locations\")"
   ]
  },
  {
   "cell_type": "markdown",
   "metadata": {},
   "source": [
    "Looking at the `people` list, we notice a number of duplications (for now we don't care where the person entity was found in the text) so we filter this list."
   ]
  },
  {
   "cell_type": "code",
   "execution_count": 41,
   "metadata": {},
   "outputs": [],
   "source": [
    "people = set([\" \".join(ent.text.split()) for ent in people])\n",
    "locations = set([\" \".join(ent.text.split()) for ent in locations])"
   ]
  },
  {
   "cell_type": "code",
   "execution_count": 42,
   "metadata": {},
   "outputs": [
    {
     "data": {
      "text/plain": [
       "(103, 20)"
      ]
     },
     "execution_count": 42,
     "metadata": {},
     "output_type": "execute_result"
    }
   ],
   "source": [
    "len(people), len(locations)"
   ]
  },
  {
   "cell_type": "markdown",
   "metadata": {},
   "source": [
    "With these identified names, we can use the VIAF [SRU Search](https://platform.worldcat.org/api-explorer/apis/VIAF/AuthorityCluster/SRUSearch) on each of the `people` entities to see if we can narrow down our list using this authority source. In the helpers module, the `viaf_people_search` function returns a dictionary VIAF urls that match the term and the first main heading of the record.\n",
    "\n",
    "We can then aggregate these results and see what remains. "
   ]
  },
  {
   "cell_type": "code",
   "execution_count": 43,
   "metadata": {},
   "outputs": [
    {
     "name": "stdout",
     "output_type": "stream",
     "text": [
      "0..25...50..75...100"
     ]
    }
   ],
   "source": [
    "example1_people = {}\n",
    "for i, term in enumerate(list(people)):\n",
    "    # Removes newlines, tabs, and spaces from the entity text\n",
    "    viaf_result = helpers.viaf_people_search(term)\n",
    "    example1_people.update(viaf_result)\n",
    "    if not i % 10 and i > 0:\n",
    "        print(\".\", end=\"\")\n",
    "    if not i % 25:\n",
    "        print(f\"{i}\", end=\"\")"
   ]
  },
  {
   "cell_type": "code",
   "execution_count": 44,
   "metadata": {
    "tags": []
   },
   "outputs": [
    {
     "data": {
      "text/plain": [
       "{'http://viaf.org/viaf/4819162906466578110009/': ['Ball, John'],\n",
       " 'http://viaf.org/viaf/9924151247972544270006/': ['Voigt, Emil 1881-'],\n",
       " 'http://viaf.org/viaf/9874158792833139040004/': ['Johan Georg Frederik Ræder juriste danois'],\n",
       " 'http://viaf.org/viaf/138389/': ['Sharp, Tony.'],\n",
       " 'http://viaf.org/viaf/310152742908027731493/': ['Valletort, Lady 19.sc'],\n",
       " 'http://viaf.org/viaf/272152742908127731486/': ['Valletort, Lord'],\n",
       " 'http://viaf.org/viaf/26152742893627730540/': ['Popeley, William 1718+'],\n",
       " 'http://viaf.org/viaf/9994156012397449700001/': ['Schneider, Raimund'],\n",
       " 'http://viaf.org/viaf/9985152684042123430003/': ['Schneider, Konrad'],\n",
       " 'http://viaf.org/viaf/9983160668220203560000/': ['Schneider, Wolfgang 1941-'],\n",
       " 'http://viaf.org/viaf/9995160909265912870007/': ['Look, Emily'],\n",
       " 'http://viaf.org/viaf/9978165628873142480009/': ['Hyatt, Emily'],\n",
       " 'http://viaf.org/viaf/9972162669668555500005/': ['La Trobe-Bateman, Emily'],\n",
       " 'http://viaf.org/viaf/9999160668126703560006/': ['Engel, Wolfgang'],\n",
       " 'http://viaf.org/viaf/9999158915912650000002/': ['Kārļa Paucīša apgāds'],\n",
       " 'http://viaf.org/viaf/9999156012424849700005/': ['Gürtler, Josef'],\n",
       " 'http://viaf.org/viaf/1551159234452403371761/': ['Davis, Mme'],\n",
       " 'http://viaf.org/viaf/8144782940678562917/': ['Rebecca, Biagio, 1735-1808'],\n",
       " 'http://viaf.org/viaf/95730850/': ['George Jamesone'],\n",
       " 'http://viaf.org/viaf/283709/': ['Chase, William Merritt, 1849-1916'],\n",
       " 'http://viaf.org/viaf/7502159477902827990003/': ['Loop, George'],\n",
       " 'http://viaf.org/viaf/7234159248113504870007/': ['Pigott Charles, -1794'],\n",
       " 'http://viaf.org/viaf/9550149296178380670006/': ['Mæhle, Magne'],\n",
       " 'http://viaf.org/viaf/9543152140012211100004/': ['Jón Steinar Jónsson 1957-'],\n",
       " 'http://viaf.org/viaf/9537149198239974940007/': ['Juhlin, Susan'],\n",
       " 'http://viaf.org/viaf/8281163710010029700009/': ['Butler, Henry'],\n",
       " 'http://viaf.org/viaf/6194158792853239040000/': ['Butler, Harry, 1889-1924'],\n",
       " 'http://viaf.org/viaf/7204163709887929700009/': ['Macintosh, Adrian'],\n",
       " 'http://viaf.org/viaf/683164604083537910006/': ['Pococke, Edward'],\n",
       " 'http://viaf.org/viaf/58149105997368490264/': ['McBride, Nate 1971-'],\n",
       " 'http://viaf.org/viaf/315648751/': [\"O'Hea, J. F. (John Fergus), ca.1838-1922, artist.\"],\n",
       " 'http://viaf.org/viaf/315121564/': ['Newton, Curt'],\n",
       " 'http://viaf.org/viaf/9956160668064303560006/': ['MacPherson, Donald (Piper)'],\n",
       " 'http://viaf.org/viaf/9944165628872942480003/': ['M. J. McPherson Britský biolog. Publikace z biochemie a molekulární biologie.'],\n",
       " 'http://viaf.org/viaf/9940158309873606690004/': ['McPherson, Marlene, 1962-'],\n",
       " 'http://viaf.org/viaf/9847148390858410830004/': ['Unaipon, James, approximately 1835-1907'],\n",
       " 'http://viaf.org/viaf/19945564/': ['Roff, Joseph'],\n",
       " 'http://viaf.org/viaf/79832685/': ['Count, Berry'],\n",
       " 'http://viaf.org/viaf/79592047/': ['Drossner, Heinz'],\n",
       " 'http://viaf.org/viaf/19817862/': ['Poschinger, Heinrich \\x98von\\x9c 1845-1911'],\n",
       " 'http://viaf.org/viaf/9946164298353108630002/': ['Sharp, Wendy, active 1997'],\n",
       " 'http://viaf.org/viaf/9946160668282603560009/': ['Sharp, Ed'],\n",
       " 'http://viaf.org/viaf/9992160668251603560004/': ['Rathbun, Betty Lou K. (Betty Lou Kilbert)'],\n",
       " 'http://viaf.org/viaf/9973160667843203560006/': ['Magalhães, Paulo. (Advogado)'],\n",
       " 'http://viaf.org/viaf/9961157643201938590002/': ['ALI (American graffiti artist and musician, born 1956)'],\n",
       " 'http://viaf.org/viaf/9999165326485416290003/': ['Belyaev, Alexander S., 19..-...., physicien'],\n",
       " 'http://viaf.org/viaf/9999163877704646060004/': ['Masson, Madeleine -1713'],\n",
       " 'http://viaf.org/viaf/9999160668406903560005/': ['Ball, Chester E.'],\n",
       " 'http://viaf.org/viaf/9977160668157603560000/': ['Gambrell, C. E. (Carl Edwin)'],\n",
       " 'http://viaf.org/viaf/9976162669630655500002/': ['King, Joseph F.'],\n",
       " 'http://viaf.org/viaf/9709163877702646060003/': ['Gibson, Fiona'],\n",
       " 'http://viaf.org/viaf/1162160486138905180002/': ['Carducci, Joe'],\n",
       " 'http://viaf.org/viaf/309880850/': ['Federica Sallusto'],\n",
       " 'http://viaf.org/viaf/306131981/': ['Woodman, John, active 1733-1750'],\n",
       " 'http://viaf.org/viaf/9998160668126703560008/': ['Smith, Thomas M. (Thomas Michael), 1958-'],\n",
       " 'http://viaf.org/viaf/9998160310474158300005/': ['Smith, Sheldon'],\n",
       " 'http://viaf.org/viaf/9998159478179427990003/': ['Wenban-Smith, Nigel, 1936-....'],\n",
       " 'http://viaf.org/viaf/9958161453851364330000/': ['Maria II, Rainha de Portugal, 1819-1853.'],\n",
       " 'http://viaf.org/viaf/9610158188279820260005/': ['José Pedro Dias de Carvalho politiko brasileño'],\n",
       " 'http://viaf.org/viaf/9540154441766335460005/': ['Anh, Ngoc 19..-.... chanteur'],\n",
       " 'http://viaf.org/viaf/9503160667714203560008/': ['Serrano, P. A., fl. entre 1850 e 1869'],\n",
       " 'http://viaf.org/viaf/9215160667618603560004/': ['G. L.'],\n",
       " 'http://viaf.org/viaf/564159474188627661806/': ['Barnaba da Cologna, O.F.M., 1867-1911'],\n",
       " 'http://viaf.org/viaf/313159474329327662893/': ['Barnaba da Bologna, O.F.M.Rif'],\n",
       " 'http://viaf.org/viaf/274159474316327662559/': ['Barnaba da Caprile, O.F.M. Cap'],\n",
       " 'http://viaf.org/viaf/134159234087203370736/': ['Barnaba, F'],\n",
       " 'http://viaf.org/viaf/9991158915885350000004/': ['Lang, Andrew'],\n",
       " 'http://viaf.org/viaf/9982162669342755500008/': ['Yoelin, Shelley'],\n",
       " 'http://viaf.org/viaf/9949149108522268780007/': ['Pickett, Adrian'],\n",
       " 'http://viaf.org/viaf/8865152744551427850006/': ['Flahault, Emilie de 1819-1895'],\n",
       " 'http://viaf.org/viaf/49234619/': ['Home, John, 1722-1808'],\n",
       " 'http://viaf.org/viaf/49092274/': ['Home, John, ca. 1650-1740'],\n",
       " 'http://viaf.org/viaf/44294706/': ['Arnoux, Claude, 1935-....'],\n",
       " 'http://viaf.org/viaf/36772449/': ['Hay, John, 1700-1780'],\n",
       " 'http://viaf.org/viaf/31860240/': ['Belton, James'],\n",
       " 'http://viaf.org/viaf/9999157527347027300005/': ['원성진'],\n",
       " 'http://viaf.org/viaf/9987159400308319620003/': ['Jung, Yeonha'],\n",
       " 'http://viaf.org/viaf/9981160486100805180008/': ['김정원'],\n",
       " 'http://viaf.org/viaf/9946160486100705180007/': ['Kang Hye-won'],\n",
       " 'http://viaf.org/viaf/8681147270668935700001/': ['Friedrich von Hessen-Philippsthal-Barchfeld'],\n",
       " 'http://viaf.org/viaf/8209159035179801380004/': ['Patoni, Giovanni Battista 1713c-1773'],\n",
       " 'http://viaf.org/viaf/9818155566450113380002/': ['Habaděj, Kos, 1860-1932'],\n",
       " 'http://viaf.org/viaf/9800154387438330970003/': ['Ross, Barnaby'],\n",
       " 'http://viaf.org/viaf/9564160668218803560001/': ['Reid-Smith, Edward R. (Edward Reid), 1929-'],\n",
       " 'http://viaf.org/viaf/9240159248562804870004/': ['Duby, Jean-Etienne, dit John'],\n",
       " 'http://viaf.org/viaf/1850149368830185980007/': ['Twine, Linda'],\n",
       " 'http://viaf.org/viaf/9986158631025523370006/': ['Bernet, William'],\n",
       " 'http://viaf.org/viaf/7386077/': ['Angelou, Maya, 1928-2014'],\n",
       " 'http://viaf.org/viaf/57984442/': ['Simpson, J. Palgrave (John Palgrave), 1807-1887'],\n",
       " 'http://viaf.org/viaf/49318426/': ['Weber, Max Maria \\x98von\\x9c 1822-1881'],\n",
       " 'http://viaf.org/viaf/9965160668375503560003/': ['Van der Westhuizen, W. M. (Willem Morkel)'],\n",
       " 'http://viaf.org/viaf/9906160546939610240000/': ['Hogan, William Samuel, 1897-1954'],\n",
       " 'http://viaf.org/viaf/9872163710044429700007/': ['Young, Willie'],\n",
       " 'http://viaf.org/viaf/9868163710014929700008/': ['Reed, Willie'],\n",
       " 'http://viaf.org/viaf/9866161211619640070005/': ['Vroom, Berend (B.J.)'],\n",
       " 'http://viaf.org/viaf/206143594/': ['Denance, Pascale, 1937-....'],\n",
       " 'http://viaf.org/viaf/66735201/': ['Warren, Charles Turner, 1767-1823?'],\n",
       " 'http://viaf.org/viaf/54232372/': ['Ortemann, Marie-Jeanne, 1942-....'],\n",
       " 'http://viaf.org/viaf/42226408/': ['Palmerston, Emily Lamb, Viscountess, 1787-1869'],\n",
       " 'http://viaf.org/viaf/29377218/': ['Ward, Emily, 1865-'],\n",
       " 'http://viaf.org/viaf/62159818679113811486/': ['Giltenan, Edward Baker, Woolen draper'],\n",
       " 'http://viaf.org/viaf/79197551/': ['Batalov, Aleksej Vladimirovič, 1928-2017'],\n",
       " 'http://viaf.org/viaf/54255124/': ['Austin, William, 1778-1841'],\n",
       " 'http://viaf.org/viaf/46617092/': ['Austin, William, 1721-1820'],\n",
       " 'http://viaf.org/viaf/26936472/': ['Jackson, Lawrence, 1691-1772'],\n",
       " 'http://viaf.org/viaf/9556159248563704870009/': ['Independent elector'],\n",
       " 'http://viaf.org/viaf/9162149198351574940007/': ['Dodson, Owen, 1914-1983'],\n",
       " 'http://viaf.org/viaf/9031149368862385980003/': ['Thiele jr, Bob'],\n",
       " 'http://viaf.org/viaf/7627165628860742480006/': ['Dierikx, Marc, 1957-'],\n",
       " 'http://viaf.org/viaf/9005162062774651650005/': ['Creelman, James'],\n",
       " 'http://viaf.org/viaf/8087149198309974940005/': ['Harris, Chris'],\n",
       " 'http://viaf.org/viaf/9999155286662887180003/': ['Gerhard Rothe'],\n",
       " 'http://viaf.org/viaf/9991161938116239870000/': ['Macuzzi, A.'],\n",
       " 'http://viaf.org/viaf/9975161211812740070002/': ['Padmarajiah, Y.J.'],\n",
       " 'http://viaf.org/viaf/9974162669630655500001/': ['Carrero, Manuel E. (Manuel Edgar)'],\n",
       " 'http://viaf.org/viaf/9971160486168405180003/': ['Thériault, J. Yvon'],\n",
       " 'http://viaf.org/viaf/9999159109717806900008/': ['이승헌'],\n",
       " 'http://viaf.org/viaf/9997157527306027300005/': ['이은덕'],\n",
       " 'http://viaf.org/viaf/9995149662201807020007/': ['Lee, Rox, 1950-...'],\n",
       " 'http://viaf.org/viaf/9999163710015229700005/': ['González Deleito, Federico 1878-1936'],\n",
       " 'http://viaf.org/viaf/100904454/': ['White, James, 1863-1928.'],\n",
       " 'http://viaf.org/viaf/60024852/': ['Gale, William G.'],\n",
       " 'http://viaf.org/viaf/1340160668441903560000/': ['Curzon-Siggers, Helen'],\n",
       " 'http://viaf.org/viaf/722159234869803372966/': ['Fischer, Jean E'],\n",
       " 'http://viaf.org/viaf/411159234291403371362/': ['Lawson, James Morris'],\n",
       " 'http://viaf.org/viaf/295800268/': ['Matthews, Gwynda, 1926-'],\n",
       " 'http://viaf.org/viaf/280473255/': ['Barton, Frank M. (Frank Matthews), 1869-1940'],\n",
       " 'http://viaf.org/viaf/9970163710044729700003/': ['Wareham, Pete'],\n",
       " 'http://viaf.org/viaf/9956149198279174940000/': ['Stair, Henry H.'],\n",
       " 'http://viaf.org/viaf/9923158491050611920006/': ['Bossley, Pete'],\n",
       " 'http://viaf.org/viaf/293027492/': ['Watanabe, Osamu, 1980-'],\n",
       " 'http://viaf.org/viaf/111335861/': ['Himeno, Masako, 1939-....'],\n",
       " 'http://viaf.org/viaf/9946159248092004870000/': ['Miles, William Augustus'],\n",
       " 'http://viaf.org/viaf/9941158915885150000008/': ['Grant, Robert McQueen'],\n",
       " 'http://viaf.org/viaf/9937160668251403560008/': ['Lautensack, Rudolph August von -1737'],\n",
       " 'http://viaf.org/viaf/8806149198237174940002/': ['Parker, Christopher, 1941-....'],\n",
       " 'http://viaf.org/viaf/6332164604111637910000/': ['Itoh, Makoto'],\n",
       " 'http://viaf.org/viaf/6287160062488835790008/': ['Lee, Jason.'],\n",
       " 'http://viaf.org/viaf/3404147967355084200007/': ['Kuss, Daria J.'],\n",
       " 'http://viaf.org/viaf/18153773422361430930/': ['Sharp, Nicholas (Cricket historian)'],\n",
       " 'http://viaf.org/viaf/15153773419161430970/': ['Sharp, Nicholas (Lawyer)'],\n",
       " 'http://viaf.org/viaf/202397991/': ['Sharp, Nicholas Andrew 1944-'],\n",
       " 'http://viaf.org/viaf/54281744/': ['Sokolowski, Thomas W.'],\n",
       " 'http://viaf.org/viaf/12460530/': ['Sharp, Nicholas J.H.'],\n",
       " 'http://viaf.org/viaf/9998164120371010470006/': ['Ralph b. Arnold'],\n",
       " 'http://viaf.org/viaf/280149294393880522707/': ['Thomas Sully American painter (1783-1872)'],\n",
       " 'http://viaf.org/viaf/69014309/': ['Malleson, G.B. (George Bruce), 1825-1898'],\n",
       " 'http://viaf.org/viaf/94144530/': ['Donnelly, Karen.'],\n",
       " 'http://viaf.org/viaf/8102151837999320520004/': ['Souligne, De'],\n",
       " 'http://viaf.org/viaf/6770159477671927990009/': ['Tavčar-Kalcher, Gabrijela'],\n",
       " 'http://viaf.org/viaf/4210164963959424300006/': ['Peter R. Slater'],\n",
       " 'http://viaf.org/viaf/557159234258103371162/': ['A.B'],\n",
       " 'http://viaf.org/viaf/207144647695939724000/': ['Moennich, Martha L., 1896-1972'],\n",
       " 'http://viaf.org/viaf/302026214/': ['Głowacki, Józef Hilary (1789-1858).'],\n",
       " 'http://viaf.org/viaf/285767412/': ['Hüske, Annike B.'],\n",
       " 'http://viaf.org/viaf/263475624/': ['A. B'],\n",
       " 'http://viaf.org/viaf/6089152988212712790001/': ['Abell, John 1653-1724'],\n",
       " 'http://viaf.org/viaf/1233159233932703370076/': ['Palmer, W.'],\n",
       " 'http://viaf.org/viaf/467155284807287060878/': [\"Gentleman lately residing at the English ambassador's at Paris\"],\n",
       " 'http://viaf.org/viaf/9974160667779703560002/': ['Butigan, Ken'],\n",
       " 'http://viaf.org/viaf/9852163709955729700005/': ['Kennedy, Frank'],\n",
       " 'http://viaf.org/viaf/9999159764098708170006/': ['Cui, Lixin'],\n",
       " 'http://viaf.org/viaf/9999155708730222580003/': ['Goetsch, Hal 1924-2011'],\n",
       " 'http://viaf.org/viaf/9998164539803532240005/': ['Lafuente Estefanía, Marcial Antonio 1903-1984'],\n",
       " 'http://viaf.org/viaf/9996159477863727990008/': ['Vũ, Tố Hảo'],\n",
       " 'http://viaf.org/viaf/9995159477841227990004/': ['Cellier, Mlle'],\n",
       " 'http://viaf.org/viaf/316149196482874791618/': ['Keene, Laura'],\n",
       " 'http://viaf.org/viaf/20161760532521642810/': ['Donahoe, J. A. (Joseph Aloysius), 1875-'],\n",
       " 'http://viaf.org/viaf/73128378/': ['Bryan, Vernanne, 1941-'],\n",
       " 'http://viaf.org/viaf/45103975/': ['Keene, Laura, 1826-1873'],\n",
       " 'http://viaf.org/viaf/9905160667747003560003/': ['Gueye Kebe, Awa'],\n",
       " 'http://viaf.org/viaf/9745160668250703560003/': ['岡本, 呑洋, 1856-1939'],\n",
       " 'http://viaf.org/viaf/8534155566447013380000/': ['Wargala, Tomasz'],\n",
       " 'http://viaf.org/viaf/4153152331605903260000/': ['Santos, Pedro 1919-1993'],\n",
       " 'http://viaf.org/viaf/10151302937248662961/': ['Gama, Emérico da, 1931-2014'],\n",
       " 'http://viaf.org/viaf/301655738/': ['McLellan, C. M. S. (Charles Morton Stewart), 1865-1916'],\n",
       " 'http://viaf.org/viaf/275427586/': ['James, Stephanie.'],\n",
       " 'http://viaf.org/viaf/119106033/': ['Giamatti, Paul, 1967-....'],\n",
       " 'http://viaf.org/viaf/251154381047830291905/': ['Suggs 1961-'],\n",
       " 'http://viaf.org/viaf/104546401/': ['McPherson, R. U. (Robert U.)'],\n",
       " 'http://viaf.org/viaf/75913128/': ['Collyer, Robert, 1823-1912'],\n",
       " 'http://viaf.org/viaf/33291805/': ['McPherson, R. B.'],\n",
       " 'http://viaf.org/viaf/11087558/': ['McPherson, M.B.'],\n",
       " 'http://viaf.org/viaf/311736355/': ['Below, Christian Henrich \\x98de\\x9c 1702-1722'],\n",
       " 'http://viaf.org/viaf/36970098/': ['Grunert, Johann, 1666-1731'],\n",
       " 'http://viaf.org/viaf/32907329/': ['Schneider, Johann Friedemann, 1669-1733'],\n",
       " 'http://viaf.org/viaf/9980161763146422560001/': ['François, Juliette 1925-2007'],\n",
       " 'http://viaf.org/viaf/304536930/': ['Bartley, Kevin G.'],\n",
       " 'http://viaf.org/viaf/278409400/': ['Hoebel, Bartley G'],\n",
       " 'http://viaf.org/viaf/117667066/': ['Bartley, C. G.'],\n",
       " 'http://viaf.org/viaf/93022917/': ['Bartley, J. G. (Jonathan Glen), 1963-'],\n",
       " 'http://viaf.org/viaf/27341816/': ['Bartley, B. G. D. (Basil G. D.)'],\n",
       " 'http://viaf.org/viaf/1335159234043703370504/': ['Maggot, Butterfly'],\n",
       " 'http://viaf.org/viaf/1191159234098003370799/': ['Physician of Bath'],\n",
       " 'http://viaf.org/viaf/9885149108646368780009/': ['Sigfús Halldórsson 1920-1996'],\n",
       " 'http://viaf.org/viaf/9828157342859010100008/': ['Henderson, Charles Atta'],\n",
       " 'http://viaf.org/viaf/9768161212077040070004/': ['Knapp, Bettye'],\n",
       " 'http://viaf.org/viaf/9577160667746003560005/': ['Khawaja, Atta-Ul Musawar 1983-']}"
      ]
     },
     "execution_count": 44,
     "metadata": {},
     "output_type": "execute_result"
    }
   ],
   "source": [
    "example1_people"
   ]
  },
  {
   "cell_type": "markdown",
   "metadata": {},
   "source": [
    "### Example 2 - *Seismic performance assessment of buildings*\n",
    "The second example is the report, *Seismic performance assessment of buildingss*, described by the following Sinopia Resources:\n",
    "\n",
    "- BIBFRAME Work https://api.stage.sinopia.io/resource/2ffc86d1-4850-4e4b-974c-49ded8ce4b3f\n",
    "- BIBFRAME Instance https://api.stage.sinopia.io/resource/e865acc1-9b24-401e-a0eb-36ca1ca8b1d6\n",
    "\n",
    "\n",
    "First we will retrieve these resources and add them to a RDF graph."
   ]
  },
  {
   "cell_type": "code",
   "execution_count": 45,
   "metadata": {},
   "outputs": [
    {
     "name": "stdout",
     "output_type": "stream",
     "text": [
      "Total number of triples for example 2 152\n"
     ]
    }
   ],
   "source": [
    "example2_graph = rdflib.Graph()\n",
    "for ns, url in helpers.NAMESPACES.items():\n",
    "    example2_graph.namespace_manager.bind(ns, url)\n",
    "\n",
    "for sinopia_url in [\n",
    "    \"https://api.stage.sinopia.io/resource/2ffc86d1-4850-4e4b-974c-49ded8ce4b3f\",\n",
    "    \"https://api.stage.sinopia.io/resource/e865acc1-9b24-401e-a0eb-36ca1ca8b1d6\",\n",
    "]:\n",
    "    sinopia_result = requests.get(sinopia_url)\n",
    "    example2_graph.parse(\n",
    "        data=json.dumps(sinopia_result.json()[\"data\"]), format=\"json-ld\"\n",
    "    )\n",
    "print(f\"Total number of triples for example 2 {len(example2_graph):,}\")"
   ]
  },
  {
   "cell_type": "markdown",
   "metadata": {},
   "source": [
    "Second, we will open and read the full-text for *Improving water supply networks*"
   ]
  },
  {
   "cell_type": "code",
   "execution_count": 46,
   "metadata": {},
   "outputs": [
    {
     "name": "stdout",
     "output_type": "stream",
     "text": [
      "Number of characters in the text is 671,016\n"
     ]
    }
   ],
   "source": [
    "with open(\"data/e865acc1-9b24-401e-a0eb-36ca1ca8b1d6.txt\") as fo:\n",
    "    example2_text = fo.read()\n",
    "\n",
    "print(f\"Number of characters in the text is {len(example2_text):,}\")"
   ]
  },
  {
   "cell_type": "markdown",
   "metadata": {},
   "source": [
    "Third, we will run the full-text through our [spaCy][SPACY] en_nlp pipeline and then examine the identified entities.\n",
    "\n",
    "[SPACY]: https://spacy.io"
   ]
  },
  {
   "cell_type": "code",
   "execution_count": 47,
   "metadata": {},
   "outputs": [
    {
     "name": "stdout",
     "output_type": "stream",
     "text": [
      "Number of entities: 10,220\n"
     ]
    }
   ],
   "source": [
    "example2_doc = en_nlp(example2_text)\n",
    "print(f\"Number of entities: {len(example2_doc.ents):,}\")"
   ]
  },
  {
   "cell_type": "code",
   "execution_count": 48,
   "metadata": {},
   "outputs": [],
   "source": [
    "ent_types = {}\n",
    "for ent in example2_doc.ents:\n",
    "    if ent.label_ in ent_types:\n",
    "        ent_types[ent.label_] += 1\n",
    "    else:\n",
    "        ent_types[ent.label_] = 1"
   ]
  },
  {
   "cell_type": "code",
   "execution_count": 49,
   "metadata": {},
   "outputs": [
    {
     "data": {
      "text/plain": [
       "{'ORG': 1820,\n",
       " 'WORK_OF_ART': 324,\n",
       " 'PRODUCT': 672,\n",
       " 'CARDINAL': 4170,\n",
       " 'GPE': 686,\n",
       " 'PERSON': 685,\n",
       " 'FAC': 42,\n",
       " 'DATE': 533,\n",
       " 'MONEY': 136,\n",
       " 'ORDINAL': 138,\n",
       " 'NORP': 34,\n",
       " 'QUANTITY': 36,\n",
       " 'PERCENT': 794,\n",
       " 'LAW': 61,\n",
       " 'LOC': 22,\n",
       " 'TIME': 62,\n",
       " 'EVENT': 5}"
      ]
     },
     "execution_count": 49,
     "metadata": {},
     "output_type": "execute_result"
    }
   ],
   "source": [
    "ent_types"
   ]
  },
  {
   "cell_type": "code",
   "execution_count": 50,
   "metadata": {},
   "outputs": [
    {
     "name": "stdout",
     "output_type": "stream",
     "text": [
      "NER found 685 people and 686 locations\n"
     ]
    }
   ],
   "source": [
    "example2_people, example2_locations = [], []\n",
    "\n",
    "for ent in example2_doc.ents:\n",
    "    if ent.label_.startswith(\"PERSON\"):\n",
    "        example2_people.append(ent)\n",
    "    if ent.label_.startswith(\"GPE\"):\n",
    "        example2_locations.append(ent)\n",
    "print(\n",
    "    f\"NER found {len(example2_people):,} people and {len(example2_locations):,} locations\"\n",
    ")"
   ]
  },
  {
   "cell_type": "code",
   "execution_count": 51,
   "metadata": {},
   "outputs": [
    {
     "data": {
      "text/plain": [
       "(639, 641)"
      ]
     },
     "execution_count": 51,
     "metadata": {},
     "output_type": "execute_result"
    }
   ],
   "source": [
    "example2_people[90].start, example2_people[90].end"
   ]
  },
  {
   "cell_type": "code",
   "execution_count": 52,
   "metadata": {},
   "outputs": [
    {
     "data": {
      "text/plain": [
       "Christopher Higgins"
      ]
     },
     "execution_count": 52,
     "metadata": {},
     "output_type": "execute_result"
    }
   ],
   "source": [
    "example2_people[90]"
   ]
  },
  {
   "cell_type": "markdown",
   "metadata": {},
   "source": [
    "We now de-duplicate `example2_people` and `example2_locations`example2_people"
   ]
  },
  {
   "cell_type": "code",
   "execution_count": 53,
   "metadata": {},
   "outputs": [],
   "source": [
    "example2_people = set([\" \".join(ent.text.split()) for ent in example2_people])\n",
    "example2_locations = set([\" \".join(ent.text.split()) for ent in example2_locations])"
   ]
  },
  {
   "cell_type": "code",
   "execution_count": 54,
   "metadata": {},
   "outputs": [
    {
     "data": {
      "text/plain": [
       "359"
      ]
     },
     "execution_count": 54,
     "metadata": {},
     "output_type": "execute_result"
    }
   ],
   "source": [
    "len(example2_people)"
   ]
  },
  {
   "cell_type": "code",
   "execution_count": 55,
   "metadata": {},
   "outputs": [
    {
     "data": {
      "text/plain": [
       "str"
      ]
     },
     "execution_count": 55,
     "metadata": {},
     "output_type": "execute_result"
    }
   ],
   "source": [
    "type(list(example2_people)[52])"
   ]
  },
  {
   "cell_type": "code",
   "execution_count": 56,
   "metadata": {},
   "outputs": [
    {
     "name": "stdout",
     "output_type": "stream",
     "text": [
      "Vamvatsikos\n",
      "P. Benson Shing\n",
      "Christopher Higgins\n",
      "max min characterization\n",
      "B10\n",
      "ASTM\n",
      "Appendix K\n",
      "E2022.112 Filing\n",
      ".................................................................... G-2\n",
      "Kramer\n",
      "Richard Behr\n",
      "Appendix J.\n",
      "Deborah Beck\n",
      "Duy Vu\n",
      "Stojadinovic\n",
      "Peter Morris\n",
      "r.\n",
      "Hussein\n",
      "Earthquake Spectra\n",
      "Finishes\n",
      "Juan Murcia-Delso\n",
      "Robert P. Kennedy\n",
      "Xibei Xincun\n",
      "D. Jared DeBock\n",
      "Seismic Hazard and Risk Analysis\n",
      "Baker\n",
      "Ronald Hamburger\n",
      "Ross\n",
      "m.\n",
      "\n",
      "D402 Wet\n",
      "Christopher Smith\n",
      "Keith\n",
      "Daniel Saldana\n",
      "Drirfitf\n",
      "Chi-Chi\n",
      "Bruce R. Ellingwood\n",
      "C. Allin Cornell\n",
      "Nirmal Kumawat Udit S. Tambe\n",
      "Angie Harris\n",
      "Toro\n",
      "William O’Brien\n",
      "  h  ln(H\n",
      "Bob Bachman\n",
      "J.4\n",
      "John Hooper\n",
      "Jack Moehle\n",
      "Part II\n",
      "Scott Hagie Angie Harris\n",
      "Masonry Walls\n"
     ]
    }
   ],
   "source": [
    "for person in list(example2_people)[50:100]:\n",
    "    print(person)"
   ]
  },
  {
   "cell_type": "code",
   "execution_count": 57,
   "metadata": {},
   "outputs": [
    {
     "data": {
      "text/plain": [
       "198"
      ]
     },
     "execution_count": 57,
     "metadata": {},
     "output_type": "execute_result"
    }
   ],
   "source": [
    "len(example2_locations)"
   ]
  },
  {
   "cell_type": "code",
   "execution_count": 58,
   "metadata": {},
   "outputs": [
    {
     "name": "stdout",
     "output_type": "stream",
     "text": [
      "Denver\n",
      "U.S\n",
      "SF\n",
      "Deierlein\n",
      "A.S.\n",
      "Medina\n",
      "New York 14223\n",
      "Bertero\n",
      "S.L.\n",
      "Christopoulos\n",
      "Moehle\n",
      "San Mateo\n",
      "FRAGILITY\n",
      "B.S.J.\n",
      "La Jolla\n",
      "South Carolina\n",
      "Tehran\n",
      "Vancouver\n",
      "Reston\n",
      "N-S\n",
      "Escondido\n",
      "W.J.\n",
      "New Jersey\n",
      "Illinois\n",
      "Stanford\n",
      "Nevada\n",
      "Vairo\n",
      "T.Y.\n",
      "Michigan\n",
      "Somerville\n",
      "Whittaker\n",
      "Corvallis\n",
      "America\n",
      "Longmont\n",
      "−\n",
      "Hills\n",
      "Ohio\n",
      "Hebron\n",
      "B.7\n",
      "Tobin\n",
      "Missouri\n",
      "∆e\n",
      "Coef\n",
      "Cascadia\n",
      "Carson\n",
      "Krawinkler\n",
      "Loads\n",
      "Youngs\n",
      "Housner\n",
      "Benjamin\n"
     ]
    }
   ],
   "source": [
    "for location in list(example2_locations)[0:50]:\n",
    "    print(location)"
   ]
  },
  {
   "cell_type": "markdown",
   "metadata": {},
   "source": [
    "## Exercise 2\n",
    "For the following Sinopia Resources, create a graph, and a NLP pipeline to identify any people and locations in the full-text. The full-text is available in `data/a90f911e-d03e-427f-a36e-ed1e3d1a9b3b.txt` file.\n",
    "\n",
    "- BIBFRAME Work https://api.stage.sinopia.io/resource/d1e377d0-9ca6-4377-a9a1-a20303c5fe66\n",
    "- BIBFRAME Instance https://api.stage.sinopia.io/resource/a90f911e-d03e-427f-a36e-ed1e3d1a9b3b"
   ]
  },
  {
   "cell_type": "markdown",
   "metadata": {},
   "source": [
    "# Extra Credit"
   ]
  },
  {
   "cell_type": "markdown",
   "metadata": {
    "tags": []
   },
   "source": [
    "## Custom NER Ruler\n",
    "Another approach we can take is to build a custom [Named Entity Ruler](https://spacy.io/usage/rule-based-matching#entityruler) for the FAST Topics.  "
   ]
  },
  {
   "cell_type": "code",
   "execution_count": 59,
   "metadata": {},
   "outputs": [],
   "source": [
    "nlp = spacy.load(\"en_core_web_sm\")\n",
    "nlp.disable_pipe(\"ner\")\n",
    "fast_ruler = nlp.add_pipe(\"entity_ruler\")"
   ]
  },
  {
   "cell_type": "code",
   "execution_count": 60,
   "metadata": {},
   "outputs": [
    {
     "name": "stdout",
     "output_type": "stream",
     "text": [
      "Started at 2022-07-10 23:16:47.009660 for FAST Entities Matching\n",
      "..........1,000..........2,000..........3,000..........4,000..........5,000..........6,000..........7,000..........8,000..........9,000..........10,000..........11,000..........12,000..........13,000..........14,000..........15,000..........16,000..........17,000..........18,000..........19,000..........20,000..........21,000..........22,000..........23,000..........24,000..........25,000..........26,000..........27,000..........28,000..........29,000..........30,000..........31,000..........32,000..........33,000..........34,000..........35,000..........36,000..........37,000..........38,000..........39,000..........40,000..........41,000..........42,000..........43,000..........44,000..........45,000..........46,000..........47,000..........48,000..........49,000..........50,000..........51,000..........52,000..........53,000..........54,000..........55,000..........56,000..........57,000..........58,000..........59,000..........60,000..........61,000..........62,000..........63,000..........64,000..........65,000..........66,000..........67,000..........68,000..........69,000..........70,000..........71,000..........72,000..........73,000..........74,000..........75,000..........76,000..........77,000..........78,000..........79,000..........80,000..........81,000..........82,000..........83,000..........84,000..........85,000..........86,000..........87,000..........88,000..........89,000..........90,000..........91,000..........92,000..........93,000..........94,000..........95,000..........96,000..........97,000..........98,000..........99,000..........100,000..........101,000..........102,000..........103,000..........104,000..........105,000..........106,000..........107,000..........108,000..........109,000..........110,000..........111,000..........112,000..........113,000..........114,000..........115,000..........116,000..........117,000..........118,000..........119,000..........120,000..........121,000..........122,000..........123,000..........124,000..........125,000..........126,000..........127,000..........128,000..........129,000..........130,000..........131,000..........132,000..........133,000..........134,000..........135,000..........136,000..........137,000..........138,000..........139,000..........140,000..........141,000..........142,000..........143,000..........144,000..........145,000..........146,000..........147,000..........148,000..........149,000..........150,000..........151,000..........152,000..........153,000..........154,000..........155,000..........156,000..........157,000..........158,000..........159,000..........160,000..........161,000..........162,000..........163,000..........164,000..........165,000..........166,000..........167,000..........168,000..........169,000..........170,000..........171,000..........172,000..........173,000..........174,000..........175,000..........176,000..........177,000..........178,000..........179,000..........180,000..........181,000..........182,000..........183,000..........184,000..........185,000..........186,000..........187,000..........188,000..........189,000..........190,000..........191,000..........192,000..........193,000..........194,000..........195,000..........196,000..........197,000..........198,000..........199,000..........200,000..........201,000..........202,000..........203,000..........204,000..........205,000..........206,000..........207,000..........208,000..........209,000..........210,000..........211,000..........212,000..........213,000..........214,000..........215,000..........216,000..........217,000..........218,000..........219,000..........220,000..........221,000..........222,000..........223,000..........224,000..........225,000..........226,000..........227,000..........228,000..........229,000..........230,000..........231,000..........232,000..........233,000..........234,000..........235,000..........236,000..........237,000..........238,000..........239,000..........240,000..........241,000..........242,000..........243,000..........244,000..........245,000..........246,000..........247,000..........248,000..........249,000..........250,000..........251,000..........252,000..........253,000..........254,000..........255,000..........256,000..........257,000..........258,000..........259,000..........260,000..........261,000..........262,000..........263,000..........264,000..........265,000..........266,000..........267,000..........268,000..........269,000..........270,000..........271,000..........272,000..........273,000..........274,000..........275,000..........276,000..........277,000..........278,000..........279,000..........280,000..........281,000..........282,000..........283,000..........284,000..........285,000..........286,000..........287,000..........288,000..........289,000..........290,000..........291,000..........292,000..........293,000..........294,000..........295,000..........296,000..........297,000..........298,000..........299,000..........300,000..........301,000..........302,000..........303,000..........304,000..........305,000..........306,000..........307,000..........308,000..........309,000..........310,000..........311,000..........312,000..........313,000..........314,000..........315,000..........316,000..........317,000..........318,000..........319,000..........320,000..........321,000..........322,000..........323,000..........324,000..........325,000..........326,000..........327,000..........328,000..........329,000..........330,000..........331,000..........332,000..........333,000..........334,000..........335,000..........336,000..........337,000..........338,000..........339,000..........340,000..........341,000..........342,000..........343,000..........344,000..........345,000..........346,000..........347,000..........348,000..........349,000..........350,000..........351,000..........352,000..........353,000..........354,000..........355,000..........356,000..........357,000..........358,000..........359,000..........360,000..........361,000..........362,000..........363,000..........364,000..........365,000..........366,000..........367,000..........368,000..........369,000..........370,000..........371,000..........372,000..........373,000..........374,000..........375,000..........376,000..........377,000..........378,000..........379,000..........380,000..........381,000..........382,000..........383,000..........384,000..........385,000..........386,000..........387,000..........388,000..........389,000..........390,000..........391,000..........392,000..........393,000..........394,000..........395,000..........396,000..........397,000..........398,000..........399,000..........400,000..........401,000..........402,000..........403,000..........404,000..........405,000..........406,000..........407,000..........408,000..........409,000..........410,000..........411,000..........412,000..........413,000..........414,000..........415,000..........416,000..........417,000..........418,000..........419,000..........420,000..........421,000..........422,000..........423,000..........424,000..........425,000..........426,000..........427,000..........428,000..........429,000..........430,000..........431,000..........432,000..........433,000..........434,000..........435,000..........436,000..........437,000..........438,000..........439,000..........440,000..........441,000..........442,000..........443,000..........444,000..........445,000..........446,000..........447,000..........448,000..........449,000..........450,000..........451,000..........452,000..........453,000..........454,000..........455,000..........456,000..........457,000..........458,000..........459,000..........460,000."
     ]
    },
    {
     "ename": "ValueError",
     "evalue": "[E154] One of the attributes or values is not supported for token patterns. Please use the option `validate=True` with the Matcher, PhraseMatcher, or EntityRuler for more details.",
     "output_type": "error",
     "traceback": [
      "\u001b[0;31m---------------------------------------------------------------------------\u001b[0m",
      "\u001b[0;31mValueError\u001b[0m                                Traceback (most recent call last)",
      "Input \u001b[0;32mIn [60]\u001b[0m, in \u001b[0;36m<cell line: 25>\u001b[0;34m()\u001b[0m\n\u001b[1;32m     23\u001b[0m     \u001b[38;5;28;01mif\u001b[39;00m \u001b[38;5;129;01mnot\u001b[39;00m current_count\u001b[38;5;241m%\u001b[39m\u001b[38;5;241m1000\u001b[39m:\n\u001b[1;32m     24\u001b[0m         \u001b[38;5;28mprint\u001b[39m(\u001b[38;5;124mf\u001b[39m\u001b[38;5;124m\"\u001b[39m\u001b[38;5;132;01m{\u001b[39;00mcurrent_count\u001b[38;5;132;01m:\u001b[39;00m\u001b[38;5;124m,\u001b[39m\u001b[38;5;132;01m}\u001b[39;00m\u001b[38;5;124m\"\u001b[39m, end\u001b[38;5;241m=\u001b[39m\u001b[38;5;124m\"\u001b[39m\u001b[38;5;124m\"\u001b[39m)\n\u001b[0;32m---> 25\u001b[0m \u001b[43mfast_ruler\u001b[49m\u001b[38;5;241;43m.\u001b[39;49m\u001b[43madd_patterns\u001b[49m\u001b[43m(\u001b[49m\u001b[43mall_patterns\u001b[49m\u001b[43m)\u001b[49m\n\u001b[1;32m     26\u001b[0m end \u001b[38;5;241m=\u001b[39m datetime\u001b[38;5;241m.\u001b[39mdatetime\u001b[38;5;241m.\u001b[39mutcnow()\n\u001b[1;32m     27\u001b[0m \u001b[38;5;28mprint\u001b[39m(\n\u001b[1;32m     28\u001b[0m     \u001b[38;5;124mf\u001b[39m\u001b[38;5;124m\"\u001b[39m\u001b[38;5;124mFinished adding FAST Patterns at \u001b[39m\u001b[38;5;132;01m{\u001b[39;00mend\u001b[38;5;132;01m}\u001b[39;00m\u001b[38;5;124m, total time \u001b[39m\u001b[38;5;132;01m{\u001b[39;00m(end\u001b[38;5;241m-\u001b[39mstart)\u001b[38;5;241m.\u001b[39mseconds \u001b[38;5;241m/\u001b[39m \u001b[38;5;241m60.\u001b[39m\u001b[38;5;132;01m}\u001b[39;00m\u001b[38;5;124m\"\u001b[39m\n\u001b[1;32m     29\u001b[0m )\n",
      "File \u001b[0;32m~/70-79 Presentations/70.02 RDF-AI Workshop - 02022 LD4 Conference/ld4-env/lib/python3.10/site-packages/spacy/pipeline/entityruler.py:334\u001b[0m, in \u001b[0;36mEntityRuler.add_patterns\u001b[0;34m(self, patterns)\u001b[0m\n\u001b[1;32m    332\u001b[0m \u001b[38;5;28;01melif\u001b[39;00m \u001b[38;5;28misinstance\u001b[39m(pattern, \u001b[38;5;28mlist\u001b[39m):\n\u001b[1;32m    333\u001b[0m     \u001b[38;5;28mself\u001b[39m\u001b[38;5;241m.\u001b[39mtoken_patterns[label]\u001b[38;5;241m.\u001b[39mappend(pattern)\n\u001b[0;32m--> 334\u001b[0m     \u001b[38;5;28;43mself\u001b[39;49m\u001b[38;5;241;43m.\u001b[39;49m\u001b[43mmatcher\u001b[49m\u001b[38;5;241;43m.\u001b[39;49m\u001b[43madd\u001b[49m\u001b[43m(\u001b[49m\u001b[43mlabel\u001b[49m\u001b[43m,\u001b[49m\u001b[43m \u001b[49m\u001b[43m[\u001b[49m\u001b[43mpattern\u001b[49m\u001b[43m]\u001b[49m\u001b[43m)\u001b[49m\n\u001b[1;32m    335\u001b[0m \u001b[38;5;28;01melse\u001b[39;00m:\n\u001b[1;32m    336\u001b[0m     \u001b[38;5;28;01mraise\u001b[39;00m \u001b[38;5;167;01mValueError\u001b[39;00m(Errors\u001b[38;5;241m.\u001b[39mE097\u001b[38;5;241m.\u001b[39mformat(pattern\u001b[38;5;241m=\u001b[39mpattern))\n",
      "File \u001b[0;32m~/70-79 Presentations/70.02 RDF-AI Workshop - 02022 LD4 Conference/ld4-env/lib/python3.10/site-packages/spacy/matcher/matcher.pyx:126\u001b[0m, in \u001b[0;36mspacy.matcher.matcher.Matcher.add\u001b[0;34m()\u001b[0m\n",
      "File \u001b[0;32m~/70-79 Presentations/70.02 RDF-AI Workshop - 02022 LD4 Conference/ld4-env/lib/python3.10/site-packages/spacy/matcher/matcher.pyx:776\u001b[0m, in \u001b[0;36mspacy.matcher.matcher._preprocess_pattern\u001b[0;34m()\u001b[0m\n",
      "\u001b[0;31mValueError\u001b[0m: [E154] One of the attributes or values is not supported for token patterns. Please use the option `validate=True` with the Matcher, PhraseMatcher, or EntityRuler for more details."
     ]
    }
   ],
   "source": [
    "start = datetime.datetime.utcnow()\n",
    "print(f\"Started at {start} for FAST Entities Matching\")\n",
    "all_patterns = []\n",
    "# Iterate through the FAST Topic DataFrame\n",
    "for row in fast_topics.iterrows():\n",
    "    ident = row[1][\"URL\"]\n",
    "    name_list = row[1][\"name\"].strip(string.punctuation).split(\"--\")\n",
    "    fast_patterns = []\n",
    "    for name in name_list:\n",
    "        pattern = []\n",
    "        terms = name.split(\" \")\n",
    "        for term in terms:\n",
    "            term = term.strip()\n",
    "            if len(term) < 1:\n",
    "                continue\n",
    "            pattern.append({\"LOWER\": term.lower()})\n",
    "        fast_patterns.append(pattern)\n",
    "    all_patterns.append({\"label\": row[1][\"name\"],\n",
    "                         \"pattern\": fast_patterns})\n",
    "    current_count = len(all_patterns)\n",
    "    if not current_count%100 and current_count > 0:\n",
    "        print(\".\", end=\"\")\n",
    "    if not current_count%1000:\n",
    "        print(f\"{current_count:,}\", end=\"\")\n",
    "fast_ruler.add_patterns(all_patterns)\n",
    "end = datetime.datetime.utcnow()\n",
    "print(\n",
    "    f\"Finished adding FAST Patterns at {end}, total time {(end-start).seconds / 60.}\"\n",
    ")"
   ]
  }
 ],
 "metadata": {
  "kernelspec": {
   "display_name": "Python 3 (ipykernel)",
   "language": "python",
   "name": "python3"
  },
  "language_info": {
   "codemirror_mode": {
    "name": "ipython",
    "version": 3
   },
   "file_extension": ".py",
   "mimetype": "text/x-python",
   "name": "python",
   "nbconvert_exporter": "python",
   "pygments_lexer": "ipython3",
   "version": "3.10.4"
  }
 },
 "nbformat": 4,
 "nbformat_minor": 4
}
