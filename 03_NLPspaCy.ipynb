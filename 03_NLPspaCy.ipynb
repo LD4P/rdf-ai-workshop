{
 "cells": [
  {
   "cell_type": "markdown",
   "metadata": {},
   "source": [
    "# Natural Language Processing (NLP) with spaCy\n",
    "In this notebook, we will use the Natural Language Processing library for Python called [spaCy][SPACY]. \n",
    "The functionality provided by [spaCy][SPACY] allows us to quickly extract parts-of-speech (POS) from text descriptions and to identify entities using [spaCy's][SPACY] named entity recognition (NER). We will initially  use [spaCy][SPACY]'s rule-based matching functionality to create a subject matcher that we can then apply to both Sinopia's RDF metadata as well as the associated full-text for a select sample of these resources.\n",
    "\n",
    "\n",
    "[SPACY]: https://spacy.io/"
   ]
  },
  {
   "cell_type": "code",
   "execution_count": 31,
   "metadata": {},
   "outputs": [],
   "source": [
    "%reload_ext autoreload\n",
    "%autoreload 2\n",
    "%matplotlib inline\n",
    "%reload_ext lab_black\n",
    "\n",
    "import datetime\n",
    "import json\n",
    "import string\n",
    "\n",
    "import pathlib\n",
    "import pandas as pd\n",
    "import numpy as np\n",
    "\n",
    "import kglab\n",
    "import rdflib\n",
    "import requests\n",
    "import spacy\n",
    "import helpers\n",
    "import widgets"
   ]
  },
  {
   "cell_type": "markdown",
   "metadata": {},
   "source": [
    "## Creating a FAST Panda DataFrame\n",
    "Using a csv file derived from OCLC's [FAST](https://www.oclc.org/research/areas/data-science/fast.html)(Faceted Application of Subject Terminology) topic list, we read this csv into a Panda's DataFrame."
   ]
  },
  {
   "cell_type": "code",
   "execution_count": 3,
   "metadata": {},
   "outputs": [],
   "source": [
    "fast_topics = pd.read_csv(\"data/topic_uri_label_utf8.csv\", names=[\"URL\", \"name\"])"
   ]
  },
  {
   "cell_type": "markdown",
   "metadata": {},
   "source": [
    "To get a sense of what data is in the `fast_topics` DataFrame we can look at the *shape*, *info*, and look at a random sample"
   ]
  },
  {
   "cell_type": "code",
   "execution_count": 4,
   "metadata": {},
   "outputs": [
    {
     "name": "stdout",
     "output_type": "stream",
     "text": [
      "Shape of fast_topics (460110, 2)\n",
      "<class 'pandas.core.frame.DataFrame'>\n",
      "RangeIndex: 460110 entries, 0 to 460109\n",
      "Data columns (total 2 columns):\n",
      " #   Column  Non-Null Count   Dtype \n",
      "---  ------  --------------   ----- \n",
      " 0   URL     460110 non-null  object\n",
      " 1   name    460110 non-null  object\n",
      "dtypes: object(2)\n",
      "memory usage: 7.0+ MB\n"
     ]
    }
   ],
   "source": [
    "print(f\"Shape of fast_topics {fast_topics.shape}\")\n",
    "fast_topics.info()"
   ]
  },
  {
   "cell_type": "code",
   "execution_count": 5,
   "metadata": {},
   "outputs": [
    {
     "data": {
      "text/html": [
       "<div>\n",
       "<style scoped>\n",
       "    .dataframe tbody tr th:only-of-type {\n",
       "        vertical-align: middle;\n",
       "    }\n",
       "\n",
       "    .dataframe tbody tr th {\n",
       "        vertical-align: top;\n",
       "    }\n",
       "\n",
       "    .dataframe thead th {\n",
       "        text-align: right;\n",
       "    }\n",
       "</style>\n",
       "<table border=\"1\" class=\"dataframe\">\n",
       "  <thead>\n",
       "    <tr style=\"text-align: right;\">\n",
       "      <th></th>\n",
       "      <th>URL</th>\n",
       "      <th>name</th>\n",
       "    </tr>\n",
       "  </thead>\n",
       "  <tbody>\n",
       "    <tr>\n",
       "      <th>245202</th>\n",
       "      <td>http://id.worldcat.org/fast/1077452</td>\n",
       "      <td>Privacy, Right of--Public opinion</td>\n",
       "    </tr>\n",
       "    <tr>\n",
       "      <th>28981</th>\n",
       "      <td>http://id.worldcat.org/fast/997183</td>\n",
       "      <td>Liberalism</td>\n",
       "    </tr>\n",
       "    <tr>\n",
       "      <th>319681</th>\n",
       "      <td>http://id.worldcat.org/fast/1067112</td>\n",
       "      <td>Plecotus townsendii</td>\n",
       "    </tr>\n",
       "    <tr>\n",
       "      <th>345441</th>\n",
       "      <td>http://id.worldcat.org/fast/1175518</td>\n",
       "      <td>Wills--Computer programs</td>\n",
       "    </tr>\n",
       "    <tr>\n",
       "      <th>120542</th>\n",
       "      <td>http://id.worldcat.org/fast/990231</td>\n",
       "      <td>Labor supply--Statistics--History</td>\n",
       "    </tr>\n",
       "    <tr>\n",
       "      <th>20292</th>\n",
       "      <td>http://id.worldcat.org/fast/970779</td>\n",
       "      <td>Industrial accidents--Law and legislation</td>\n",
       "    </tr>\n",
       "    <tr>\n",
       "      <th>116156</th>\n",
       "      <td>http://id.worldcat.org/fast/822987</td>\n",
       "      <td>Automobile industry and trade--Finance--Law an...</td>\n",
       "    </tr>\n",
       "    <tr>\n",
       "      <th>338929</th>\n",
       "      <td>http://id.worldcat.org/fast/1163594</td>\n",
       "      <td>Vaccines industry--Government policy</td>\n",
       "    </tr>\n",
       "    <tr>\n",
       "      <th>297630</th>\n",
       "      <td>http://id.worldcat.org/fast/1101961</td>\n",
       "      <td>Russelia</td>\n",
       "    </tr>\n",
       "    <tr>\n",
       "      <th>372172</th>\n",
       "      <td>http://id.worldcat.org/fast/1048881</td>\n",
       "      <td>Ostriches--Eggs--Incubation</td>\n",
       "    </tr>\n",
       "  </tbody>\n",
       "</table>\n",
       "</div>"
      ],
      "text/plain": [
       "                                        URL  \\\n",
       "245202  http://id.worldcat.org/fast/1077452   \n",
       "28981    http://id.worldcat.org/fast/997183   \n",
       "319681  http://id.worldcat.org/fast/1067112   \n",
       "345441  http://id.worldcat.org/fast/1175518   \n",
       "120542   http://id.worldcat.org/fast/990231   \n",
       "20292    http://id.worldcat.org/fast/970779   \n",
       "116156   http://id.worldcat.org/fast/822987   \n",
       "338929  http://id.worldcat.org/fast/1163594   \n",
       "297630  http://id.worldcat.org/fast/1101961   \n",
       "372172  http://id.worldcat.org/fast/1048881   \n",
       "\n",
       "                                                     name  \n",
       "245202                  Privacy, Right of--Public opinion  \n",
       "28981                                          Liberalism  \n",
       "319681                                Plecotus townsendii  \n",
       "345441                           Wills--Computer programs  \n",
       "120542                  Labor supply--Statistics--History  \n",
       "20292           Industrial accidents--Law and legislation  \n",
       "116156  Automobile industry and trade--Finance--Law an...  \n",
       "338929               Vaccines industry--Government policy  \n",
       "297630                                           Russelia  \n",
       "372172                        Ostriches--Eggs--Incubation  "
      ]
     },
     "execution_count": 5,
     "metadata": {},
     "output_type": "execute_result"
    }
   ],
   "source": [
    "fast_topics.sample(10)"
   ]
  },
  {
   "cell_type": "markdown",
   "metadata": {},
   "source": [
    "From our sample, we see that the `name` has punctuation like **(),--** that will need to be removed later in our workflow."
   ]
  },
  {
   "cell_type": "markdown",
   "metadata": {},
   "source": [
    "## spaCy Phrase Matcher\n",
    "With the [FAST][FAST] dataframe as our source, we now will create a [spaCy][SPACY] [PhraseMatcher](https://spacy.io/usage/rule-based-matching#phrasematcher) made up of phrases extracted from the dataframe using the [FAST][FAST] urls as identifiers.\n",
    "\n",
    "We start by importing [spaCy][SPACY] base English vocabulary and create an empty natural language processing (nlp) pipeline that we pass into a new matcher object that will lower-case all of the [FAST][FAST] patterns.\n",
    "\n",
    "[FAST]: https://www.oclc.org/research/areas/data-science/fast.html\n",
    "[SPACY]: https://spacy.io/"
   ]
  },
  {
   "cell_type": "code",
   "execution_count": 6,
   "metadata": {},
   "outputs": [],
   "source": [
    "from spacy.lang.en import English\n",
    "from spacy.matcher import PhraseMatcher\n",
    "\n",
    "nlp = English()\n",
    "fast_topic_matcher = PhraseMatcher(nlp.vocab, attr=\"LOWER\")"
   ]
  },
  {
   "cell_type": "code",
   "execution_count": 7,
   "metadata": {},
   "outputs": [
    {
     "data": {
      "text/plain": [
       "['African', 'American', 'teenagers', 'Education']"
      ]
     },
     "execution_count": 7,
     "metadata": {},
     "output_type": "execute_result"
    }
   ],
   "source": [
    "\"African American teenagers--Education\".strip(string.punctuation).replace(\n",
    "    \"--\", \" \"\n",
    ").split()"
   ]
  },
  {
   "cell_type": "markdown",
   "metadata": {},
   "source": [
    "### Creatings Patterns\n",
    "We will iterate through the dataframe and for each [FAST](https://www.oclc.org/research/areas/data-science/fast.html) series, using the **URL** as the identififer and for the name, remove punctuation, split each name into a list of words, and tokenize each term, and then add to the `fast_topic_matcher`. "
   ]
  },
  {
   "cell_type": "code",
   "execution_count": 8,
   "metadata": {
    "tags": []
   },
   "outputs": [
    {
     "name": "stdout",
     "output_type": "stream",
     "text": [
      "Started at 2022-07-04 22:27:28.030998 of FAST Matching\n",
      "Finished adding FAST Topic patterns at 2022-07-04 22:28:29.616713, total time 1.0166666666666666\n"
     ]
    }
   ],
   "source": [
    "start = datetime.datetime.utcnow()\n",
    "print(f\"Started at {start} of FAST Matching\")\n",
    "# Iterate through the FAST Topic DataFrame\n",
    "for row in fast_topics.iterrows():\n",
    "    ident = row[1][\"URL\"]\n",
    "    name_list = row[1][\"name\"].strip(string.punctuation).replace(\"--\", \" \").split()\n",
    "    name_list = [nlp.make_doc(row) for row in name_list]\n",
    "    fast_topic_matcher.add(ident, name_list)\n",
    "end = datetime.datetime.utcnow()\n",
    "print(\n",
    "    f\"Finished adding FAST Topic patterns at {end}, total time {(end-start).seconds / 60.}\"\n",
    ")"
   ]
  },
  {
   "cell_type": "markdown",
   "metadata": {},
   "source": [
    "Applying the spaCy Phrase matcher to titles and summaries from the Sinopia "
   ]
  },
  {
   "cell_type": "markdown",
   "metadata": {},
   "source": [
    "## Loading Sinopia Stage Knowledge Graph\n",
    "Just like in the previous Jupyter notebook, we will load the saved knowledge graph that we created at the beginning and then we will query the graph using SPARQL."
   ]
  },
  {
   "cell_type": "code",
   "execution_count": 9,
   "metadata": {},
   "outputs": [
    {
     "data": {
      "text/plain": [
       "<kglab.kglab.KnowledgeGraph at 0x13891ab90>"
      ]
     },
     "execution_count": 9,
     "metadata": {},
     "output_type": "execute_result"
    }
   ],
   "source": [
    "stage_kg = kglab.KnowledgeGraph()\n",
    "stage_kg.load_jsonld(\"data/stage.json\")"
   ]
  },
  {
   "cell_type": "markdown",
   "metadata": {},
   "source": [
    "### RDF Literals Pandas DataFrame\n",
    "With the Sinopia Stage knowledge graph loaded, we will query our Graph for *titles*, *labels*, and any *summary* triples and apply our `fast_topic_matcher` to the results.\n"
   ]
  },
  {
   "cell_type": "code",
   "execution_count": 10,
   "metadata": {},
   "outputs": [],
   "source": [
    "stage_text_nodes = stage_kg.query_as_df(\n",
    "    \"\"\"PREFIX bf: <http://id.loc.gov/ontologies/bibframe/>\n",
    "\n",
    "SELECT ?title ?label ?summary ?url\n",
    "\n",
    "WHERE {\n",
    "  OPTIONAL {\n",
    "      ?title_bnode  bf:mainTitle ?title .\n",
    "      ?url bf:title ?title_bnode .\n",
    "  }\n",
    "  OPTIONAL {\n",
    "      ?label_bnode rdfs:label ?label .\n",
    "      ?url bf:title ?label_bnode .\n",
    "  }\n",
    "  OPTIONAl {\n",
    "      ?url bf:summary ?summary_bnode .\n",
    "      ?summary_bnode rdfs:label ?summary  .\n",
    "  }\n",
    "}\n",
    "\"\"\"\n",
    ")"
   ]
  },
  {
   "cell_type": "code",
   "execution_count": 11,
   "metadata": {},
   "outputs": [],
   "source": [
    "stage_text_nodes.to_json(\"data/stage-text-nodes.json\")"
   ]
  },
  {
   "cell_type": "code",
   "execution_count": 12,
   "metadata": {},
   "outputs": [
    {
     "data": {
      "text/plain": [
       "(2102, 4)"
      ]
     },
     "execution_count": 12,
     "metadata": {},
     "output_type": "execute_result"
    }
   ],
   "source": [
    "stage_text_nodes.shape"
   ]
  },
  {
   "cell_type": "code",
   "execution_count": 13,
   "metadata": {},
   "outputs": [
    {
     "data": {
      "text/html": [
       "<div>\n",
       "<style scoped>\n",
       "    .dataframe tbody tr th:only-of-type {\n",
       "        vertical-align: middle;\n",
       "    }\n",
       "\n",
       "    .dataframe tbody tr th {\n",
       "        vertical-align: top;\n",
       "    }\n",
       "\n",
       "    .dataframe thead th {\n",
       "        text-align: right;\n",
       "    }\n",
       "</style>\n",
       "<table border=\"1\" class=\"dataframe\">\n",
       "  <thead>\n",
       "    <tr style=\"text-align: right;\">\n",
       "      <th></th>\n",
       "      <th>title</th>\n",
       "      <th>url</th>\n",
       "      <th>label</th>\n",
       "      <th>summary</th>\n",
       "    </tr>\n",
       "  </thead>\n",
       "  <tbody>\n",
       "    <tr>\n",
       "      <th>1930</th>\n",
       "      <td>Purcell, Henry, 1659-1695. Dido and Aeneas</td>\n",
       "      <td>&lt;https://api.stage.sinopia.io/resource/2b57c79...</td>\n",
       "      <td>Dido and Aeneas</td>\n",
       "      <td>NaN</td>\n",
       "    </tr>\n",
       "    <tr>\n",
       "      <th>819</th>\n",
       "      <td>Fifty comedies and tragedies</td>\n",
       "      <td>&lt;https://api.stage.sinopia.io/resource/0124bf5...</td>\n",
       "      <td>NaN</td>\n",
       "      <td>NaN</td>\n",
       "    </tr>\n",
       "    <tr>\n",
       "      <th>363</th>\n",
       "      <td>Ulysses</td>\n",
       "      <td>&lt;https://api.stage.sinopia.io/resource/c02abeb...</td>\n",
       "      <td>NaN</td>\n",
       "      <td>NaN</td>\n",
       "    </tr>\n",
       "    <tr>\n",
       "      <th>1855</th>\n",
       "      <td>The politics of birth.</td>\n",
       "      <td>&lt;https://api.stage.sinopia.io/resource/638fc75...</td>\n",
       "      <td>NaN</td>\n",
       "      <td>Several manuscript and typescript drafts of an...</td>\n",
       "    </tr>\n",
       "    <tr>\n",
       "      <th>540</th>\n",
       "      <td>Ar't asleepe husband : a boulster lecture, sto...</td>\n",
       "      <td>&lt;https://api.stage.sinopia.io/resource/78a91d5...</td>\n",
       "      <td>NaN</td>\n",
       "      <td>NaN</td>\n",
       "    </tr>\n",
       "    <tr>\n",
       "      <th>821</th>\n",
       "      <td>Ane detectioun of the duinges of Marie Quene o...</td>\n",
       "      <td>&lt;https://api.stage.sinopia.io/resource/e777db9...</td>\n",
       "      <td>NaN</td>\n",
       "      <td>NaN</td>\n",
       "    </tr>\n",
       "    <tr>\n",
       "      <th>1061</th>\n",
       "      <td>COVID-19</td>\n",
       "      <td>&lt;https://api.stage.sinopia.io/resource/397f4a3...</td>\n",
       "      <td>NaN</td>\n",
       "      <td>NaN</td>\n",
       "    </tr>\n",
       "    <tr>\n",
       "      <th>1833</th>\n",
       "      <td>Sämtliche Bläserquintette</td>\n",
       "      <td>&lt;https://api.stage.sinopia.io/resource/ea0393c...</td>\n",
       "      <td>NaN</td>\n",
       "      <td>NaN</td>\n",
       "    </tr>\n",
       "    <tr>\n",
       "      <th>1001</th>\n",
       "      <td>Taiwania (Taipei)</td>\n",
       "      <td>&lt;https://api.stage.sinopia.io/resource/c069a5c...</td>\n",
       "      <td>NaN</td>\n",
       "      <td>NaN</td>\n",
       "    </tr>\n",
       "    <tr>\n",
       "      <th>1643</th>\n",
       "      <td>Huai Yang wen hua yan jiu</td>\n",
       "      <td>&lt;https://api.stage.sinopia.io/resource/f93bf1f...</td>\n",
       "      <td>NaN</td>\n",
       "      <td>NaN</td>\n",
       "    </tr>\n",
       "  </tbody>\n",
       "</table>\n",
       "</div>"
      ],
      "text/plain": [
       "                                                  title  \\\n",
       "1930         Purcell, Henry, 1659-1695. Dido and Aeneas   \n",
       "819                        Fifty comedies and tragedies   \n",
       "363                                             Ulysses   \n",
       "1855                             The politics of birth.   \n",
       "540   Ar't asleepe husband : a boulster lecture, sto...   \n",
       "821   Ane detectioun of the duinges of Marie Quene o...   \n",
       "1061                                           COVID-19   \n",
       "1833                          Sämtliche Bläserquintette   \n",
       "1001                                  Taiwania (Taipei)   \n",
       "1643                          Huai Yang wen hua yan jiu   \n",
       "\n",
       "                                                    url            label  \\\n",
       "1930  <https://api.stage.sinopia.io/resource/2b57c79...  Dido and Aeneas   \n",
       "819   <https://api.stage.sinopia.io/resource/0124bf5...              NaN   \n",
       "363   <https://api.stage.sinopia.io/resource/c02abeb...              NaN   \n",
       "1855  <https://api.stage.sinopia.io/resource/638fc75...              NaN   \n",
       "540   <https://api.stage.sinopia.io/resource/78a91d5...              NaN   \n",
       "821   <https://api.stage.sinopia.io/resource/e777db9...              NaN   \n",
       "1061  <https://api.stage.sinopia.io/resource/397f4a3...              NaN   \n",
       "1833  <https://api.stage.sinopia.io/resource/ea0393c...              NaN   \n",
       "1001  <https://api.stage.sinopia.io/resource/c069a5c...              NaN   \n",
       "1643  <https://api.stage.sinopia.io/resource/f93bf1f...              NaN   \n",
       "\n",
       "                                                summary  \n",
       "1930                                                NaN  \n",
       "819                                                 NaN  \n",
       "363                                                 NaN  \n",
       "1855  Several manuscript and typescript drafts of an...  \n",
       "540                                                 NaN  \n",
       "821                                                 NaN  \n",
       "1061                                                NaN  \n",
       "1833                                                NaN  \n",
       "1001                                                NaN  \n",
       "1643                                                NaN  "
      ]
     },
     "execution_count": 13,
     "metadata": {},
     "output_type": "execute_result"
    }
   ],
   "source": [
    "stage_text_nodes.sample(10)"
   ]
  },
  {
   "cell_type": "code",
   "execution_count": 14,
   "metadata": {},
   "outputs": [
    {
     "data": {
      "text/html": [
       "<div>\n",
       "<style scoped>\n",
       "    .dataframe tbody tr th:only-of-type {\n",
       "        vertical-align: middle;\n",
       "    }\n",
       "\n",
       "    .dataframe tbody tr th {\n",
       "        vertical-align: top;\n",
       "    }\n",
       "\n",
       "    .dataframe thead th {\n",
       "        text-align: right;\n",
       "    }\n",
       "</style>\n",
       "<table border=\"1\" class=\"dataframe\">\n",
       "  <thead>\n",
       "    <tr style=\"text-align: right;\">\n",
       "      <th></th>\n",
       "      <th>title</th>\n",
       "      <th>url</th>\n",
       "      <th>label</th>\n",
       "      <th>summary</th>\n",
       "    </tr>\n",
       "  </thead>\n",
       "  <tbody>\n",
       "    <tr>\n",
       "      <th>2097</th>\n",
       "      <td>Виде киге</td>\n",
       "      <td>&lt;https://api.stage.sinopia.io/resource/4b31a77...</td>\n",
       "      <td>NaN</td>\n",
       "      <td>NaN</td>\n",
       "    </tr>\n",
       "    <tr>\n",
       "      <th>2098</th>\n",
       "      <td>Historisch-theoretisch und practische Untersuc...</td>\n",
       "      <td>&lt;https://api.stage.sinopia.io/resource/c16a32c...</td>\n",
       "      <td>NaN</td>\n",
       "      <td>NaN</td>\n",
       "    </tr>\n",
       "    <tr>\n",
       "      <th>2099</th>\n",
       "      <td>Tunnel (Compilation)</td>\n",
       "      <td>&lt;https://api.stage.sinopia.io/resource/0432583...</td>\n",
       "      <td>NaN</td>\n",
       "      <td>NaN</td>\n",
       "    </tr>\n",
       "    <tr>\n",
       "      <th>2100</th>\n",
       "      <td>Emma (Austen)</td>\n",
       "      <td>&lt;https://api.stage.sinopia.io/resource/1bd7b0a...</td>\n",
       "      <td>NaN</td>\n",
       "      <td>NaN</td>\n",
       "    </tr>\n",
       "    <tr>\n",
       "      <th>2101</th>\n",
       "      <td>Physica. English</td>\n",
       "      <td>&lt;https://api.stage.sinopia.io/resource/7b03cc3...</td>\n",
       "      <td>NaN</td>\n",
       "      <td>NaN</td>\n",
       "    </tr>\n",
       "  </tbody>\n",
       "</table>\n",
       "</div>"
      ],
      "text/plain": [
       "                                                  title  \\\n",
       "2097                                          Виде киге   \n",
       "2098  Historisch-theoretisch und practische Untersuc...   \n",
       "2099                               Tunnel (Compilation)   \n",
       "2100                                      Emma (Austen)   \n",
       "2101                                   Physica. English   \n",
       "\n",
       "                                                    url label summary  \n",
       "2097  <https://api.stage.sinopia.io/resource/4b31a77...   NaN     NaN  \n",
       "2098  <https://api.stage.sinopia.io/resource/c16a32c...   NaN     NaN  \n",
       "2099  <https://api.stage.sinopia.io/resource/0432583...   NaN     NaN  \n",
       "2100  <https://api.stage.sinopia.io/resource/1bd7b0a...   NaN     NaN  \n",
       "2101  <https://api.stage.sinopia.io/resource/7b03cc3...   NaN     NaN  "
      ]
     },
     "execution_count": 14,
     "metadata": {},
     "output_type": "execute_result"
    }
   ],
   "source": [
    "stage_text_nodes.tail()"
   ]
  },
  {
   "cell_type": "code",
   "execution_count": 40,
   "metadata": {},
   "outputs": [
    {
     "data": {
      "text/html": [
       "<div>\n",
       "<style scoped>\n",
       "    .dataframe tbody tr th:only-of-type {\n",
       "        vertical-align: middle;\n",
       "    }\n",
       "\n",
       "    .dataframe tbody tr th {\n",
       "        vertical-align: top;\n",
       "    }\n",
       "\n",
       "    .dataframe thead th {\n",
       "        text-align: right;\n",
       "    }\n",
       "</style>\n",
       "<table border=\"1\" class=\"dataframe\">\n",
       "  <thead>\n",
       "    <tr style=\"text-align: right;\">\n",
       "      <th></th>\n",
       "      <th>title</th>\n",
       "      <th>url</th>\n",
       "      <th>label</th>\n",
       "      <th>summary</th>\n",
       "    </tr>\n",
       "  </thead>\n",
       "  <tbody>\n",
       "    <tr>\n",
       "      <th>34</th>\n",
       "      <td>Introduction to the sagas of Icelanders</td>\n",
       "      <td>&lt;https://api.stage.sinopia.io/resource/d42bf1f...</td>\n",
       "      <td>NaN</td>\n",
       "      <td>\"Combining an accessible approach with innovat...</td>\n",
       "    </tr>\n",
       "    <tr>\n",
       "      <th>41</th>\n",
       "      <td>Training your boxer</td>\n",
       "      <td>&lt;https://api.stage.sinopia.io/resource/ba38374...</td>\n",
       "      <td>NaN</td>\n",
       "      <td>\"An informative and fully illustrated manual t...</td>\n",
       "    </tr>\n",
       "    <tr>\n",
       "      <th>42</th>\n",
       "      <td>Training your boxer</td>\n",
       "      <td>&lt;https://api.stage.sinopia.io/resource/ba38374...</td>\n",
       "      <td>NaN</td>\n",
       "      <td>\"Noted for affectionate loyalty to their maste...</td>\n",
       "    </tr>\n",
       "    <tr>\n",
       "      <th>47</th>\n",
       "      <td>Validating RDF data</td>\n",
       "      <td>&lt;https://api.stage.sinopia.io/resource/cac41b2...</td>\n",
       "      <td>NaN</td>\n",
       "      <td>Describes two technologies for RDF validation:...</td>\n",
       "    </tr>\n",
       "    <tr>\n",
       "      <th>76</th>\n",
       "      <td>The stainless steel rat wants you</td>\n",
       "      <td>&lt;https://api.stage.sinopia.io/resource/4650180...</td>\n",
       "      <td>NaN</td>\n",
       "      <td>After saving the world, diGriz is called on t...</td>\n",
       "    </tr>\n",
       "    <tr>\n",
       "      <th>...</th>\n",
       "      <td>...</td>\n",
       "      <td>...</td>\n",
       "      <td>...</td>\n",
       "      <td>...</td>\n",
       "    </tr>\n",
       "    <tr>\n",
       "      <th>2042</th>\n",
       "      <td>Stainless steel rat for president</td>\n",
       "      <td>&lt;https://api.stage.sinopia.io/resource/2181701...</td>\n",
       "      <td>NaN</td>\n",
       "      <td>The Stainless Steel rat is back! Slippery Jim ...</td>\n",
       "    </tr>\n",
       "    <tr>\n",
       "      <th>2056</th>\n",
       "      <td>Little women. English. 1968</td>\n",
       "      <td>&lt;https://api.stage.sinopia.io/resource/e7308cc...</td>\n",
       "      <td>NaN</td>\n",
       "      <td>The adventures of Meg, Jo, Beth, and Amy as th...</td>\n",
       "    </tr>\n",
       "    <tr>\n",
       "      <th>2063</th>\n",
       "      <td>Idiot. English (Myers)</td>\n",
       "      <td>&lt;https://api.stage.sinopia.io/resource/dcc1b50...</td>\n",
       "      <td>NaN</td>\n",
       "      <td>\"The main idea of the novel is to depict the p...</td>\n",
       "    </tr>\n",
       "    <tr>\n",
       "      <th>2064</th>\n",
       "      <td>Idiot. English (Myers)</td>\n",
       "      <td>&lt;https://api.stage.sinopia.io/resource/dcc1b50...</td>\n",
       "      <td>NaN</td>\n",
       "      <td>\"Into a compelling real portrait of nineteenth...</td>\n",
       "    </tr>\n",
       "    <tr>\n",
       "      <th>2080</th>\n",
       "      <td>Psalm for the wild-built</td>\n",
       "      <td>&lt;https://api.stage.sinopia.io/resource/025e0bf...</td>\n",
       "      <td>NaN</td>\n",
       "      <td>It's been centuries since the robots of Panga ...</td>\n",
       "    </tr>\n",
       "  </tbody>\n",
       "</table>\n",
       "<p>155 rows × 4 columns</p>\n",
       "</div>"
      ],
      "text/plain": [
       "                                        title  \\\n",
       "34    Introduction to the sagas of Icelanders   \n",
       "41                        Training your boxer   \n",
       "42                        Training your boxer   \n",
       "47                        Validating RDF data   \n",
       "76          The stainless steel rat wants you   \n",
       "...                                       ...   \n",
       "2042        Stainless steel rat for president   \n",
       "2056              Little women. English. 1968   \n",
       "2063                   Idiot. English (Myers)   \n",
       "2064                   Idiot. English (Myers)   \n",
       "2080                 Psalm for the wild-built   \n",
       "\n",
       "                                                    url label  \\\n",
       "34    <https://api.stage.sinopia.io/resource/d42bf1f...   NaN   \n",
       "41    <https://api.stage.sinopia.io/resource/ba38374...   NaN   \n",
       "42    <https://api.stage.sinopia.io/resource/ba38374...   NaN   \n",
       "47    <https://api.stage.sinopia.io/resource/cac41b2...   NaN   \n",
       "76    <https://api.stage.sinopia.io/resource/4650180...   NaN   \n",
       "...                                                 ...   ...   \n",
       "2042  <https://api.stage.sinopia.io/resource/2181701...   NaN   \n",
       "2056  <https://api.stage.sinopia.io/resource/e7308cc...   NaN   \n",
       "2063  <https://api.stage.sinopia.io/resource/dcc1b50...   NaN   \n",
       "2064  <https://api.stage.sinopia.io/resource/dcc1b50...   NaN   \n",
       "2080  <https://api.stage.sinopia.io/resource/025e0bf...   NaN   \n",
       "\n",
       "                                                summary  \n",
       "34    \"Combining an accessible approach with innovat...  \n",
       "41    \"An informative and fully illustrated manual t...  \n",
       "42    \"Noted for affectionate loyalty to their maste...  \n",
       "47    Describes two technologies for RDF validation:...  \n",
       "76     After saving the world, diGriz is called on t...  \n",
       "...                                                 ...  \n",
       "2042  The Stainless Steel rat is back! Slippery Jim ...  \n",
       "2056  The adventures of Meg, Jo, Beth, and Amy as th...  \n",
       "2063  \"The main idea of the novel is to depict the p...  \n",
       "2064  \"Into a compelling real portrait of nineteenth...  \n",
       "2080  It's been centuries since the robots of Panga ...  \n",
       "\n",
       "[155 rows x 4 columns]"
      ]
     },
     "execution_count": 40,
     "metadata": {},
     "output_type": "execute_result"
    }
   ],
   "source": [
    "stage_text_nodes.loc[~stage_text_nodes[\"summary\"].isnull()]"
   ]
  },
  {
   "cell_type": "code",
   "execution_count": null,
   "metadata": {},
   "outputs": [],
   "source": []
  },
  {
   "cell_type": "code",
   "execution_count": 23,
   "metadata": {},
   "outputs": [
    {
     "data": {
      "text/plain": [
       "'Several manuscript and typescript drafts of an unpublished work, with working title \"The politics of birth\"'"
      ]
     },
     "execution_count": 23,
     "metadata": {},
     "output_type": "execute_result"
    }
   ],
   "source": [
    "stage_text_nodes.iloc[1855].summary"
   ]
  },
  {
   "cell_type": "code",
   "execution_count": 42,
   "metadata": {},
   "outputs": [],
   "source": [
    "doc1855 = nlp(stage_text_nodes.iloc[1855].summary)"
   ]
  },
  {
   "cell_type": "markdown",
   "metadata": {},
   "source": [
    "The [spaCy][SPACY] `fast_topic_matcher` is greedy, meaning that it matches on any terms contained in the document as we can see in this example. \n",
    "\n",
    "[SPACY]: https://spacy.io/"
   ]
  },
  {
   "cell_type": "code",
   "execution_count": 43,
   "metadata": {
    "tags": []
   },
   "outputs": [
    {
     "data": {
      "text/plain": [
       "97777"
      ]
     },
     "execution_count": 43,
     "metadata": {},
     "output_type": "execute_result"
    }
   ],
   "source": [
    "len(fast_topic_matcher(doc1855))"
   ]
  },
  {
   "cell_type": "code",
   "execution_count": 44,
   "metadata": {},
   "outputs": [],
   "source": [
    "first_match = fast_topic_matcher(doc1855)[0]"
   ]
  },
  {
   "cell_type": "code",
   "execution_count": 45,
   "metadata": {},
   "outputs": [
    {
     "data": {
      "text/plain": [
       "(8446557437550807002, 0, 1)"
      ]
     },
     "execution_count": 45,
     "metadata": {},
     "output_type": "execute_result"
    }
   ],
   "source": [
    "first_match"
   ]
  },
  {
   "cell_type": "code",
   "execution_count": 46,
   "metadata": {},
   "outputs": [
    {
     "data": {
      "text/plain": [
       "'http://id.worldcat.org/fast/936123'"
      ]
     },
     "execution_count": 46,
     "metadata": {},
     "output_type": "execute_result"
    }
   ],
   "source": [
    "nlp.vocab.strings[first_match[0]]"
   ]
  },
  {
   "cell_type": "code",
   "execution_count": 22,
   "metadata": {},
   "outputs": [
    {
     "data": {
      "text/plain": [
       "'Functions of several complex variables'"
      ]
     },
     "execution_count": 22,
     "metadata": {},
     "output_type": "execute_result"
    }
   ],
   "source": [
    "fast_topics[fast_topics[\"URL\"] == \"http://id.worldcat.org/fast/936123\"].iloc[0][\"name\"]"
   ]
  },
  {
   "cell_type": "markdown",
   "metadata": {},
   "source": [
    "### Second Phrase Matcher Iteration \n",
    "At this point our `fast_topic_matcher` isn't that usefully when any terms in a list are matched. As is often the case when working with data, we iteratively test and changes our approach with our second phrase matcher. Instead of extracting each word in the FAST text, we will use the entire text as a phrase. "
   ]
  },
  {
   "cell_type": "code",
   "execution_count": 41,
   "metadata": {},
   "outputs": [
    {
     "name": "stdout",
     "output_type": "stream",
     "text": [
      "Started at 2022-07-04 23:53:58.815774 of FAST Matching\n",
      "Finished adding FAST Topic patterns at 2022-07-04 23:54:33.162680, total time 0.5666666666666667\n"
     ]
    }
   ],
   "source": [
    "fast_topic_matcher2 = PhraseMatcher(nlp.vocab, attr=\"LOWER\")\n",
    "\n",
    "start = datetime.datetime.utcnow()\n",
    "print(f\"Started at {start} of FAST Matching\")\n",
    "# Iterate through the FAST Topic DataFrame\n",
    "for row in fast_topics.iterrows():\n",
    "    ident = row[1][\"URL\"]\n",
    "    name_list = [\n",
    "        nlp.make_doc(row[1][\"name\"].strip(string.punctuation).replace(\"--\", \" \")),\n",
    "    ]\n",
    "    fast_topic_matcher2.add(ident, name_list)\n",
    "end = datetime.datetime.utcnow()\n",
    "print(\n",
    "    f\"Finished adding FAST Topic patterns at {end}, total time {(end-start).seconds / 60.}\"\n",
    ")"
   ]
  },
  {
   "cell_type": "code",
   "execution_count": 47,
   "metadata": {},
   "outputs": [
    {
     "data": {
      "text/plain": [
       "2"
      ]
     },
     "execution_count": 47,
     "metadata": {},
     "output_type": "execute_result"
    }
   ],
   "source": [
    "len(fast_topic_matcher2(doc1855))"
   ]
  },
  {
   "cell_type": "code",
   "execution_count": 49,
   "metadata": {},
   "outputs": [],
   "source": [
    "doc1855_matches = fast_topic_matcher2(doc1855)"
   ]
  },
  {
   "cell_type": "code",
   "execution_count": 50,
   "metadata": {},
   "outputs": [
    {
     "data": {
      "text/plain": [
       "[(15031021037593339281, 4, 5), (17604063676832794131, 8, 9)]"
      ]
     },
     "execution_count": 50,
     "metadata": {},
     "output_type": "execute_result"
    }
   ],
   "source": [
    "doc1855_matches"
   ]
  },
  {
   "cell_type": "code",
   "execution_count": 51,
   "metadata": {},
   "outputs": [
    {
     "name": "stdout",
     "output_type": "stream",
     "text": [
      "http://id.worldcat.org/fast/897348 Drafts\n",
      "http://id.worldcat.org/fast/1180188 Work\n"
     ]
    }
   ],
   "source": [
    "for match in doc1855_matches:\n",
    "    fast_url = nlp.vocab.strings[match[0]]\n",
    "    label = fast_topics[fast_topics[\"URL\"] == fast_url].iloc[0][\"name\"]\n",
    "    print(fast_url, label)"
   ]
  },
  {
   "cell_type": "markdown",
   "metadata": {},
   "source": [
    "## spaCy Named Entity Recognition (NER)\n",
    "One of the strengths of [spaCy][SPACY] is it's pre-existing models for named entity recognition (NER). In NER tasks, existing entities like people, locations, time periods are identified and tagged for later analysis. \n",
    "\n",
    "To demonstrate, we will load a small English language model and perform NER on some of the *titles*, *labels*, and any *summary* triples contained in the `stage_text_nodes` dataframe.\n",
    "\n",
    "### Download model and Create NLP pipeline\n",
    "We first need to download the `en_core_web_sm` model for our environment and then create an instance of a NLP pipeline.\n",
    "\n",
    "[SPACY]: https://spacy.io/"
   ]
  },
  {
   "cell_type": "code",
   "execution_count": 52,
   "metadata": {
    "tags": []
   },
   "outputs": [
    {
     "name": "stdout",
     "output_type": "stream",
     "text": [
      "Collecting en-core-web-sm==3.3.0\n",
      "  Downloading https://github.com/explosion/spacy-models/releases/download/en_core_web_sm-3.3.0/en_core_web_sm-3.3.0-py3-none-any.whl (12.8 MB)\n",
      "\u001b[2K     \u001b[90m━━━━━━━━━━━━━━━━━━━━━━━━━━━━━━━━━━━━━━━━\u001b[0m \u001b[32m12.8/12.8 MB\u001b[0m \u001b[31m1.6 MB/s\u001b[0m eta \u001b[36m0:00:00\u001b[0m00:01\u001b[0m00:01\u001b[0mm\n",
      "\u001b[?25hRequirement already satisfied: spacy<3.4.0,>=3.3.0.dev0 in /Users/jpnelson/02022/py3-env/lib/python3.10/site-packages (from en-core-web-sm==3.3.0) (3.3.1)\n",
      "Requirement already satisfied: setuptools in /Users/jpnelson/02022/py3-env/lib/python3.10/site-packages (from spacy<3.4.0,>=3.3.0.dev0->en-core-web-sm==3.3.0) (60.6.0)\n",
      "Requirement already satisfied: preshed<3.1.0,>=3.0.2 in /Users/jpnelson/02022/py3-env/lib/python3.10/site-packages (from spacy<3.4.0,>=3.3.0.dev0->en-core-web-sm==3.3.0) (3.0.6)\n",
      "Requirement already satisfied: pathy>=0.3.5 in /Users/jpnelson/02022/py3-env/lib/python3.10/site-packages (from spacy<3.4.0,>=3.3.0.dev0->en-core-web-sm==3.3.0) (0.6.2)\n",
      "Requirement already satisfied: jinja2 in /Users/jpnelson/02022/py3-env/lib/python3.10/site-packages (from spacy<3.4.0,>=3.3.0.dev0->en-core-web-sm==3.3.0) (2.11.3)\n",
      "Requirement already satisfied: cymem<2.1.0,>=2.0.2 in /Users/jpnelson/02022/py3-env/lib/python3.10/site-packages (from spacy<3.4.0,>=3.3.0.dev0->en-core-web-sm==3.3.0) (2.0.6)\n",
      "Requirement already satisfied: blis<0.8.0,>=0.4.0 in /Users/jpnelson/02022/py3-env/lib/python3.10/site-packages (from spacy<3.4.0,>=3.3.0.dev0->en-core-web-sm==3.3.0) (0.7.8)\n",
      "Requirement already satisfied: wasabi<1.1.0,>=0.9.1 in /Users/jpnelson/02022/py3-env/lib/python3.10/site-packages (from spacy<3.4.0,>=3.3.0.dev0->en-core-web-sm==3.3.0) (0.9.1)\n",
      "Requirement already satisfied: langcodes<4.0.0,>=3.2.0 in /Users/jpnelson/02022/py3-env/lib/python3.10/site-packages (from spacy<3.4.0,>=3.3.0.dev0->en-core-web-sm==3.3.0) (3.3.0)\n",
      "Requirement already satisfied: numpy>=1.15.0 in /Users/jpnelson/02022/py3-env/lib/python3.10/site-packages (from spacy<3.4.0,>=3.3.0.dev0->en-core-web-sm==3.3.0) (1.22.3)\n",
      "Requirement already satisfied: packaging>=20.0 in /Users/jpnelson/02022/py3-env/lib/python3.10/site-packages (from spacy<3.4.0,>=3.3.0.dev0->en-core-web-sm==3.3.0) (21.3)\n",
      "Requirement already satisfied: spacy-loggers<2.0.0,>=1.0.0 in /Users/jpnelson/02022/py3-env/lib/python3.10/site-packages (from spacy<3.4.0,>=3.3.0.dev0->en-core-web-sm==3.3.0) (1.0.2)\n",
      "Requirement already satisfied: catalogue<2.1.0,>=2.0.6 in /Users/jpnelson/02022/py3-env/lib/python3.10/site-packages (from spacy<3.4.0,>=3.3.0.dev0->en-core-web-sm==3.3.0) (2.0.7)\n",
      "Requirement already satisfied: typer<0.5.0,>=0.3.0 in /Users/jpnelson/02022/py3-env/lib/python3.10/site-packages (from spacy<3.4.0,>=3.3.0.dev0->en-core-web-sm==3.3.0) (0.4.2)\n",
      "Requirement already satisfied: thinc<8.1.0,>=8.0.14 in /Users/jpnelson/02022/py3-env/lib/python3.10/site-packages (from spacy<3.4.0,>=3.3.0.dev0->en-core-web-sm==3.3.0) (8.0.17)\n",
      "Requirement already satisfied: spacy-legacy<3.1.0,>=3.0.9 in /Users/jpnelson/02022/py3-env/lib/python3.10/site-packages (from spacy<3.4.0,>=3.3.0.dev0->en-core-web-sm==3.3.0) (3.0.9)\n",
      "Requirement already satisfied: tqdm<5.0.0,>=4.38.0 in /Users/jpnelson/02022/py3-env/lib/python3.10/site-packages (from spacy<3.4.0,>=3.3.0.dev0->en-core-web-sm==3.3.0) (4.64.0)\n",
      "Requirement already satisfied: requests<3.0.0,>=2.13.0 in /Users/jpnelson/02022/py3-env/lib/python3.10/site-packages (from spacy<3.4.0,>=3.3.0.dev0->en-core-web-sm==3.3.0) (2.27.1)\n",
      "Requirement already satisfied: srsly<3.0.0,>=2.4.3 in /Users/jpnelson/02022/py3-env/lib/python3.10/site-packages (from spacy<3.4.0,>=3.3.0.dev0->en-core-web-sm==3.3.0) (2.4.3)\n",
      "Requirement already satisfied: murmurhash<1.1.0,>=0.28.0 in /Users/jpnelson/02022/py3-env/lib/python3.10/site-packages (from spacy<3.4.0,>=3.3.0.dev0->en-core-web-sm==3.3.0) (1.0.7)\n",
      "Requirement already satisfied: pydantic!=1.8,!=1.8.1,<1.9.0,>=1.7.4 in /Users/jpnelson/02022/py3-env/lib/python3.10/site-packages (from spacy<3.4.0,>=3.3.0.dev0->en-core-web-sm==3.3.0) (1.8.2)\n",
      "Requirement already satisfied: pyparsing!=3.0.5,>=2.0.2 in /Users/jpnelson/02022/py3-env/lib/python3.10/site-packages (from packaging>=20.0->spacy<3.4.0,>=3.3.0.dev0->en-core-web-sm==3.3.0) (3.0.7)\n",
      "Requirement already satisfied: smart-open<6.0.0,>=5.2.1 in /Users/jpnelson/02022/py3-env/lib/python3.10/site-packages (from pathy>=0.3.5->spacy<3.4.0,>=3.3.0.dev0->en-core-web-sm==3.3.0) (5.2.1)\n",
      "Requirement already satisfied: typing-extensions>=3.7.4.3 in /Users/jpnelson/02022/py3-env/lib/python3.10/site-packages (from pydantic!=1.8,!=1.8.1,<1.9.0,>=1.7.4->spacy<3.4.0,>=3.3.0.dev0->en-core-web-sm==3.3.0) (4.0.1)\n",
      "Requirement already satisfied: idna<4,>=2.5 in /Users/jpnelson/02022/py3-env/lib/python3.10/site-packages (from requests<3.0.0,>=2.13.0->spacy<3.4.0,>=3.3.0.dev0->en-core-web-sm==3.3.0) (3.3)\n",
      "Requirement already satisfied: certifi>=2017.4.17 in /Users/jpnelson/02022/py3-env/lib/python3.10/site-packages (from requests<3.0.0,>=2.13.0->spacy<3.4.0,>=3.3.0.dev0->en-core-web-sm==3.3.0) (2021.10.8)\n",
      "Requirement already satisfied: charset-normalizer~=2.0.0 in /Users/jpnelson/02022/py3-env/lib/python3.10/site-packages (from requests<3.0.0,>=2.13.0->spacy<3.4.0,>=3.3.0.dev0->en-core-web-sm==3.3.0) (2.0.12)\n",
      "Requirement already satisfied: urllib3<1.27,>=1.21.1 in /Users/jpnelson/02022/py3-env/lib/python3.10/site-packages (from requests<3.0.0,>=2.13.0->spacy<3.4.0,>=3.3.0.dev0->en-core-web-sm==3.3.0) (1.26.9)\n",
      "Requirement already satisfied: click<9.0.0,>=7.1.1 in /Users/jpnelson/02022/py3-env/lib/python3.10/site-packages (from typer<0.5.0,>=0.3.0->spacy<3.4.0,>=3.3.0.dev0->en-core-web-sm==3.3.0) (8.1.3)\n",
      "Requirement already satisfied: MarkupSafe>=0.23 in /Users/jpnelson/02022/py3-env/lib/python3.10/site-packages (from jinja2->spacy<3.4.0,>=3.3.0.dev0->en-core-web-sm==3.3.0) (2.0.1)\n",
      "Installing collected packages: en-core-web-sm\n",
      "Successfully installed en-core-web-sm-3.3.0\n",
      "\u001b[38;5;2m✔ Download and installation successful\u001b[0m\n",
      "You can now load the package via spacy.load('en_core_web_sm')\n"
     ]
    }
   ],
   "source": [
    "! python -m spacy download en_core_web_sm"
   ]
  },
  {
   "cell_type": "code",
   "execution_count": 53,
   "metadata": {},
   "outputs": [],
   "source": [
    "en_nlp = spacy.load(\"en_core_web_sm\")"
   ]
  },
  {
   "cell_type": "markdown",
   "metadata": {},
   "source": [
    "### Generate Documents and Display Entities\n",
    "Using a different sample from the `stage_text_nodes` dataframe, we apply the `en_nlp` pipeline to some of these values to see if we can extract meaningful entities."
   ]
  },
  {
   "cell_type": "code",
   "execution_count": 56,
   "metadata": {},
   "outputs": [],
   "source": [
    "sample2 = stage_text_nodes.sample(10)"
   ]
  },
  {
   "cell_type": "code",
   "execution_count": 57,
   "metadata": {},
   "outputs": [
    {
     "data": {
      "text/html": [
       "<div>\n",
       "<style scoped>\n",
       "    .dataframe tbody tr th:only-of-type {\n",
       "        vertical-align: middle;\n",
       "    }\n",
       "\n",
       "    .dataframe tbody tr th {\n",
       "        vertical-align: top;\n",
       "    }\n",
       "\n",
       "    .dataframe thead th {\n",
       "        text-align: right;\n",
       "    }\n",
       "</style>\n",
       "<table border=\"1\" class=\"dataframe\">\n",
       "  <thead>\n",
       "    <tr style=\"text-align: right;\">\n",
       "      <th></th>\n",
       "      <th>title</th>\n",
       "      <th>url</th>\n",
       "      <th>label</th>\n",
       "      <th>summary</th>\n",
       "    </tr>\n",
       "  </thead>\n",
       "  <tbody>\n",
       "    <tr>\n",
       "      <th>833</th>\n",
       "      <td>Tragedie of Charles Duke of Byron, Marshall of...</td>\n",
       "      <td>&lt;https://api.stage.sinopia.io/resource/e8d4bd8...</td>\n",
       "      <td>NaN</td>\n",
       "      <td>NaN</td>\n",
       "    </tr>\n",
       "    <tr>\n",
       "      <th>766</th>\n",
       "      <td>Cultural policy for arts education</td>\n",
       "      <td>&lt;https://api.stage.sinopia.io/resource/203d66b...</td>\n",
       "      <td>NaN</td>\n",
       "      <td>NaN</td>\n",
       "    </tr>\n",
       "    <tr>\n",
       "      <th>1380</th>\n",
       "      <td>Warres of Pompey and Caesar</td>\n",
       "      <td>&lt;https://api.stage.sinopia.io/resource/b112474...</td>\n",
       "      <td>NaN</td>\n",
       "      <td>NaN</td>\n",
       "    </tr>\n",
       "    <tr>\n",
       "      <th>1873</th>\n",
       "      <td>Bi︠e︡dnye li︠u︡di</td>\n",
       "      <td>&lt;https://api.stage.sinopia.io/resource/b1d0744...</td>\n",
       "      <td>NaN</td>\n",
       "      <td>NaN</td>\n",
       "    </tr>\n",
       "    <tr>\n",
       "      <th>2042</th>\n",
       "      <td>Stainless steel rat for president</td>\n",
       "      <td>&lt;https://api.stage.sinopia.io/resource/2181701...</td>\n",
       "      <td>NaN</td>\n",
       "      <td>The Stainless Steel rat is back! Slippery Jim ...</td>\n",
       "    </tr>\n",
       "    <tr>\n",
       "      <th>1405</th>\n",
       "      <td>SPECTS 2021</td>\n",
       "      <td>&lt;https://api.stage.sinopia.io/resource/7031994...</td>\n",
       "      <td>NaN</td>\n",
       "      <td>NaN</td>\n",
       "    </tr>\n",
       "    <tr>\n",
       "      <th>179</th>\n",
       "      <td>Orange County illustrated: Orange County befor...</td>\n",
       "      <td>&lt;https://api.stage.sinopia.io/resource/a53bf60...</td>\n",
       "      <td>NaN</td>\n",
       "      <td>NaN</td>\n",
       "    </tr>\n",
       "    <tr>\n",
       "      <th>1265</th>\n",
       "      <td>Work for narrator and orchestra</td>\n",
       "      <td>&lt;https://api.stage.sinopia.io/resource/93408d3...</td>\n",
       "      <td>NaN</td>\n",
       "      <td>NaN</td>\n",
       "    </tr>\n",
       "    <tr>\n",
       "      <th>1043</th>\n",
       "      <td>Variant2, title</td>\n",
       "      <td>&lt;https://api.stage.sinopia.io/resource/c9960db...</td>\n",
       "      <td>NaN</td>\n",
       "      <td>NaN</td>\n",
       "    </tr>\n",
       "    <tr>\n",
       "      <th>1109</th>\n",
       "      <td>Eastward hoe</td>\n",
       "      <td>&lt;https://api.stage.sinopia.io/resource/c24ca29...</td>\n",
       "      <td>NaN</td>\n",
       "      <td>NaN</td>\n",
       "    </tr>\n",
       "  </tbody>\n",
       "</table>\n",
       "</div>"
      ],
      "text/plain": [
       "                                                  title  \\\n",
       "833   Tragedie of Charles Duke of Byron, Marshall of...   \n",
       "766                  Cultural policy for arts education   \n",
       "1380                        Warres of Pompey and Caesar   \n",
       "1873                                  Bi︠e︡dnye li︠u︡di   \n",
       "2042                  Stainless steel rat for president   \n",
       "1405                                        SPECTS 2021   \n",
       "179   Orange County illustrated: Orange County befor...   \n",
       "1265                    Work for narrator and orchestra   \n",
       "1043                                    Variant2, title   \n",
       "1109                                       Eastward hoe   \n",
       "\n",
       "                                                    url label  \\\n",
       "833   <https://api.stage.sinopia.io/resource/e8d4bd8...   NaN   \n",
       "766   <https://api.stage.sinopia.io/resource/203d66b...   NaN   \n",
       "1380  <https://api.stage.sinopia.io/resource/b112474...   NaN   \n",
       "1873  <https://api.stage.sinopia.io/resource/b1d0744...   NaN   \n",
       "2042  <https://api.stage.sinopia.io/resource/2181701...   NaN   \n",
       "1405  <https://api.stage.sinopia.io/resource/7031994...   NaN   \n",
       "179   <https://api.stage.sinopia.io/resource/a53bf60...   NaN   \n",
       "1265  <https://api.stage.sinopia.io/resource/93408d3...   NaN   \n",
       "1043  <https://api.stage.sinopia.io/resource/c9960db...   NaN   \n",
       "1109  <https://api.stage.sinopia.io/resource/c24ca29...   NaN   \n",
       "\n",
       "                                                summary  \n",
       "833                                                 NaN  \n",
       "766                                                 NaN  \n",
       "1380                                                NaN  \n",
       "1873                                                NaN  \n",
       "2042  The Stainless Steel rat is back! Slippery Jim ...  \n",
       "1405                                                NaN  \n",
       "179                                                 NaN  \n",
       "1265                                                NaN  \n",
       "1043                                                NaN  \n",
       "1109                                                NaN  "
      ]
     },
     "execution_count": 57,
     "metadata": {},
     "output_type": "execute_result"
    }
   ],
   "source": [
    "sample2"
   ]
  },
  {
   "cell_type": "code",
   "execution_count": 61,
   "metadata": {},
   "outputs": [],
   "source": [
    "doc_833 = en_nlp(stage_text_nodes.iloc[833].title)\n",
    "doc_2042 = en_nlp(stage_text_nodes.iloc[2042].summary)"
   ]
  },
  {
   "cell_type": "code",
   "execution_count": 63,
   "metadata": {},
   "outputs": [
    {
     "name": "stdout",
     "output_type": "stream",
     "text": [
      "Entities for 833 title\n",
      "Tragedie of Charles Duke of Byron, Marshall of France\n",
      "Charles Duke PERSON\n",
      "Marshall PERSON\n",
      "France GPE\n",
      "\n",
      "\n",
      "Entities for 2042\n",
      "The Stainless Steel rat is back! Slippery Jim diGriz, the future's most lovable, laughable, larcenous conman tumed counterspy, retums for yet another high-tension mission. This time the Special Corps has given the Rat a daring assignment - liberate a backward tourist planet from the clutches of an aging dictator. With his lovely but lethal wife, Angelina, and his two stalwart sons, James and Bolivar, diGriz pits ballots against bullets in the fight for freedom. He's vowed to restore truth, justice, and democracy to the world of Parisio-Aqui, if he has to lie, cheat, and steal to do it.\n",
      "Stainless Steel ORG\n",
      "Slippery Jim PERSON\n",
      "the Special Corps ORG\n",
      "Angelina GPE\n",
      "two CARDINAL\n",
      "James and Bolivar ORG\n",
      "Parisio-Aqui FAC\n"
     ]
    }
   ],
   "source": [
    "print(\"Entities for 833 title\")\n",
    "print(stage_text_nodes.iloc[833].title)\n",
    "for ent in doc_833.ents:\n",
    "    print(ent, ent.label_)\n",
    "print(\"\\n\\nEntities for 2042\")\n",
    "print(stage_text_nodes.iloc[2042].summary)\n",
    "for ent in doc_2042.ents:\n",
    "    print(ent, ent.label_)"
   ]
  },
  {
   "cell_type": "markdown",
   "metadata": {},
   "source": [
    "### spaCy NER and POS Visualizations\n",
    "The [spaCy][SPACY] project provides the `displacy` class that has two helpful visualizers. The first **ner** displays the identified entities in context of the text and the second identifies the parts-of-speech and how they are related to each other in the **dep** option. \n",
    "\n",
    "[SPACY]: https://spacy.io/"
   ]
  },
  {
   "cell_type": "code",
   "execution_count": 66,
   "metadata": {},
   "outputs": [
    {
     "data": {
      "text/html": [
       "<span class=\"tex2jax_ignore\"><svg xmlns=\"http://www.w3.org/2000/svg\" xmlns:xlink=\"http://www.w3.org/1999/xlink\" xml:lang=\"en\" id=\"95212a2843894436a039279e56c59382-0\" class=\"displacy\" width=\"1625\" height=\"312.0\" direction=\"ltr\" style=\"max-width: none; height: 312.0px; color: #000000; background: #ffffff; font-family: Arial; direction: ltr\">\n",
       "<text class=\"displacy-token\" fill=\"currentColor\" text-anchor=\"middle\" y=\"222.0\">\n",
       "    <tspan class=\"displacy-word\" fill=\"currentColor\" x=\"50\">Tragedie</tspan>\n",
       "    <tspan class=\"displacy-tag\" dy=\"2em\" fill=\"currentColor\" x=\"50\">PROPN</tspan>\n",
       "</text>\n",
       "\n",
       "<text class=\"displacy-token\" fill=\"currentColor\" text-anchor=\"middle\" y=\"222.0\">\n",
       "    <tspan class=\"displacy-word\" fill=\"currentColor\" x=\"225\">of</tspan>\n",
       "    <tspan class=\"displacy-tag\" dy=\"2em\" fill=\"currentColor\" x=\"225\">ADP</tspan>\n",
       "</text>\n",
       "\n",
       "<text class=\"displacy-token\" fill=\"currentColor\" text-anchor=\"middle\" y=\"222.0\">\n",
       "    <tspan class=\"displacy-word\" fill=\"currentColor\" x=\"400\">Charles</tspan>\n",
       "    <tspan class=\"displacy-tag\" dy=\"2em\" fill=\"currentColor\" x=\"400\">PROPN</tspan>\n",
       "</text>\n",
       "\n",
       "<text class=\"displacy-token\" fill=\"currentColor\" text-anchor=\"middle\" y=\"222.0\">\n",
       "    <tspan class=\"displacy-word\" fill=\"currentColor\" x=\"575\">Duke</tspan>\n",
       "    <tspan class=\"displacy-tag\" dy=\"2em\" fill=\"currentColor\" x=\"575\">PROPN</tspan>\n",
       "</text>\n",
       "\n",
       "<text class=\"displacy-token\" fill=\"currentColor\" text-anchor=\"middle\" y=\"222.0\">\n",
       "    <tspan class=\"displacy-word\" fill=\"currentColor\" x=\"750\">of</tspan>\n",
       "    <tspan class=\"displacy-tag\" dy=\"2em\" fill=\"currentColor\" x=\"750\">ADP</tspan>\n",
       "</text>\n",
       "\n",
       "<text class=\"displacy-token\" fill=\"currentColor\" text-anchor=\"middle\" y=\"222.0\">\n",
       "    <tspan class=\"displacy-word\" fill=\"currentColor\" x=\"925\">Byron,</tspan>\n",
       "    <tspan class=\"displacy-tag\" dy=\"2em\" fill=\"currentColor\" x=\"925\">PROPN</tspan>\n",
       "</text>\n",
       "\n",
       "<text class=\"displacy-token\" fill=\"currentColor\" text-anchor=\"middle\" y=\"222.0\">\n",
       "    <tspan class=\"displacy-word\" fill=\"currentColor\" x=\"1100\">Marshall</tspan>\n",
       "    <tspan class=\"displacy-tag\" dy=\"2em\" fill=\"currentColor\" x=\"1100\">PROPN</tspan>\n",
       "</text>\n",
       "\n",
       "<text class=\"displacy-token\" fill=\"currentColor\" text-anchor=\"middle\" y=\"222.0\">\n",
       "    <tspan class=\"displacy-word\" fill=\"currentColor\" x=\"1275\">of</tspan>\n",
       "    <tspan class=\"displacy-tag\" dy=\"2em\" fill=\"currentColor\" x=\"1275\">ADP</tspan>\n",
       "</text>\n",
       "\n",
       "<text class=\"displacy-token\" fill=\"currentColor\" text-anchor=\"middle\" y=\"222.0\">\n",
       "    <tspan class=\"displacy-word\" fill=\"currentColor\" x=\"1450\">France</tspan>\n",
       "    <tspan class=\"displacy-tag\" dy=\"2em\" fill=\"currentColor\" x=\"1450\">PROPN</tspan>\n",
       "</text>\n",
       "\n",
       "<g class=\"displacy-arrow\">\n",
       "    <path class=\"displacy-arc\" id=\"arrow-95212a2843894436a039279e56c59382-0-0\" stroke-width=\"2px\" d=\"M70,177.0 C70,89.5 220.0,89.5 220.0,177.0\" fill=\"none\" stroke=\"currentColor\"/>\n",
       "    <text dy=\"1.25em\" style=\"font-size: 0.8em; letter-spacing: 1px\">\n",
       "        <textPath xlink:href=\"#arrow-95212a2843894436a039279e56c59382-0-0\" class=\"displacy-label\" startOffset=\"50%\" side=\"left\" fill=\"currentColor\" text-anchor=\"middle\">prep</textPath>\n",
       "    </text>\n",
       "    <path class=\"displacy-arrowhead\" d=\"M220.0,179.0 L228.0,167.0 212.0,167.0\" fill=\"currentColor\"/>\n",
       "</g>\n",
       "\n",
       "<g class=\"displacy-arrow\">\n",
       "    <path class=\"displacy-arc\" id=\"arrow-95212a2843894436a039279e56c59382-0-1\" stroke-width=\"2px\" d=\"M420,177.0 C420,89.5 570.0,89.5 570.0,177.0\" fill=\"none\" stroke=\"currentColor\"/>\n",
       "    <text dy=\"1.25em\" style=\"font-size: 0.8em; letter-spacing: 1px\">\n",
       "        <textPath xlink:href=\"#arrow-95212a2843894436a039279e56c59382-0-1\" class=\"displacy-label\" startOffset=\"50%\" side=\"left\" fill=\"currentColor\" text-anchor=\"middle\">compound</textPath>\n",
       "    </text>\n",
       "    <path class=\"displacy-arrowhead\" d=\"M420,179.0 L412,167.0 428,167.0\" fill=\"currentColor\"/>\n",
       "</g>\n",
       "\n",
       "<g class=\"displacy-arrow\">\n",
       "    <path class=\"displacy-arc\" id=\"arrow-95212a2843894436a039279e56c59382-0-2\" stroke-width=\"2px\" d=\"M245,177.0 C245,2.0 575.0,2.0 575.0,177.0\" fill=\"none\" stroke=\"currentColor\"/>\n",
       "    <text dy=\"1.25em\" style=\"font-size: 0.8em; letter-spacing: 1px\">\n",
       "        <textPath xlink:href=\"#arrow-95212a2843894436a039279e56c59382-0-2\" class=\"displacy-label\" startOffset=\"50%\" side=\"left\" fill=\"currentColor\" text-anchor=\"middle\">pobj</textPath>\n",
       "    </text>\n",
       "    <path class=\"displacy-arrowhead\" d=\"M575.0,179.0 L583.0,167.0 567.0,167.0\" fill=\"currentColor\"/>\n",
       "</g>\n",
       "\n",
       "<g class=\"displacy-arrow\">\n",
       "    <path class=\"displacy-arc\" id=\"arrow-95212a2843894436a039279e56c59382-0-3\" stroke-width=\"2px\" d=\"M595,177.0 C595,89.5 745.0,89.5 745.0,177.0\" fill=\"none\" stroke=\"currentColor\"/>\n",
       "    <text dy=\"1.25em\" style=\"font-size: 0.8em; letter-spacing: 1px\">\n",
       "        <textPath xlink:href=\"#arrow-95212a2843894436a039279e56c59382-0-3\" class=\"displacy-label\" startOffset=\"50%\" side=\"left\" fill=\"currentColor\" text-anchor=\"middle\">prep</textPath>\n",
       "    </text>\n",
       "    <path class=\"displacy-arrowhead\" d=\"M745.0,179.0 L753.0,167.0 737.0,167.0\" fill=\"currentColor\"/>\n",
       "</g>\n",
       "\n",
       "<g class=\"displacy-arrow\">\n",
       "    <path class=\"displacy-arc\" id=\"arrow-95212a2843894436a039279e56c59382-0-4\" stroke-width=\"2px\" d=\"M770,177.0 C770,89.5 920.0,89.5 920.0,177.0\" fill=\"none\" stroke=\"currentColor\"/>\n",
       "    <text dy=\"1.25em\" style=\"font-size: 0.8em; letter-spacing: 1px\">\n",
       "        <textPath xlink:href=\"#arrow-95212a2843894436a039279e56c59382-0-4\" class=\"displacy-label\" startOffset=\"50%\" side=\"left\" fill=\"currentColor\" text-anchor=\"middle\">pobj</textPath>\n",
       "    </text>\n",
       "    <path class=\"displacy-arrowhead\" d=\"M920.0,179.0 L928.0,167.0 912.0,167.0\" fill=\"currentColor\"/>\n",
       "</g>\n",
       "\n",
       "<g class=\"displacy-arrow\">\n",
       "    <path class=\"displacy-arc\" id=\"arrow-95212a2843894436a039279e56c59382-0-5\" stroke-width=\"2px\" d=\"M595,177.0 C595,2.0 1100.0,2.0 1100.0,177.0\" fill=\"none\" stroke=\"currentColor\"/>\n",
       "    <text dy=\"1.25em\" style=\"font-size: 0.8em; letter-spacing: 1px\">\n",
       "        <textPath xlink:href=\"#arrow-95212a2843894436a039279e56c59382-0-5\" class=\"displacy-label\" startOffset=\"50%\" side=\"left\" fill=\"currentColor\" text-anchor=\"middle\">appos</textPath>\n",
       "    </text>\n",
       "    <path class=\"displacy-arrowhead\" d=\"M1100.0,179.0 L1108.0,167.0 1092.0,167.0\" fill=\"currentColor\"/>\n",
       "</g>\n",
       "\n",
       "<g class=\"displacy-arrow\">\n",
       "    <path class=\"displacy-arc\" id=\"arrow-95212a2843894436a039279e56c59382-0-6\" stroke-width=\"2px\" d=\"M1120,177.0 C1120,89.5 1270.0,89.5 1270.0,177.0\" fill=\"none\" stroke=\"currentColor\"/>\n",
       "    <text dy=\"1.25em\" style=\"font-size: 0.8em; letter-spacing: 1px\">\n",
       "        <textPath xlink:href=\"#arrow-95212a2843894436a039279e56c59382-0-6\" class=\"displacy-label\" startOffset=\"50%\" side=\"left\" fill=\"currentColor\" text-anchor=\"middle\">prep</textPath>\n",
       "    </text>\n",
       "    <path class=\"displacy-arrowhead\" d=\"M1270.0,179.0 L1278.0,167.0 1262.0,167.0\" fill=\"currentColor\"/>\n",
       "</g>\n",
       "\n",
       "<g class=\"displacy-arrow\">\n",
       "    <path class=\"displacy-arc\" id=\"arrow-95212a2843894436a039279e56c59382-0-7\" stroke-width=\"2px\" d=\"M1295,177.0 C1295,89.5 1445.0,89.5 1445.0,177.0\" fill=\"none\" stroke=\"currentColor\"/>\n",
       "    <text dy=\"1.25em\" style=\"font-size: 0.8em; letter-spacing: 1px\">\n",
       "        <textPath xlink:href=\"#arrow-95212a2843894436a039279e56c59382-0-7\" class=\"displacy-label\" startOffset=\"50%\" side=\"left\" fill=\"currentColor\" text-anchor=\"middle\">pobj</textPath>\n",
       "    </text>\n",
       "    <path class=\"displacy-arrowhead\" d=\"M1445.0,179.0 L1453.0,167.0 1437.0,167.0\" fill=\"currentColor\"/>\n",
       "</g>\n",
       "</svg></span>"
      ],
      "text/plain": [
       "<IPython.core.display.HTML object>"
      ]
     },
     "metadata": {},
     "output_type": "display_data"
    }
   ],
   "source": [
    "from spacy import displacy\n",
    "\n",
    "displacy.render(doc_833, jupyter=True)"
   ]
  },
  {
   "cell_type": "code",
   "execution_count": 67,
   "metadata": {},
   "outputs": [
    {
     "data": {
      "text/html": [
       "<span class=\"tex2jax_ignore\"><div class=\"entities\" style=\"line-height: 2.5; direction: ltr\">The \n",
       "<mark class=\"entity\" style=\"background: #7aecec; padding: 0.45em 0.6em; margin: 0 0.25em; line-height: 1; border-radius: 0.35em;\">\n",
       "    Stainless Steel\n",
       "    <span style=\"font-size: 0.8em; font-weight: bold; line-height: 1; border-radius: 0.35em; vertical-align: middle; margin-left: 0.5rem\">ORG</span>\n",
       "</mark>\n",
       " rat is back! \n",
       "<mark class=\"entity\" style=\"background: #aa9cfc; padding: 0.45em 0.6em; margin: 0 0.25em; line-height: 1; border-radius: 0.35em;\">\n",
       "    Slippery Jim\n",
       "    <span style=\"font-size: 0.8em; font-weight: bold; line-height: 1; border-radius: 0.35em; vertical-align: middle; margin-left: 0.5rem\">PERSON</span>\n",
       "</mark>\n",
       " diGriz, the future's most lovable, laughable, larcenous conman tumed counterspy, retums for yet another high-tension mission. This time \n",
       "<mark class=\"entity\" style=\"background: #7aecec; padding: 0.45em 0.6em; margin: 0 0.25em; line-height: 1; border-radius: 0.35em;\">\n",
       "    the Special Corps\n",
       "    <span style=\"font-size: 0.8em; font-weight: bold; line-height: 1; border-radius: 0.35em; vertical-align: middle; margin-left: 0.5rem\">ORG</span>\n",
       "</mark>\n",
       " has given the Rat a daring assignment - liberate a backward tourist planet from the clutches of an aging dictator. With his lovely but lethal wife, \n",
       "<mark class=\"entity\" style=\"background: #feca74; padding: 0.45em 0.6em; margin: 0 0.25em; line-height: 1; border-radius: 0.35em;\">\n",
       "    Angelina\n",
       "    <span style=\"font-size: 0.8em; font-weight: bold; line-height: 1; border-radius: 0.35em; vertical-align: middle; margin-left: 0.5rem\">GPE</span>\n",
       "</mark>\n",
       ", and his \n",
       "<mark class=\"entity\" style=\"background: #e4e7d2; padding: 0.45em 0.6em; margin: 0 0.25em; line-height: 1; border-radius: 0.35em;\">\n",
       "    two\n",
       "    <span style=\"font-size: 0.8em; font-weight: bold; line-height: 1; border-radius: 0.35em; vertical-align: middle; margin-left: 0.5rem\">CARDINAL</span>\n",
       "</mark>\n",
       " stalwart sons, \n",
       "<mark class=\"entity\" style=\"background: #7aecec; padding: 0.45em 0.6em; margin: 0 0.25em; line-height: 1; border-radius: 0.35em;\">\n",
       "    James and Bolivar\n",
       "    <span style=\"font-size: 0.8em; font-weight: bold; line-height: 1; border-radius: 0.35em; vertical-align: middle; margin-left: 0.5rem\">ORG</span>\n",
       "</mark>\n",
       ", diGriz pits ballots against bullets in the fight for freedom. He's vowed to restore truth, justice, and democracy to the world of \n",
       "<mark class=\"entity\" style=\"background: #9cc9cc; padding: 0.45em 0.6em; margin: 0 0.25em; line-height: 1; border-radius: 0.35em;\">\n",
       "    Parisio-Aqui\n",
       "    <span style=\"font-size: 0.8em; font-weight: bold; line-height: 1; border-radius: 0.35em; vertical-align: middle; margin-left: 0.5rem\">FAC</span>\n",
       "</mark>\n",
       ", if he has to lie, cheat, and steal to do it.</div></span>"
      ],
      "text/plain": [
       "<IPython.core.display.HTML object>"
      ]
     },
     "metadata": {},
     "output_type": "display_data"
    }
   ],
   "source": [
    "displacy.render(doc_2042, jupyter=True, style=\"ent\")"
   ]
  },
  {
   "cell_type": "markdown",
   "metadata": {},
   "source": [
    "## Exercise 1\n",
    "Download and create a `nlp` pipeline using the *en_core_web_sm* model and see what entities are identified using your sample from the `stage_text_nodes` dataframe.\n",
    "\n",
    "> **Extra credit** Find a non-english resource in `stage_text_nodes`, find a corresponding \n",
    "> [spaCy][SPACY] trained pipeline at https://spacy.io/models and follow the above steps to \n",
    "> identify any entities in the *title*, *label*, or *summary* values.\n",
    "\n",
    "[SPACY]: https://spacy.io/"
   ]
  },
  {
   "cell_type": "markdown",
   "metadata": {},
   "source": [
    "## Full-Text and Sinopia RDF Metadata\n",
    "Exciting possibilities of applying machine learning to library workflows comes when we combine linked-data cataloging with the availability of the full-text. For example, we can run NER on the entirety of the full-text, and add any identified entities to our RDF. \n",
    "\n",
    "> Special thanks to Tim Thompson and Greta de Groat for providing examples of cataloged\n",
    "> resources in Sinopia that have available full-text!\n"
   ]
  },
  {
   "cell_type": "markdown",
   "metadata": {},
   "source": [
    "### Example One: *Alarmingly suspicious*\n",
    "First we will download the Sinopia record for this Work, https://api.sinopia.io/resource/65a2b059-5ac1-48a6-adbb-870712c3060c, and extract the `data` property to create a RDF graph."
   ]
  },
  {
   "cell_type": "code",
   "execution_count": 69,
   "metadata": {},
   "outputs": [
    {
     "name": "stdout",
     "output_type": "stream",
     "text": [
      "Number of triples 48\n"
     ]
    }
   ],
   "source": [
    "example1_result = requests.get(\n",
    "    \"https://api.sinopia.io/resource/65a2b059-5ac1-48a6-adbb-870712c3060c\"\n",
    ")\n",
    "example1_graph = rdflib.Graph()\n",
    "for ns, url in helpers.NAMESPACES.items():\n",
    "    example1_graph.namespace_manager.bind(ns, url)\n",
    "example1_graph.parse(\n",
    "    data=json.dumps(example1_result.json().get(\"data\")), format=\"json-ld\"\n",
    ")\n",
    "\n",
    "print(f\"Number of triples {len(example1_graph)}\")"
   ]
  },
  {
   "cell_type": "markdown",
   "metadata": {},
   "source": [
    "Second, we open the full-text that was retrieved from the [Haithtrust](https://babel.hathitrust.org/cgi/pt?id=uiuo.ark:/13960/t14n5kz7q&view=1up&seq=3) and load all of the text and save to the `example1_text` variable. "
   ]
  },
  {
   "cell_type": "code",
   "execution_count": 70,
   "metadata": {},
   "outputs": [
    {
     "name": "stdout",
     "output_type": "stream",
     "text": [
      "Number of characters in the text is 61,249\n"
     ]
    }
   ],
   "source": [
    "with open(\"data/65a2b059-5ac1-48a6-adbb-870712c3060c.txt\") as fo:\n",
    "    example1_text = fo.read()\n",
    "\n",
    "print(f\"Number of characters in the text is {len(example1_text):,}\")"
   ]
  },
  {
   "cell_type": "markdown",
   "metadata": {},
   "source": [
    "Third, we will run the full-text through our [spaCy][SPACY] en_nlp pipeline and then examine the identified entities.\n",
    "\n",
    "[SPACY]: https://spacy.io/"
   ]
  },
  {
   "cell_type": "code",
   "execution_count": 71,
   "metadata": {},
   "outputs": [
    {
     "name": "stdout",
     "output_type": "stream",
     "text": [
      "Number of entities: 587\n"
     ]
    }
   ],
   "source": [
    "example1_doc = en_nlp(example1_text)\n",
    "print(f\"Number of entities: {len(example1_doc.ents):,}\")"
   ]
  },
  {
   "cell_type": "markdown",
   "metadata": {},
   "source": [
    "Of the 587 entities, we will extract the **PERSON** and **GPE** (location) entities for further analysis. "
   ]
  },
  {
   "cell_type": "code",
   "execution_count": 72,
   "metadata": {},
   "outputs": [
    {
     "name": "stdout",
     "output_type": "stream",
     "text": [
      "NER found 281 people and 34 locations\n"
     ]
    }
   ],
   "source": [
    "people, locations = [], []\n",
    "\n",
    "for ent in example1_doc.ents:\n",
    "    if ent.label_.startswith(\"PERSON\"):\n",
    "        people.append(ent)\n",
    "    if ent.label_.startswith(\"GPE\"):\n",
    "        locations.append(ent)\n",
    "print(f\"NER found {len(people):,} people and {len(locations):,} locations\")"
   ]
  },
  {
   "cell_type": "markdown",
   "metadata": {},
   "source": [
    "Looking at the `people` list, we notice a number of duplications (for now we don't care where the person entity was found in the text) so we filter this list."
   ]
  },
  {
   "cell_type": "code",
   "execution_count": 74,
   "metadata": {},
   "outputs": [
    {
     "name": "stdout",
     "output_type": "stream",
     "text": [
      "J.\n",
      "\t   Palgrave Simpson\n"
     ]
    }
   ],
   "source": [
    "print(people[0])"
   ]
  },
  {
   "cell_type": "code",
   "execution_count": 75,
   "metadata": {},
   "outputs": [],
   "source": [
    "people = set([\" \".join(ent.text.split()) for ent in people])\n",
    "locations = set([\" \".join(ent.text.split()) for ent in locations])"
   ]
  },
  {
   "cell_type": "code",
   "execution_count": 76,
   "metadata": {},
   "outputs": [
    {
     "data": {
      "text/plain": [
       "(103, 20)"
      ]
     },
     "execution_count": 76,
     "metadata": {},
     "output_type": "execute_result"
    }
   ],
   "source": [
    "len(people), len(locations)"
   ]
  },
  {
   "cell_type": "markdown",
   "metadata": {},
   "source": [
    "With these identified names, we can use the VIAF [SRU Search](https://platform.worldcat.org/api-explorer/apis/VIAF/AuthorityCluster/SRUSearch) on each of the `people` entities to see if we can narrow down our list using this authority source. In the helpers module, the `viaf_people_search` function returns a dictionary VIAF urls that match the term and the first main heading of the record.\n",
    "\n",
    "We can then aggregate these results and see what remains. "
   ]
  },
  {
   "cell_type": "code",
   "execution_count": 77,
   "metadata": {},
   "outputs": [
    {
     "name": "stdout",
     "output_type": "stream",
     "text": [
      "0..25...50..75...100"
     ]
    }
   ],
   "source": [
    "example1_people = {}\n",
    "for i, term in enumerate(list(people)):\n",
    "    # Removes newlines, tabs, and spaces from the entity text\n",
    "    viaf_result = helpers.viaf_people_search(term)\n",
    "    example1_people.update(viaf_result)\n",
    "    if not i % 10 and i > 0:\n",
    "        print(\".\", end=\"\")\n",
    "    if not i % 25:\n",
    "        print(f\"{i}\", end=\"\")"
   ]
  },
  {
   "cell_type": "code",
   "execution_count": 78,
   "metadata": {
    "tags": []
   },
   "outputs": [
    {
     "data": {
      "text/plain": [
       "{'http://viaf.org/viaf/8865152744551427850006/': ['Flahault, Emilie de 1819-1895'],\n",
       " 'http://viaf.org/viaf/6089152988212712790001/': ['Abell, John 1653-1724'],\n",
       " 'http://viaf.org/viaf/1233159233932703370076/': ['Palmer, W.'],\n",
       " 'http://viaf.org/viaf/467155284807287060878/': [\"Gentleman lately residing at the English ambassador's at Paris\"],\n",
       " 'http://viaf.org/viaf/138389/': ['Sharp, Tony.'],\n",
       " 'http://viaf.org/viaf/8102151837999320520004/': ['Souligne, De'],\n",
       " 'http://viaf.org/viaf/6770159477671927990009/': ['Tavčar-Kalcher, Gabrijela'],\n",
       " 'http://viaf.org/viaf/4210164963959424300006/': ['Peter R. Slater'],\n",
       " 'http://viaf.org/viaf/947157704199544440008/': ['Bellanger, Augustin, 1868-19..'],\n",
       " 'http://viaf.org/viaf/9970163710044729700003/': ['Wareham, Pete'],\n",
       " 'http://viaf.org/viaf/9956149198279174940000/': ['Stair, Henry H.'],\n",
       " 'http://viaf.org/viaf/9923158491050611920006/': ['Bossley, Pete'],\n",
       " 'http://viaf.org/viaf/100904454/': ['White, James, 1863-1928.'],\n",
       " 'http://viaf.org/viaf/60024852/': ['Gale, William G.'],\n",
       " 'http://viaf.org/viaf/79832685/': ['Count, Berry'],\n",
       " 'http://viaf.org/viaf/79592047/': ['Drossner, Heinz'],\n",
       " 'http://viaf.org/viaf/19817862/': ['Poschinger, Heinrich \\x98von\\x9c 1845-1911'],\n",
       " 'http://viaf.org/viaf/7234159248113504870007/': ['Pigott Charles, -1794'],\n",
       " 'http://viaf.org/viaf/1850149368830185980007/': ['Twine, Linda'],\n",
       " 'http://viaf.org/viaf/9556159248563704870009/': ['Independent elector'],\n",
       " 'http://viaf.org/viaf/9162149198351574940007/': ['Dodson, Owen, 1914-1983'],\n",
       " 'http://viaf.org/viaf/9031149368862385980003/': ['Thiele jr, Bob'],\n",
       " 'http://viaf.org/viaf/7627165628860742480006/': ['Dierikx, Marc, 1957-'],\n",
       " 'http://viaf.org/viaf/1551159234452403371761/': ['Davis, Mme'],\n",
       " 'http://viaf.org/viaf/8144782940678562917/': ['Rebecca, Biagio, 1735-1808'],\n",
       " 'http://viaf.org/viaf/95730850/': ['George Jamesone'],\n",
       " 'http://viaf.org/viaf/283709/': ['Chase, William Merritt, 1849-1916'],\n",
       " 'http://viaf.org/viaf/310152742908027731493/': ['Valletort, Lady 19.sc'],\n",
       " 'http://viaf.org/viaf/272152742908127731486/': ['Valletort, Lord'],\n",
       " 'http://viaf.org/viaf/26152742893627730540/': ['Popeley, William 1718+'],\n",
       " 'http://viaf.org/viaf/9994156012397449700001/': ['Schneider, Raimund'],\n",
       " 'http://viaf.org/viaf/9985152684042123430003/': ['Schneider, Konrad'],\n",
       " 'http://viaf.org/viaf/9983160668220203560000/': ['Schneider, Wolfgang 1941-'],\n",
       " 'http://viaf.org/viaf/251154381047830291905/': ['Suggs 1961-'],\n",
       " 'http://viaf.org/viaf/104546401/': ['McPherson, R. U. (Robert U.)'],\n",
       " 'http://viaf.org/viaf/75913128/': ['Collyer, Robert, 1823-1912'],\n",
       " 'http://viaf.org/viaf/33291805/': ['McPherson, R. B.'],\n",
       " 'http://viaf.org/viaf/11087558/': ['McPherson, M.B.'],\n",
       " 'http://viaf.org/viaf/9924151247972544270006/': ['Voigt, Emil 1881-'],\n",
       " 'http://viaf.org/viaf/9956160668064303560006/': ['MacPherson, Donald (Piper)'],\n",
       " 'http://viaf.org/viaf/9944165628872942480003/': ['M. J. McPherson Britský biolog. Publikace z biochemie a molekulární biologie.'],\n",
       " 'http://viaf.org/viaf/9940158309873606690004/': ['McPherson, Marlene, 1962-'],\n",
       " 'http://viaf.org/viaf/9847148390858410830004/': ['Unaipon, James, approximately 1835-1907'],\n",
       " 'http://viaf.org/viaf/9975161211812740070002/': ['Padmarajiah, Y.J.'],\n",
       " 'http://viaf.org/viaf/9974162669630655500001/': ['Carrero, Manuel E. (Manuel Edgar)'],\n",
       " 'http://viaf.org/viaf/7502159477902827990003/': ['Loop, George'],\n",
       " 'http://viaf.org/viaf/9958161453851364330000/': ['Maria II, Rainha de Portugal, 1819-1853.'],\n",
       " 'http://viaf.org/viaf/9610158188279820260005/': ['José Pedro Dias de Carvalho politiko brasileño'],\n",
       " 'http://viaf.org/viaf/9540154441766335460005/': ['Anh, Ngoc 19..-.... chanteur'],\n",
       " 'http://viaf.org/viaf/9503160667714203560008/': ['Serrano, P. A., fl. entre 1850 e 1869'],\n",
       " 'http://viaf.org/viaf/9215160667618603560004/': ['G. L.'],\n",
       " 'http://viaf.org/viaf/206143594/': ['Denance, Pascale, 1937-....'],\n",
       " 'http://viaf.org/viaf/66735201/': ['Warren, Charles Turner, 1767-1823?'],\n",
       " 'http://viaf.org/viaf/59084053/': ['Inchbald, Elizabeth, 1753-1821'],\n",
       " 'http://viaf.org/viaf/54232372/': ['Ortemann, Marie-Jeanne, 1942-....'],\n",
       " 'http://viaf.org/viaf/42226408/': ['Palmerston, Emily Lamb, Viscountess, 1787-1869'],\n",
       " 'http://viaf.org/viaf/1162160486138905180002/': ['Carducci, Joe'],\n",
       " 'http://viaf.org/viaf/309880850/': ['Federica Sallusto'],\n",
       " 'http://viaf.org/viaf/306131981/': ['Woodman, John, active 1733-1750'],\n",
       " 'http://viaf.org/viaf/7204163709887929700009/': ['Macintosh, Adrian'],\n",
       " 'http://viaf.org/viaf/683164604083537910006/': ['Pococke, Edward'],\n",
       " 'http://viaf.org/viaf/58149105997368490264/': ['McBride, Nate 1971-'],\n",
       " 'http://viaf.org/viaf/315648751/': [\"O'Hea, J. F. (John Fergus), ca.1838-1922, artist.\"],\n",
       " 'http://viaf.org/viaf/315121564/': ['Newton, Curt'],\n",
       " 'http://viaf.org/viaf/9946164298353108630002/': ['Sharp, Wendy, active 1997'],\n",
       " 'http://viaf.org/viaf/9946160668282603560009/': ['Sharp, Ed'],\n",
       " 'http://viaf.org/viaf/9818155566450113380002/': ['Habaděj, Kos, 1860-1932'],\n",
       " 'http://viaf.org/viaf/9800154387438330970003/': ['Ross, Barnaby'],\n",
       " 'http://viaf.org/viaf/9564160668218803560001/': ['Reid-Smith, Edward R. (Edward Reid), 1929-'],\n",
       " 'http://viaf.org/viaf/9240159248562804870004/': ['Duby, Jean-Etienne, dit John'],\n",
       " 'http://viaf.org/viaf/7386077/': ['Angelou, Maya, 1928-2014'],\n",
       " 'http://viaf.org/viaf/564159474188627661806/': ['Barnaba da Cologna, O.F.M., 1867-1911'],\n",
       " 'http://viaf.org/viaf/313159474329327662893/': ['Barnaba da Bologna, O.F.M.Rif'],\n",
       " 'http://viaf.org/viaf/274159474316327662559/': ['Barnaba da Caprile, O.F.M. Cap'],\n",
       " 'http://viaf.org/viaf/134159234087203370736/': ['Barnaba, F'],\n",
       " 'http://viaf.org/viaf/557159234258103371162/': ['A.B'],\n",
       " 'http://viaf.org/viaf/207144647695939724000/': ['Moennich, Martha L., 1896-1972'],\n",
       " 'http://viaf.org/viaf/302026214/': ['Głowacki, Józef Hilary (1789-1858).'],\n",
       " 'http://viaf.org/viaf/285767412/': ['Hüske, Annike B.'],\n",
       " 'http://viaf.org/viaf/263475624/': ['A. B'],\n",
       " 'http://viaf.org/viaf/9999155286662887180003/': ['Gerhard Rothe'],\n",
       " 'http://viaf.org/viaf/4153152331605903260000/': ['Santos, Pedro 1919-1993'],\n",
       " 'http://viaf.org/viaf/10151302937248662961/': ['Gama, Emérico da, 1931-2014'],\n",
       " 'http://viaf.org/viaf/301655738/': ['McLellan, C. M. S. (Charles Morton Stewart), 1865-1916'],\n",
       " 'http://viaf.org/viaf/275427586/': ['James, Stephanie.'],\n",
       " 'http://viaf.org/viaf/107533016/': ['Morgan, Lady, (Sydney), 1783-1859'],\n",
       " 'http://viaf.org/viaf/62159818679113811486/': ['Giltenan, Edward Baker, Woolen draper'],\n",
       " 'http://viaf.org/viaf/79197551/': ['Batalov, Aleksej Vladimirovič, 1928-2017'],\n",
       " 'http://viaf.org/viaf/54255124/': ['Austin, William, 1778-1841'],\n",
       " 'http://viaf.org/viaf/46617092/': ['Austin, William, 1721-1820'],\n",
       " 'http://viaf.org/viaf/26936472/': ['Jackson, Lawrence, 1691-1772'],\n",
       " 'http://viaf.org/viaf/9986158631025523370006/': ['Bernet, William'],\n",
       " 'http://viaf.org/viaf/9980161763146422560001/': ['François, Juliette 1925-2007'],\n",
       " 'http://viaf.org/viaf/9999159109717806900008/': ['이승헌'],\n",
       " 'http://viaf.org/viaf/9997157527306027300005/': ['이은덕'],\n",
       " 'http://viaf.org/viaf/9995149662201807020007/': ['Lee, Rox, 1950-...'],\n",
       " 'http://viaf.org/viaf/9999159764098708170006/': ['Cui, Lixin'],\n",
       " 'http://viaf.org/viaf/9999155708730222580003/': ['Goetsch, Hal 1924-2011'],\n",
       " 'http://viaf.org/viaf/18153773422361430930/': ['Sharp, Nicholas (Cricket historian)'],\n",
       " 'http://viaf.org/viaf/15153773419161430970/': ['Sharp, Nicholas (Lawyer)'],\n",
       " 'http://viaf.org/viaf/202397991/': ['Sharp, Nicholas Andrew 1944-'],\n",
       " 'http://viaf.org/viaf/54281744/': ['Sokolowski, Thomas W.'],\n",
       " 'http://viaf.org/viaf/12460530/': ['Sharp, Nicholas J.H.'],\n",
       " 'http://viaf.org/viaf/1335159234043703370504/': ['Maggot, Butterfly'],\n",
       " 'http://viaf.org/viaf/1191159234098003370799/': ['Physician of Bath'],\n",
       " 'http://viaf.org/viaf/293027492/': ['Watanabe, Osamu, 1980-'],\n",
       " 'http://viaf.org/viaf/111335861/': ['Himeno, Masako, 1939-....'],\n",
       " 'http://viaf.org/viaf/9885149108646368780009/': ['Sigfús Halldórsson 1920-1996'],\n",
       " 'http://viaf.org/viaf/9828157342859010100008/': ['Henderson, Charles Atta'],\n",
       " 'http://viaf.org/viaf/9768161212077040070004/': ['Knapp, Bettye'],\n",
       " 'http://viaf.org/viaf/9999165326485416290003/': ['Belyaev, Alexander S., 19..-...., physicien'],\n",
       " 'http://viaf.org/viaf/9974160667779703560002/': ['Butigan, Ken'],\n",
       " 'http://viaf.org/viaf/9852163709955729700005/': ['Kennedy, Frank'],\n",
       " 'http://viaf.org/viaf/4819162906466578110009/': ['Ball, John'],\n",
       " 'http://viaf.org/viaf/9999157527347027300005/': ['원성진'],\n",
       " 'http://viaf.org/viaf/9987159400308319620003/': ['Jung, Yeonha'],\n",
       " 'http://viaf.org/viaf/9981160486100805180008/': ['김정원'],\n",
       " 'http://viaf.org/viaf/9946160486100705180007/': ['Kang Hye-won'],\n",
       " 'http://viaf.org/viaf/9550149296178380670006/': ['Mæhle, Magne'],\n",
       " 'http://viaf.org/viaf/9543152140012211100004/': ['Jón Steinar Jónsson 1957-'],\n",
       " 'http://viaf.org/viaf/9537149198239974940007/': ['Juhlin, Susan'],\n",
       " 'http://viaf.org/viaf/9992160668251603560004/': ['Rathbun, Betty Lou K. (Betty Lou Kilbert)'],\n",
       " 'http://viaf.org/viaf/9973160667843203560006/': ['Magalhães, Paulo. (Advogado)'],\n",
       " 'http://viaf.org/viaf/9961157643201938590002/': ['ALI (American graffiti artist and musician, born 1956)'],\n",
       " 'http://viaf.org/viaf/9995160909265912870007/': ['Look, Emily'],\n",
       " 'http://viaf.org/viaf/9978165628873142480009/': ['Hyatt, Emily'],\n",
       " 'http://viaf.org/viaf/316149196482874791618/': ['Keene, Laura'],\n",
       " 'http://viaf.org/viaf/20161760532521642810/': ['Donahoe, J. A. (Joseph Aloysius), 1875-'],\n",
       " 'http://viaf.org/viaf/73128378/': ['Bryan, Vernanne, 1941-'],\n",
       " 'http://viaf.org/viaf/45103975/': ['Keene, Laura, 1826-1873'],\n",
       " 'http://viaf.org/viaf/311736355/': ['Below, Christian Henrich \\x98de\\x9c 1702-1722'],\n",
       " 'http://viaf.org/viaf/36970098/': ['Grunert, Johann, 1666-1731'],\n",
       " 'http://viaf.org/viaf/32907329/': ['Schneider, Johann Friedemann, 1669-1733'],\n",
       " 'http://viaf.org/viaf/57984442/': ['Simpson, J. Palgrave (John Palgrave), 1807-1887'],\n",
       " 'http://viaf.org/viaf/49318426/': ['Weber, Max Maria \\x98von\\x9c 1822-1881'],\n",
       " 'http://viaf.org/viaf/44305889/': ['Synge, John Millington, 1871-1909.'],\n",
       " 'http://viaf.org/viaf/9996159477863727990008/': ['Vũ, Tố Hảo'],\n",
       " 'http://viaf.org/viaf/9995159477841227990004/': ['Cellier, Mlle'],\n",
       " 'http://viaf.org/viaf/9965160668375503560003/': ['Van der Westhuizen, W. M. (Willem Morkel)'],\n",
       " 'http://viaf.org/viaf/9906160546939610240000/': ['Hogan, William Samuel, 1897-1954'],\n",
       " 'http://viaf.org/viaf/9872163710044429700007/': ['Young, Willie'],\n",
       " 'http://viaf.org/viaf/9868163710014929700008/': ['Reed, Willie'],\n",
       " 'http://viaf.org/viaf/9866161211619640070005/': ['Vroom, Berend (B.J.)'],\n",
       " 'http://viaf.org/viaf/9999160668126703560006/': ['Engel, Wolfgang'],\n",
       " 'http://viaf.org/viaf/9999158915912650000002/': ['Kārļa Paucīša apgāds'],\n",
       " 'http://viaf.org/viaf/9999156012424849700005/': ['Gürtler, Josef'],\n",
       " 'http://viaf.org/viaf/1340160668441903560000/': ['Curzon-Siggers, Helen'],\n",
       " 'http://viaf.org/viaf/722159234869803372966/': ['Fischer, Jean E'],\n",
       " 'http://viaf.org/viaf/411159234291403371362/': ['Lawson, James Morris'],\n",
       " 'http://viaf.org/viaf/295800268/': ['Matthews, Gwynda, 1926-'],\n",
       " 'http://viaf.org/viaf/280473255/': ['Barton, Frank M. (Frank Matthews), 1869-1940'],\n",
       " 'http://viaf.org/viaf/49234619/': ['Home, John, 1722-1808'],\n",
       " 'http://viaf.org/viaf/49092274/': ['Home, John, ca. 1650-1740'],\n",
       " 'http://viaf.org/viaf/44294706/': ['Arnoux, Claude, 1935-....'],\n",
       " 'http://viaf.org/viaf/36772449/': ['Hay, John, 1700-1780'],\n",
       " 'http://viaf.org/viaf/31860240/': ['Belton, James'],\n",
       " 'http://viaf.org/viaf/8681147270668935700001/': ['Friedrich von Hessen-Philippsthal-Barchfeld'],\n",
       " 'http://viaf.org/viaf/8209159035179801380004/': ['Patoni, Giovanni Battista 1713c-1773'],\n",
       " 'http://viaf.org/viaf/9905160667747003560003/': ['Gueye Kebe, Awa'],\n",
       " 'http://viaf.org/viaf/9745160668250703560003/': ['岡本, 呑洋, 1856-1939'],\n",
       " 'http://viaf.org/viaf/8534155566447013380000/': ['Wargala, Tomasz'],\n",
       " 'http://viaf.org/viaf/9999160668406903560005/': ['Ball, Chester E.'],\n",
       " 'http://viaf.org/viaf/9977160668157603560000/': ['Gambrell, C. E. (Carl Edwin)'],\n",
       " 'http://viaf.org/viaf/9976162669630655500002/': ['King, Joseph F.'],\n",
       " 'http://viaf.org/viaf/8281163710010029700009/': ['Butler, Henry'],\n",
       " 'http://viaf.org/viaf/6194158792853239040000/': ['Butler, Harry, 1889-1924'],\n",
       " 'http://viaf.org/viaf/19945564/': ['Roff, Joseph'],\n",
       " 'http://viaf.org/viaf/9946159248092004870000/': ['Miles, William Augustus'],\n",
       " 'http://viaf.org/viaf/9941158915885150000008/': ['Grant, Robert McQueen'],\n",
       " 'http://viaf.org/viaf/9937160668251403560008/': ['Lautensack, Rudolph August von -1737'],\n",
       " 'http://viaf.org/viaf/9998160668126703560008/': ['Smith, Thomas M. (Thomas Michael), 1958-'],\n",
       " 'http://viaf.org/viaf/9998160310474158300005/': ['Smith, Sheldon'],\n",
       " 'http://viaf.org/viaf/9998159478179427990003/': ['Wenban-Smith, Nigel, 1936-....'],\n",
       " 'http://viaf.org/viaf/9709163877702646060003/': ['Gibson, Fiona'],\n",
       " 'http://viaf.org/viaf/69014309/': ['Malleson, G.B. (George Bruce), 1825-1898'],\n",
       " 'http://viaf.org/viaf/8806149198237174940002/': ['Parker, Christopher, 1941-....'],\n",
       " 'http://viaf.org/viaf/6332164604111637910000/': ['Itoh, Makoto'],\n",
       " 'http://viaf.org/viaf/6287160062488835790008/': ['Lee, Jason.'],\n",
       " 'http://viaf.org/viaf/3404147967355084200007/': ['Kuss, Daria J.'],\n",
       " 'http://viaf.org/viaf/9991158915885350000004/': ['Lang, Andrew'],\n",
       " 'http://viaf.org/viaf/9982162669342755500008/': ['Yoelin, Shelley'],\n",
       " 'http://viaf.org/viaf/9949149108522268780007/': ['Pickett, Adrian'],\n",
       " 'http://viaf.org/viaf/304536930/': ['Bartley, Kevin G.'],\n",
       " 'http://viaf.org/viaf/278409400/': ['Hoebel, Bartley G'],\n",
       " 'http://viaf.org/viaf/117667066/': ['Bartley, C. G.'],\n",
       " 'http://viaf.org/viaf/93022917/': ['Bartley, J. G. (Jonathan Glen), 1963-'],\n",
       " 'http://viaf.org/viaf/27341816/': ['Bartley, B. G. D. (Basil G. D.)'],\n",
       " 'http://viaf.org/viaf/9005162062774651650005/': ['Creelman, James'],\n",
       " 'http://viaf.org/viaf/8087149198309974940005/': ['Harris, Chris']}"
      ]
     },
     "execution_count": 78,
     "metadata": {},
     "output_type": "execute_result"
    }
   ],
   "source": [
    "example1_people"
   ]
  },
  {
   "cell_type": "markdown",
   "metadata": {},
   "source": [
    "### Example 2 - *Improving water supply networks*\n",
    "The second example is the report, *Improving water supply networks*, with the following Sinopia Resources:\n",
    "\n",
    "- BIBFRAME Instance https://api.stage.sinopia.io/resource/e865acc1-9b24-401e-a0eb-36ca1ca8b1d6\n",
    "- BIBFRAME Work https://api.stage.sinopia.io/resource/3ccb6255-a090-4751-b68f-7f7861986452\n",
    "\n",
    "First we will retrieve the resources and add them to a RDF graph."
   ]
  },
  {
   "cell_type": "code",
   "execution_count": null,
   "metadata": {},
   "outputs": [],
   "source": [
    "example2_graph = rdflib.Graph()\n",
    "for ns, url in helpers.NAMESPACES.items():\n",
    "    example2_graph.namespace_manager.bind(ns, url)\n",
    "\n",
    "for sinopia_url in [\n",
    "    \"https://api.stage.sinopia.io/resource/ae7a9f2c-a5db-4472-80fe-9a30f311386d\",\n",
    "    \"https://api.stage.sinopia.io/resource/3ccb6255-a090-4751-b68f-7f7861986452\",\n",
    "]:\n",
    "    sinopia_result = requests.get(sinopia_url)\n",
    "    example2_graph.parse(\n",
    "        data=json.dumps(sinopia_result.json()[\"data\"]), format=\"json-ld\"\n",
    "    )\n",
    "print(f\"Total number of triples for example 2 {len(example2_graph):,}\")"
   ]
  },
  {
   "cell_type": "markdown",
   "metadata": {},
   "source": [
    "Second, we will open and read the full-text for *Improving water supply networks*"
   ]
  },
  {
   "cell_type": "code",
   "execution_count": null,
   "metadata": {},
   "outputs": [],
   "source": [
    "with open(\"data/ae7a9f2c-a5db-4472-80fe-9a30f311386d.txt\") as fo:\n",
    "    example2_text = fo.read()\n",
    "\n",
    "print(f\"Number of characters in the text is {len(example2_text):,}\")"
   ]
  },
  {
   "cell_type": "markdown",
   "metadata": {},
   "source": [
    "Third, we will run the full-text through our [spaCy][SPACY] en_nlp pipeline and then examine the identified entities.\n",
    "\n",
    "[SPACY]: https://spacy.io"
   ]
  },
  {
   "cell_type": "code",
   "execution_count": null,
   "metadata": {},
   "outputs": [],
   "source": [
    "example2_doc = en_nlp(example2_text)\n",
    "print(f\"Number of entities: {len(example2_doc.ents):,}\")"
   ]
  },
  {
   "cell_type": "code",
   "execution_count": null,
   "metadata": {},
   "outputs": [],
   "source": [
    "example2_people, example2_locations = [], []\n",
    "\n",
    "for ent in example2_doc.ents:\n",
    "    if ent.label_.startswith(\"PERSON\"):\n",
    "        example2_people.append(ent)\n",
    "    if ent.label_.startswith(\"GPE\"):\n",
    "        example2_locations.append(ent)\n",
    "print(\n",
    "    f\"NER found {len(example2_people):,} people and {len(example2_locations):,} locations\"\n",
    ")"
   ]
  },
  {
   "cell_type": "markdown",
   "metadata": {},
   "source": [
    "We now de-duplicate `example2_people` and `example2_locations`example2_people"
   ]
  },
  {
   "cell_type": "code",
   "execution_count": null,
   "metadata": {},
   "outputs": [],
   "source": [
    "example2_people = set([\" \".join(ent.text.split()) for ent in example2_people])\n",
    "example2_locations = set([\" \".join(ent.text.split()) for ent in example2_locations])"
   ]
  },
  {
   "cell_type": "code",
   "execution_count": null,
   "metadata": {},
   "outputs": [],
   "source": [
    "example2_people"
   ]
  },
  {
   "cell_type": "code",
   "execution_count": null,
   "metadata": {},
   "outputs": [],
   "source": [
    "example2_locations"
   ]
  },
  {
   "cell_type": "markdown",
   "metadata": {},
   "source": [
    "## Exercise 2\n",
    "For the following Sinopia Resources, create a graph, and a NLP pipeline to identify any people and locations in the full-text. The full-text is available in `data/5f8c765d-dc4f-45a0-b2d8-87fe29a38712.txt` file.\n",
    "\n",
    "- BIBFRAME Work https://api.stage.sinopia.io/resource/5f8c765d-dc4f-45a0-b2d8-87fe29a38712 \n",
    "- BIBFRAME Instance https://api.stage.sinopia.io/resource/2e041e16-1b4d-431f-b2d0-396f62270efa\n",
    "- BIBFRAME Item https://api.stage.sinopia.io/resource/53e68480-f82b-4dea-9b9a-68fd5ceacb41"
   ]
  }
 ],
 "metadata": {
  "kernelspec": {
   "display_name": "Python 3 (ipykernel)",
   "language": "python",
   "name": "python3"
  },
  "language_info": {
   "codemirror_mode": {
    "name": "ipython",
    "version": 3
   },
   "file_extension": ".py",
   "mimetype": "text/x-python",
   "name": "python",
   "nbconvert_exporter": "python",
   "pygments_lexer": "ipython3",
   "version": "3.10.4"
  }
 },
 "nbformat": 4,
 "nbformat_minor": 4
}
