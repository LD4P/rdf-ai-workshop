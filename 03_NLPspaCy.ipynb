{
 "cells": [
  {
   "cell_type": "markdown",
   "metadata": {},
   "source": [
    "# Natural Language Processing (NLP) with spaCy\n",
    "In this notebook, we will use the Natural Language Processing library for Python called [spaCy][SPACY]. \n",
    "The functionality provided by [spaCy][SPACY] allows us to quickly extract parts-of-speech (POS) from text descriptions and to identify entities using [spaCy's][SPACY] named entity recognition (NER). We will initially  use [spaCy][SPACY]'s rule-based matching functionality to create a subject matcher that we can then apply to both Sinopia's RDF metadata as well as the associated full-text for a select sample of these resources.\n",
    "\n",
    "\n",
    "[SPACY]: https://spacy.io/"
   ]
  },
  {
   "cell_type": "code",
   "execution_count": 79,
   "metadata": {},
   "outputs": [],
   "source": [
    "%reload_ext autoreload\n",
    "%autoreload 2\n",
    "%matplotlib inline\n",
    "%reload_ext lab_black\n",
    "\n",
    "import datetime\n",
    "import json\n",
    "import string\n",
    "\n",
    "import pathlib\n",
    "import pandas as pd\n",
    "\n",
    "import kglab\n",
    "import rdflib\n",
    "import requests\n",
    "import spacy\n",
    "import helpers\n",
    "import widgets"
   ]
  },
  {
   "cell_type": "markdown",
   "metadata": {},
   "source": [
    "## Creating a FAST Panda DataFrame\n",
    "Using a csv file derived from OCLC's [FAST](https://www.oclc.org/research/areas/data-science/fast.html)(Faceted Application of Subject Terminology) topic list, we read this csv into a Panda's DataFrame."
   ]
  },
  {
   "cell_type": "code",
   "execution_count": 3,
   "metadata": {},
   "outputs": [],
   "source": [
    "fast_topics = pd.read_csv(\"data/topic_uri_label_utf8.csv\", names=[\"URL\", \"name\"])"
   ]
  },
  {
   "cell_type": "markdown",
   "metadata": {},
   "source": [
    "To get a sense of what data is in the `fast_topics` DataFrame we can look at the *shape*, *info*, and look at a random sample"
   ]
  },
  {
   "cell_type": "code",
   "execution_count": 4,
   "metadata": {},
   "outputs": [
    {
     "name": "stdout",
     "output_type": "stream",
     "text": [
      "Shape of fast_topics (460110, 2)\n",
      "<class 'pandas.core.frame.DataFrame'>\n",
      "RangeIndex: 460110 entries, 0 to 460109\n",
      "Data columns (total 2 columns):\n",
      " #   Column  Non-Null Count   Dtype \n",
      "---  ------  --------------   ----- \n",
      " 0   URL     460110 non-null  object\n",
      " 1   name    460110 non-null  object\n",
      "dtypes: object(2)\n",
      "memory usage: 7.0+ MB\n"
     ]
    }
   ],
   "source": [
    "print(f\"Shape of fast_topics {fast_topics.shape}\")\n",
    "fast_topics.info()"
   ]
  },
  {
   "cell_type": "code",
   "execution_count": 5,
   "metadata": {},
   "outputs": [
    {
     "data": {
      "text/html": [
       "<div>\n",
       "<style scoped>\n",
       "    .dataframe tbody tr th:only-of-type {\n",
       "        vertical-align: middle;\n",
       "    }\n",
       "\n",
       "    .dataframe tbody tr th {\n",
       "        vertical-align: top;\n",
       "    }\n",
       "\n",
       "    .dataframe thead th {\n",
       "        text-align: right;\n",
       "    }\n",
       "</style>\n",
       "<table border=\"1\" class=\"dataframe\">\n",
       "  <thead>\n",
       "    <tr style=\"text-align: right;\">\n",
       "      <th></th>\n",
       "      <th>URL</th>\n",
       "      <th>name</th>\n",
       "    </tr>\n",
       "  </thead>\n",
       "  <tbody>\n",
       "    <tr>\n",
       "      <th>329938</th>\n",
       "      <td>http://id.worldcat.org/fast/1142396</td>\n",
       "      <td>Tamashek language--Grammar</td>\n",
       "    </tr>\n",
       "    <tr>\n",
       "      <th>136448</th>\n",
       "      <td>http://id.worldcat.org/fast/824830</td>\n",
       "      <td>BAM P14 (Electronic computer system)</td>\n",
       "    </tr>\n",
       "    <tr>\n",
       "      <th>206210</th>\n",
       "      <td>http://id.worldcat.org/fast/1004058</td>\n",
       "      <td>Lutheran Church--Sources</td>\n",
       "    </tr>\n",
       "    <tr>\n",
       "      <th>71361</th>\n",
       "      <td>http://id.worldcat.org/fast/970390</td>\n",
       "      <td>Indo-Aryan languages--Social aspects</td>\n",
       "    </tr>\n",
       "    <tr>\n",
       "      <th>393693</th>\n",
       "      <td>http://id.worldcat.org/fast/1145126</td>\n",
       "      <td>Technology--History--Sources</td>\n",
       "    </tr>\n",
       "    <tr>\n",
       "      <th>318328</th>\n",
       "      <td>http://id.worldcat.org/fast/1195938</td>\n",
       "      <td>Trio sonatas (Trombones (2), continuo)</td>\n",
       "    </tr>\n",
       "    <tr>\n",
       "      <th>131078</th>\n",
       "      <td>http://id.worldcat.org/fast/995299</td>\n",
       "      <td>Ledoux, Maggie (Fictitious character)</td>\n",
       "    </tr>\n",
       "    <tr>\n",
       "      <th>292551</th>\n",
       "      <td>http://id.worldcat.org/fast/1017982</td>\n",
       "      <td>Metallurgical plants--Health aspects</td>\n",
       "    </tr>\n",
       "    <tr>\n",
       "      <th>97758</th>\n",
       "      <td>http://id.worldcat.org/fast/858677</td>\n",
       "      <td>Choruses (Women's voices)</td>\n",
       "    </tr>\n",
       "    <tr>\n",
       "      <th>459298</th>\n",
       "      <td>http://id.worldcat.org/fast/1741095</td>\n",
       "      <td>Uga (Dog)</td>\n",
       "    </tr>\n",
       "  </tbody>\n",
       "</table>\n",
       "</div>"
      ],
      "text/plain": [
       "                                        URL  \\\n",
       "329938  http://id.worldcat.org/fast/1142396   \n",
       "136448   http://id.worldcat.org/fast/824830   \n",
       "206210  http://id.worldcat.org/fast/1004058   \n",
       "71361    http://id.worldcat.org/fast/970390   \n",
       "393693  http://id.worldcat.org/fast/1145126   \n",
       "318328  http://id.worldcat.org/fast/1195938   \n",
       "131078   http://id.worldcat.org/fast/995299   \n",
       "292551  http://id.worldcat.org/fast/1017982   \n",
       "97758    http://id.worldcat.org/fast/858677   \n",
       "459298  http://id.worldcat.org/fast/1741095   \n",
       "\n",
       "                                          name  \n",
       "329938              Tamashek language--Grammar  \n",
       "136448    BAM P14 (Electronic computer system)  \n",
       "206210                Lutheran Church--Sources  \n",
       "71361     Indo-Aryan languages--Social aspects  \n",
       "393693            Technology--History--Sources  \n",
       "318328  Trio sonatas (Trombones (2), continuo)  \n",
       "131078   Ledoux, Maggie (Fictitious character)  \n",
       "292551    Metallurgical plants--Health aspects  \n",
       "97758                Choruses (Women's voices)  \n",
       "459298                               Uga (Dog)  "
      ]
     },
     "execution_count": 5,
     "metadata": {},
     "output_type": "execute_result"
    }
   ],
   "source": [
    "fast_topics.sample(10)"
   ]
  },
  {
   "cell_type": "markdown",
   "metadata": {},
   "source": [
    "From our sample, we see that the `name` has punctuation like **(),--** that will need to be removed later in our workflow."
   ]
  },
  {
   "cell_type": "markdown",
   "metadata": {},
   "source": [
    "## spaCy Phrase Matcher\n",
    "With the [FAST][FAST] dataframe as our source, we now will create a [spaCy][SPACY] [PhraseMatcher](https://spacy.io/usage/rule-based-matching#phrasematcher) made up of phrases extracted from the dataframe using the [FAST][FAST] urls as identifiers.\n",
    "\n",
    "We start by importing [spaCy][SPACY] base English vocabulary and create an empty natural language processing (nlp) pipeline that we pass into a new matcher object that will lower-case all of the [FAST][FAST] patterns.\n",
    "\n",
    "[FAST]: https://www.oclc.org/research/areas/data-science/fast.html\n",
    "[SPACY]: https://spacy.io/"
   ]
  },
  {
   "cell_type": "code",
   "execution_count": 16,
   "metadata": {},
   "outputs": [],
   "source": [
    "from spacy.lang.en import English\n",
    "from spacy.matcher import PhraseMatcher\n",
    "\n",
    "nlp = English()\n",
    "fast_topic_matcher = PhraseMatcher(nlp.vocab, attr=\"LOWER\")"
   ]
  },
  {
   "cell_type": "code",
   "execution_count": 10,
   "metadata": {},
   "outputs": [
    {
     "data": {
      "text/plain": [
       "['African', 'American', 'teenagers', 'Education']"
      ]
     },
     "execution_count": 10,
     "metadata": {},
     "output_type": "execute_result"
    }
   ],
   "source": [
    "\"African American teenagers--Education\".strip(string.punctuation).replace(\n",
    "    \"--\", \" \"\n",
    ").split()"
   ]
  },
  {
   "cell_type": "markdown",
   "metadata": {},
   "source": [
    "### Creatings Patterns\n",
    "We will iterate through the dataframe and for each [FAST](https://www.oclc.org/research/areas/data-science/fast.html) series, using the **URL** as the identififer and for the name, remove punctuation, split each name into a list of words, and tokenize each term, and then add to the `fast_topic_matcher`. "
   ]
  },
  {
   "cell_type": "code",
   "execution_count": 17,
   "metadata": {
    "tags": []
   },
   "outputs": [
    {
     "name": "stdout",
     "output_type": "stream",
     "text": [
      "Started at 2021-07-18 16:51:19.635053 of FAST Matching\n",
      "Finished adding FAST Topic patterns at 2021-07-18 16:52:28.180169, total time 1.1333333333333333\n"
     ]
    }
   ],
   "source": [
    "start = datetime.datetime.utcnow()\n",
    "print(f\"Started at {start} of FAST Matching\")\n",
    "# Iterate through the FAST Topic DataFrame\n",
    "for row in fast_topics.iterrows():\n",
    "    ident = row[1][\"URL\"]\n",
    "    name_list = row[1][\"name\"].strip(string.punctuation).replace(\"--\", \" \").split()\n",
    "    name_list = [nlp.make_doc(row) for row in name_list]\n",
    "    fast_topic_matcher.add(ident, name_list)\n",
    "end = datetime.datetime.utcnow()\n",
    "print(\n",
    "    f\"Finished adding FAST Topic patterns at {end}, total time {(end-start).seconds / 60.}\"\n",
    ")"
   ]
  },
  {
   "cell_type": "markdown",
   "metadata": {},
   "source": [
    "Applying the spaCy Phrase matcher to titles and summaries from the Sinopia "
   ]
  },
  {
   "cell_type": "markdown",
   "metadata": {},
   "source": [
    "## Loading Sinopia Stage Knowledge Graph\n",
    "Just like in the previous Jupyter notebook, we will load the saved knowledge graph that we created at the beginning and then we will query the graph using SPARQL."
   ]
  },
  {
   "cell_type": "code",
   "execution_count": 2,
   "metadata": {},
   "outputs": [
    {
     "data": {
      "text/plain": [
       "<kglab.kglab.KnowledgeGraph at 0x7ff82b9bec40>"
      ]
     },
     "execution_count": 2,
     "metadata": {},
     "output_type": "execute_result"
    }
   ],
   "source": [
    "stage_kg = kglab.KnowledgeGraph()\n",
    "stage_kg.load_jsonld(\"data/stage.json\")"
   ]
  },
  {
   "cell_type": "markdown",
   "metadata": {},
   "source": [
    "### RDF Literals Pandas DataFrame\n",
    "With the Sinopia Stage knowledge graph loaded, we will query our Graph for *titles*, *labels*, and any *summary* triples and apply our `fast_topic_matcher` to the results.\n",
    "\n",
    "> **NOTE** The `stage_text_nodes` dataframe has been saved in the **data** directory \n",
    "> and can be loaded for use instead of running this SPARQL query."
   ]
  },
  {
   "cell_type": "code",
   "execution_count": 19,
   "metadata": {},
   "outputs": [],
   "source": [
    "stage_text_nodes = stage_kg.query_as_df(\n",
    "    \"\"\"PREFIX bf: <http://id.loc.gov/ontologies/bibframe/>\n",
    "\n",
    "SELECT ?title ?label ?summary ?url\n",
    "\n",
    "WHERE {\n",
    "  OPTIONAL {\n",
    "      ?title_bnode  bf:mainTitle ?title .\n",
    "      ?url bf:title ?title_bnode .\n",
    "  }\n",
    "  OPTIONAL {\n",
    "      ?label_bnode rdfs:label ?label .\n",
    "      ?url bf:title ?label_bnode .\n",
    "  }\n",
    "  OPTIONAl {\n",
    "      ?url bf:summary ?summary_bnode .\n",
    "      ?summary_bnode rdfs:label ?summary  .\n",
    "  }\n",
    "}\n",
    "\"\"\"\n",
    ")"
   ]
  },
  {
   "cell_type": "code",
   "execution_count": 74,
   "metadata": {},
   "outputs": [],
   "source": [
    "stage_text_nodes.to_json(\"data/stage-text-nodes.json\")"
   ]
  },
  {
   "cell_type": "code",
   "execution_count": 20,
   "metadata": {},
   "outputs": [
    {
     "data": {
      "text/plain": [
       "(11505, 4)"
      ]
     },
     "execution_count": 20,
     "metadata": {},
     "output_type": "execute_result"
    }
   ],
   "source": [
    "stage_text_nodes.shape"
   ]
  },
  {
   "cell_type": "code",
   "execution_count": 21,
   "metadata": {},
   "outputs": [
    {
     "data": {
      "text/html": [
       "<div>\n",
       "<style scoped>\n",
       "    .dataframe tbody tr th:only-of-type {\n",
       "        vertical-align: middle;\n",
       "    }\n",
       "\n",
       "    .dataframe tbody tr th {\n",
       "        vertical-align: top;\n",
       "    }\n",
       "\n",
       "    .dataframe thead th {\n",
       "        text-align: right;\n",
       "    }\n",
       "</style>\n",
       "<table border=\"1\" class=\"dataframe\">\n",
       "  <thead>\n",
       "    <tr style=\"text-align: right;\">\n",
       "      <th></th>\n",
       "      <th>title</th>\n",
       "      <th>url</th>\n",
       "      <th>label</th>\n",
       "      <th>summary</th>\n",
       "    </tr>\n",
       "  </thead>\n",
       "  <tbody>\n",
       "    <tr>\n",
       "      <th>11484</th>\n",
       "      <td>Pocket full of rye</td>\n",
       "      <td>&lt;https://api.stage.sinopia.io/resource/a43a25a...</td>\n",
       "      <td>NaN</td>\n",
       "      <td>\"It started with a spot of tea. It ended in tr...</td>\n",
       "    </tr>\n",
       "    <tr>\n",
       "      <th>1646</th>\n",
       "      <td>Radical cataloging</td>\n",
       "      <td>&lt;https://api.stage.sinopia.io/resource/a677de9...</td>\n",
       "      <td>NaN</td>\n",
       "      <td>NaN</td>\n",
       "    </tr>\n",
       "    <tr>\n",
       "      <th>7539</th>\n",
       "      <td>Thrawn</td>\n",
       "      <td>&lt;https://api.stage.sinopia.io/resource/37f1f83...</td>\n",
       "      <td>NaN</td>\n",
       "      <td>NaN</td>\n",
       "    </tr>\n",
       "    <tr>\n",
       "      <th>8601</th>\n",
       "      <td>Annonij monachi Benedictini diserti &amp; veridici...</td>\n",
       "      <td>&lt;https://api.stage.sinopia.io/resource/c14c1a1...</td>\n",
       "      <td>NaN</td>\n",
       "      <td>NaN</td>\n",
       "    </tr>\n",
       "    <tr>\n",
       "      <th>3094</th>\n",
       "      <td>Beyond Einstein</td>\n",
       "      <td>&lt;https://api.stage.sinopia.io/resource/8c99154...</td>\n",
       "      <td>NaN</td>\n",
       "      <td>NaN</td>\n",
       "    </tr>\n",
       "    <tr>\n",
       "      <th>5901</th>\n",
       "      <td>Caṭṭagrāme Isalāma o aitihya</td>\n",
       "      <td>&lt;https://api.stage.sinopia.io/resource/8bba4df...</td>\n",
       "      <td>NaN</td>\n",
       "      <td>NaN</td>\n",
       "    </tr>\n",
       "    <tr>\n",
       "      <th>10968</th>\n",
       "      <td>If I never met you</td>\n",
       "      <td>&lt;https://api.stage.sinopia.io/resource/810ae29...</td>\n",
       "      <td>NaN</td>\n",
       "      <td>NaN</td>\n",
       "    </tr>\n",
       "    <tr>\n",
       "      <th>1569</th>\n",
       "      <td>Hans Brinker, or, The silver skates</td>\n",
       "      <td>&lt;https://api.stage.sinopia.io/resource/2443ec8...</td>\n",
       "      <td>Silver skates</td>\n",
       "      <td>NaN</td>\n",
       "    </tr>\n",
       "    <tr>\n",
       "      <th>3124</th>\n",
       "      <td>Art and the Second World War</td>\n",
       "      <td>&lt;https://api.stage.sinopia.io/resource/c9e5bfa...</td>\n",
       "      <td>NaN</td>\n",
       "      <td>\"Art and the Second World War is the first boo...</td>\n",
       "    </tr>\n",
       "    <tr>\n",
       "      <th>2033</th>\n",
       "      <td>Vide kige</td>\n",
       "      <td>&lt;https://api.stage.sinopia.io/resource/be5cc0e...</td>\n",
       "      <td>NaN</td>\n",
       "      <td>NaN</td>\n",
       "    </tr>\n",
       "  </tbody>\n",
       "</table>\n",
       "</div>"
      ],
      "text/plain": [
       "                                                   title  \\\n",
       "11484                                 Pocket full of rye   \n",
       "1646                                  Radical cataloging   \n",
       "7539                                              Thrawn   \n",
       "8601   Annonij monachi Benedictini diserti & veridici...   \n",
       "3094                                     Beyond Einstein   \n",
       "5901                    Caṭṭagrāme Isalāma o aitihya   \n",
       "10968                                 If I never met you   \n",
       "1569                 Hans Brinker, or, The silver skates   \n",
       "3124                        Art and the Second World War   \n",
       "2033                                           Vide kige   \n",
       "\n",
       "                                                     url          label  \\\n",
       "11484  <https://api.stage.sinopia.io/resource/a43a25a...            NaN   \n",
       "1646   <https://api.stage.sinopia.io/resource/a677de9...            NaN   \n",
       "7539   <https://api.stage.sinopia.io/resource/37f1f83...            NaN   \n",
       "8601   <https://api.stage.sinopia.io/resource/c14c1a1...            NaN   \n",
       "3094   <https://api.stage.sinopia.io/resource/8c99154...            NaN   \n",
       "5901   <https://api.stage.sinopia.io/resource/8bba4df...            NaN   \n",
       "10968  <https://api.stage.sinopia.io/resource/810ae29...            NaN   \n",
       "1569   <https://api.stage.sinopia.io/resource/2443ec8...  Silver skates   \n",
       "3124   <https://api.stage.sinopia.io/resource/c9e5bfa...            NaN   \n",
       "2033   <https://api.stage.sinopia.io/resource/be5cc0e...            NaN   \n",
       "\n",
       "                                                 summary  \n",
       "11484  \"It started with a spot of tea. It ended in tr...  \n",
       "1646                                                 NaN  \n",
       "7539                                                 NaN  \n",
       "8601                                                 NaN  \n",
       "3094                                                 NaN  \n",
       "5901                                                 NaN  \n",
       "10968                                                NaN  \n",
       "1569                                                 NaN  \n",
       "3124   \"Art and the Second World War is the first boo...  \n",
       "2033                                                 NaN  "
      ]
     },
     "execution_count": 21,
     "metadata": {},
     "output_type": "execute_result"
    }
   ],
   "source": [
    "stage_text_nodes.sample(10)"
   ]
  },
  {
   "cell_type": "code",
   "execution_count": 51,
   "metadata": {},
   "outputs": [
    {
     "data": {
      "text/html": [
       "<div>\n",
       "<style scoped>\n",
       "    .dataframe tbody tr th:only-of-type {\n",
       "        vertical-align: middle;\n",
       "    }\n",
       "\n",
       "    .dataframe tbody tr th {\n",
       "        vertical-align: top;\n",
       "    }\n",
       "\n",
       "    .dataframe thead th {\n",
       "        text-align: right;\n",
       "    }\n",
       "</style>\n",
       "<table border=\"1\" class=\"dataframe\">\n",
       "  <thead>\n",
       "    <tr style=\"text-align: right;\">\n",
       "      <th></th>\n",
       "      <th>title</th>\n",
       "      <th>url</th>\n",
       "      <th>label</th>\n",
       "      <th>summary</th>\n",
       "    </tr>\n",
       "  </thead>\n",
       "  <tbody>\n",
       "    <tr>\n",
       "      <th>11500</th>\n",
       "      <td>Advanced examination techniques in orthopaedics</td>\n",
       "      <td>&lt;https://api.stage.sinopia.io/resource/aed065d...</td>\n",
       "      <td>NaN</td>\n",
       "      <td>NaN</td>\n",
       "    </tr>\n",
       "    <tr>\n",
       "      <th>11501</th>\n",
       "      <td>Silver skates</td>\n",
       "      <td>&lt;https://api.stage.sinopia.io/resource/fbb4be6...</td>\n",
       "      <td>NaN</td>\n",
       "      <td>When a new friend gives Hans and his sister Gr...</td>\n",
       "    </tr>\n",
       "    <tr>\n",
       "      <th>11502</th>\n",
       "      <td>Go down, Moses</td>\n",
       "      <td>&lt;https://api.stage.sinopia.io/resource/87b9231...</td>\n",
       "      <td>NaN</td>\n",
       "      <td>NaN</td>\n",
       "    </tr>\n",
       "    <tr>\n",
       "      <th>11503</th>\n",
       "      <td>American pastoral</td>\n",
       "      <td>&lt;https://api.stage.sinopia.io/resource/e7f97c7...</td>\n",
       "      <td>NaN</td>\n",
       "      <td>NaN</td>\n",
       "    </tr>\n",
       "    <tr>\n",
       "      <th>11504</th>\n",
       "      <td>भारतीय लोकरंगमञ्च</td>\n",
       "      <td>&lt;https://api.stage.sinopia.io/resource/1c3762c...</td>\n",
       "      <td>NaN</td>\n",
       "      <td>NaN</td>\n",
       "    </tr>\n",
       "  </tbody>\n",
       "</table>\n",
       "</div>"
      ],
      "text/plain": [
       "                                                 title  \\\n",
       "11500  Advanced examination techniques in orthopaedics   \n",
       "11501                                    Silver skates   \n",
       "11502                                   Go down, Moses   \n",
       "11503                                American pastoral   \n",
       "11504                                भारतीय लोकरंगमञ्च   \n",
       "\n",
       "                                                     url label  \\\n",
       "11500  <https://api.stage.sinopia.io/resource/aed065d...   NaN   \n",
       "11501  <https://api.stage.sinopia.io/resource/fbb4be6...   NaN   \n",
       "11502  <https://api.stage.sinopia.io/resource/87b9231...   NaN   \n",
       "11503  <https://api.stage.sinopia.io/resource/e7f97c7...   NaN   \n",
       "11504  <https://api.stage.sinopia.io/resource/1c3762c...   NaN   \n",
       "\n",
       "                                                 summary  \n",
       "11500                                                NaN  \n",
       "11501  When a new friend gives Hans and his sister Gr...  \n",
       "11502                                                NaN  \n",
       "11503                                                NaN  \n",
       "11504                                                NaN  "
      ]
     },
     "execution_count": 51,
     "metadata": {},
     "output_type": "execute_result"
    }
   ],
   "source": [
    "stage_text_nodes.tail()"
   ]
  },
  {
   "cell_type": "code",
   "execution_count": 44,
   "metadata": {},
   "outputs": [],
   "source": [
    "doc = nlp(stage_text_nodes.iloc[11484].summary)"
   ]
  },
  {
   "cell_type": "code",
   "execution_count": 45,
   "metadata": {
    "tags": []
   },
   "outputs": [
    {
     "data": {
      "text/plain": [
       "152588"
      ]
     },
     "execution_count": 45,
     "metadata": {},
     "output_type": "execute_result"
    }
   ],
   "source": [
    "len(fast_topic_matcher(doc))"
   ]
  },
  {
   "cell_type": "code",
   "execution_count": 46,
   "metadata": {},
   "outputs": [],
   "source": [
    "first_match = fast_topic_matcher(doc)[0]"
   ]
  },
  {
   "cell_type": "code",
   "execution_count": 47,
   "metadata": {},
   "outputs": [
    {
     "data": {
      "text/plain": [
       "(681304568864832690, 1, 2)"
      ]
     },
     "execution_count": 47,
     "metadata": {},
     "output_type": "execute_result"
    }
   ],
   "source": [
    "first_match"
   ]
  },
  {
   "cell_type": "code",
   "execution_count": 48,
   "metadata": {},
   "outputs": [
    {
     "data": {
      "text/plain": [
       "'http://id.worldcat.org/fast/869075'"
      ]
     },
     "execution_count": 48,
     "metadata": {},
     "output_type": "execute_result"
    }
   ],
   "source": [
    "nlp.vocab.strings[first_match[0]]"
   ]
  },
  {
   "cell_type": "code",
   "execution_count": 49,
   "metadata": {},
   "outputs": [
    {
     "data": {
      "text/plain": [
       "'Come and Take It Cannon'"
      ]
     },
     "execution_count": 49,
     "metadata": {},
     "output_type": "execute_result"
    }
   ],
   "source": [
    "fast_topics[fast_topics[\"URL\"] == \"http://id.worldcat.org/fast/869075\"].iloc[0][\"name\"]"
   ]
  },
  {
   "cell_type": "code",
   "execution_count": 34,
   "metadata": {},
   "outputs": [],
   "source": [
    "matches_11484 = helpers.get_matches(\n",
    "    stage_text_nodes.iloc[11484].title, nlp, fast_topic_matcher, fast_topics, 25\n",
    ")"
   ]
  },
  {
   "cell_type": "code",
   "execution_count": 36,
   "metadata": {
    "collapsed": true,
    "jupyter": {
     "outputs_hidden": true
    },
    "tags": []
   },
   "outputs": [
    {
     "data": {
      "text/plain": [
       "[('http://id.worldcat.org/fast/1067601', 'Pocket gophers--Control'),\n",
       " ('http://id.worldcat.org/fast/1067613', 'Pocket watches--Prices'),\n",
       " ('http://id.worldcat.org/fast/1050035', 'Pacific pocket mouse'),\n",
       " ('http://id.worldcat.org/fast/1738717', 'Great Basin pocket mouse'),\n",
       " ('http://id.worldcat.org/fast/1067611',\n",
       "  'Pocket watches--Collectors and collecting'),\n",
       " ('http://id.worldcat.org/fast/1067614', 'Pocket watches--Taxation'),\n",
       " ('http://id.worldcat.org/fast/1743182', 'Coarse-haired pocket mice'),\n",
       " ('http://id.worldcat.org/fast/1067604', 'Pocket gophers--Variation'),\n",
       " ('http://id.worldcat.org/fast/1199307', 'Spiny pocket mice'),\n",
       " ('http://id.worldcat.org/fast/1894990', 'Pocket Power (Race horse)'),\n",
       " ('http://id.worldcat.org/fast/932539', 'Forest spiny pocket mice'),\n",
       " ('http://id.worldcat.org/fast/1067612', 'Pocket watches--History'),\n",
       " ('http://id.worldcat.org/fast/1067593',\n",
       "  'Pocket calculators--Study and teaching (Elementary)'),\n",
       " ('http://id.worldcat.org/fast/1067610', 'Pocket watches'),\n",
       " ('http://id.worldcat.org/fast/1141682',\n",
       "  'TRS-80 pocket computers--Programming'),\n",
       " ('http://id.worldcat.org/fast/1067602', 'Pocket gophers--Ecology'),\n",
       " ('http://id.worldcat.org/fast/1067592', 'Pocket calculators'),\n",
       " ('http://id.worldcat.org/fast/1904291',\n",
       "  'Pocket computers--Law and legislation'),\n",
       " ('http://id.worldcat.org/fast/1741475', 'Western pocket gopher'),\n",
       " ('http://id.worldcat.org/fast/1115321', 'Sharp pocket computers'),\n",
       " ('http://id.worldcat.org/fast/1182697', 'Yellow-faced pocket gopher'),\n",
       " ('http://id.worldcat.org/fast/1067603', 'Pocket gophers--Food'),\n",
       " ('http://id.worldcat.org/fast/1067609', 'Pocket veto'),\n",
       " ('http://id.worldcat.org/fast/1067605', 'Pocket gophers, Fossil'),\n",
       " ('http://id.worldcat.org/fast/1199308', 'Jaliscan spiny pocket mouse')]"
      ]
     },
     "execution_count": 36,
     "metadata": {},
     "output_type": "execute_result"
    }
   ],
   "source": [
    "matches_11484"
   ]
  },
  {
   "cell_type": "markdown",
   "metadata": {},
   "source": [
    "The [spaCy][SPACY] `fast_topic_matcher` is greedy, meaning that it matches on any terms contained in the document as we can see in this example. \n",
    "\n",
    "[SPACY]: https://spacy.io/"
   ]
  },
  {
   "cell_type": "code",
   "execution_count": 53,
   "metadata": {},
   "outputs": [],
   "source": [
    "matches_11500 = helpers.get_matches(\n",
    "    stage_text_nodes.iloc[11500].title, nlp, fast_topic_matcher, fast_topics, 25\n",
    ")"
   ]
  },
  {
   "cell_type": "code",
   "execution_count": 55,
   "metadata": {},
   "outputs": [
    {
     "data": {
      "text/plain": [
       "[('http://id.worldcat.org/fast/797422',\n",
       "  'Advanced placement programs (Education)--Planning'),\n",
       " ('http://id.worldcat.org/fast/797425',\n",
       "  'Advanced very high resolution radiometers'),\n",
       " ('http://id.worldcat.org/fast/797420',\n",
       "  'Advanced placement programs (Education)'),\n",
       " ('http://id.worldcat.org/fast/2002149', 'AAT Advanced Diploma in Accounting'),\n",
       " ('http://id.worldcat.org/fast/1736474',\n",
       "  'Certificate in Advanced English (Educational test)'),\n",
       " ('http://id.worldcat.org/fast/797418', 'Advanced guard (Military science)'),\n",
       " ('http://id.worldcat.org/fast/1920889', 'Advanced Diploma in Insurance'),\n",
       " ('http://id.worldcat.org/fast/797416', 'Advanced Photo System'),\n",
       " ('http://id.worldcat.org/fast/797417', 'Advanced SEAL Delivery System'),\n",
       " ('http://id.worldcat.org/fast/797419',\n",
       "  'Advanced guard (Military science)--History'),\n",
       " ('http://id.worldcat.org/fast/1033160',\n",
       "  'National Advanced Driving Simulator'),\n",
       " ('http://id.worldcat.org/fast/797423',\n",
       "  'Advanced placement programs (Education)--Statistics'),\n",
       " ('http://id.worldcat.org/fast/1750123',\n",
       "  'Advanced traveler information systems'),\n",
       " ('http://id.worldcat.org/fast/966243', 'IBM AS/400 Advanced 36 (Computer)'),\n",
       " ('http://id.worldcat.org/fast/797424', 'Advanced supplementary examinations'),\n",
       " ('http://id.worldcat.org/fast/797421',\n",
       "  'Advanced placement programs (Education)--Examinations'),\n",
       " ('http://id.worldcat.org/fast/1141177', 'Synovial fluid--Examination'),\n",
       " ('http://id.worldcat.org/fast/1036374', 'Neurologic examination'),\n",
       " ('http://id.worldcat.org/fast/879414', 'Cornea--Examination'),\n",
       " ('http://id.worldcat.org/fast/917487',\n",
       "  'Examination of witnesses--Computer-assisted instruction'),\n",
       " ('http://id.worldcat.org/fast/917491',\n",
       "  'Examination of witnesses (Roman law)'),\n",
       " ('http://id.worldcat.org/fast/1056744', 'Pelvis--Examination'),\n",
       " ('http://id.worldcat.org/fast/919081', 'Extremities (Anatomy)--Examination'),\n",
       " ('http://id.worldcat.org/fast/851353', 'Cerebrospinal fluid--Examination'),\n",
       " ('http://id.worldcat.org/fast/945819',\n",
       "  'Graduate Record Examination--Study guides')]"
      ]
     },
     "execution_count": 55,
     "metadata": {},
     "output_type": "execute_result"
    }
   ],
   "source": [
    "matches_11500"
   ]
  },
  {
   "cell_type": "markdown",
   "metadata": {},
   "source": [
    "## spaCy Named Entity Recognition (NER)\n",
    "One of the strengths of [spaCy][SPACY] is it's pre-existing models for named entity recognition (NER). In NER tasks, existing entities like people, locations, time periods are identified and tagged for later analysis. \n",
    "\n",
    "To demonstrate, we will load a small English language model and perform NER on some of the *titles*, *labels*, and any *summary* triples contained in the `stage_text_nodes` dataframe.\n",
    "\n",
    "### Download model and Create NLP pipeline\n",
    "We first need to download the `en_core_web_sm` model for our environment and then create an instance of a NLP pipeline.\n",
    "\n",
    "[SPACY]: https://spacy.io/"
   ]
  },
  {
   "cell_type": "code",
   "execution_count": 56,
   "metadata": {
    "collapsed": true,
    "jupyter": {
     "outputs_hidden": true
    },
    "tags": []
   },
   "outputs": [
    {
     "name": "stdout",
     "output_type": "stream",
     "text": [
      "Collecting en-core-web-sm==3.0.0\n",
      "  Downloading https://github.com/explosion/spacy-models/releases/download/en_core_web_sm-3.0.0/en_core_web_sm-3.0.0-py3-none-any.whl (13.7 MB)\n",
      "\u001b[K     |████████████████████████████████| 13.7 MB 4.1 MB/s eta 0:00:01\n",
      "\u001b[?25hRequirement already satisfied: spacy<3.1.0,>=3.0.0 in /Users/jpnelson/02021/ld4p/ld4p-env/lib/python3.9/site-packages (from en-core-web-sm==3.0.0) (3.0.6)\n",
      "Requirement already satisfied: preshed<3.1.0,>=3.0.2 in /Users/jpnelson/02021/ld4p/ld4p-env/lib/python3.9/site-packages (from spacy<3.1.0,>=3.0.0->en-core-web-sm==3.0.0) (3.0.5)\n",
      "Requirement already satisfied: setuptools in /Users/jpnelson/02021/ld4p/ld4p-env/lib/python3.9/site-packages (from spacy<3.1.0,>=3.0.0->en-core-web-sm==3.0.0) (49.2.1)\n",
      "Requirement already satisfied: srsly<3.0.0,>=2.4.1 in /Users/jpnelson/02021/ld4p/ld4p-env/lib/python3.9/site-packages (from spacy<3.1.0,>=3.0.0->en-core-web-sm==3.0.0) (2.4.1)\n",
      "Requirement already satisfied: pathy>=0.3.5 in /Users/jpnelson/02021/ld4p/ld4p-env/lib/python3.9/site-packages (from spacy<3.1.0,>=3.0.0->en-core-web-sm==3.0.0) (0.6.0)\n",
      "Requirement already satisfied: typer<0.4.0,>=0.3.0 in /Users/jpnelson/02021/ld4p/ld4p-env/lib/python3.9/site-packages (from spacy<3.1.0,>=3.0.0->en-core-web-sm==3.0.0) (0.3.2)\n",
      "Requirement already satisfied: numpy>=1.15.0 in /Users/jpnelson/02021/ld4p/ld4p-env/lib/python3.9/site-packages (from spacy<3.1.0,>=3.0.0->en-core-web-sm==3.0.0) (1.21.0)\n",
      "Requirement already satisfied: packaging>=20.0 in /Users/jpnelson/02021/ld4p/ld4p-env/lib/python3.9/site-packages (from spacy<3.1.0,>=3.0.0->en-core-web-sm==3.0.0) (21.0)\n",
      "Requirement already satisfied: blis<0.8.0,>=0.4.0 in /Users/jpnelson/02021/ld4p/ld4p-env/lib/python3.9/site-packages (from spacy<3.1.0,>=3.0.0->en-core-web-sm==3.0.0) (0.7.4)\n",
      "Requirement already satisfied: spacy-legacy<3.1.0,>=3.0.4 in /Users/jpnelson/02021/ld4p/ld4p-env/lib/python3.9/site-packages (from spacy<3.1.0,>=3.0.0->en-core-web-sm==3.0.0) (3.0.7)\n",
      "Requirement already satisfied: catalogue<2.1.0,>=2.0.3 in /Users/jpnelson/02021/ld4p/ld4p-env/lib/python3.9/site-packages (from spacy<3.1.0,>=3.0.0->en-core-web-sm==3.0.0) (2.0.4)\n",
      "Requirement already satisfied: cymem<2.1.0,>=2.0.2 in /Users/jpnelson/02021/ld4p/ld4p-env/lib/python3.9/site-packages (from spacy<3.1.0,>=3.0.0->en-core-web-sm==3.0.0) (2.0.5)\n",
      "Requirement already satisfied: requests<3.0.0,>=2.13.0 in /Users/jpnelson/02021/ld4p/ld4p-env/lib/python3.9/site-packages (from spacy<3.1.0,>=3.0.0->en-core-web-sm==3.0.0) (2.25.1)\n",
      "Requirement already satisfied: jinja2 in /Users/jpnelson/02021/ld4p/ld4p-env/lib/python3.9/site-packages (from spacy<3.1.0,>=3.0.0->en-core-web-sm==3.0.0) (3.0.1)\n",
      "Requirement already satisfied: pydantic<1.8.0,>=1.7.1 in /Users/jpnelson/02021/ld4p/ld4p-env/lib/python3.9/site-packages (from spacy<3.1.0,>=3.0.0->en-core-web-sm==3.0.0) (1.7.4)\n",
      "Requirement already satisfied: wasabi<1.1.0,>=0.8.1 in /Users/jpnelson/02021/ld4p/ld4p-env/lib/python3.9/site-packages (from spacy<3.1.0,>=3.0.0->en-core-web-sm==3.0.0) (0.8.2)\n",
      "Requirement already satisfied: tqdm<5.0.0,>=4.38.0 in /Users/jpnelson/02021/ld4p/ld4p-env/lib/python3.9/site-packages (from spacy<3.1.0,>=3.0.0->en-core-web-sm==3.0.0) (4.61.2)\n",
      "Requirement already satisfied: thinc<8.1.0,>=8.0.3 in /Users/jpnelson/02021/ld4p/ld4p-env/lib/python3.9/site-packages (from spacy<3.1.0,>=3.0.0->en-core-web-sm==3.0.0) (8.0.7)\n",
      "Requirement already satisfied: murmurhash<1.1.0,>=0.28.0 in /Users/jpnelson/02021/ld4p/ld4p-env/lib/python3.9/site-packages (from spacy<3.1.0,>=3.0.0->en-core-web-sm==3.0.0) (1.0.5)\n",
      "Requirement already satisfied: pyparsing>=2.0.2 in /Users/jpnelson/02021/ld4p/ld4p-env/lib/python3.9/site-packages (from packaging>=20.0->spacy<3.1.0,>=3.0.0->en-core-web-sm==3.0.0) (2.4.7)\n",
      "Requirement already satisfied: smart-open<6.0.0,>=5.0.0 in /Users/jpnelson/02021/ld4p/ld4p-env/lib/python3.9/site-packages (from pathy>=0.3.5->spacy<3.1.0,>=3.0.0->en-core-web-sm==3.0.0) (5.1.0)\n",
      "Requirement already satisfied: urllib3<1.27,>=1.21.1 in /Users/jpnelson/02021/ld4p/ld4p-env/lib/python3.9/site-packages (from requests<3.0.0,>=2.13.0->spacy<3.1.0,>=3.0.0->en-core-web-sm==3.0.0) (1.26.6)\n",
      "Requirement already satisfied: certifi>=2017.4.17 in /Users/jpnelson/02021/ld4p/ld4p-env/lib/python3.9/site-packages (from requests<3.0.0,>=2.13.0->spacy<3.1.0,>=3.0.0->en-core-web-sm==3.0.0) (2021.5.30)\n",
      "Requirement already satisfied: idna<3,>=2.5 in /Users/jpnelson/02021/ld4p/ld4p-env/lib/python3.9/site-packages (from requests<3.0.0,>=2.13.0->spacy<3.1.0,>=3.0.0->en-core-web-sm==3.0.0) (2.10)\n",
      "Requirement already satisfied: chardet<5,>=3.0.2 in /Users/jpnelson/02021/ld4p/ld4p-env/lib/python3.9/site-packages (from requests<3.0.0,>=2.13.0->spacy<3.1.0,>=3.0.0->en-core-web-sm==3.0.0) (4.0.0)\n",
      "Requirement already satisfied: click<7.2.0,>=7.1.1 in /Users/jpnelson/02021/ld4p/ld4p-env/lib/python3.9/site-packages (from typer<0.4.0,>=0.3.0->spacy<3.1.0,>=3.0.0->en-core-web-sm==3.0.0) (7.1.2)\n",
      "Requirement already satisfied: MarkupSafe>=2.0 in /Users/jpnelson/02021/ld4p/ld4p-env/lib/python3.9/site-packages (from jinja2->spacy<3.1.0,>=3.0.0->en-core-web-sm==3.0.0) (2.0.1)\n",
      "Installing collected packages: en-core-web-sm\n",
      "Successfully installed en-core-web-sm-3.0.0\n",
      "\u001b[38;5;2m✔ Download and installation successful\u001b[0m\n",
      "You can now load the package via spacy.load('en_core_web_sm')\n"
     ]
    }
   ],
   "source": [
    "! python -m spacy download en_core_web_sm"
   ]
  },
  {
   "cell_type": "code",
   "execution_count": 58,
   "metadata": {},
   "outputs": [],
   "source": [
    "en_nlp = spacy.load(\"en_core_web_sm\")"
   ]
  },
  {
   "cell_type": "markdown",
   "metadata": {},
   "source": [
    "### Generate Documents and Display Entities\n",
    "Using a different sample from the `stage_text_nodes` dataframe, we apply the `en_nlp` pipeline to some of these values to see if we can extract meaningful entities."
   ]
  },
  {
   "cell_type": "code",
   "execution_count": 62,
   "metadata": {},
   "outputs": [],
   "source": [
    "sample2 = stage_text_nodes.sample(10)"
   ]
  },
  {
   "cell_type": "code",
   "execution_count": 63,
   "metadata": {},
   "outputs": [
    {
     "data": {
      "text/html": [
       "<div>\n",
       "<style scoped>\n",
       "    .dataframe tbody tr th:only-of-type {\n",
       "        vertical-align: middle;\n",
       "    }\n",
       "\n",
       "    .dataframe tbody tr th {\n",
       "        vertical-align: top;\n",
       "    }\n",
       "\n",
       "    .dataframe thead th {\n",
       "        text-align: right;\n",
       "    }\n",
       "</style>\n",
       "<table border=\"1\" class=\"dataframe\">\n",
       "  <thead>\n",
       "    <tr style=\"text-align: right;\">\n",
       "      <th></th>\n",
       "      <th>title</th>\n",
       "      <th>url</th>\n",
       "      <th>label</th>\n",
       "      <th>summary</th>\n",
       "    </tr>\n",
       "  </thead>\n",
       "  <tbody>\n",
       "    <tr>\n",
       "      <th>8921</th>\n",
       "      <td>MacBeth</td>\n",
       "      <td>&lt;https://api.stage.sinopia.io/resource/92821e1...</td>\n",
       "      <td>NaN</td>\n",
       "      <td>NaN</td>\n",
       "    </tr>\n",
       "    <tr>\n",
       "      <th>4520</th>\n",
       "      <td>Casa de los espíritus</td>\n",
       "      <td>&lt;https://api.stage.sinopia.io/resource/1b18099...</td>\n",
       "      <td>NaN</td>\n",
       "      <td>NaN</td>\n",
       "    </tr>\n",
       "    <tr>\n",
       "      <th>5518</th>\n",
       "      <td>Nashim deti︠a︡m</td>\n",
       "      <td>&lt;https://api.stage.sinopia.io/resource/38ec10d...</td>\n",
       "      <td>Nashim deti︠a︡m</td>\n",
       "      <td>NaN</td>\n",
       "    </tr>\n",
       "    <tr>\n",
       "      <th>3612</th>\n",
       "      <td>Nashimʺ di︠e︡ti︠a︡m</td>\n",
       "      <td>&lt;https://api.stage.sinopia.io/resource/feece69...</td>\n",
       "      <td>Nashimʺ di︠e︡ti︠a︡m</td>\n",
       "      <td>NaN</td>\n",
       "    </tr>\n",
       "    <tr>\n",
       "      <th>10315</th>\n",
       "      <td>Rest in Power : The Enduring Life of Trayvon M...</td>\n",
       "      <td>&lt;https://api.stage.sinopia.io/resource/efd9b48...</td>\n",
       "      <td>NaN</td>\n",
       "      <td>NaN</td>\n",
       "    </tr>\n",
       "    <tr>\n",
       "      <th>8962</th>\n",
       "      <td>Journal of the Japanese Society of Lymphoretic...</td>\n",
       "      <td>&lt;https://api.stage.sinopia.io/resource/4e93b69...</td>\n",
       "      <td>NaN</td>\n",
       "      <td>NaN</td>\n",
       "    </tr>\n",
       "    <tr>\n",
       "      <th>9023</th>\n",
       "      <td>The duality of vision</td>\n",
       "      <td>&lt;https://api.stage.sinopia.io/resource/50f9226...</td>\n",
       "      <td>NaN</td>\n",
       "      <td>NaN</td>\n",
       "    </tr>\n",
       "    <tr>\n",
       "      <th>3087</th>\n",
       "      <td>Dragon Fire</td>\n",
       "      <td>&lt;https://api.stage.sinopia.io/resource/76245d7...</td>\n",
       "      <td>NaN</td>\n",
       "      <td>William S. Cohen, former Secretary of Defense,...</td>\n",
       "    </tr>\n",
       "    <tr>\n",
       "      <th>119</th>\n",
       "      <td>Ways of Seeing</td>\n",
       "      <td>&lt;https://api.stage.sinopia.io/resource/7b114a1...</td>\n",
       "      <td>NaN</td>\n",
       "      <td>NaN</td>\n",
       "    </tr>\n",
       "    <tr>\n",
       "      <th>10730</th>\n",
       "      <td>Dickens quarterly</td>\n",
       "      <td>&lt;https://api.stage.sinopia.io/resource/2ca15a0...</td>\n",
       "      <td>NaN</td>\n",
       "      <td>NaN</td>\n",
       "    </tr>\n",
       "  </tbody>\n",
       "</table>\n",
       "</div>"
      ],
      "text/plain": [
       "                                                   title  \\\n",
       "8921                                             MacBeth   \n",
       "4520                               Casa de los espíritus   \n",
       "5518                                     Nashim deti︠a︡m   \n",
       "3612                                 Nashimʺ di︠e︡ti︠a︡m   \n",
       "10315  Rest in Power : The Enduring Life of Trayvon M...   \n",
       "8962   Journal of the Japanese Society of Lymphoretic...   \n",
       "9023                               The duality of vision   \n",
       "3087                                         Dragon Fire   \n",
       "119                                       Ways of Seeing   \n",
       "10730                                  Dickens quarterly   \n",
       "\n",
       "                                                     url                label  \\\n",
       "8921   <https://api.stage.sinopia.io/resource/92821e1...                  NaN   \n",
       "4520   <https://api.stage.sinopia.io/resource/1b18099...                  NaN   \n",
       "5518   <https://api.stage.sinopia.io/resource/38ec10d...      Nashim deti︠a︡m   \n",
       "3612   <https://api.stage.sinopia.io/resource/feece69...  Nashimʺ di︠e︡ti︠a︡m   \n",
       "10315  <https://api.stage.sinopia.io/resource/efd9b48...                  NaN   \n",
       "8962   <https://api.stage.sinopia.io/resource/4e93b69...                  NaN   \n",
       "9023   <https://api.stage.sinopia.io/resource/50f9226...                  NaN   \n",
       "3087   <https://api.stage.sinopia.io/resource/76245d7...                  NaN   \n",
       "119    <https://api.stage.sinopia.io/resource/7b114a1...                  NaN   \n",
       "10730  <https://api.stage.sinopia.io/resource/2ca15a0...                  NaN   \n",
       "\n",
       "                                                 summary  \n",
       "8921                                                 NaN  \n",
       "4520                                                 NaN  \n",
       "5518                                                 NaN  \n",
       "3612                                                 NaN  \n",
       "10315                                                NaN  \n",
       "8962                                                 NaN  \n",
       "9023                                                 NaN  \n",
       "3087   William S. Cohen, former Secretary of Defense,...  \n",
       "119                                                  NaN  \n",
       "10730                                                NaN  "
      ]
     },
     "execution_count": 63,
     "metadata": {},
     "output_type": "execute_result"
    }
   ],
   "source": [
    "sample2"
   ]
  },
  {
   "cell_type": "code",
   "execution_count": 68,
   "metadata": {},
   "outputs": [],
   "source": [
    "doc_10315 = en_nlp(stage_text_nodes.iloc[10315].title)\n",
    "doc_3087 = en_nlp(stage_text_nodes.iloc[3087].summary)"
   ]
  },
  {
   "cell_type": "code",
   "execution_count": 70,
   "metadata": {},
   "outputs": [
    {
     "name": "stdout",
     "output_type": "stream",
     "text": [
      "Entities for 10315\n",
      "The Enduring Life of Trayvon Martin WORK_OF_ART\n",
      "\n",
      "\n",
      "Entities for 3087\n",
      "William S. Cohen PERSON\n",
      "Defense ORG\n",
      "US GPE\n",
      "Dragon Fire PERSON\n",
      "Defense ORG\n",
      "Vietnam GPE\n",
      "Michael Patrick Santini PERSON\n",
      "the United States GPE\n",
      "America GPE\n",
      "hours TIME\n",
      "Santini PERSON\n",
      "Democratic NORP\n",
      "Bill Clinton PERSON\n",
      "Republican NORP\n",
      "William S. Cohen PERSON\n",
      "1997 DATE\n",
      "20th ORDINAL\n",
      "Defense ORG\n",
      "first ORDINAL\n",
      "U.S. GPE\n",
      "Cohen PERSON\n",
      "first ORDINAL\n",
      "Defense ORG\n"
     ]
    }
   ],
   "source": [
    "print(\"Entities for 10315\")\n",
    "for ent in doc_10315.ents:\n",
    "    print(ent, ent.label_)\n",
    "print(\"\\n\\nEntities for 3087\")\n",
    "for ent in doc_3087.ents:\n",
    "    print(ent, ent.label_)"
   ]
  },
  {
   "cell_type": "markdown",
   "metadata": {},
   "source": [
    "### spaCy NER and POS Visualizations\n",
    "The [spaCy][SPACY] project provides the `displacy` class that has two helpful visualizers. The first **ner** displays the identified entities in context of the text and the second identifies the parts-of-speech and how they are related to each other in the **dep** option. \n",
    "\n",
    "[SPACY]: https://spacy.io/"
   ]
  },
  {
   "cell_type": "code",
   "execution_count": 72,
   "metadata": {},
   "outputs": [
    {
     "data": {
      "text/html": [
       "<span class=\"tex2jax_ignore\"><div class=\"entities\" style=\"line-height: 2.5; direction: ltr\">\n",
       "<mark class=\"entity\" style=\"background: #aa9cfc; padding: 0.45em 0.6em; margin: 0 0.25em; line-height: 1; border-radius: 0.35em;\">\n",
       "    William S. Cohen\n",
       "    <span style=\"font-size: 0.8em; font-weight: bold; line-height: 1; border-radius: 0.35em; vertical-align: middle; margin-left: 0.5rem\">PERSON</span>\n",
       "</mark>\n",
       ", former Secretary of \n",
       "<mark class=\"entity\" style=\"background: #7aecec; padding: 0.45em 0.6em; margin: 0 0.25em; line-height: 1; border-radius: 0.35em;\">\n",
       "    Defense\n",
       "    <span style=\"font-size: 0.8em; font-weight: bold; line-height: 1; border-radius: 0.35em; vertical-align: middle; margin-left: 0.5rem\">ORG</span>\n",
       "</mark>\n",
       ", \n",
       "<mark class=\"entity\" style=\"background: #feca74; padding: 0.45em 0.6em; margin: 0 0.25em; line-height: 1; border-radius: 0.35em;\">\n",
       "    US\n",
       "    <span style=\"font-size: 0.8em; font-weight: bold; line-height: 1; border-radius: 0.35em; vertical-align: middle; margin-left: 0.5rem\">GPE</span>\n",
       "</mark>\n",
       " Senator and Congressman, has walked the most powerful corridors in the world. Now, in Dragon Fire, he takes us with him into the top-secret rooms where the fate of the world is held in the hearts and minds of men with dangerous and hidden agendas. Packed with action and espionage, intrigue and romance, \n",
       "<mark class=\"entity\" style=\"background: #aa9cfc; padding: 0.45em 0.6em; margin: 0 0.25em; line-height: 1; border-radius: 0.35em;\">\n",
       "    Dragon Fire\n",
       "    <span style=\"font-size: 0.8em; font-weight: bold; line-height: 1; border-radius: 0.35em; vertical-align: middle; margin-left: 0.5rem\">PERSON</span>\n",
       "</mark>\n",
       " is a riveting, intricate, ripped-from-the-headlines thriller that so convincingly written, readers will wonder just how much of it is true. Upon the assassination of the Secretary of \n",
       "<mark class=\"entity\" style=\"background: #7aecec; padding: 0.45em 0.6em; margin: 0 0.25em; line-height: 1; border-radius: 0.35em;\">\n",
       "    Defense\n",
       "    <span style=\"font-size: 0.8em; font-weight: bold; line-height: 1; border-radius: 0.35em; vertical-align: middle; margin-left: 0.5rem\">ORG</span>\n",
       "</mark>\n",
       ", former senator and \n",
       "<mark class=\"entity\" style=\"background: #feca74; padding: 0.45em 0.6em; margin: 0 0.25em; line-height: 1; border-radius: 0.35em;\">\n",
       "    Vietnam\n",
       "    <span style=\"font-size: 0.8em; font-weight: bold; line-height: 1; border-radius: 0.35em; vertical-align: middle; margin-left: 0.5rem\">GPE</span>\n",
       "</mark>\n",
       " POW, \n",
       "<mark class=\"entity\" style=\"background: #aa9cfc; padding: 0.45em 0.6em; margin: 0 0.25em; line-height: 1; border-radius: 0.35em;\">\n",
       "    Michael Patrick Santini\n",
       "    <span style=\"font-size: 0.8em; font-weight: bold; line-height: 1; border-radius: 0.35em; vertical-align: middle; margin-left: 0.5rem\">PERSON</span>\n",
       "</mark>\n",
       ", is called upon by his President to fill the vacancy. Once there, he discovers that \n",
       "<mark class=\"entity\" style=\"background: #feca74; padding: 0.45em 0.6em; margin: 0 0.25em; line-height: 1; border-radius: 0.35em;\">\n",
       "    the United States\n",
       "    <span style=\"font-size: 0.8em; font-weight: bold; line-height: 1; border-radius: 0.35em; vertical-align: middle; margin-left: 0.5rem\">GPE</span>\n",
       "</mark>\n",
       " is under attack by a silent, sinister force, someone determined to alienate our allies and undermine our position as a global superpower. But \n",
       "<mark class=\"entity\" style=\"background: #feca74; padding: 0.45em 0.6em; margin: 0 0.25em; line-height: 1; border-radius: 0.35em;\">\n",
       "    America\n",
       "    <span style=\"font-size: 0.8em; font-weight: bold; line-height: 1; border-radius: 0.35em; vertical-align: middle; margin-left: 0.5rem\">GPE</span>\n",
       "</mark>\n",
       " is \n",
       "<mark class=\"entity\" style=\"background: #bfe1d9; padding: 0.45em 0.6em; margin: 0 0.25em; line-height: 1; border-radius: 0.35em;\">\n",
       "    hours\n",
       "    <span style=\"font-size: 0.8em; font-weight: bold; line-height: 1; border-radius: 0.35em; vertical-align: middle; margin-left: 0.5rem\">TIME</span>\n",
       "</mark>\n",
       " away from going to war--with the wrong enemy. Rejecting direct orders from the president, \n",
       "<mark class=\"entity\" style=\"background: #aa9cfc; padding: 0.45em 0.6em; margin: 0 0.25em; line-height: 1; border-radius: 0.35em;\">\n",
       "    Santini\n",
       "    <span style=\"font-size: 0.8em; font-weight: bold; line-height: 1; border-radius: 0.35em; vertical-align: middle; margin-left: 0.5rem\">PERSON</span>\n",
       "</mark>\n",
       " races across the world in a desperate attempt to prevent a catastrophic global war. When \n",
       "<mark class=\"entity\" style=\"background: #c887fb; padding: 0.45em 0.6em; margin: 0 0.25em; line-height: 1; border-radius: 0.35em;\">\n",
       "    Democratic\n",
       "    <span style=\"font-size: 0.8em; font-weight: bold; line-height: 1; border-radius: 0.35em; vertical-align: middle; margin-left: 0.5rem\">NORP</span>\n",
       "</mark>\n",
       " President \n",
       "<mark class=\"entity\" style=\"background: #aa9cfc; padding: 0.45em 0.6em; margin: 0 0.25em; line-height: 1; border-radius: 0.35em;\">\n",
       "    Bill Clinton\n",
       "    <span style=\"font-size: 0.8em; font-weight: bold; line-height: 1; border-radius: 0.35em; vertical-align: middle; margin-left: 0.5rem\">PERSON</span>\n",
       "</mark>\n",
       " chose \n",
       "<mark class=\"entity\" style=\"background: #c887fb; padding: 0.45em 0.6em; margin: 0 0.25em; line-height: 1; border-radius: 0.35em;\">\n",
       "    Republican\n",
       "    <span style=\"font-size: 0.8em; font-weight: bold; line-height: 1; border-radius: 0.35em; vertical-align: middle; margin-left: 0.5rem\">NORP</span>\n",
       "</mark>\n",
       " \n",
       "<mark class=\"entity\" style=\"background: #aa9cfc; padding: 0.45em 0.6em; margin: 0 0.25em; line-height: 1; border-radius: 0.35em;\">\n",
       "    William S. Cohen\n",
       "    <span style=\"font-size: 0.8em; font-weight: bold; line-height: 1; border-radius: 0.35em; vertical-align: middle; margin-left: 0.5rem\">PERSON</span>\n",
       "</mark>\n",
       " to join his staff in \n",
       "<mark class=\"entity\" style=\"background: #bfe1d9; padding: 0.45em 0.6em; margin: 0 0.25em; line-height: 1; border-radius: 0.35em;\">\n",
       "    1997\n",
       "    <span style=\"font-size: 0.8em; font-weight: bold; line-height: 1; border-radius: 0.35em; vertical-align: middle; margin-left: 0.5rem\">DATE</span>\n",
       "</mark>\n",
       " as the \n",
       "<mark class=\"entity\" style=\"background: #e4e7d2; padding: 0.45em 0.6em; margin: 0 0.25em; line-height: 1; border-radius: 0.35em;\">\n",
       "    20th\n",
       "    <span style=\"font-size: 0.8em; font-weight: bold; line-height: 1; border-radius: 0.35em; vertical-align: middle; margin-left: 0.5rem\">ORDINAL</span>\n",
       "</mark>\n",
       " Secretary of \n",
       "<mark class=\"entity\" style=\"background: #7aecec; padding: 0.45em 0.6em; margin: 0 0.25em; line-height: 1; border-radius: 0.35em;\">\n",
       "    Defense\n",
       "    <span style=\"font-size: 0.8em; font-weight: bold; line-height: 1; border-radius: 0.35em; vertical-align: middle; margin-left: 0.5rem\">ORG</span>\n",
       "</mark>\n",
       ", it was the \n",
       "<mark class=\"entity\" style=\"background: #e4e7d2; padding: 0.45em 0.6em; margin: 0 0.25em; line-height: 1; border-radius: 0.35em;\">\n",
       "    first\n",
       "    <span style=\"font-size: 0.8em; font-weight: bold; line-height: 1; border-radius: 0.35em; vertical-align: middle; margin-left: 0.5rem\">ORDINAL</span>\n",
       "</mark>\n",
       " time in modern \n",
       "<mark class=\"entity\" style=\"background: #feca74; padding: 0.45em 0.6em; margin: 0 0.25em; line-height: 1; border-radius: 0.35em;\">\n",
       "    U.S.\n",
       "    <span style=\"font-size: 0.8em; font-weight: bold; line-height: 1; border-radius: 0.35em; vertical-align: middle; margin-left: 0.5rem\">GPE</span>\n",
       "</mark>\n",
       " history that a president selected a member of the opposing party for his cabinet. \n",
       "<mark class=\"entity\" style=\"background: #aa9cfc; padding: 0.45em 0.6em; margin: 0 0.25em; line-height: 1; border-radius: 0.35em;\">\n",
       "    Cohen\n",
       "    <span style=\"font-size: 0.8em; font-weight: bold; line-height: 1; border-radius: 0.35em; vertical-align: middle; margin-left: 0.5rem\">PERSON</span>\n",
       "</mark>\n",
       ", the \n",
       "<mark class=\"entity\" style=\"background: #e4e7d2; padding: 0.45em 0.6em; margin: 0 0.25em; line-height: 1; border-radius: 0.35em;\">\n",
       "    first\n",
       "    <span style=\"font-size: 0.8em; font-weight: bold; line-height: 1; border-radius: 0.35em; vertical-align: middle; margin-left: 0.5rem\">ORDINAL</span>\n",
       "</mark>\n",
       " Secretary of \n",
       "<mark class=\"entity\" style=\"background: #7aecec; padding: 0.45em 0.6em; margin: 0 0.25em; line-height: 1; border-radius: 0.35em;\">\n",
       "    Defense\n",
       "    <span style=\"font-size: 0.8em; font-weight: bold; line-height: 1; border-radius: 0.35em; vertical-align: middle; margin-left: 0.5rem\">ORG</span>\n",
       "</mark>\n",
       " to make biological warfare and terrorism almost a personal crusade, was integral in orchestrating a comprehensive strategy to deal with the threat of terrorism. In Dragon Fire, he takes his experience, knowledge, expertise, passion, and fears and melds fact and fiction into a political thriller only he could write.</div></span>"
      ],
      "text/plain": [
       "<IPython.core.display.HTML object>"
      ]
     },
     "metadata": {},
     "output_type": "display_data"
    }
   ],
   "source": [
    "from spacy import displacy\n",
    "\n",
    "displacy.render(doc_3087, jupyter=True, style=\"ent\")"
   ]
  },
  {
   "cell_type": "code",
   "execution_count": 73,
   "metadata": {},
   "outputs": [
    {
     "data": {
      "text/html": [
       "<span class=\"tex2jax_ignore\"><svg xmlns=\"http://www.w3.org/2000/svg\" xmlns:xlink=\"http://www.w3.org/1999/xlink\" xml:lang=\"en\" id=\"0d4c41501b324e0a829365df7b4e935f-0\" class=\"displacy\" width=\"1625\" height=\"312.0\" direction=\"ltr\" style=\"max-width: none; height: 312.0px; color: #000000; background: #ffffff; font-family: Arial; direction: ltr\">\n",
       "<text class=\"displacy-token\" fill=\"currentColor\" text-anchor=\"middle\" y=\"222.0\">\n",
       "    <tspan class=\"displacy-word\" fill=\"currentColor\" x=\"50\">Rest</tspan>\n",
       "    <tspan class=\"displacy-tag\" dy=\"2em\" fill=\"currentColor\" x=\"50\">VERB</tspan>\n",
       "</text>\n",
       "\n",
       "<text class=\"displacy-token\" fill=\"currentColor\" text-anchor=\"middle\" y=\"222.0\">\n",
       "    <tspan class=\"displacy-word\" fill=\"currentColor\" x=\"225\">in</tspan>\n",
       "    <tspan class=\"displacy-tag\" dy=\"2em\" fill=\"currentColor\" x=\"225\">ADP</tspan>\n",
       "</text>\n",
       "\n",
       "<text class=\"displacy-token\" fill=\"currentColor\" text-anchor=\"middle\" y=\"222.0\">\n",
       "    <tspan class=\"displacy-word\" fill=\"currentColor\" x=\"400\">Power :</tspan>\n",
       "    <tspan class=\"displacy-tag\" dy=\"2em\" fill=\"currentColor\" x=\"400\">PROPN</tspan>\n",
       "</text>\n",
       "\n",
       "<text class=\"displacy-token\" fill=\"currentColor\" text-anchor=\"middle\" y=\"222.0\">\n",
       "    <tspan class=\"displacy-word\" fill=\"currentColor\" x=\"575\">The</tspan>\n",
       "    <tspan class=\"displacy-tag\" dy=\"2em\" fill=\"currentColor\" x=\"575\">DET</tspan>\n",
       "</text>\n",
       "\n",
       "<text class=\"displacy-token\" fill=\"currentColor\" text-anchor=\"middle\" y=\"222.0\">\n",
       "    <tspan class=\"displacy-word\" fill=\"currentColor\" x=\"750\">Enduring</tspan>\n",
       "    <tspan class=\"displacy-tag\" dy=\"2em\" fill=\"currentColor\" x=\"750\">PROPN</tspan>\n",
       "</text>\n",
       "\n",
       "<text class=\"displacy-token\" fill=\"currentColor\" text-anchor=\"middle\" y=\"222.0\">\n",
       "    <tspan class=\"displacy-word\" fill=\"currentColor\" x=\"925\">Life</tspan>\n",
       "    <tspan class=\"displacy-tag\" dy=\"2em\" fill=\"currentColor\" x=\"925\">PROPN</tspan>\n",
       "</text>\n",
       "\n",
       "<text class=\"displacy-token\" fill=\"currentColor\" text-anchor=\"middle\" y=\"222.0\">\n",
       "    <tspan class=\"displacy-word\" fill=\"currentColor\" x=\"1100\">of</tspan>\n",
       "    <tspan class=\"displacy-tag\" dy=\"2em\" fill=\"currentColor\" x=\"1100\">ADP</tspan>\n",
       "</text>\n",
       "\n",
       "<text class=\"displacy-token\" fill=\"currentColor\" text-anchor=\"middle\" y=\"222.0\">\n",
       "    <tspan class=\"displacy-word\" fill=\"currentColor\" x=\"1275\">Trayvon</tspan>\n",
       "    <tspan class=\"displacy-tag\" dy=\"2em\" fill=\"currentColor\" x=\"1275\">PROPN</tspan>\n",
       "</text>\n",
       "\n",
       "<text class=\"displacy-token\" fill=\"currentColor\" text-anchor=\"middle\" y=\"222.0\">\n",
       "    <tspan class=\"displacy-word\" fill=\"currentColor\" x=\"1450\">Martin</tspan>\n",
       "    <tspan class=\"displacy-tag\" dy=\"2em\" fill=\"currentColor\" x=\"1450\">PROPN</tspan>\n",
       "</text>\n",
       "\n",
       "<g class=\"displacy-arrow\">\n",
       "    <path class=\"displacy-arc\" id=\"arrow-0d4c41501b324e0a829365df7b4e935f-0-0\" stroke-width=\"2px\" d=\"M70,177.0 C70,89.5 220.0,89.5 220.0,177.0\" fill=\"none\" stroke=\"currentColor\"/>\n",
       "    <text dy=\"1.25em\" style=\"font-size: 0.8em; letter-spacing: 1px\">\n",
       "        <textPath xlink:href=\"#arrow-0d4c41501b324e0a829365df7b4e935f-0-0\" class=\"displacy-label\" startOffset=\"50%\" side=\"left\" fill=\"currentColor\" text-anchor=\"middle\">prep</textPath>\n",
       "    </text>\n",
       "    <path class=\"displacy-arrowhead\" d=\"M220.0,179.0 L228.0,167.0 212.0,167.0\" fill=\"currentColor\"/>\n",
       "</g>\n",
       "\n",
       "<g class=\"displacy-arrow\">\n",
       "    <path class=\"displacy-arc\" id=\"arrow-0d4c41501b324e0a829365df7b4e935f-0-1\" stroke-width=\"2px\" d=\"M245,177.0 C245,89.5 395.0,89.5 395.0,177.0\" fill=\"none\" stroke=\"currentColor\"/>\n",
       "    <text dy=\"1.25em\" style=\"font-size: 0.8em; letter-spacing: 1px\">\n",
       "        <textPath xlink:href=\"#arrow-0d4c41501b324e0a829365df7b4e935f-0-1\" class=\"displacy-label\" startOffset=\"50%\" side=\"left\" fill=\"currentColor\" text-anchor=\"middle\">pobj</textPath>\n",
       "    </text>\n",
       "    <path class=\"displacy-arrowhead\" d=\"M395.0,179.0 L403.0,167.0 387.0,167.0\" fill=\"currentColor\"/>\n",
       "</g>\n",
       "\n",
       "<g class=\"displacy-arrow\">\n",
       "    <path class=\"displacy-arc\" id=\"arrow-0d4c41501b324e0a829365df7b4e935f-0-2\" stroke-width=\"2px\" d=\"M595,177.0 C595,2.0 925.0,2.0 925.0,177.0\" fill=\"none\" stroke=\"currentColor\"/>\n",
       "    <text dy=\"1.25em\" style=\"font-size: 0.8em; letter-spacing: 1px\">\n",
       "        <textPath xlink:href=\"#arrow-0d4c41501b324e0a829365df7b4e935f-0-2\" class=\"displacy-label\" startOffset=\"50%\" side=\"left\" fill=\"currentColor\" text-anchor=\"middle\">det</textPath>\n",
       "    </text>\n",
       "    <path class=\"displacy-arrowhead\" d=\"M595,179.0 L587,167.0 603,167.0\" fill=\"currentColor\"/>\n",
       "</g>\n",
       "\n",
       "<g class=\"displacy-arrow\">\n",
       "    <path class=\"displacy-arc\" id=\"arrow-0d4c41501b324e0a829365df7b4e935f-0-3\" stroke-width=\"2px\" d=\"M770,177.0 C770,89.5 920.0,89.5 920.0,177.0\" fill=\"none\" stroke=\"currentColor\"/>\n",
       "    <text dy=\"1.25em\" style=\"font-size: 0.8em; letter-spacing: 1px\">\n",
       "        <textPath xlink:href=\"#arrow-0d4c41501b324e0a829365df7b4e935f-0-3\" class=\"displacy-label\" startOffset=\"50%\" side=\"left\" fill=\"currentColor\" text-anchor=\"middle\">compound</textPath>\n",
       "    </text>\n",
       "    <path class=\"displacy-arrowhead\" d=\"M770,179.0 L762,167.0 778,167.0\" fill=\"currentColor\"/>\n",
       "</g>\n",
       "\n",
       "<g class=\"displacy-arrow\">\n",
       "    <path class=\"displacy-arc\" id=\"arrow-0d4c41501b324e0a829365df7b4e935f-0-4\" stroke-width=\"2px\" d=\"M945,177.0 C945,89.5 1095.0,89.5 1095.0,177.0\" fill=\"none\" stroke=\"currentColor\"/>\n",
       "    <text dy=\"1.25em\" style=\"font-size: 0.8em; letter-spacing: 1px\">\n",
       "        <textPath xlink:href=\"#arrow-0d4c41501b324e0a829365df7b4e935f-0-4\" class=\"displacy-label\" startOffset=\"50%\" side=\"left\" fill=\"currentColor\" text-anchor=\"middle\">prep</textPath>\n",
       "    </text>\n",
       "    <path class=\"displacy-arrowhead\" d=\"M1095.0,179.0 L1103.0,167.0 1087.0,167.0\" fill=\"currentColor\"/>\n",
       "</g>\n",
       "\n",
       "<g class=\"displacy-arrow\">\n",
       "    <path class=\"displacy-arc\" id=\"arrow-0d4c41501b324e0a829365df7b4e935f-0-5\" stroke-width=\"2px\" d=\"M1295,177.0 C1295,89.5 1445.0,89.5 1445.0,177.0\" fill=\"none\" stroke=\"currentColor\"/>\n",
       "    <text dy=\"1.25em\" style=\"font-size: 0.8em; letter-spacing: 1px\">\n",
       "        <textPath xlink:href=\"#arrow-0d4c41501b324e0a829365df7b4e935f-0-5\" class=\"displacy-label\" startOffset=\"50%\" side=\"left\" fill=\"currentColor\" text-anchor=\"middle\">compound</textPath>\n",
       "    </text>\n",
       "    <path class=\"displacy-arrowhead\" d=\"M1295,179.0 L1287,167.0 1303,167.0\" fill=\"currentColor\"/>\n",
       "</g>\n",
       "\n",
       "<g class=\"displacy-arrow\">\n",
       "    <path class=\"displacy-arc\" id=\"arrow-0d4c41501b324e0a829365df7b4e935f-0-6\" stroke-width=\"2px\" d=\"M1120,177.0 C1120,2.0 1450.0,2.0 1450.0,177.0\" fill=\"none\" stroke=\"currentColor\"/>\n",
       "    <text dy=\"1.25em\" style=\"font-size: 0.8em; letter-spacing: 1px\">\n",
       "        <textPath xlink:href=\"#arrow-0d4c41501b324e0a829365df7b4e935f-0-6\" class=\"displacy-label\" startOffset=\"50%\" side=\"left\" fill=\"currentColor\" text-anchor=\"middle\">pobj</textPath>\n",
       "    </text>\n",
       "    <path class=\"displacy-arrowhead\" d=\"M1450.0,179.0 L1458.0,167.0 1442.0,167.0\" fill=\"currentColor\"/>\n",
       "</g>\n",
       "</svg></span>"
      ],
      "text/plain": [
       "<IPython.core.display.HTML object>"
      ]
     },
     "metadata": {},
     "output_type": "display_data"
    }
   ],
   "source": [
    "displacy.render(doc_10315, jupyter=True)"
   ]
  },
  {
   "cell_type": "markdown",
   "metadata": {},
   "source": [
    "## Exercise 1\n",
    "Download and create a `nlp` pipeline using the *en_core_web_sm* model and see what entities are identified using your sample from the `stage_text_nodes` dataframe.\n",
    "\n",
    "> **Extra credit** Find a non-english resource in `stage_text_nodes`, find a corresponding \n",
    "> [spaCy][SPACY] trained pipeline at https://spacy.io/models and follow the above steps to \n",
    "> identify any entities in the *title*, *label*, or *summary* values.\n",
    "\n",
    "[SPACY]: https://spacy.io/"
   ]
  },
  {
   "cell_type": "markdown",
   "metadata": {},
   "source": [
    "## Full-Text and Sinopia RDF Metadata\n",
    "Exciting possibilities of applying machine learning to library workflows comes when we combine linked-data cataloging with the availability of the full-text. For example, we can run NER on the entirety of the full-text, and add any identified entities to our RDF. \n",
    "\n",
    "> Special thanks to Tim Thompson and Greta de Groat for providing examples of cataloged\n",
    "> resources in Sinopia that have available full-text!\n"
   ]
  },
  {
   "cell_type": "markdown",
   "metadata": {},
   "source": [
    "### Example One: *Alarmingly suspicious*\n",
    "First we will download the Sinopia record for this Work, https://api.sinopia.io/resource/65a2b059-5ac1-48a6-adbb-870712c3060c, and extract the `data` property to create a RDF graph."
   ]
  },
  {
   "cell_type": "code",
   "execution_count": 81,
   "metadata": {},
   "outputs": [
    {
     "data": {
      "text/plain": [
       "<Graph identifier=Ne45942fd52754556bbac789e8013ac75 (<class 'rdflib.graph.Graph'>)>"
      ]
     },
     "execution_count": 81,
     "metadata": {},
     "output_type": "execute_result"
    }
   ],
   "source": [
    "example1_result = requests.get(\n",
    "    \"https://api.sinopia.io/resource/65a2b059-5ac1-48a6-adbb-870712c3060c\"\n",
    ")\n",
    "example1_graph = rdflib.Graph()\n",
    "for ns, url in helpers.NAMESPACES.items():\n",
    "    example1_graph.namespace_manager.bind(ns, url)\n",
    "example1_graph.parse(\n",
    "    data=json.dumps(example1_result.json().get(\"data\")), format=\"json-ld\"\n",
    ")"
   ]
  },
  {
   "cell_type": "markdown",
   "metadata": {},
   "source": [
    "Second, we open the full-text that was retrieved from the [Haithtrust](https://babel.hathitrust.org/cgi/pt?id=uiuo.ark:/13960/t14n5kz7q&view=1up&seq=3) and load all of the text and save to the `example1_text` variable. "
   ]
  },
  {
   "cell_type": "code",
   "execution_count": 84,
   "metadata": {},
   "outputs": [
    {
     "name": "stdout",
     "output_type": "stream",
     "text": [
      "Number of characters in the text is 61,249\n"
     ]
    }
   ],
   "source": [
    "with open(\"data/65a2b059-5ac1-48a6-adbb-870712c3060c.txt\") as fo:\n",
    "    example1_text = fo.read()\n",
    "\n",
    "print(f\"Number of characters in the text is {len(example1_text):,}\")"
   ]
  },
  {
   "cell_type": "markdown",
   "metadata": {},
   "source": [
    "Third, we will run the full-text through our [spaCy][SPACY] en_nlp pipeline and then examine the identified entities.\n",
    "\n",
    "[SPACY]: https://spacy.io/"
   ]
  },
  {
   "cell_type": "code",
   "execution_count": 87,
   "metadata": {},
   "outputs": [
    {
     "name": "stdout",
     "output_type": "stream",
     "text": [
      "Number of entities: 576\n"
     ]
    }
   ],
   "source": [
    "example1_doc = en_nlp(example1_text)\n",
    "print(f\"Number of entities: {len(example1_doc.ents):,}\")"
   ]
  },
  {
   "cell_type": "markdown",
   "metadata": {},
   "source": [
    "Of the 576 entities, we will extract the **PERSON** and **GPE** (location) entities for further analysis. "
   ]
  },
  {
   "cell_type": "code",
   "execution_count": 164,
   "metadata": {},
   "outputs": [
    {
     "name": "stdout",
     "output_type": "stream",
     "text": [
      "NER found 327 people and 21 locations\n"
     ]
    }
   ],
   "source": [
    "people, locations = [], []\n",
    "\n",
    "for ent in example1_doc.ents:\n",
    "    if ent.label_.startswith(\"PERSON\"):\n",
    "        people.append(ent)\n",
    "    if ent.label_.startswith(\"GPE\"):\n",
    "        locations.append(ent)\n",
    "print(f\"NER found {len(people):,} people and {len(locations):,} locations\")"
   ]
  },
  {
   "cell_type": "markdown",
   "metadata": {},
   "source": [
    "Looking at the `people` list, we notice a number of duplications (for now we don't care where the person entity was found in the text) so we filter this list."
   ]
  },
  {
   "cell_type": "code",
   "execution_count": 165,
   "metadata": {},
   "outputs": [],
   "source": [
    "people = set([\" \".join(ent.text.split()) for ent in people])\n",
    "locations = set([\" \".join(ent.text.split()) for ent in locations])"
   ]
  },
  {
   "cell_type": "code",
   "execution_count": 166,
   "metadata": {},
   "outputs": [
    {
     "data": {
      "text/plain": [
       "(114, 12)"
      ]
     },
     "execution_count": 166,
     "metadata": {},
     "output_type": "execute_result"
    }
   ],
   "source": [
    "len(people), len(locations)"
   ]
  },
  {
   "cell_type": "markdown",
   "metadata": {},
   "source": [
    "With these identified names, we can use the VIAF [SRU Search](https://platform.worldcat.org/api-explorer/apis/VIAF/AuthorityCluster/SRUSearch) on each of the `people` entities to see if we can narrow down our list using this authority source. In the helpers module, the `viaf_people_search` function returns a dictionary VIAF urls that match the term and the first main heading of the record.\n",
    "\n",
    "We can then aggregate these results and see what remains. "
   ]
  },
  {
   "cell_type": "code",
   "execution_count": 167,
   "metadata": {},
   "outputs": [
    {
     "name": "stdout",
     "output_type": "stream",
     "text": [
      "0..25...50..75...100."
     ]
    }
   ],
   "source": [
    "example1_people = {}\n",
    "for i, term in enumerate(list(people)):\n",
    "    # Removes newlines, tabs, and spaces from the entity text\n",
    "    viaf_result = helpers.viaf_people_search(term)\n",
    "    example1_people.update(viaf_result)\n",
    "    if not i % 10 and i > 0:\n",
    "        print(\".\", end=\"\")\n",
    "    if not i % 25:\n",
    "        print(f\"{i}\", end=\"\")"
   ]
  },
  {
   "cell_type": "code",
   "execution_count": 169,
   "metadata": {
    "tags": []
   },
   "outputs": [
    {
     "data": {
      "text/plain": [
       "{'http://viaf.org/viaf/18046007/': ['Calamy, Edmund, 1671-1732'],\n",
       " 'http://viaf.org/viaf/6194158792853239040000/': ['Butler, Harry, 1889-1924'],\n",
       " 'http://viaf.org/viaf/9937154441768335460002/': ['Stankovski, Vlado'],\n",
       " 'http://viaf.org/viaf/9672160668125703560008/': ['Barnitz, John G'],\n",
       " 'http://viaf.org/viaf/9611161763145222560005/': ['Boyd, Chuck (Musician)'],\n",
       " 'http://viaf.org/viaf/18153773422361430930/': ['Sharp, Nicholas (Cricket historian)'],\n",
       " 'http://viaf.org/viaf/15153773419161430970/': ['Sharp, Nicholas (Lawyer)'],\n",
       " 'http://viaf.org/viaf/202397991/': ['Sharp, Nicholas Andrew 1944-'],\n",
       " 'http://viaf.org/viaf/12460530/': ['Sharp, Nicholas J.H.'],\n",
       " 'http://viaf.org/viaf/1340160668441903560000/': ['Curzon-Siggers, Helen'],\n",
       " 'http://viaf.org/viaf/722159234869803372966/': ['Fischer, Jean E'],\n",
       " 'http://viaf.org/viaf/411159234291403371362/': ['Lawson, James Morris'],\n",
       " 'http://viaf.org/viaf/295800268/': ['Matthews, Gwynda, 1926-'],\n",
       " 'http://viaf.org/viaf/280473255/': ['Barton, Frank M. (Frank Matthews), 1869-1940'],\n",
       " 'http://viaf.org/viaf/310536415/': ['Martínez, Francisco Javier.'],\n",
       " 'http://viaf.org/viaf/316149196482874791618/': ['Keene, Laura'],\n",
       " 'http://viaf.org/viaf/20161760532521642810/': ['Donahoe, J. A. (Joseph Aloysius), 1875-'],\n",
       " 'http://viaf.org/viaf/73128378/': ['Bryan, Vernanne, 1941-'],\n",
       " 'http://viaf.org/viaf/45103975/': ['Keene, Laura, 1826-1873'],\n",
       " 'http://viaf.org/viaf/9969159477997427990005/': ['Jan-Ailleret, Maud'],\n",
       " 'http://viaf.org/viaf/2798149198214774940001/': ['Tardy, Anne-Solange'],\n",
       " 'http://viaf.org/viaf/1192156677152033770000/': ['Yong, Bartholomew, 15..-15..'],\n",
       " 'http://viaf.org/viaf/315635002/': ['Duncan, Ellen, 1862-1937'],\n",
       " 'http://viaf.org/viaf/270728133/': ['Martins, Eunice, 1965-'],\n",
       " 'http://viaf.org/viaf/263475624/': ['A. B'],\n",
       " 'http://viaf.org/viaf/1551159234452403371761/': ['Davis, Mme'],\n",
       " 'http://viaf.org/viaf/875159234271703371371/': ['N.B'],\n",
       " 'http://viaf.org/viaf/96455369/': ['Harrison, Sarah Cecilia, 1863-1941, artist.'],\n",
       " 'http://viaf.org/viaf/61700341/': ['Ritz, David'],\n",
       " 'http://viaf.org/viaf/1335159234043703370504/': ['Maggot, Butterfly'],\n",
       " 'http://viaf.org/viaf/38565908/': ['Carter, Joseph 1951-'],\n",
       " 'http://viaf.org/viaf/13117691/': ['Yeats, Elizabeth Corbet, 1868-1940'],\n",
       " 'http://viaf.org/viaf/7502159477902827990003/': ['Loop, George'],\n",
       " 'http://viaf.org/viaf/7234159248113504870007/': ['Pigott Charles, -1794'],\n",
       " 'http://viaf.org/viaf/9909160909265712870001/': ['Smith, Andrew (Andrew Anselmo), 1959-'],\n",
       " 'http://viaf.org/viaf/9986158631025523370006/': ['Bernet, William'],\n",
       " 'http://viaf.org/viaf/9059160667586703560003/': ['Holland, Bernard'],\n",
       " 'http://viaf.org/viaf/9833149108429868780006/': ['Halsted, Caroline Amelia, -1851'],\n",
       " 'http://viaf.org/viaf/9446159477996327990001/': ['Thorpe, Arthur  L.'],\n",
       " 'http://viaf.org/viaf/9370161211427240070008/': ['Futter, Keith'],\n",
       " 'http://viaf.org/viaf/9358160310472158300005/': ['Williamson, Hailey L.'],\n",
       " 'http://viaf.org/viaf/9352147270397635700005/': ['Knight, Charles, 1743-ca. 1826, engraver.'],\n",
       " 'http://viaf.org/viaf/9975159613676341030004/': ['Bleakney, J. Sherman (John Sherman), 1928-'],\n",
       " 'http://viaf.org/viaf/9974161212029240070007/': ['Bonkers'],\n",
       " 'http://viaf.org/viaf/9941161212148740070009/': ['Booth, Sherman F.'],\n",
       " 'http://viaf.org/viaf/9989149719126311130000/': ['Sheila N. Garland researcher'],\n",
       " 'http://viaf.org/viaf/9899149068559065730008/': ['Magnus Simrén'],\n",
       " 'http://viaf.org/viaf/9871149719126011130007/': ['Jolanta M Siller-Matula'],\n",
       " 'http://viaf.org/viaf/9862147665850060670009/': ['Megan J. Hobbs'],\n",
       " 'http://viaf.org/viaf/9666160668405803560008/': ['Bruno Etain'],\n",
       " 'http://viaf.org/viaf/69014309/': ['Malleson, G.B. (George Bruce), 1825-1898'],\n",
       " 'http://viaf.org/viaf/9556159248563704870009/': ['Independent elector'],\n",
       " 'http://viaf.org/viaf/9162149198351574940007/': ['Dodson, Owen, 1914-1983'],\n",
       " 'http://viaf.org/viaf/9031149368862385980003/': ['Thiele jr, Bob'],\n",
       " 'http://viaf.org/viaf/7229161212142140070007/': ['Maas Geesteranus, Henry G.J'],\n",
       " 'http://viaf.org/viaf/9992161211812740070009/': ['Cleven, M.H.W.'],\n",
       " 'http://viaf.org/viaf/9982157884843960620001/': ['Heister, Matthias W. M. 1925-'],\n",
       " 'http://viaf.org/viaf/9975152744557027850000/': ['M. W.'],\n",
       " 'http://viaf.org/viaf/9061161274838747650009/': ['Leschevin, Philippe-Xavier'],\n",
       " 'http://viaf.org/viaf/8124156012392349700003/': ['Beichlingen, Gottfried Hermann \\x98von\\x9c 1638-1704'],\n",
       " 'http://viaf.org/viaf/7828161212215940070006/': ['Maner, Aug. L.'],\n",
       " 'http://viaf.org/viaf/7381151051878633530009/': ['Pastorius, Veuve de Jean III, 16..-17..'],\n",
       " 'http://viaf.org/viaf/9712159477840627990002/': ['Melki-Wegner, Skye'],\n",
       " 'http://viaf.org/viaf/9022152744552227850004/': ['Major, Joseph 18/19'],\n",
       " 'http://viaf.org/viaf/6841159477718427990009/': ['Nick, Old, 1813 1883'],\n",
       " 'http://viaf.org/viaf/4448151304660149460003/': ['Ferlet, Christian'],\n",
       " 'http://viaf.org/viaf/9991149068432965730004/': ['Eldard K, John'],\n",
       " 'http://viaf.org/viaf/9983159820930914000007/': ['Wolfe, George, 1859-1941'],\n",
       " 'http://viaf.org/viaf/69095996/': ['Thicknesse, Philip, 1719-1792'],\n",
       " 'http://viaf.org/viaf/54255124/': ['Austin, William, 1778-1841'],\n",
       " 'http://viaf.org/viaf/46617092/': ['Austin, William, 1721-1820'],\n",
       " 'http://viaf.org/viaf/9979149068602165730009/': ['Muluvi, Augustus S.'],\n",
       " 'http://viaf.org/viaf/9946159248092004870000/': ['Miles, William Augustus'],\n",
       " 'http://viaf.org/viaf/9937160668251403560008/': ['Lautensack, Rudolph August von -1737'],\n",
       " 'http://viaf.org/viaf/9933161212005040070001/': ['Jong, Maartje de'],\n",
       " 'http://viaf.org/viaf/9541160668250103560004/': ['Copp, Belton A., 1796-1858'],\n",
       " 'http://viaf.org/viaf/9426158792863139040008/': ['Belton, John'],\n",
       " 'http://viaf.org/viaf/9400149296299380670000/': ['Belton, John A. 1908-'],\n",
       " 'http://viaf.org/viaf/9139159477950827990000/': ['Belton, Adrian'],\n",
       " 'http://viaf.org/viaf/8875161881955234100007/': ['Belton, Liam 1947-'],\n",
       " 'http://viaf.org/viaf/14499117/': ['Lonsdale, James, 1777-1839'],\n",
       " 'http://viaf.org/viaf/9999159764098708170006/': ['Cui, Lixin'],\n",
       " 'http://viaf.org/viaf/9999155708730222580003/': ['Goetsch, Hal 1924-2011'],\n",
       " 'http://viaf.org/viaf/9550149296178380670006/': ['Mæhle, Magne'],\n",
       " 'http://viaf.org/viaf/9543152140012211100004/': ['Jón Steinar Jónsson 1957-'],\n",
       " 'http://viaf.org/viaf/9537149198239974940007/': ['Juhlin, Susan'],\n",
       " 'http://viaf.org/viaf/9430152140011711100006/': ['Thor Aspelund'],\n",
       " 'http://viaf.org/viaf/117197519/': ['Waller, Bolton C.'],\n",
       " 'http://viaf.org/viaf/80075668/': ['Boluminski, Lady'],\n",
       " 'http://viaf.org/viaf/54531670/': ['Augusta, Princess of Wales, 1719-1772'],\n",
       " 'http://viaf.org/viaf/47702602/': ['Nissen, Thisbe, 1972-'],\n",
       " 'http://viaf.org/viaf/42405841/': ['Axelrod, Saul.'],\n",
       " 'http://viaf.org/viaf/9997161212053540070008/': ['Bakker, M.I. (Mirjam Irene), 1975-'],\n",
       " 'http://viaf.org/viaf/9996152744557127850004/': ['Wittoch, Josef František 1788-1871'],\n",
       " 'http://viaf.org/viaf/5504154387349130970007/': ['Stanislas, Simbad'],\n",
       " 'http://viaf.org/viaf/4930160791837702860004/': ['Magnier, Eugene A.'],\n",
       " 'http://viaf.org/viaf/85862218/': ['Melanie, 1947-....'],\n",
       " 'http://viaf.org/viaf/84604471/': ['McKenzie, Scott, 1939-2012'],\n",
       " 'http://viaf.org/viaf/9885149108646368780009/': ['Sigfús Halldórsson 1920-1996'],\n",
       " 'http://viaf.org/viaf/9828157342859010100008/': ['Henderson, Charles Atta'],\n",
       " 'http://viaf.org/viaf/9768161212077040070004/': ['Knapp, Bettye'],\n",
       " 'http://viaf.org/viaf/9577160667746003560005/': ['Khawaja, Atta-Ul Musawar 1983-'],\n",
       " 'http://viaf.org/viaf/62159818679113811486/': ['Giltenan, Edward Baker, Woolen draper'],\n",
       " 'http://viaf.org/viaf/79197551/': ['Batalov, Aleksej Vladimirovič (1928-2017).'],\n",
       " 'http://viaf.org/viaf/26936472/': ['Jackson, Lawrence, 1691-1772'],\n",
       " 'http://viaf.org/viaf/293027492/': ['Watanabe, Osamu, 1980-'],\n",
       " 'http://viaf.org/viaf/251154381047830291905/': ['Suggs 1961-'],\n",
       " 'http://viaf.org/viaf/104546401/': ['McPherson, R. U. (Robert U.)'],\n",
       " 'http://viaf.org/viaf/75913128/': ['Collyer, Robert, 1823-1912'],\n",
       " 'http://viaf.org/viaf/33291805/': ['McPherson, R. B.'],\n",
       " 'http://viaf.org/viaf/2219438/': ['MacPherson, Ian (Conductor)'],\n",
       " 'http://viaf.org/viaf/9946160668282603560009/': ['Sharp, Ed'],\n",
       " 'http://viaf.org/viaf/9999160668406903560005/': ['Ball, Chester E.'],\n",
       " 'http://viaf.org/viaf/9977160668157603560000/': ['Gambrell, C. E. (Carl Edwin)'],\n",
       " 'http://viaf.org/viaf/9965161211788940070006/': ['David, Edwin'],\n",
       " 'http://viaf.org/viaf/10151302937248662961/': ['Gama, Emérico da, 1931-2014'],\n",
       " 'http://viaf.org/viaf/275427586/': ['James, Stephanie.'],\n",
       " 'http://viaf.org/viaf/107533016/': ['Morgan, Lady, (Sydney), 1783-1859'],\n",
       " 'http://viaf.org/viaf/106461779/': ['Scott, David, 1962-1993'],\n",
       " 'http://viaf.org/viaf/99896420/': ['Barros, Mary Amazonas Leite de.'],\n",
       " 'http://viaf.org/viaf/9991158915885350000004/': ['Lang, Andrew'],\n",
       " 'http://viaf.org/viaf/9949149108522268780007/': ['Pickett, Adrian'],\n",
       " 'http://viaf.org/viaf/115162060270551400068/': ['Hillis, Ruth'],\n",
       " 'http://viaf.org/viaf/7557006/': ['Luserke, Martin, 1880-1968'],\n",
       " 'http://viaf.org/viaf/60024852/': ['Gale, William G.'],\n",
       " 'http://viaf.org/viaf/7386077/': ['Angelou, Maya, 1928-2014'],\n",
       " 'http://viaf.org/viaf/1364148390865110830002/': ['Shine, Ruth, 1880-1959'],\n",
       " 'http://viaf.org/viaf/258152742898427730890/': ['Marett, M. B.'],\n",
       " 'http://viaf.org/viaf/23152199157014280490/': ['St. Leu, S.A.R. Mad. la Duchesse \\x98de\\x9c ca. Ende 18.-Anfang 19. Jh.'],\n",
       " 'http://viaf.org/viaf/9965160668375503560003/': ['Van der Westhuizen, W. M. (Willem Morkel)'],\n",
       " 'http://viaf.org/viaf/9906160546939610240000/': ['Hogan, William Samuel, 1897-1954'],\n",
       " 'http://viaf.org/viaf/9751161211667740070007/': ['James, Willie'],\n",
       " 'http://viaf.org/viaf/9608147907520079210005/': ['Egan, Willie 1933-2004'],\n",
       " 'http://viaf.org/viaf/9999160667970103560001/': ['Avalov Ė. V. (Ėlʹturan Veli ogly)'],\n",
       " 'http://viaf.org/viaf/9999159248535804870003/': ['Ivanchenko, A.V'],\n",
       " 'http://viaf.org/viaf/9999154387439030970008/': ['Wolverton, Dave'],\n",
       " 'http://viaf.org/viaf/9999160245378152640006/': ['Müller, Andreas Johann 1980-'],\n",
       " 'http://viaf.org/viaf/9999159035185401380009/': ['Tallon, Rodolfo Washington, 1901-'],\n",
       " 'http://viaf.org/viaf/9999151595797805470004/': ['Palos Peñarroya, Juan Luis, 19..-....'],\n",
       " 'http://viaf.org/viaf/9999157527347027300005/': ['원성진'],\n",
       " 'http://viaf.org/viaf/9987159400308319620003/': ['Jung, Yeonha'],\n",
       " 'http://viaf.org/viaf/9981160486100805180008/': ['김정원'],\n",
       " 'http://viaf.org/viaf/9946160486100705180007/': ['Kang Hye-won'],\n",
       " 'http://viaf.org/viaf/8865152744551427850006/': ['Flahault, Emilie de 1819-1895'],\n",
       " 'http://viaf.org/viaf/6201159478332027990005/': ['Emily Lady'],\n",
       " 'http://viaf.org/viaf/9984148753717041320001/': ['Herzak-Bauman, Lauren ca. 20./21.Jh.'],\n",
       " 'http://viaf.org/viaf/9976149108522668780000/': ['Stewart, Robert W.'],\n",
       " 'http://viaf.org/viaf/9970156991003661180007/': ['Richardson, Tracy, 1965-'],\n",
       " 'http://viaf.org/viaf/9967158915912550000007/': ['Conley, Harold 1946-2010'],\n",
       " 'http://viaf.org/viaf/9956149198279174940000/': ['Stair, Henry H.'],\n",
       " 'http://viaf.org/viaf/9871160667715303560000/': ['Wilson, Pete.'],\n",
       " 'http://viaf.org/viaf/310152742908027731493/': ['Valletort, Lady 19.sc'],\n",
       " 'http://viaf.org/viaf/272152742908127731486/': ['Valletort, Lord'],\n",
       " 'http://viaf.org/viaf/26152742893627730540/': ['Popeley, William 1718+'],\n",
       " 'http://viaf.org/viaf/9005162062774651650005/': ['Creelman, James'],\n",
       " 'http://viaf.org/viaf/6942149296168080670005/': ['Krichene, Noureddine'],\n",
       " 'http://viaf.org/viaf/5714149108414768780004/': ['Scales, T. Laine'],\n",
       " 'http://viaf.org/viaf/3404147967355084200007/': ['Kuss, Daria J.'],\n",
       " 'http://viaf.org/viaf/3056149108449968780007/': ['Verdin, Paul'],\n",
       " 'http://viaf.org/viaf/1840154592506543370006/': ['Blackwell, Anna ca. 20./21. Jh.'],\n",
       " 'http://viaf.org/viaf/1745153411781141700001/': ['Adriaensen, Johan'],\n",
       " 'http://viaf.org/viaf/1710149235087076690008/': ['Población García, Javier'],\n",
       " 'http://viaf.org/viaf/9877149544635500490009/': ['Tamverk, Mart, 1867-1947.'],\n",
       " 'http://viaf.org/viaf/9824149544634900490002/': ['Agan, Ain, 1959-'],\n",
       " 'http://viaf.org/viaf/9999159109717806900008/': ['이승헌'],\n",
       " 'http://viaf.org/viaf/9997157527306027300005/': ['이은덕'],\n",
       " 'http://viaf.org/viaf/9995149662201807020007/': ['Lee, Rox, 1950-...'],\n",
       " 'http://viaf.org/viaf/9992155044805372520008/': ['Muller, Charles, Dr en théologie'],\n",
       " 'http://viaf.org/viaf/9963159478272027990007/': ['Ballarini, Teodorico'],\n",
       " 'http://viaf.org/viaf/9958161453851364330000/': ['Maria II, Rainha de Portugal, 1819-1853.'],\n",
       " 'http://viaf.org/viaf/72709653/': ['Zimmerman, Lillian'],\n",
       " 'http://viaf.org/viaf/434149066677765601228/': ['Nagel, Rolf'],\n",
       " 'http://viaf.org/viaf/417144782731878910495/': ['Rowińska, Marlena'],\n",
       " 'http://viaf.org/viaf/9712161938142239870009/': ['Keshavarz, Alma'],\n",
       " 'http://viaf.org/viaf/9573150325558710090003/': ['Donald Trump Jr. American businessman and son of U.S. President Donald Trump'],\n",
       " 'http://viaf.org/viaf/9409160668030903560009/': ['Teitzel, W. B. (Will B.)'],\n",
       " 'http://viaf.org/viaf/9610158188279820260005/': ['José Pedro Dias de Carvalho politicien brésilien'],\n",
       " 'http://viaf.org/viaf/9540154441766335460005/': ['Anh, Ngoc 19..-.... chanteur'],\n",
       " 'http://viaf.org/viaf/9507160486099105180008/': ['Baudard, Albert 1877-1917'],\n",
       " 'http://viaf.org/viaf/9503160667714203560008/': ['Serrano, P. A., fl. entre 1850 e 1869'],\n",
       " 'http://viaf.org/viaf/57984442/': ['Simpson, J. Palgrave (John Palgrave)'],\n",
       " 'http://viaf.org/viaf/49318426/': ['Weber, Max Maria \\x98von\\x9c 1822-1881'],\n",
       " 'http://viaf.org/viaf/6175160364954763680005/': ['Hackenberg, Theodor Joseph 1829-1864'],\n",
       " 'http://viaf.org/viaf/9974160667779703560002/': ['Butigan, Ken'],\n",
       " 'http://viaf.org/viaf/9836156991003361180005/': ['Marco Vountas researcher ORCID ID = 0000-0002-0297-5974'],\n",
       " 'http://viaf.org/viaf/564159474188627661806/': ['Barnaba da Cologna, O.F.M., 1867-1911'],\n",
       " 'http://viaf.org/viaf/313159474329327662893/': ['Barnaba da Bologna, O.F.M.Rif'],\n",
       " 'http://viaf.org/viaf/274159474316327662559/': ['Barnaba da Caprile, O.F.M. Cap'],\n",
       " 'http://viaf.org/viaf/134159234087203370736/': ['Barnaba, F'],\n",
       " 'http://viaf.org/viaf/10145602504601362376/': ['Jones, Thomas, active 1600-1637'],\n",
       " 'http://viaf.org/viaf/44305889/': ['Synge, John Millington, 1871-1909.'],\n",
       " 'http://viaf.org/viaf/1850149368830185980007/': ['Twine, Linda'],\n",
       " 'http://viaf.org/viaf/9956160668064303560006/': ['MacPherson, Donald (Piper)'],\n",
       " 'http://viaf.org/viaf/9940158309873606690004/': ['McPherson, Marlene, 1962-'],\n",
       " 'http://viaf.org/viaf/9847148390858410830004/': ['Unaipon, James, approximately 1835-1907'],\n",
       " 'http://viaf.org/viaf/54157701808944222678/': ['Miller, Bonny H. ca. 20./21. Jh.'],\n",
       " 'http://viaf.org/viaf/9984149068517265730000/': ['Li, Hengde'],\n",
       " 'http://viaf.org/viaf/304536930/': ['Bartley, Kevin G.'],\n",
       " 'http://viaf.org/viaf/278409400/': ['Hoebel, Bartley G'],\n",
       " 'http://viaf.org/viaf/117667066/': ['Bartley, C. G.'],\n",
       " 'http://viaf.org/viaf/93022917/': ['Bartley, J. G. (Jonathan Glen), 1963-'],\n",
       " 'http://viaf.org/viaf/27341816/': ['Bartley, B. G. D. (Basil G. D.)'],\n",
       " 'http://viaf.org/viaf/9956160668375503560004/': ['George, G. J. (Gilbert Jasper)'],\n",
       " 'http://viaf.org/viaf/9974157583871933970004/': ['Huygh, Tim'],\n",
       " 'http://viaf.org/viaf/9971156497260917740005/': ['Woriescheck, Tim 1989-']}"
      ]
     },
     "execution_count": 169,
     "metadata": {},
     "output_type": "execute_result"
    }
   ],
   "source": [
    "example1_people"
   ]
  },
  {
   "cell_type": "markdown",
   "metadata": {},
   "source": [
    "### Example 2 - *Improving water supply networks*\n",
    "The second example is the report, *Improving water supply networks*, with the following Sinopia Resources:\n",
    "\n",
    "- BIBFRAME Instance https://api.stage.sinopia.io/resource/ae7a9f2c-a5db-4472-80fe-9a30f311386d\n",
    "- BIBFRAME Item https://api.stage.sinopia.io/resource/3ccb6255-a090-4751-b68f-7f7861986452\n",
    "\n",
    "First we will retrieve all three resources and add them to a RDF graph."
   ]
  },
  {
   "cell_type": "code",
   "execution_count": 154,
   "metadata": {},
   "outputs": [
    {
     "name": "stdout",
     "output_type": "stream",
     "text": [
      "Total number of triples for example 2 62\n"
     ]
    }
   ],
   "source": [
    "example2_graph = rdflib.Graph()\n",
    "for ns, url in helpers.NAMESPACES.items():\n",
    "    example2_graph.namespace_manager.bind(ns, url)\n",
    "\n",
    "for sinopia_url in [\n",
    "    \"https://api.stage.sinopia.io/resource/ae7a9f2c-a5db-4472-80fe-9a30f311386d\",\n",
    "    \"https://api.stage.sinopia.io/resource/3ccb6255-a090-4751-b68f-7f7861986452\",\n",
    "]:\n",
    "    sinopia_result = requests.get(sinopia_url)\n",
    "    example2_graph.parse(\n",
    "        data=json.dumps(sinopia_result.json()[\"data\"]), format=\"json-ld\"\n",
    "    )\n",
    "print(f\"Total number of triples for example 2 {len(example2_graph):,}\")"
   ]
  },
  {
   "cell_type": "markdown",
   "metadata": {},
   "source": [
    "Second, we will open and read the full-text for *Improving water supply networks*"
   ]
  },
  {
   "cell_type": "code",
   "execution_count": 155,
   "metadata": {},
   "outputs": [
    {
     "name": "stdout",
     "output_type": "stream",
     "text": [
      "Number of characters in the text is 251,321\n"
     ]
    }
   ],
   "source": [
    "with open(\"data/ae7a9f2c-a5db-4472-80fe-9a30f311386d.txt\") as fo:\n",
    "    example2_text = fo.read()\n",
    "\n",
    "print(f\"Number of characters in the text is {len(example2_text):,}\")"
   ]
  },
  {
   "cell_type": "markdown",
   "metadata": {},
   "source": [
    "Third, we will run the full-text through our [spaCy][SPACY] en_nlp pipeline and then examine the identified entities.\n",
    "\n",
    "[SPACY]: https://spacy.io"
   ]
  },
  {
   "cell_type": "code",
   "execution_count": 156,
   "metadata": {},
   "outputs": [
    {
     "name": "stdout",
     "output_type": "stream",
     "text": [
      "Number of entities: 1,707\n"
     ]
    }
   ],
   "source": [
    "example2_doc = en_nlp(example2_text)\n",
    "print(f\"Number of entities: {len(example2_doc.ents):,}\")"
   ]
  },
  {
   "cell_type": "code",
   "execution_count": 170,
   "metadata": {},
   "outputs": [
    {
     "name": "stdout",
     "output_type": "stream",
     "text": [
      "NER found 127 people and 64 locations\n"
     ]
    }
   ],
   "source": [
    "example2_people, example2_locations = [], []\n",
    "\n",
    "for ent in example2_doc.ents:\n",
    "    if ent.label_.startswith(\"PERSON\"):\n",
    "        example2_people.append(ent)\n",
    "    if ent.label_.startswith(\"GPE\"):\n",
    "        example2_locations.append(ent)\n",
    "print(\n",
    "    f\"NER found {len(example2_people):,} people and {len(example2_locations):,} locations\"\n",
    ")"
   ]
  },
  {
   "cell_type": "markdown",
   "metadata": {},
   "source": [
    "We now de-duplicate `example2_people` and `example2_locations`example2_people"
   ]
  },
  {
   "cell_type": "code",
   "execution_count": 171,
   "metadata": {},
   "outputs": [],
   "source": [
    "example2_people = set([\" \".join(ent.text.split()) for ent in example2_people])\n",
    "example2_locations = set([\" \".join(ent.text.split()) for ent in example2_locations])"
   ]
  },
  {
   "cell_type": "code",
   "execution_count": 172,
   "metadata": {},
   "outputs": [
    {
     "data": {
      "text/plain": [
       "{'Anglian',\n",
       " 'Anglian Water',\n",
       " 'Austria',\n",
       " 'B. K. Wankhede',\n",
       " 'Bambos Charalambous',\n",
       " 'Billed Metered',\n",
       " 'Bulk',\n",
       " 'Bulk Flow',\n",
       " 'CS6.3 Leak Detector',\n",
       " 'Calm Networks',\n",
       " 'Cathy Wright Bare',\n",
       " 'Continuous',\n",
       " 'Croatia',\n",
       " 'Elio Arniella',\n",
       " 'Frank Nielsen',\n",
       " 'Gary Wyeth',\n",
       " 'Gary Wyeth Downloaded',\n",
       " 'Gram Panchayat',\n",
       " 'Groundwater',\n",
       " 'Handheld',\n",
       " 'Henrik Inancsi',\n",
       " 'Jeevan Pradhikaran',\n",
       " 'Jens F. Bastrup',\n",
       " 'Jens Ravn Knudsen',\n",
       " 'K. R. Otari',\n",
       " 'Kamstrup',\n",
       " 'Kapil Gram Panchayat',\n",
       " 'Ken',\n",
       " 'Ken Hirschman',\n",
       " 'Leak Detector',\n",
       " 'Meter',\n",
       " 'Meter Reading',\n",
       " 'Miya Bahamas',\n",
       " 'Mr S. K. Bhopale',\n",
       " 'Nevil Muncaster',\n",
       " 'Niccolò Machiavelli',\n",
       " 'PERFORMANCE',\n",
       " 'PRV',\n",
       " 'Patents Act',\n",
       " 'Pressurised',\n",
       " 'Robin Lindberg',\n",
       " 'Roland Liemberger',\n",
       " 'Sarah Walker',\n",
       " 'Stig Knudsen',\n",
       " 'Stuart Hamilton',\n",
       " 'Söderhamn',\n",
       " 'Water Balance',\n",
       " 'Whatdoesaholesoundlike',\n",
       " 'Yorkshire Water',\n",
       " 'Yorkshire Water’s'}"
      ]
     },
     "execution_count": 172,
     "metadata": {},
     "output_type": "execute_result"
    }
   ],
   "source": [
    "example2_people"
   ]
  },
  {
   "cell_type": "code",
   "execution_count": 173,
   "metadata": {},
   "outputs": [
    {
     "data": {
      "text/plain": [
       "{'Atlanta',\n",
       " 'Automatic',\n",
       " 'Bahamas',\n",
       " 'Canada',\n",
       " 'City',\n",
       " 'CityinAsia',\n",
       " 'England',\n",
       " 'Enigma3hyQs',\n",
       " 'Georgia',\n",
       " 'India',\n",
       " 'Kamstrup',\n",
       " 'Lincolnshire',\n",
       " 'London',\n",
       " 'Maharashtra',\n",
       " 'Malaysia',\n",
       " 'Mumbai',\n",
       " 'New Providence',\n",
       " 'SC',\n",
       " 'SCADA',\n",
       " 'Sheffield',\n",
       " 'Spain',\n",
       " 'Sweden',\n",
       " 'Technolog',\n",
       " 'The City of Sheridan',\n",
       " 'UK',\n",
       " 'US',\n",
       " 'USA',\n",
       " 'United Kingdom',\n",
       " 'Wyoming',\n",
       " 'm3',\n",
       " 'the City of Sheridan',\n",
       " 'the North of England'}"
      ]
     },
     "execution_count": 173,
     "metadata": {},
     "output_type": "execute_result"
    }
   ],
   "source": [
    "example2_locations"
   ]
  },
  {
   "cell_type": "markdown",
   "metadata": {},
   "source": [
    "## Exercise 2\n",
    "For the following Sinopia Resources, create a graph, and a NLP pipeline to identify any people and locations in the full-text. The full-text is available in `data/5f8c765d-dc4f-45a0-b2d8-87fe29a38712.txt` file.\n",
    "\n",
    "- BIBFRAME Work https://api.stage.sinopia.io/resource/5f8c765d-dc4f-45a0-b2d8-87fe29a38712 \n",
    "- BIBFRAME Instance https://api.stage.sinopia.io/resource/2e041e16-1b4d-431f-b2d0-396f62270efa\n",
    "- BIBFRAME Item https://api.stage.sinopia.io/resource/53e68480-f82b-4dea-9b9a-68fd5ceacb41"
   ]
  }
 ],
 "metadata": {
  "kernelspec": {
   "display_name": "Python 3 (ipykernel)",
   "language": "python",
   "name": "python3"
  },
  "language_info": {
   "codemirror_mode": {
    "name": "ipython",
    "version": 3
   },
   "file_extension": ".py",
   "mimetype": "text/x-python",
   "name": "python",
   "nbconvert_exporter": "python",
   "pygments_lexer": "ipython3",
   "version": "3.9.1"
  }
 },
 "nbformat": 4,
 "nbformat_minor": 4
}
