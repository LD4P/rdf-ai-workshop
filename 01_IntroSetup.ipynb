{
 "cells": [
  {
   "cell_type": "markdown",
   "metadata": {},
   "source": [
    "# Introduction and Setup for Sinopia's Knowledge Graph"
   ]
  },
  {
   "cell_type": "code",
   "execution_count": 15,
   "metadata": {},
   "outputs": [],
   "source": [
    "%reload_ext autoreload\n",
    "%autoreload 2\n",
    "%matplotlib inline\n",
    "%reload_ext lab_black\n",
    "\n",
    "import datetime\n",
    "\n",
    "import kglab\n",
    "import helpers\n",
    "import widgets\n",
    "from IPython.display import display"
   ]
  },
  {
   "cell_type": "markdown",
   "metadata": {},
   "source": [
    "## Introduction\n",
    "This work-shop will introduce you to downloading and exploring the RDF created in the Sinopia Linked Data Editing environment. We will then build upon these Sinopia data artifacts we created by applying various machine learning technologies and techniques for such tasks as FAST subject heading and template classification. \n",
    "\n",
    "### Workshop Schedule\n",
    "This workshop will be broken down into three parts, each 55 minutes with a break between each session.\n",
    "\n",
    "#### 1. Introduction, Setup, Analysis, and Visualization of Sinopia RDF\n",
    "\n",
    "#### 2. Using spaCy and HuggingFace Natural Language Processing (NLP)\n",
    "\n",
    "#### 3. FastAI and PyTorch with Sinopia Data"
   ]
  },
  {
   "cell_type": "markdown",
   "metadata": {},
   "source": [
    "## Set-up for running Locally or Remotely\n",
    "There are multiple ways to run the [Jupyter notebooks](https://jupyter.org/) in this workshop, the easiest method to load each notebook using the [MyBinder][BINDER] service that will launch a Jupyter lab environment from which you can select and run the notebooks. The most complex method would be download and install Python along with the workshop dependencies on your local laptop or workstation. In between both of these, is running the notebooks using Google's [Collab][COLLAB} environment. \n",
    "\n",
    "### Run with MyBinder Cloud Service (the easiest) \n",
    "To run this workshop's Jupyter notebooks on [MyBinder][BINDER]\n",
    "\n",
    "1. Go to the following link https://mybinder.... \n",
    "1. Launch the container \n",
    "1. When the environment is finished, you should a similar display to this:\n",
    "   ![MyBinder Jupyter Lab Workshop](images/)\n",
    "1. Click on the `01_IntroSetup.ipynb` to launch this notebook. \n",
    "\n",
    "### Run with Google's Collab Service\n",
    "1.  Open \n",
    "\n",
    "### Local Installation Set-up\n",
    "1. Download and Install latest [Python version](https://python.org/downloads), current version **3.9.6**\n",
    "1. Once Python 3.9.x is installed, launch a terminal window and change to a directory where you want to install the workshop notebooks repository\n",
    "1. Create a Python virtual environment i.e. `python3 -m venv ld4-env`\n",
    "1. Activate the Python virtual environment, \n",
    "   - `source ld4-env/bin/activate` for Macintosh or Linux\n",
    "   - `. ld4-env\\Scripts\\Activate` for Windows\n",
    "1. Clone or copy the workshop repository.\n",
    "   -  If you have [git](https://git-scm.com) installed, run `git clone https://github.com/ld4p/{name-of-repo}`\n",
    "   -  Download and unzip the repository\n",
    "1. Change directories into the Workshop repository and run `pip install -r requirements.txt` to install all of the libraries we will be using for the workshop\n",
    "1. Launch Jupyter lab from the Workshop repository with `jupyter lab`\n",
    "1. Access the running Jupyter lab by accessing the locally running jupyter lab instance at http://localhost:8888 (or another port if 8888 is being used)\n",
    "\n",
    "[BINDER]: https://mybinder.org/\n",
    "[COLAB]: https://colab.research.google.com/"
   ]
  },
  {
   "cell_type": "markdown",
   "metadata": {},
   "source": [
    "### Brief Introduction to Jupyter Notebooks\n",
    "[Jupyter](https://jupyter.org/) notebooks are a popular computing environment in big data and machine learning communities that runs in your web browser. A notebook is made up of one more cells that are contain either documentation, written in [Markdown][MKDOWN], or Python code. You can move cells around, copy, delete, or change the type using the notebook toolbar:\n",
    "\n",
    "![Jupyter Notebook Toolbar](images/jupyter-nb-toolbar.png)\n",
    "\n",
    "Here are the important buttons:\n",
    "\n",
    "#### Saves the notebook to disk\n",
    "![Save Notebook](images/notebook-save.png) \n",
    "  \n",
    "####  Adds a new cell to the notebook\n",
    "![Add cell](images/notebook-add-cell.png)\n",
    "\n",
    "#### Removes current cell (but can paste the cell in a new location)\n",
    "![Cut cell](images/notebook-cut-cell.png) \n",
    "\n",
    "#### Copy current cell\n",
    "  ![Copy cell](images/notebook-copy-cell.png)\n",
    "  \n",
    "#### Paste cell at cursor position\n",
    "![Paste cell](images/notebook-paste-cell.png)\n",
    "\n",
    "#### Runs current cell, either renders Markdown cell to HTML or executes Python code.\n",
    "![Run cell](images/notebook-run-cell.png) \n",
    "\n",
    "#### Stops current running Cell\n",
    "[Stop Running Cell](images/notebook-stop-running-cell.png)\n",
    "\n",
    "#### Dropdown for changing the current cell type\n",
    "![Change cell type dropdown](images/notebook-cell-type-select.png) \n",
    "\n",
    "[MKDOWN]: https://www.markdownguide.org/"
   ]
  },
  {
   "cell_type": "markdown",
   "metadata": {},
   "source": [
    "## Sinopia Group Knowledge Graph\n",
    "We can use [Sinopia API](https://ld4p.github.io/sinopia_api/#tag/resources/paths/~1resource/get) to only retrieve resources associated with a Sinopia group. The general URL pattern is \n",
    "\n",
    "`https://api.{env?}.sinopia.io/resources?group={name}`. \n",
    "\n",
    "Some examples:\n",
    "- Retrieve PCC resources from Sinopia stage environment: `https://api.stage.sinopia.io/resources?group=pcc`\n",
    "- Retrieve Yale resources from Sinopia production: `https://api.sinopia.io/resources?group=yale`\n",
    "\n",
    "To assist in generating the group API URL, we will use the `sinopia_api` widget:"
   ]
  },
  {
   "cell_type": "code",
   "execution_count": 2,
   "metadata": {},
   "outputs": [
    {
     "data": {
      "application/vnd.jupyter.widget-view+json": {
       "model_id": "d925e1fd49694d7083c249a348a82833",
       "version_major": 2,
       "version_minor": 0
      },
      "text/plain": [
       "VBox(children=(HBox(children=(RadioButtons(description='Environment:', options=(('Development', 'https://api.d…"
      ]
     },
     "metadata": {},
     "output_type": "display_data"
    }
   ],
   "source": [
    "display(widgets.sinopia_api_group_widget)"
   ]
  },
  {
   "cell_type": "code",
   "execution_count": null,
   "metadata": {},
   "outputs": [],
   "source": [
    "pcc_kg = helpers.create_kg('https://api.stage.sinopia.io/resource?group=pcc')"
   ]
  },
  {
   "cell_type": "markdown",
   "metadata": {},
   "source": [
    "## Retrieving all RDF from Sinopia Stage Environment\n",
    "Using the `sinopia_api` widget to generate the Sinopia API url for all groups, we can then use a helper function, `create_kg` that will download each resource, extract the RDF, and then return the Knowledge Graph after all of the RDF resources have been parsed.\n",
    "\n",
    "**NOTE**: Instead of taking 8+ minutes to run this function, you can just load the existing stage knowledge graph with the following commands:\n",
    "\n",
    "```python\n",
    "stage_kg = kglab.KnowledgeGraph()\n",
    "stage_kg.load_jsonld(\"data/stage.json\")\n",
    "```"
   ]
  },
  {
   "cell_type": "code",
   "execution_count": 16,
   "metadata": {},
   "outputs": [
    {
     "data": {
      "text/plain": [
       "<kglab.kglab.KnowledgeGraph at 0x7fce76b7c070>"
      ]
     },
     "execution_count": 16,
     "metadata": {},
     "output_type": "execute_result"
    }
   ],
   "source": [
    "stage_kg = kglab.KnowledgeGraph()\n",
    "stage_kg.load_jsonld(\"data/stage.json\")"
   ]
  },
  {
   "cell_type": "code",
   "execution_count": 9,
   "metadata": {
    "collapsed": true,
    "jupyter": {
     "outputs_hidden": true
    },
    "tags": []
   },
   "outputs": [
    {
     "name": "stdout",
     "output_type": "stream",
     "text": [
      "Started creation of knowledge graph for Sinopia Stage at 2021-07-17 18:23:30.106150\n",
      "0....100....200....300....400....500....600....700....800....900....1,000....1,100....1,200....1,300....1,400....1,500....1,600....1,700....1,800....1,900....2,000....2,100....2,200....2,300....2,400....2,500....2,600....2,700....2,800....2,900....3,000....3,100....3,200....3,300....3,400....3,500....3,600....3,700....3,800....3,900....4,000....4,100....4,200....4,300....4,400....4,500....4,600....4,700."
     ]
    },
    {
     "name": "stderr",
     "output_type": "stream",
     "text": [
      "http://desktop.loc.gov/search?view=document&id=Infobasedcrmg0Dash0Dash0Dash247&hl=true&fq=allresources|true# does not look like a valid URI, trying to serialize this will break.\n"
     ]
    },
    {
     "name": "stdout",
     "output_type": "stream",
     "text": [
      "...4,800....4,900....5,000....5,100....5,200."
     ]
    },
    {
     "name": "stderr",
     "output_type": "stream",
     "text": [
      "ld4p:RT:bf2:2D graphic material:Item does not look like a valid URI, trying to serialize this will break.\n"
     ]
    },
    {
     "name": "stdout",
     "output_type": "stream",
     "text": [
      "...5,300....5,400....5,500.."
     ]
    },
    {
     "name": "stderr",
     "output_type": "stream",
     "text": [
      "urn:ld4p:qa:gettyaat:Objects__Object_Groupings and Systems does not look like a valid URI, trying to serialize this will break.\n"
     ]
    },
    {
     "name": "stdout",
     "output_type": "stream",
     "text": [
      "..5,600....5,700....5,800...Failed to parse {'user': 'cdezelar', 'group': 'minnesota', 'templateId': 'ld4p:RT:bf2:Monograph:Work:Un-nested', 'types': ['http://id.loc.gov/ontologies/bibframe/Work'], 'bfAdminMetadataRefs': ['https://api.stage.sinopia.io/resource/f424bc37-ee8a-4608-9ec4-7ad293d98610'], 'bfItemRefs': [], 'bfInstanceRefs': ['https://api.stage.sinopia.io/resource/57c50ae7-a5e6-4116-8422-f8eb9de61cb1'], 'bfWorkRefs': [], 'id': '638264f1-4ff8-4e2f-bea6-4bb8629c488d', 'uri': 'https://api.stage.sinopia.io/resource/638264f1-4ff8-4e2f-bea6-4bb8629c488d', 'timestamp': '2020-09-29T16:03:43.979Z'}\n",
      "Invalid line: '<file:///Users/jpnelson/02021/ld4p/ld4-2021/\\thttps:/lccn.loc.gov/n99039887> <http://www.w3.org/2000/01/rdf-schema#label> \"\\thttps://lccn.loc.gov/n99039887\" .'\n",
      ".5,900...\n",
      "https://api.stage.sinopia.io/resource/e49c5f1d-5e62-4b45-b87f-5d0cf3e573e5 missing data\n",
      "\n",
      "https://api.stage.sinopia.io/resource/3770137a-bed5-4a97-bd9a-fea4f3822dd7 missing data\n",
      ".6,000....6,100....6,200\n",
      "https://api.stage.sinopia.io/resource/28961949-72b2-4c94-b1f5-a7788f1ae1f0 missing data\n",
      ".\n",
      "https://api.stage.sinopia.io/resource/c3a1d5dd-a829-4ba7-8fbe-20490c018407 missing data\n",
      "\n",
      "https://api.stage.sinopia.io/resource/4e80a183-4487-44fd-9bf8-8497c50d27f3 missing data\n",
      "\n",
      "https://api.stage.sinopia.io/resource/16625687-0208-4ea5-b299-204d36180c45 missing data\n",
      ".."
     ]
    },
    {
     "name": "stderr",
     "output_type": "stream",
     "text": [
      "https://api.stage.sinopia.io/resource/this is a test does not look like a valid URI, trying to serialize this will break.\n",
      "https://api.stage.sinopia.io/resource/this is a test#b2 does not look like a valid URI, trying to serialize this will break.\n",
      "https://api.stage.sinopia.io/resource/this is a test#N3a7298a12b5d4d258721d596be77a840 does not look like a valid URI, trying to serialize this will break.\n",
      "https://api.stage.sinopia.io/resource/this is a test#b2 does not look like a valid URI, trying to serialize this will break.\n",
      "https://api.stage.sinopia.io/resource/this is a test#b2 does not look like a valid URI, trying to serialize this will break.\n",
      "https://api.stage.sinopia.io/resource/this is a test#b2 does not look like a valid URI, trying to serialize this will break.\n",
      "https://api.stage.sinopia.io/resource/this is a test#N3a7298a12b5d4d258721d596be77a840 does not look like a valid URI, trying to serialize this will break.\n",
      "https://api.stage.sinopia.io/resource/this is a test#b2 does not look like a valid URI, trying to serialize this will break.\n",
      "https://api.stage.sinopia.io/resource/this is a test#b2 does not look like a valid URI, trying to serialize this will break.\n",
      "https://api.stage.sinopia.io/resource/this is a test#N3a7298a12b5d4d258721d596be77a840 does not look like a valid URI, trying to serialize this will break.\n",
      "https://api.stage.sinopia.io/resource/this is a test#b2 does not look like a valid URI, trying to serialize this will break.\n"
     ]
    },
    {
     "name": "stdout",
     "output_type": "stream",
     "text": [
      ".6,300Failed to parse {'user': 'michelle', 'group': 'cornell', 'templateId': 'sinopia:template:resource', 'types': ['http://sinopia.io/vocabulary/ResourceTemplate'], 'bfAdminMetadataRefs': [], 'bfItemRefs': [], 'bfInstanceRefs': [], 'bfWorkRefs': [], 'id': 'this is a test', 'uri': 'https://api.stage.sinopia.io/resource/this is a test', 'timestamp': '2021-02-16T20:12:05.927Z'}\n",
      "\"https://api.stage.sinopia.io/resource/this is a test#b2\" does not look like a valid URI, I cannot serialize this as N3/Turtle. Perhaps you wanted to urlencode it?\n",
      "....6,400....6,500....6,600\n",
      "https://api.stage.sinopia.io/resource/a6acbbea-1770-468b-904b-51cc4a3d7f27 missing data\n",
      "...Failed to parse {'user': 'mcm104', 'group': 'washington', 'templateId': 'WAU:RT:BF2:Work', 'types': ['http://id.loc.gov/ontologies/bibframe/Work'], 'id': '0398ce54-ff15-4e9f-8948-c44bcc393798', 'uri': 'https://api.stage.sinopia.io/resource/0398ce54-ff15-4e9f-8948-c44bcc393798', 'timestamp': '2021-03-30T22:02:40.077Z'}\n",
      "'@eng' is not a valid language tag!\n",
      ".6,700....6,800....6,900....7,000....7,100....7,200....7,300....7,400....7,500....7,600....7,700....7,800....7,900....8,000....8,100....8,200....8,300....8,400....8,500....8,600....8,700....8,800....8,900....9,000....9,100....9,200....9,300....9,400....9,500....9,600....9,700....9,800....9,900....10,000....10,100....10,200....10,300....10,400..Failed to parse {'user': 'jpnelson', 'group': 'other', 'id': '57c0a287-2306-4e9a-b156-d910773daf30', 'uri': 'https://api.stage.sinopia.io/resource/57c0a287-2306-4e9a-b156-d910773daf30', 'timestamp': '2021-07-17T01:27:42.860Z'}\n",
      "local variable 'resources' referenced before assignment\n",
      "..10,500....10,600....10,700Finished at 2021-07-17 18:33:10.607891, total time 9.666666666666666 minutes\n"
     ]
    }
   ],
   "source": [
    "start = datetime.datetime.utcnow()\n",
    "print(f\"Started creation of knowledge graph for Sinopia Stage at {start}\")\n",
    "stage_kg = helpers.create_kg(\"https://api.stage.sinopia.io/resource\")\n",
    "end = datetime.datetime.utcnow()\n",
    "print(f\"\"\"Finished at {end}, total time {(end-start).seconds / 60.} minutes\"\"\")"
   ]
  },
  {
   "cell_type": "markdown",
   "metadata": {},
   "source": [
    "To save the resulting knowledge graph, we will use the method `save_jsonld` that serializes the Sinopia Stage graph to JSON-LD, we will load and use this file in subsequent Jupyter notebooks in this workshop."
   ]
  },
  {
   "cell_type": "code",
   "execution_count": 10,
   "metadata": {},
   "outputs": [],
   "source": [
    "stage_kg.save_jsonld(\"data/stage.json\")"
   ]
  },
  {
   "cell_type": "code",
   "execution_count": 12,
   "metadata": {},
   "outputs": [
    {
     "name": "stdout",
     "output_type": "stream",
     "text": [
      "Started creation of knowledge graph for Sinopia Production at 2021-07-18 00:26:43.114806\n",
      "0....100....200....300....400....500....600....700....800....900....1,000....1,100....1,200....1,300....1,400....1,500....1,600....1,700....1,800....1,900....2,000....2,100....2,200....2,300....2,400....2,500....2,600....2,700....2,800....2,900....3,000....3,100....3,200....3,300....3,400....3,500....3,600....3,700....3,800....3,900....4,000....4,100...Finished at 2021-07-18 00:29:40.408484, total time 2.95 minutes\n"
     ]
    }
   ],
   "source": [
    "start = datetime.datetime.utcnow()\n",
    "print(f\"Started creation of knowledge graph for Sinopia Production at {start}\")\n",
    "prod_kg = helpers.create_kg(\"https://api.sinopia.io/resource\")\n",
    "end = datetime.datetime.utcnow()\n",
    "print(f\"\"\"Finished at {end}, total time {(end-start).seconds / 60.} minutes\"\"\")"
   ]
  },
  {
   "cell_type": "code",
   "execution_count": 17,
   "metadata": {},
   "outputs": [],
   "source": [
    "prod_kg.save_jsonld(\"data/production.json\")"
   ]
  },
  {
   "cell_type": "markdown",
   "metadata": {},
   "source": [
    "## Exercise 1\n",
    "Compare the total number of triples for National Library of Medicine in each Sinopia environment; development, stage, and production."
   ]
  },
  {
   "cell_type": "code",
   "execution_count": null,
   "metadata": {},
   "outputs": [],
   "source": []
  }
 ],
 "metadata": {
  "kernelspec": {
   "display_name": "Python 3 (ipykernel)",
   "language": "python",
   "name": "python3"
  },
  "language_info": {
   "codemirror_mode": {
    "name": "ipython",
    "version": 3
   },
   "file_extension": ".py",
   "mimetype": "text/x-python",
   "name": "python",
   "nbconvert_exporter": "python",
   "pygments_lexer": "ipython3",
   "version": "3.9.1"
  }
 },
 "nbformat": 4,
 "nbformat_minor": 4
}
