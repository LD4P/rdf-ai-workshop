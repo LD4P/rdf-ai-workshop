{
 "cells": [
  {
   "cell_type": "code",
   "execution_count": 2,
   "metadata": {},
   "outputs": [],
   "source": [
    "%reload_ext autoreload\n",
    "%autoreload 2\n",
    "%matplotlib inline\n",
    "%reload_ext lab_black\n",
    "\n",
    "import helpers"
   ]
  },
  {
   "cell_type": "markdown",
   "metadata": {},
   "source": [
    "# Sinopia Knowledge Graph"
   ]
  },
  {
   "cell_type": "code",
   "execution_count": 3,
   "metadata": {},
   "outputs": [],
   "source": [
    "sinopia_kg = helpers.kg(\"https://api.sinopia.io/resource\", \"Sinopia Production\")"
   ]
  },
  {
   "cell_type": "code",
   "execution_count": 14,
   "metadata": {},
   "outputs": [
    {
     "data": {
      "text/plain": [
       "<kglab.kglab.KnowledgeGraph at 0x7fb6facea850>"
      ]
     },
     "execution_count": 14,
     "metadata": {},
     "output_type": "execute_result"
    }
   ],
   "source": [
    "sinopia_kg"
   ]
  },
  {
   "cell_type": "code",
   "execution_count": 6,
   "metadata": {},
   "outputs": [
    {
     "data": {
      "text/plain": [
       "165012"
      ]
     },
     "execution_count": 6,
     "metadata": {},
     "output_type": "execute_result"
    }
   ],
   "source": [
    "len(sinopia_kg.rdf_graph())"
   ]
  },
  {
   "cell_type": "code",
   "execution_count": 8,
   "metadata": {},
   "outputs": [
    {
     "data": {
      "text/plain": [
       "\u001b[0;31mType:\u001b[0m           KnowledgeGraph\n",
       "\u001b[0;31mString form:\u001b[0m    <kglab.kglab.KnowledgeGraph object at 0x7fa227623fd0>\n",
       "\u001b[0;31mFile:\u001b[0m           ~/02021/sul-dlss/labs/ml-env/lib/python3.8/site-packages/kglab/kglab.py\n",
       "\u001b[0;31mDocstring:\u001b[0m     \n",
       "This is the primary class used to represent RDF graphs, on which the other classes are dependent.\n",
       "See <https://derwen.ai/docs/kgl/concepts/#knowledge-graph>\n",
       "\n",
       "Core feature areas include:\n",
       "\n",
       "  * namespace management (ontology, controlled vocabularies)\n",
       "  * graph construction\n",
       "  * serialization\n",
       "  * SPARQL querying\n",
       "  * SHACL validation\n",
       "  * inference based on OWL-RL, RDFS, SKOS\n",
       "    \n",
       "\u001b[0;31mInit docstring:\u001b[0m\n",
       "Constructor for a `KnowledgeGraph` object.\n",
       "\n",
       "    name:\n",
       "optional, internal name for this graph\n",
       "\n",
       "    base_uri:\n",
       "the default [*base URI*](https://tools.ietf.org/html/rfc3986#section-5.1) for this RDF graph\n",
       "\n",
       "    language:\n",
       "the default [*language tag*](https://www.w3.org/TR/rdf11-concepts/#dfn-language-tag), e.g., used for [*language indexing*](https://www.w3.org/TR/json-ld11/#language-indexing)\n",
       "\n",
       "    use_gpus:\n",
       "optionally, use the NVidia GPU devices with [RAPIDS](https://rapids.ai/) if these libraries have been installed and the devices are available; defaults to `True`\n",
       "\n",
       "    import_graph:\n",
       "optionally, another existing RDF graph to be used as a starting point\n",
       "\n",
       "    namespaces:\n",
       "a dictionary of [*namespace*](https://rdflib.readthedocs.io/en/stable/apidocs/rdflib.html?highlight=namespace#rdflib.Namespace) (dict values) and their corresponding *prefix* strings (dict keys) to add as *controlled vocabularies* which are available for use in the RDF graph, binding each prefix to the given namespace\n",
       "        \n"
      ]
     },
     "metadata": {},
     "output_type": "display_data"
    }
   ],
   "source": [
    "sinopia_kg?"
   ]
  },
  {
   "cell_type": "code",
   "execution_count": null,
   "metadata": {},
   "outputs": [],
   "source": []
  }
 ],
 "metadata": {
  "kernelspec": {
   "display_name": "Python 3",
   "language": "python",
   "name": "python3"
  },
  "language_info": {
   "codemirror_mode": {
    "name": "ipython",
    "version": 3
   },
   "file_extension": ".py",
   "mimetype": "text/x-python",
   "name": "python",
   "nbconvert_exporter": "python",
   "pygments_lexer": "ipython3",
   "version": "3.8.1"
  }
 },
 "nbformat": 4,
 "nbformat_minor": 4
}
