{
 "cells": [
  {
   "cell_type": "markdown",
   "id": "bca28434-0929-4b4b-9313-fae76704844d",
   "metadata": {},
   "source": [
    "# Answers to Exercises"
   ]
  },
  {
   "cell_type": "code",
   "execution_count": 1,
   "id": "f7160596-6ad2-42af-833c-4e4c4564d734",
   "metadata": {},
   "outputs": [],
   "source": [
    "%reload_ext autoreload\n",
    "%autoreload 2\n",
    "%matplotlib inline\n",
    "%reload_ext lab_black\n",
    "import json\n",
    "\n",
    "from fastai.tabular.all import *\n",
    "\n",
    "import pandas as pd\n",
    "\n",
    "import kglab\n",
    "import rdflib\n",
    "import requests\n",
    "import helpers\n",
    "import widgets"
   ]
  },
  {
   "cell_type": "markdown",
   "id": "1209713f-84f0-4418-ab3a-062c414002ea",
   "metadata": {},
   "source": [
    "# Introduction and Setup for Sinopia's Knowledge Graph\n",
    "## Exercise 1\n",
    "Compare the total number of triples for National Library of Medicine in each Sinopia environment; development, stage, and production."
   ]
  },
  {
   "cell_type": "code",
   "execution_count": null,
   "id": "88f9d7cb-bd9b-444b-9480-ef5e8087b188",
   "metadata": {},
   "outputs": [],
   "source": [
    "dev_nlm = helpers.create_kg(\n",
    "    \"https://api.development.sinopia.io/resource?group=nlm\",\n",
    "    name=\"NLM Sinopia Development\",\n",
    ")\n",
    "stage_nlm = helpers.create_kg(\n",
    "    \"https://api.stage.sinopia.io/resource?group=nlm\", name=\"NLM Sinopia Stage\"\n",
    ")\n",
    "prod_nlm = helpers.create_kg(\n",
    "    \"https://api.sinopia.io/resource?group=nlm\", name=\"NLM Sinopia Production\"\n",
    ")"
   ]
  },
  {
   "cell_type": "code",
   "execution_count": null,
   "id": "ffd30fc6-33e5-4430-8eab-5a5f69f71676",
   "metadata": {},
   "outputs": [],
   "source": [
    "print(\n",
    "    f\"\"\"Number of Triples for NLM per Environment:\n",
    "Development: {len(dev_nlm.rdf_graph()):,}\n",
    "      Stage: {len(stage_nlm.rdf_graph()):,}\n",
    " Production: {len(prod_nlm.rdf_graph()):,}\"\"\"\n",
    ")"
   ]
  },
  {
   "cell_type": "markdown",
   "id": "a4d034b9-6f08-4a3d-88f1-39041a4409e5",
   "metadata": {},
   "source": [
    "# Analysis and Visualization of Sinopia Graphs\n",
    "## Exercise 1\n",
    "Using any of the three Sinopia environments (development, stage, or production), find a BIBFRAME Work with a corresponding BIBFRAME Instance and then replicate the steps above to create a Sinopia BIBFRAME Knowledge Graph."
   ]
  },
  {
   "cell_type": "markdown",
   "id": "b92bc742-642b-40b2-a844-3f01a13fc57c",
   "metadata": {},
   "source": [
    "For this exercise, I am using this BIBFRAME work from production, https://api.sinopia.io/resource/07d0f7e4-244d-40ed-8c83-537b495eee0b, that has an embedded BIBFRAME Instance as a blank node."
   ]
  },
  {
   "cell_type": "code",
   "execution_count": null,
   "id": "3715c973-23a9-4f48-96b0-6cde72797bac",
   "metadata": {},
   "outputs": [],
   "source": [
    "work_instance_result = requests.get(\n",
    "    \"https://api.sinopia.io/resource/07d0f7e4-244d-40ed-8c83-537b495eee0b\"\n",
    ")\n",
    "bf_graph = rdflib.Graph()\n",
    "for ns, url in helpers.NAMESPACES.items():\n",
    "    bf_graph.namespace_manager.bind(ns, url)\n",
    "bf_graph.parse(\n",
    "    data=json.dumps(work_instance_result.json().get(\"data\")), format=\"json-ld\"\n",
    ")"
   ]
  },
  {
   "cell_type": "code",
   "execution_count": null,
   "id": "653b80ab-b100-4758-8970-b54c3fd8367e",
   "metadata": {},
   "outputs": [],
   "source": [
    "print(bf_graph.serialize(format=\"turtle\").decode())"
   ]
  },
  {
   "cell_type": "code",
   "execution_count": null,
   "id": "488ac629-0648-493c-b5c5-800f108d0257",
   "metadata": {},
   "outputs": [],
   "source": [
    "bf_kg = kglab.KnowledgeGraph(\n",
    "    import_graph=bf_graph, name=\"BIBFRAME Work and Instance graph\"\n",
    ")\n",
    "measure = kglab.Measure()\n",
    "measure.measure_graph(bf_kg)\n",
    "\n",
    "print(\"Edges: {:,}\\n\".format(measure.get_edge_count()))\n",
    "print(\"Nodes: {:,}\\n\".format(measure.get_node_count()))"
   ]
  },
  {
   "cell_type": "markdown",
   "id": "10a63a5c-387d-46f4-8dac-8723b6a2da52",
   "metadata": {},
   "source": [
    "# Natural Language Processing (NLP) with spaCy\n",
    "## Exercise 1\n",
    "Download and create a `nlp` pipeline using the *en_core_web_sm* model and see what entities are identified using your sample from the `stage_text_nodes` dataframe."
   ]
  },
  {
   "cell_type": "code",
   "execution_count": null,
   "id": "f071916a-5df0-4e50-b88a-b6b5963ddb79",
   "metadata": {},
   "outputs": [],
   "source": [
    "# Load the dataframe from disk\n",
    "stage_text_nodes = pd.read_json(\"data/stage-text-nodes.json\")"
   ]
  },
  {
   "cell_type": "code",
   "execution_count": null,
   "id": "16c2be2e-c5b0-4cde-a2be-5e7491d03404",
   "metadata": {},
   "outputs": [],
   "source": [
    "import spacy\n",
    "from spacy import displacy\n",
    "\n",
    "eng_nlp = spacy.load(\"en_core_web_sm\")"
   ]
  },
  {
   "cell_type": "code",
   "execution_count": null,
   "id": "ee3ed1cd-de0e-4224-b4e4-4d08c9c9fe26",
   "metadata": {},
   "outputs": [],
   "source": [
    "stage_text_nodes.sample(10)"
   ]
  },
  {
   "cell_type": "code",
   "execution_count": null,
   "id": "15e30b96-7c62-4413-9cda-64bef78db4f7",
   "metadata": {},
   "outputs": [],
   "source": [
    "doc_10407 = eng_nlp(stage_text_nodes.iloc[10407].summary)\n",
    "\n",
    "displacy.render(doc_10407, style=\"ent\", jupyter=True)"
   ]
  },
  {
   "cell_type": "markdown",
   "id": "d5afbeb3-46f0-4a5d-a4ce-fb9aa2590346",
   "metadata": {},
   "source": [
    "## Exercise 2\n",
    "For the following Sinopia Resources, create a graph, and a NLP pipeline to identify any people and locations in the full-text. The full-text is available in `data/5f8c765d-dc4f-45a0-b2d8-87fe29a38712.txt` file.\n",
    "\n",
    "- BIBFRAME Work https://api.stage.sinopia.io/resource/5f8c765d-dc4f-45a0-b2d8-87fe29a38712 \n",
    "- BIBFRAME Instance https://api.stage.sinopia.io/resource/2e041e16-1b4d-431f-b2d0-396f62270efa\n",
    "- BIBFRAME Item https://api.stage.sinopia.io/resource/53e68480-f82b-4dea-9b9a-68fd5ceacb41"
   ]
  },
  {
   "cell_type": "markdown",
   "id": "cf157e16-bc3b-412f-97c3-6c81c6fdd783",
   "metadata": {},
   "source": [
    "# HuggingFace Transformers\n",
    "## Exercise 1\n",
    "From the `stage_text_nodes`, select a series *title*, *label*, or *summary* values and compare the [spaCy][SPACY] 'en_core_web_sm' NER model with the [Huggingface][HUG] NER model results.\n",
    "\n",
    "[HUG]: https://huggingface.co/\n",
    "[SPACY]: https://spacy.io/"
   ]
  },
  {
   "cell_type": "code",
   "execution_count": null,
   "id": "6bf536c4-e80f-471d-addb-3606a32cfdef",
   "metadata": {},
   "outputs": [],
   "source": [
    "from transformers import pipeline\n",
    "\n",
    "hug_ner = pipeline(\"ner\")"
   ]
  },
  {
   "cell_type": "code",
   "execution_count": null,
   "id": "765aea7a-7ea5-4823-b99e-ac691104a012",
   "metadata": {},
   "outputs": [],
   "source": [
    "print(stage_text_nodes.iloc[10407].summary)"
   ]
  },
  {
   "cell_type": "code",
   "execution_count": null,
   "id": "5e120f5a-7b90-4cd8-b884-d2a8166a5320",
   "metadata": {},
   "outputs": [],
   "source": [
    "hug_ner_result = hug_ner(stage_text_nodes.iloc[10407].summary)"
   ]
  },
  {
   "cell_type": "code",
   "execution_count": null,
   "id": "7ca8ea02-849b-431e-9dcc-0c00645b54b1",
   "metadata": {},
   "outputs": [],
   "source": [
    "hug_ner_result"
   ]
  },
  {
   "cell_type": "code",
   "execution_count": null,
   "id": "7313e472-9d4e-4b96-a83b-291a16ca5458",
   "metadata": {},
   "outputs": [],
   "source": [
    "for ent in doc_10407.ents:\n",
    "    print(ent.label_, ent.text)"
   ]
  },
  {
   "cell_type": "markdown",
   "id": "8b058689-fbe9-41b2-b5c6-27c9f4b6bbe3",
   "metadata": {},
   "source": [
    "HuggingFace NER found *Meg*, *Jo*, and *Beth* as persons, spaCy only found *Jo* and *Beth*. Hugging Face and spaCy found *New England* as a location."
   ]
  },
  {
   "cell_type": "markdown",
   "id": "24d1d893-113c-44b8-8263-03d6180036ad",
   "metadata": {},
   "source": [
    "# FastAI with PyTorch\n",
    "## Exercise 1\n",
    "So far we have been using all of the RDF in Sinopia's stage environment on building and training a resource template classifier, repeat the steps for Sinopia production environment."
   ]
  },
  {
   "cell_type": "code",
   "execution_count": null,
   "id": "fca47891-2c07-4cfe-96fa-0539eb508988",
   "metadata": {},
   "outputs": [],
   "source": [
    "prod_kg = kglab.KnowledgeGraph()\n",
    "prod_kg.load_jsonld(\"data/production.json\")"
   ]
  },
  {
   "cell_type": "code",
   "execution_count": null,
   "id": "2601e09f-8fa2-4b82-983d-24281d094763",
   "metadata": {},
   "outputs": [],
   "source": [
    "data = []\n",
    "for row in prod_kg.query(\n",
    "    \"\"\"\n",
    "SELECT ?template ?url \n",
    "WHERE {\n",
    "   ?url <http://sinopia.io/vocabulary/hasResourceTemplate> ?template .\n",
    "   FILTER isIRI(?url)\n",
    "} \"\"\"\n",
    "):\n",
    "    # Skip if RDF resource is a Sinopia resource template\n",
    "    if str(row[0]).startswith(\"sinopia:template:resource\"):\n",
    "        continue\n",
    "    data.append(helpers.predicate_row(row[1], prod_kg.rdf_graph()))\n",
    "prod_pred_df = pd.DataFrame(data)\n",
    "prod_pred_df = prod_pred_df.fillna(0.0)"
   ]
  },
  {
   "cell_type": "code",
   "execution_count": null,
   "id": "4d987ffe-bc7b-41e0-ba45-c050aeb5fd55",
   "metadata": {},
   "outputs": [],
   "source": [
    "prod_pred_df.head()"
   ]
  },
  {
   "cell_type": "code",
   "execution_count": null,
   "id": "1cf86d02-6d4a-41d4-9e79-6fa34b481bc6",
   "metadata": {},
   "outputs": [],
   "source": [
    "prod_df_copy = prod_pred_df.drop(\n",
    "    columns=[\"uri\", \"http://sinopia.io/vocabulary/hasResourceTemplate\"]\n",
    ")\n",
    "prod_df_clean = prod_df_copy[prod_df_copy.duplicated(subset=[\"template\"], keep=False)]\n",
    "splits = helpers.create_splits(prod_df_clean)"
   ]
  },
  {
   "cell_type": "code",
   "execution_count": null,
   "id": "16c47898-8521-43e1-86f9-aa1f55f1b431",
   "metadata": {},
   "outputs": [],
   "source": [
    "continous = [col for col in prod_df_clean.columns]\n",
    "continous.pop(0)\n",
    "\n",
    "prod_to = TabularPandas(\n",
    "    prod_df_clean,\n",
    "    procs=[Categorify],\n",
    "    cont_names=continous,\n",
    "    y_names=\"template\",\n",
    "    y_block=CategoryBlock,\n",
    "    splits=splits,\n",
    ")"
   ]
  },
  {
   "cell_type": "code",
   "execution_count": null,
   "id": "1e9f6633-9f7b-4811-9619-e3c45aacf457",
   "metadata": {},
   "outputs": [],
   "source": [
    "prod_data_loader = prod_to.dataloaders(bs=64)"
   ]
  },
  {
   "cell_type": "code",
   "execution_count": null,
   "id": "36d1ff21-ee35-4324-abce-d0bbbe65607e",
   "metadata": {},
   "outputs": [],
   "source": [
    "prod_learner = tabular_learner(prod_data_loader, metrics=accuracy)"
   ]
  },
  {
   "cell_type": "code",
   "execution_count": null,
   "id": "5cb32a46-6791-4318-8b62-683146d85de9",
   "metadata": {},
   "outputs": [],
   "source": [
    "prod_learner.fit_one_cycle(5)"
   ]
  },
  {
   "cell_type": "code",
   "execution_count": null,
   "id": "36913550-fe5d-473b-bc11-f4c421668886",
   "metadata": {},
   "outputs": [],
   "source": []
  }
 ],
 "metadata": {
  "kernelspec": {
   "display_name": "Python 3 (ipykernel)",
   "language": "python",
   "name": "python3"
  },
  "language_info": {
   "codemirror_mode": {
    "name": "ipython",
    "version": 3
   },
   "file_extension": ".py",
   "mimetype": "text/x-python",
   "name": "python",
   "nbconvert_exporter": "python",
   "pygments_lexer": "ipython3",
   "version": "3.10.4"
  }
 },
 "nbformat": 4,
 "nbformat_minor": 5
}
