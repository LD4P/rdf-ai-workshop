{
 "cells": [
  {
   "cell_type": "markdown",
   "id": "e10ea410-9311-4177-8acf-513c4b5e5d74",
   "metadata": {},
   "source": [
    "# FastAI with PyTorch\n",
    "For our final hour, we look at training our own models on Sinopia's RDF for a couple of classification tasks. [FastAI][FASTAI] is a non-profit that provides artificial intellegence training and for our use today, an easy-to-use Python software library that is built upon the [PyTorch](https://pytorch.org/) open-source machine learning framework from Facebook that is widely used in industry and academic research.\n",
    "\n",
    "[FASTAI]: https://www.fast.ai/"
   ]
  },
  {
   "cell_type": "code",
   "execution_count": 3,
   "id": "8e5fe1c5-d309-46fa-b172-15bf0e94e104",
   "metadata": {},
   "outputs": [
    {
     "name": "stdout",
     "output_type": "stream",
     "text": [
      "The lab_black extension is already loaded. To reload it, use:\n",
      "  %reload_ext lab_black\n"
     ]
    }
   ],
   "source": [
    "%reload_ext autoreload\n",
    "%autoreload 2\n",
    "%matplotlib inline\n",
    "%load_ext lab_black\n",
    "\n",
    "from fastai.tabular.all import TabularDataLoaders\n",
    "\n",
    "import kglab\n",
    "import helpers\n",
    "import widgets"
   ]
  },
  {
   "cell_type": "markdown",
   "id": "453b61cd-68e1-4a8a-979e-ef949bad3e7d",
   "metadata": {},
   "source": [
    "## Loading Sinopia Stage RDF Text DataFrame"
   ]
  },
  {
   "cell_type": "code",
   "execution_count": 2,
   "id": "cd64432d-c1a3-4563-b29d-6f5ed4be542a",
   "metadata": {},
   "outputs": [
    {
     "name": "stderr",
     "output_type": "stream",
     "text": [
      "http://desktop.loc.gov/search?view=document&id=Infobasedcrmg0Dash0Dash0Dash247&hl=true&fq=allresources|true# does not look like a valid URI, trying to serialize this will break.\n",
      "https://api.stage.sinopia.io/resource/this is a test does not look like a valid URI, trying to serialize this will break.\n",
      "ld4p:RT:bf2:2D graphic material:Item does not look like a valid URI, trying to serialize this will break.\n",
      "urn:ld4p:qa:gettyaat:Objects__Object_Groupings and Systems does not look like a valid URI, trying to serialize this will break.\n"
     ]
    },
    {
     "data": {
      "text/plain": [
       "<kglab.kglab.KnowledgeGraph at 0x7fab38a9cdc0>"
      ]
     },
     "execution_count": 2,
     "metadata": {},
     "output_type": "execute_result"
    }
   ],
   "source": [
    "stage_kg = kglab.KnowledgeGraph()\n",
    "stage_kg.load_jsonld(\"data/stage.json\")"
   ]
  },
  {
   "cell_type": "markdown",
   "id": "4d11c8b6-7bf0-4f78-9d9a-dffd8a2165c9",
   "metadata": {},
   "source": [
    "## Classifing RDF resource by their Template\n",
    "In Sinopia, each resource uses at least one resource template for constructing the Sinopia's user interface. Currently, when a user imports RDF into the editor, either through the Questioning Authority search or through the **Load RDF** tab, the user is prompted to selected the template to use and Sinopia does its best to matche the template's properties to the incoming RDF."
   ]
  },
  {
   "cell_type": "markdown",
   "id": "e6e002c9-9a4a-41a2-b800-2dc88632698a",
   "metadata": {},
   "source": [
    "We will create a SPARQL query and return the results as a Panda's DataFrame."
   ]
  },
  {
   "cell_type": "code",
   "execution_count": 12,
   "id": "65dc185a-720b-4f6e-aa3e-4eaa3163b97f",
   "metadata": {},
   "outputs": [
    {
     "ename": "Exception",
     "evalue": "\"https://api.stage.sinopia.io/resource/this is a test\" does not look like a valid URI, I cannot serialize this as N3/Turtle. Perhaps you wanted to urlencode it?",
     "output_type": "error",
     "traceback": [
      "\u001b[0;31m---------------------------------------------------------------------------\u001b[0m",
      "\u001b[0;31mException\u001b[0m                                 Traceback (most recent call last)",
      "\u001b[0;32m/var/folders/zd/nj5fbhqn72qgg80cstzbsjl80000gq/T/ipykernel_36663/1143413449.py\u001b[0m in \u001b[0;36m<module>\u001b[0;34m\u001b[0m\n\u001b[0;32m----> 1\u001b[0;31m weighted_df = stage_kg.query_as_df(\n\u001b[0m\u001b[1;32m      2\u001b[0m     \"\"\"\n\u001b[1;32m      3\u001b[0m \u001b[0mSELECT\u001b[0m\u001b[0;31m \u001b[0m\u001b[0;31m?\u001b[0m\u001b[0mtemplate\u001b[0m\u001b[0;31m \u001b[0m\u001b[0;31m?\u001b[0m\u001b[0murl\u001b[0m\u001b[0;34m\u001b[0m\u001b[0;34m\u001b[0m\u001b[0m\n\u001b[1;32m      4\u001b[0m WHERE {\n\u001b[1;32m      5\u001b[0m    \u001b[0;31m?\u001b[0m\u001b[0murl\u001b[0m \u001b[0;34m<\u001b[0m\u001b[0mhttp\u001b[0m\u001b[0;34m:\u001b[0m\u001b[0;34m//\u001b[0m\u001b[0msinopia\u001b[0m\u001b[0;34m.\u001b[0m\u001b[0mio\u001b[0m\u001b[0;34m/\u001b[0m\u001b[0mvocabulary\u001b[0m\u001b[0;34m/\u001b[0m\u001b[0mhasResourceTemplate\u001b[0m\u001b[0;34m>\u001b[0m\u001b[0;31m \u001b[0m\u001b[0;31m?\u001b[0m\u001b[0mtemplate\u001b[0m \u001b[0;34m.\u001b[0m\u001b[0;34m\u001b[0m\u001b[0;34m\u001b[0m\u001b[0m\n",
      "\u001b[0;32m~/02021/ld4p/ld4p-env/lib/python3.9/site-packages/kglab/kglab.py\u001b[0m in \u001b[0;36mquery_as_df\u001b[0;34m(self, sparql, bindings, simplify, pythonify)\u001b[0m\n\u001b[1;32m   1084\u001b[0m \u001b[0;34m\u001b[0m\u001b[0m\n\u001b[1;32m   1085\u001b[0m         \u001b[0;32mif\u001b[0m \u001b[0msimplify\u001b[0m\u001b[0;34m:\u001b[0m\u001b[0;34m\u001b[0m\u001b[0;34m\u001b[0m\u001b[0m\n\u001b[0;32m-> 1086\u001b[0;31m             \u001b[0mrows_list\u001b[0m \u001b[0;34m=\u001b[0m \u001b[0;34m[\u001b[0m \u001b[0mself\u001b[0m\u001b[0;34m.\u001b[0m\u001b[0mn3fy_row\u001b[0m\u001b[0;34m(\u001b[0m\u001b[0mr\u001b[0m\u001b[0;34m.\u001b[0m\u001b[0masdict\u001b[0m\u001b[0;34m(\u001b[0m\u001b[0;34m)\u001b[0m\u001b[0;34m,\u001b[0m \u001b[0mpythonify\u001b[0m\u001b[0;34m=\u001b[0m\u001b[0mpythonify\u001b[0m\u001b[0;34m)\u001b[0m \u001b[0;32mfor\u001b[0m \u001b[0mr\u001b[0m \u001b[0;32min\u001b[0m \u001b[0mrow_iter\u001b[0m \u001b[0;34m]\u001b[0m\u001b[0;34m\u001b[0m\u001b[0;34m\u001b[0m\u001b[0m\n\u001b[0m\u001b[1;32m   1087\u001b[0m         \u001b[0;32melse\u001b[0m\u001b[0;34m:\u001b[0m\u001b[0;34m\u001b[0m\u001b[0;34m\u001b[0m\u001b[0m\n\u001b[1;32m   1088\u001b[0m             \u001b[0mrows_list\u001b[0m \u001b[0;34m=\u001b[0m \u001b[0;34m[\u001b[0m \u001b[0mr\u001b[0m\u001b[0;34m.\u001b[0m\u001b[0masdict\u001b[0m\u001b[0;34m(\u001b[0m\u001b[0;34m)\u001b[0m \u001b[0;32mfor\u001b[0m \u001b[0mr\u001b[0m \u001b[0;32min\u001b[0m \u001b[0mrow_iter\u001b[0m \u001b[0;34m]\u001b[0m\u001b[0;34m\u001b[0m\u001b[0;34m\u001b[0m\u001b[0m\n",
      "\u001b[0;32m~/02021/ld4p/ld4p-env/lib/python3.9/site-packages/kglab/kglab.py\u001b[0m in \u001b[0;36m<listcomp>\u001b[0;34m(.0)\u001b[0m\n\u001b[1;32m   1084\u001b[0m \u001b[0;34m\u001b[0m\u001b[0m\n\u001b[1;32m   1085\u001b[0m         \u001b[0;32mif\u001b[0m \u001b[0msimplify\u001b[0m\u001b[0;34m:\u001b[0m\u001b[0;34m\u001b[0m\u001b[0;34m\u001b[0m\u001b[0m\n\u001b[0;32m-> 1086\u001b[0;31m             \u001b[0mrows_list\u001b[0m \u001b[0;34m=\u001b[0m \u001b[0;34m[\u001b[0m \u001b[0mself\u001b[0m\u001b[0;34m.\u001b[0m\u001b[0mn3fy_row\u001b[0m\u001b[0;34m(\u001b[0m\u001b[0mr\u001b[0m\u001b[0;34m.\u001b[0m\u001b[0masdict\u001b[0m\u001b[0;34m(\u001b[0m\u001b[0;34m)\u001b[0m\u001b[0;34m,\u001b[0m \u001b[0mpythonify\u001b[0m\u001b[0;34m=\u001b[0m\u001b[0mpythonify\u001b[0m\u001b[0;34m)\u001b[0m \u001b[0;32mfor\u001b[0m \u001b[0mr\u001b[0m \u001b[0;32min\u001b[0m \u001b[0mrow_iter\u001b[0m \u001b[0;34m]\u001b[0m\u001b[0;34m\u001b[0m\u001b[0;34m\u001b[0m\u001b[0m\n\u001b[0m\u001b[1;32m   1087\u001b[0m         \u001b[0;32melse\u001b[0m\u001b[0;34m:\u001b[0m\u001b[0;34m\u001b[0m\u001b[0;34m\u001b[0m\u001b[0m\n\u001b[1;32m   1088\u001b[0m             \u001b[0mrows_list\u001b[0m \u001b[0;34m=\u001b[0m \u001b[0;34m[\u001b[0m \u001b[0mr\u001b[0m\u001b[0;34m.\u001b[0m\u001b[0masdict\u001b[0m\u001b[0;34m(\u001b[0m\u001b[0;34m)\u001b[0m \u001b[0;32mfor\u001b[0m \u001b[0mr\u001b[0m \u001b[0;32min\u001b[0m \u001b[0mrow_iter\u001b[0m \u001b[0;34m]\u001b[0m\u001b[0;34m\u001b[0m\u001b[0;34m\u001b[0m\u001b[0m\n",
      "\u001b[0;32m~/02021/ld4p/ld4p-env/lib/python3.9/site-packages/kglab/kglab.py\u001b[0m in \u001b[0;36mn3fy_row\u001b[0;34m(self, row_dict, pythonify)\u001b[0m\n\u001b[1;32m   1013\u001b[0m \u001b[0ma\u001b[0m \u001b[0mdictionary\u001b[0m \u001b[0mof\u001b[0m \u001b[0mserialized\u001b[0m \u001b[0mrow\u001b[0m \u001b[0mbindings\u001b[0m\u001b[0;34m\u001b[0m\u001b[0;34m\u001b[0m\u001b[0m\n\u001b[1;32m   1014\u001b[0m         \"\"\"\n\u001b[0;32m-> 1015\u001b[0;31m         bindings = {\n\u001b[0m\u001b[1;32m   1016\u001b[0m             \u001b[0mk\u001b[0m\u001b[0;34m:\u001b[0m \u001b[0mself\u001b[0m\u001b[0;34m.\u001b[0m\u001b[0mn3fy\u001b[0m\u001b[0;34m(\u001b[0m\u001b[0mv\u001b[0m\u001b[0;34m,\u001b[0m \u001b[0mpythonify\u001b[0m\u001b[0;34m=\u001b[0m\u001b[0mpythonify\u001b[0m\u001b[0;34m)\u001b[0m\u001b[0;34m\u001b[0m\u001b[0;34m\u001b[0m\u001b[0m\n\u001b[1;32m   1017\u001b[0m             \u001b[0;32mfor\u001b[0m \u001b[0mk\u001b[0m\u001b[0;34m,\u001b[0m \u001b[0mv\u001b[0m \u001b[0;32min\u001b[0m \u001b[0mrow_dict\u001b[0m\u001b[0;34m.\u001b[0m\u001b[0mitems\u001b[0m\u001b[0;34m(\u001b[0m\u001b[0;34m)\u001b[0m\u001b[0;34m\u001b[0m\u001b[0;34m\u001b[0m\u001b[0m\n",
      "\u001b[0;32m~/02021/ld4p/ld4p-env/lib/python3.9/site-packages/kglab/kglab.py\u001b[0m in \u001b[0;36m<dictcomp>\u001b[0;34m(.0)\u001b[0m\n\u001b[1;32m   1014\u001b[0m         \"\"\"\n\u001b[1;32m   1015\u001b[0m         bindings = {\n\u001b[0;32m-> 1016\u001b[0;31m             \u001b[0mk\u001b[0m\u001b[0;34m:\u001b[0m \u001b[0mself\u001b[0m\u001b[0;34m.\u001b[0m\u001b[0mn3fy\u001b[0m\u001b[0;34m(\u001b[0m\u001b[0mv\u001b[0m\u001b[0;34m,\u001b[0m \u001b[0mpythonify\u001b[0m\u001b[0;34m=\u001b[0m\u001b[0mpythonify\u001b[0m\u001b[0;34m)\u001b[0m\u001b[0;34m\u001b[0m\u001b[0;34m\u001b[0m\u001b[0m\n\u001b[0m\u001b[1;32m   1017\u001b[0m             \u001b[0;32mfor\u001b[0m \u001b[0mk\u001b[0m\u001b[0;34m,\u001b[0m \u001b[0mv\u001b[0m \u001b[0;32min\u001b[0m \u001b[0mrow_dict\u001b[0m\u001b[0;34m.\u001b[0m\u001b[0mitems\u001b[0m\u001b[0;34m(\u001b[0m\u001b[0;34m)\u001b[0m\u001b[0;34m\u001b[0m\u001b[0;34m\u001b[0m\u001b[0m\n\u001b[1;32m   1018\u001b[0m         }\n",
      "\u001b[0;32m~/02021/ld4p/ld4p-env/lib/python3.9/site-packages/kglab/kglab.py\u001b[0m in \u001b[0;36mn3fy\u001b[0;34m(self, node, pythonify)\u001b[0m\n\u001b[1;32m    990\u001b[0m             \u001b[0mserialized\u001b[0m \u001b[0;34m=\u001b[0m \u001b[0mnode\u001b[0m\u001b[0;34m.\u001b[0m\u001b[0mtoPython\u001b[0m\u001b[0;34m(\u001b[0m\u001b[0;34m)\u001b[0m\u001b[0;34m\u001b[0m\u001b[0;34m\u001b[0m\u001b[0m\n\u001b[1;32m    991\u001b[0m         \u001b[0;32melse\u001b[0m\u001b[0;34m:\u001b[0m\u001b[0;34m\u001b[0m\u001b[0;34m\u001b[0m\u001b[0m\n\u001b[0;32m--> 992\u001b[0;31m             \u001b[0mserialized\u001b[0m \u001b[0;34m=\u001b[0m \u001b[0mnode\u001b[0m\u001b[0;34m.\u001b[0m\u001b[0mn3\u001b[0m\u001b[0;34m(\u001b[0m\u001b[0mself\u001b[0m\u001b[0;34m.\u001b[0m\u001b[0m_g\u001b[0m\u001b[0;34m.\u001b[0m\u001b[0mnamespace_manager\u001b[0m\u001b[0;34m)\u001b[0m\u001b[0;34m\u001b[0m\u001b[0;34m\u001b[0m\u001b[0m\n\u001b[0m\u001b[1;32m    993\u001b[0m \u001b[0;34m\u001b[0m\u001b[0m\n\u001b[1;32m    994\u001b[0m         \u001b[0;32mreturn\u001b[0m \u001b[0mserialized\u001b[0m\u001b[0;34m\u001b[0m\u001b[0;34m\u001b[0m\u001b[0m\n",
      "\u001b[0;32m~/02021/ld4p/ld4p-env/lib/python3.9/site-packages/rdflib/term.py\u001b[0m in \u001b[0;36mn3\u001b[0;34m(self, namespace_manager)\u001b[0m\n\u001b[1;32m    252\u001b[0m \u001b[0;34m\u001b[0m\u001b[0m\n\u001b[1;32m    253\u001b[0m         \u001b[0;32mif\u001b[0m \u001b[0;32mnot\u001b[0m \u001b[0m_is_valid_uri\u001b[0m\u001b[0;34m(\u001b[0m\u001b[0mself\u001b[0m\u001b[0;34m)\u001b[0m\u001b[0;34m:\u001b[0m\u001b[0;34m\u001b[0m\u001b[0;34m\u001b[0m\u001b[0m\n\u001b[0;32m--> 254\u001b[0;31m             \u001b[0;32mraise\u001b[0m \u001b[0mException\u001b[0m\u001b[0;34m(\u001b[0m\u001b[0;34m'\"%s\" does not look like a valid URI, I cannot serialize this as N3/Turtle. Perhaps you wanted to urlencode it?'\u001b[0m\u001b[0;34m%\u001b[0m\u001b[0mself\u001b[0m\u001b[0;34m)\u001b[0m\u001b[0;34m\u001b[0m\u001b[0;34m\u001b[0m\u001b[0m\n\u001b[0m\u001b[1;32m    255\u001b[0m \u001b[0;34m\u001b[0m\u001b[0m\n\u001b[1;32m    256\u001b[0m         \u001b[0;32mif\u001b[0m \u001b[0mnamespace_manager\u001b[0m\u001b[0;34m:\u001b[0m\u001b[0;34m\u001b[0m\u001b[0;34m\u001b[0m\u001b[0m\n",
      "\u001b[0;31mException\u001b[0m: \"https://api.stage.sinopia.io/resource/this is a test\" does not look like a valid URI, I cannot serialize this as N3/Turtle. Perhaps you wanted to urlencode it?"
     ]
    }
   ],
   "source": [
    "weighted_df = stage_kg.query_as_df(\n",
    "    \"\"\"\n",
    "SELECT ?template ?url \n",
    "WHERE {\n",
    "   ?url <http://sinopia.io/vocabulary/hasResourceTemplate> ?template .\n",
    "   FILTER isIRI(?url)\n",
    "} \"\"\"\n",
    ")"
   ]
  },
  {
   "cell_type": "code",
   "execution_count": 11,
   "id": "e88b409d-b14b-40e9-9217-18f6163edf00",
   "metadata": {},
   "outputs": [
    {
     "data": {
      "text/html": [
       "<div>\n",
       "<style scoped>\n",
       "    .dataframe tbody tr th:only-of-type {\n",
       "        vertical-align: middle;\n",
       "    }\n",
       "\n",
       "    .dataframe tbody tr th {\n",
       "        vertical-align: top;\n",
       "    }\n",
       "\n",
       "    .dataframe thead th {\n",
       "        text-align: right;\n",
       "    }\n",
       "</style>\n",
       "<table border=\"1\" class=\"dataframe\">\n",
       "  <thead>\n",
       "    <tr style=\"text-align: right;\">\n",
       "      <th></th>\n",
       "      <th>template</th>\n",
       "      <th>url</th>\n",
       "    </tr>\n",
       "  </thead>\n",
       "  <tbody>\n",
       "    <tr>\n",
       "      <th>0</th>\n",
       "      <td>WAU:RT:BF2:Work</td>\n",
       "      <td>&lt;https://api.stage.sinopia.io/resource/0006c098-12b4-4f78-8f2e-0b458e1004f4&gt;</td>\n",
       "    </tr>\n",
       "    <tr>\n",
       "      <th>1</th>\n",
       "      <td>profile:bf2:Title:AbbrTitle</td>\n",
       "      <td>&lt;https://api.stage.sinopia.io/resource/0006ca00-dfa4-4a5f-94fe-e8f0020e3b9e&gt;</td>\n",
       "    </tr>\n",
       "    <tr>\n",
       "      <th>2</th>\n",
       "      <td>WAU:RT:BF2:Item</td>\n",
       "      <td>&lt;https://api.stage.sinopia.io/resource/0006cb49-1540-4e2a-9f5e-f8708c4264bb&gt;</td>\n",
       "    </tr>\n",
       "    <tr>\n",
       "      <th>3</th>\n",
       "      <td>WAU:RT:BF2:Item</td>\n",
       "      <td>&lt;https://api.stage.sinopia.io/resource/000df6f8-c1a9-49f3-a5c2-d0df57006c54&gt;</td>\n",
       "    </tr>\n",
       "    <tr>\n",
       "      <th>4</th>\n",
       "      <td>WAU:RT:BF2:Work</td>\n",
       "      <td>&lt;https://api.stage.sinopia.io/resource/001266b6-9a68-45c9-b0ac-6cc09aedc7b9&gt;</td>\n",
       "    </tr>\n",
       "    <tr>\n",
       "      <th>5</th>\n",
       "      <td>TAMU:RT:BF2:Monograph:Work</td>\n",
       "      <td>&lt;https://api.stage.sinopia.io/resource/0013c5d5-2c37-48ca-84a9-63d43524b23a&gt;</td>\n",
       "    </tr>\n",
       "    <tr>\n",
       "      <th>6</th>\n",
       "      <td>TAMU:RT:BF2:Monograph:Instance</td>\n",
       "      <td>&lt;https://api.stage.sinopia.io/resource/001b67b1-c768-4f40-ac96-21b35c873a78&gt;</td>\n",
       "    </tr>\n",
       "    <tr>\n",
       "      <th>7</th>\n",
       "      <td>PMO:bf2:ldwg:workWithMOP</td>\n",
       "      <td>&lt;https://api.stage.sinopia.io/resource/0029537a-419f-4744-b2a2-95f3c27a6ff2&gt;</td>\n",
       "    </tr>\n",
       "    <tr>\n",
       "      <th>8</th>\n",
       "      <td>ld4p:RT:bf2:Monograph:Item:Un-nested</td>\n",
       "      <td>&lt;https://api.stage.sinopia.io/resource/002be754-eaa8-4aa3-8282-36ab4f426d70&gt;</td>\n",
       "    </tr>\n",
       "    <tr>\n",
       "      <th>9</th>\n",
       "      <td>ld4p:RT:bf2:AdminMetadata:BFDB</td>\n",
       "      <td>&lt;https://api.stage.sinopia.io/resource/003895ea-bc5b-4fb0-b372-b47665681653&gt;</td>\n",
       "    </tr>\n",
       "  </tbody>\n",
       "</table>\n",
       "</div>"
      ],
      "text/plain": [
       "                               template  \\\n",
       "0                       WAU:RT:BF2:Work   \n",
       "1           profile:bf2:Title:AbbrTitle   \n",
       "2                       WAU:RT:BF2:Item   \n",
       "3                       WAU:RT:BF2:Item   \n",
       "4                       WAU:RT:BF2:Work   \n",
       "5            TAMU:RT:BF2:Monograph:Work   \n",
       "6        TAMU:RT:BF2:Monograph:Instance   \n",
       "7              PMO:bf2:ldwg:workWithMOP   \n",
       "8  ld4p:RT:bf2:Monograph:Item:Un-nested   \n",
       "9        ld4p:RT:bf2:AdminMetadata:BFDB   \n",
       "\n",
       "                                                                            url  \n",
       "0  <https://api.stage.sinopia.io/resource/0006c098-12b4-4f78-8f2e-0b458e1004f4>  \n",
       "1  <https://api.stage.sinopia.io/resource/0006ca00-dfa4-4a5f-94fe-e8f0020e3b9e>  \n",
       "2  <https://api.stage.sinopia.io/resource/0006cb49-1540-4e2a-9f5e-f8708c4264bb>  \n",
       "3  <https://api.stage.sinopia.io/resource/000df6f8-c1a9-49f3-a5c2-d0df57006c54>  \n",
       "4  <https://api.stage.sinopia.io/resource/001266b6-9a68-45c9-b0ac-6cc09aedc7b9>  \n",
       "5  <https://api.stage.sinopia.io/resource/0013c5d5-2c37-48ca-84a9-63d43524b23a>  \n",
       "6  <https://api.stage.sinopia.io/resource/001b67b1-c768-4f40-ac96-21b35c873a78>  \n",
       "7  <https://api.stage.sinopia.io/resource/0029537a-419f-4744-b2a2-95f3c27a6ff2>  \n",
       "8  <https://api.stage.sinopia.io/resource/002be754-eaa8-4aa3-8282-36ab4f426d70>  \n",
       "9  <https://api.stage.sinopia.io/resource/003895ea-bc5b-4fb0-b372-b47665681653>  "
      ]
     },
     "execution_count": 11,
     "metadata": {},
     "output_type": "execute_result"
    }
   ],
   "source": [
    "weighted_df"
   ]
  },
  {
   "cell_type": "markdown",
   "id": "b42f3dfa-75b2-4cf4-860b-8659a97a8838",
   "metadata": {},
   "source": [
    "## Exercises"
   ]
  },
  {
   "cell_type": "code",
   "execution_count": null,
   "id": "eacb0d30-c5d3-4ac1-844a-2d134ac82f9c",
   "metadata": {},
   "outputs": [],
   "source": []
  }
 ],
 "metadata": {
  "kernelspec": {
   "display_name": "Python 3 (ipykernel)",
   "language": "python",
   "name": "python3"
  },
  "language_info": {
   "codemirror_mode": {
    "name": "ipython",
    "version": 3
   },
   "file_extension": ".py",
   "mimetype": "text/x-python",
   "name": "python",
   "nbconvert_exporter": "python",
   "pygments_lexer": "ipython3",
   "version": "3.9.1"
  }
 },
 "nbformat": 4,
 "nbformat_minor": 5
}
