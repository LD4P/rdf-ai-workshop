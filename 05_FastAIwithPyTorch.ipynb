{
 "cells": [
  {
   "cell_type": "markdown",
   "id": "e10ea410-9311-4177-8acf-513c4b5e5d74",
   "metadata": {},
   "source": [
    "# FastAI with PyTorch"
   ]
  },
  {
   "cell_type": "code",
   "execution_count": 1,
   "id": "8e5fe1c5-d309-46fa-b172-15bf0e94e104",
   "metadata": {},
   "outputs": [],
   "source": [
    "%reload_ext autoreload\n",
    "%autoreload 2\n",
    "%matplotlib inline\n",
    "%load_ext lab_black\n",
    "\n",
    "import helpers\n",
    "import widgets"
   ]
  },
  {
   "cell_type": "code",
   "execution_count": null,
   "id": "03d691d4-8938-4d89-96ce-6df3f8da1581",
   "metadata": {},
   "outputs": [],
   "source": []
  }
 ],
 "metadata": {
  "kernelspec": {
   "display_name": "Python 3 (ipykernel)",
   "language": "python",
   "name": "python3"
  },
  "language_info": {
   "codemirror_mode": {
    "name": "ipython",
    "version": 3
   },
   "file_extension": ".py",
   "mimetype": "text/x-python",
   "name": "python",
   "nbconvert_exporter": "python",
   "pygments_lexer": "ipython3",
   "version": "3.9.1"
  }
 },
 "nbformat": 4,
 "nbformat_minor": 5
}
